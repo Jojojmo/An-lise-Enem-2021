{
  "cells": [
    {
      "attachments": {},
      "cell_type": "markdown",
      "metadata": {},
      "source": [
        "# Análise de dados Enem 2021\n"
      ]
    },
    {
      "attachments": {},
      "cell_type": "markdown",
      "metadata": {},
      "source": [
        "\n",
        "Este estudo é baseado na análise do perfil de jovens que realizaram o Exame Nacional do Ensino Médio (Enem) na região próxima de Cotia."
      ]
    },
    {
      "attachments": {},
      "cell_type": "markdown",
      "metadata": {},
      "source": [
        "## Segmentação de Dados disponibilizado pelo INEP"
      ]
    },
    {
      "attachments": {},
      "cell_type": "markdown",
      "metadata": {},
      "source": [
        "<p>O estudo foi realizado utilizando dados governamentais disponíveis para acesso em:</p>\n",
        "\n",
        "[Link para acesso aos dados](https://www.gov.br/inep/pt-br/acesso-a-informacao/dados-abertos/microdados/enem)\n",
        "\n",
        "<p>O arquivo compactado possui um tamanho superior a 470 megabytes e contém mais de 3 milhões de amostras. Para fins da pesquisa em questão, foi necessário realizar uma seleção específica dos dados relevantes, que pode ser visualizada a seguir:</p>\n",
        "\n",
        "###### nota: Por se tratar de um arquivo muito grande, ele não foi incorporado a esse repositório, caso queria executar o código, será necessário baixar o arquivo no link disponibilizado "
      ]
    },
    {
      "attachments": {},
      "cell_type": "markdown",
      "metadata": {},
      "source": [
        "##### Bibliotecas utilizadas:"
      ]
    },
    {
      "cell_type": "code",
      "execution_count": 5,
      "metadata": {
        "id": "tvrUv1-mxY-_"
      },
      "outputs": [],
      "source": [
        "import pandas as pd\n",
        "import numpy as np\n",
        "import plotly.graph_objects as go\n",
        "import plotly.express as px"
      ]
    },
    {
      "attachments": {},
      "cell_type": "markdown",
      "metadata": {},
      "source": [
        "#### Dados do INEP"
      ]
    },
    {
      "cell_type": "code",
      "execution_count": null,
      "metadata": {},
      "outputs": [],
      "source": [
        "df_bruto = pd.read_csv('MICRODADOS_ENEM_2021.csv',encoding=\"ISO-8859-1\",sep=';')"
      ]
    },
    {
      "cell_type": "code",
      "execution_count": null,
      "metadata": {},
      "outputs": [],
      "source": [
        "columns_recorte = ['NU_INSCRICAO', 'NU_ANO', 'TP_FAIXA_ETARIA', 'TP_SEXO',\n",
        "       'TP_ESTADO_CIVIL', 'TP_COR_RACA',\n",
        "       'TP_ST_CONCLUSAO', 'TP_ANO_CONCLUIU', 'TP_ESCOLA', 'TP_ENSINO',\n",
        "       'IN_TREINEIRO', 'CO_MUNICIPIO_ESC', 'NO_MUNICIPIO_ESC',\n",
        "       'CO_UF_ESC', 'SG_UF_ESC', 'TP_DEPENDENCIA_ADM_ESC',\n",
        "       'TP_LOCALIZACAO_ESC', 'TP_SIT_FUNC_ESC', 'CO_MUNICIPIO_PROVA',\n",
        "       'NO_MUNICIPIO_PROVA', 'CO_UF_PROVA', 'SG_UF_PROVA',\n",
        "       'TP_PRESENCA_CN', 'TP_PRESENCA_CH', 'TP_PRESENCA_LC',\n",
        "       'TP_PRESENCA_MT', 'NU_NOTA_CN', 'NU_NOTA_CH', 'NU_NOTA_LC',\n",
        "       'NU_NOTA_MT', \n",
        "       'TP_LINGUA', 'TP_STATUS_REDACAO',\n",
        "       'NU_NOTA_REDACAO', 'Q001', 'Q002', 'Q003', 'Q004', 'Q005', 'Q006',\n",
        "]\n",
        "\n",
        "df_recorte = df_bruto.filter(items=columns_recorte)"
      ]
    },
    {
      "cell_type": "code",
      "execution_count": null,
      "metadata": {},
      "outputs": [],
      "source": [
        "df_group = df_recorte.loc[df_recorte['NO_MUNICIPIO_ESC'].isin(['Cotia','Itapevi','Osasco','Jandira','Embu das Artes','Vargem Grande Paulista'])]\n",
        "df_group = df_group.reset_index()\n",
        "display(df_group)"
      ]
    },
    {
      "cell_type": "code",
      "execution_count": null,
      "metadata": {},
      "outputs": [],
      "source": [
        "# df_group.to_csv('Enem 2021 Grupo.csv')"
      ]
    },
    {
      "attachments": {},
      "cell_type": "markdown",
      "metadata": {},
      "source": [
        "Após a definição das colunas a serem utilizadas e a seleção do recorte do município, foi gerado um arquivo em formato .csv denominado 'Enem 2021 Grupo.csv' com 4856 linhas e 40 colunas. Este arquivo será utilizado ao longo da análise realizada."
      ]
    },
    {
      "attachments": {},
      "cell_type": "markdown",
      "metadata": {},
      "source": [
        "## Filtrando e montando os DataFrames Utiliados"
      ]
    },
    {
      "attachments": {},
      "cell_type": "markdown",
      "metadata": {},
      "source": [
        "O público-alvo dessa ánalise são os jovens de 17 até 21 anos presentes na prova do enem, as amostras tem que seguir as seguintes regras:<br>\n",
        "- Estar na faixa etária de 17 - 21 anos\n",
        "- Estar presente nos dois dias de prova"
      ]
    },
    {
      "cell_type": "code",
      "execution_count": 7,
      "metadata": {
        "colab": {
          "base_uri": "https://localhost:8080/",
          "height": 505
        },
        "id": "eoGcZrmSxvm9",
        "outputId": "cf1b5f98-fbba-4922-9d78-e501d2cbd31f"
      },
      "outputs": [
        {
          "data": {
            "text/html": [
              "<div>\n",
              "<style scoped>\n",
              "    .dataframe tbody tr th:only-of-type {\n",
              "        vertical-align: middle;\n",
              "    }\n",
              "\n",
              "    .dataframe tbody tr th {\n",
              "        vertical-align: top;\n",
              "    }\n",
              "\n",
              "    .dataframe thead th {\n",
              "        text-align: right;\n",
              "    }\n",
              "</style>\n",
              "<table border=\"1\" class=\"dataframe\">\n",
              "  <thead>\n",
              "    <tr style=\"text-align: right;\">\n",
              "      <th></th>\n",
              "      <th>Unnamed: 0</th>\n",
              "      <th>NU_INSCRICAO</th>\n",
              "      <th>NU_ANO</th>\n",
              "      <th>TP_FAIXA_ETARIA</th>\n",
              "      <th>TP_SEXO</th>\n",
              "      <th>TP_ESTADO_CIVIL</th>\n",
              "      <th>TP_COR_RACA</th>\n",
              "      <th>TP_ST_CONCLUSAO</th>\n",
              "      <th>TP_ANO_CONCLUIU</th>\n",
              "      <th>TP_ESCOLA</th>\n",
              "      <th>...</th>\n",
              "      <th>NU_NOTA_MT</th>\n",
              "      <th>TP_LINGUA</th>\n",
              "      <th>TP_STATUS_REDACAO</th>\n",
              "      <th>NU_NOTA_REDACAO</th>\n",
              "      <th>Q001</th>\n",
              "      <th>Q002</th>\n",
              "      <th>Q003</th>\n",
              "      <th>Q004</th>\n",
              "      <th>Q005</th>\n",
              "      <th>Q006</th>\n",
              "    </tr>\n",
              "  </thead>\n",
              "  <tbody>\n",
              "    <tr>\n",
              "      <th>0</th>\n",
              "      <td>0</td>\n",
              "      <td>210051185282</td>\n",
              "      <td>2021</td>\n",
              "      <td>2</td>\n",
              "      <td>F</td>\n",
              "      <td>1</td>\n",
              "      <td>1</td>\n",
              "      <td>2</td>\n",
              "      <td>0</td>\n",
              "      <td>2</td>\n",
              "      <td>...</td>\n",
              "      <td>482.8</td>\n",
              "      <td>0</td>\n",
              "      <td>1.0</td>\n",
              "      <td>540.0</td>\n",
              "      <td>G</td>\n",
              "      <td>E</td>\n",
              "      <td>D</td>\n",
              "      <td>B</td>\n",
              "      <td>4.0</td>\n",
              "      <td>O</td>\n",
              "    </tr>\n",
              "    <tr>\n",
              "      <th>1</th>\n",
              "      <td>1</td>\n",
              "      <td>210051684606</td>\n",
              "      <td>2021</td>\n",
              "      <td>2</td>\n",
              "      <td>M</td>\n",
              "      <td>1</td>\n",
              "      <td>1</td>\n",
              "      <td>2</td>\n",
              "      <td>0</td>\n",
              "      <td>2</td>\n",
              "      <td>...</td>\n",
              "      <td>510.8</td>\n",
              "      <td>0</td>\n",
              "      <td>1.0</td>\n",
              "      <td>580.0</td>\n",
              "      <td>H</td>\n",
              "      <td>E</td>\n",
              "      <td>D</td>\n",
              "      <td>B</td>\n",
              "      <td>4.0</td>\n",
              "      <td>B</td>\n",
              "    </tr>\n",
              "    <tr>\n",
              "      <th>2</th>\n",
              "      <td>2</td>\n",
              "      <td>210054369325</td>\n",
              "      <td>2021</td>\n",
              "      <td>2</td>\n",
              "      <td>F</td>\n",
              "      <td>1</td>\n",
              "      <td>1</td>\n",
              "      <td>2</td>\n",
              "      <td>0</td>\n",
              "      <td>2</td>\n",
              "      <td>...</td>\n",
              "      <td>722.2</td>\n",
              "      <td>0</td>\n",
              "      <td>1.0</td>\n",
              "      <td>880.0</td>\n",
              "      <td>E</td>\n",
              "      <td>D</td>\n",
              "      <td>B</td>\n",
              "      <td>D</td>\n",
              "      <td>5.0</td>\n",
              "      <td>H</td>\n",
              "    </tr>\n",
              "    <tr>\n",
              "      <th>3</th>\n",
              "      <td>3</td>\n",
              "      <td>210053533029</td>\n",
              "      <td>2021</td>\n",
              "      <td>2</td>\n",
              "      <td>F</td>\n",
              "      <td>1</td>\n",
              "      <td>1</td>\n",
              "      <td>2</td>\n",
              "      <td>0</td>\n",
              "      <td>3</td>\n",
              "      <td>...</td>\n",
              "      <td>589.8</td>\n",
              "      <td>0</td>\n",
              "      <td>1.0</td>\n",
              "      <td>700.0</td>\n",
              "      <td>F</td>\n",
              "      <td>G</td>\n",
              "      <td>D</td>\n",
              "      <td>D</td>\n",
              "      <td>5.0</td>\n",
              "      <td>O</td>\n",
              "    </tr>\n",
              "    <tr>\n",
              "      <th>4</th>\n",
              "      <td>4</td>\n",
              "      <td>210051391672</td>\n",
              "      <td>2021</td>\n",
              "      <td>3</td>\n",
              "      <td>F</td>\n",
              "      <td>1</td>\n",
              "      <td>1</td>\n",
              "      <td>2</td>\n",
              "      <td>0</td>\n",
              "      <td>3</td>\n",
              "      <td>...</td>\n",
              "      <td>678.4</td>\n",
              "      <td>0</td>\n",
              "      <td>1.0</td>\n",
              "      <td>720.0</td>\n",
              "      <td>G</td>\n",
              "      <td>G</td>\n",
              "      <td>E</td>\n",
              "      <td>E</td>\n",
              "      <td>3.0</td>\n",
              "      <td>P</td>\n",
              "    </tr>\n",
              "    <tr>\n",
              "      <th>...</th>\n",
              "      <td>...</td>\n",
              "      <td>...</td>\n",
              "      <td>...</td>\n",
              "      <td>...</td>\n",
              "      <td>...</td>\n",
              "      <td>...</td>\n",
              "      <td>...</td>\n",
              "      <td>...</td>\n",
              "      <td>...</td>\n",
              "      <td>...</td>\n",
              "      <td>...</td>\n",
              "      <td>...</td>\n",
              "      <td>...</td>\n",
              "      <td>...</td>\n",
              "      <td>...</td>\n",
              "      <td>...</td>\n",
              "      <td>...</td>\n",
              "      <td>...</td>\n",
              "      <td>...</td>\n",
              "      <td>...</td>\n",
              "      <td>...</td>\n",
              "    </tr>\n",
              "    <tr>\n",
              "      <th>4851</th>\n",
              "      <td>4851</td>\n",
              "      <td>210052915375</td>\n",
              "      <td>2021</td>\n",
              "      <td>2</td>\n",
              "      <td>M</td>\n",
              "      <td>1</td>\n",
              "      <td>3</td>\n",
              "      <td>2</td>\n",
              "      <td>0</td>\n",
              "      <td>2</td>\n",
              "      <td>...</td>\n",
              "      <td>646.0</td>\n",
              "      <td>0</td>\n",
              "      <td>1.0</td>\n",
              "      <td>360.0</td>\n",
              "      <td>C</td>\n",
              "      <td>C</td>\n",
              "      <td>C</td>\n",
              "      <td>C</td>\n",
              "      <td>4.0</td>\n",
              "      <td>D</td>\n",
              "    </tr>\n",
              "    <tr>\n",
              "      <th>4852</th>\n",
              "      <td>4852</td>\n",
              "      <td>210051729577</td>\n",
              "      <td>2021</td>\n",
              "      <td>2</td>\n",
              "      <td>F</td>\n",
              "      <td>1</td>\n",
              "      <td>1</td>\n",
              "      <td>2</td>\n",
              "      <td>0</td>\n",
              "      <td>2</td>\n",
              "      <td>...</td>\n",
              "      <td>NaN</td>\n",
              "      <td>1</td>\n",
              "      <td>NaN</td>\n",
              "      <td>NaN</td>\n",
              "      <td>E</td>\n",
              "      <td>E</td>\n",
              "      <td>D</td>\n",
              "      <td>D</td>\n",
              "      <td>4.0</td>\n",
              "      <td>G</td>\n",
              "    </tr>\n",
              "    <tr>\n",
              "      <th>4853</th>\n",
              "      <td>4853</td>\n",
              "      <td>210051722139</td>\n",
              "      <td>2021</td>\n",
              "      <td>3</td>\n",
              "      <td>M</td>\n",
              "      <td>1</td>\n",
              "      <td>3</td>\n",
              "      <td>2</td>\n",
              "      <td>0</td>\n",
              "      <td>2</td>\n",
              "      <td>...</td>\n",
              "      <td>558.3</td>\n",
              "      <td>0</td>\n",
              "      <td>1.0</td>\n",
              "      <td>340.0</td>\n",
              "      <td>F</td>\n",
              "      <td>F</td>\n",
              "      <td>D</td>\n",
              "      <td>B</td>\n",
              "      <td>3.0</td>\n",
              "      <td>C</td>\n",
              "    </tr>\n",
              "    <tr>\n",
              "      <th>4854</th>\n",
              "      <td>4854</td>\n",
              "      <td>210054395585</td>\n",
              "      <td>2021</td>\n",
              "      <td>2</td>\n",
              "      <td>F</td>\n",
              "      <td>1</td>\n",
              "      <td>3</td>\n",
              "      <td>2</td>\n",
              "      <td>0</td>\n",
              "      <td>2</td>\n",
              "      <td>...</td>\n",
              "      <td>NaN</td>\n",
              "      <td>1</td>\n",
              "      <td>NaN</td>\n",
              "      <td>NaN</td>\n",
              "      <td>D</td>\n",
              "      <td>D</td>\n",
              "      <td>B</td>\n",
              "      <td>D</td>\n",
              "      <td>5.0</td>\n",
              "      <td>F</td>\n",
              "    </tr>\n",
              "    <tr>\n",
              "      <th>4855</th>\n",
              "      <td>4855</td>\n",
              "      <td>210052040830</td>\n",
              "      <td>2021</td>\n",
              "      <td>5</td>\n",
              "      <td>M</td>\n",
              "      <td>1</td>\n",
              "      <td>1</td>\n",
              "      <td>2</td>\n",
              "      <td>0</td>\n",
              "      <td>2</td>\n",
              "      <td>...</td>\n",
              "      <td>NaN</td>\n",
              "      <td>1</td>\n",
              "      <td>NaN</td>\n",
              "      <td>NaN</td>\n",
              "      <td>B</td>\n",
              "      <td>E</td>\n",
              "      <td>C</td>\n",
              "      <td>D</td>\n",
              "      <td>5.0</td>\n",
              "      <td>F</td>\n",
              "    </tr>\n",
              "  </tbody>\n",
              "</table>\n",
              "<p>4825 rows × 40 columns</p>\n",
              "</div>"
            ],
            "text/plain": [
              "      Unnamed: 0  NU_INSCRICAO  NU_ANO  TP_FAIXA_ETARIA TP_SEXO  \\\n",
              "0              0  210051185282    2021                2       F   \n",
              "1              1  210051684606    2021                2       M   \n",
              "2              2  210054369325    2021                2       F   \n",
              "3              3  210053533029    2021                2       F   \n",
              "4              4  210051391672    2021                3       F   \n",
              "...          ...           ...     ...              ...     ...   \n",
              "4851        4851  210052915375    2021                2       M   \n",
              "4852        4852  210051729577    2021                2       F   \n",
              "4853        4853  210051722139    2021                3       M   \n",
              "4854        4854  210054395585    2021                2       F   \n",
              "4855        4855  210052040830    2021                5       M   \n",
              "\n",
              "      TP_ESTADO_CIVIL  TP_COR_RACA  TP_ST_CONCLUSAO  TP_ANO_CONCLUIU  \\\n",
              "0                   1            1                2                0   \n",
              "1                   1            1                2                0   \n",
              "2                   1            1                2                0   \n",
              "3                   1            1                2                0   \n",
              "4                   1            1                2                0   \n",
              "...               ...          ...              ...              ...   \n",
              "4851                1            3                2                0   \n",
              "4852                1            1                2                0   \n",
              "4853                1            3                2                0   \n",
              "4854                1            3                2                0   \n",
              "4855                1            1                2                0   \n",
              "\n",
              "      TP_ESCOLA  ...  NU_NOTA_MT  TP_LINGUA  TP_STATUS_REDACAO  \\\n",
              "0             2  ...       482.8          0                1.0   \n",
              "1             2  ...       510.8          0                1.0   \n",
              "2             2  ...       722.2          0                1.0   \n",
              "3             3  ...       589.8          0                1.0   \n",
              "4             3  ...       678.4          0                1.0   \n",
              "...         ...  ...         ...        ...                ...   \n",
              "4851          2  ...       646.0          0                1.0   \n",
              "4852          2  ...         NaN          1                NaN   \n",
              "4853          2  ...       558.3          0                1.0   \n",
              "4854          2  ...         NaN          1                NaN   \n",
              "4855          2  ...         NaN          1                NaN   \n",
              "\n",
              "     NU_NOTA_REDACAO  Q001 Q002  Q003  Q004  Q005  Q006  \n",
              "0              540.0     G    E     D     B   4.0     O  \n",
              "1              580.0     H    E     D     B   4.0     B  \n",
              "2              880.0     E    D     B     D   5.0     H  \n",
              "3              700.0     F    G     D     D   5.0     O  \n",
              "4              720.0     G    G     E     E   3.0     P  \n",
              "...              ...   ...  ...   ...   ...   ...   ...  \n",
              "4851           360.0     C    C     C     C   4.0     D  \n",
              "4852             NaN     E    E     D     D   4.0     G  \n",
              "4853           340.0     F    F     D     B   3.0     C  \n",
              "4854             NaN     D    D     B     D   5.0     F  \n",
              "4855             NaN     B    E     C     D   5.0     F  \n",
              "\n",
              "[4825 rows x 40 columns]"
            ]
          },
          "metadata": {},
          "output_type": "display_data"
        }
      ],
      "source": [
        "df = pd.read_csv('Enem 2021 Grupo.csv', sep=',',encoding = \"ISO-8859-1\")\n",
        "\n",
        "df = df.loc[df['TP_FAIXA_ETARIA'] <= 7] #Faixa de idade: 17 até 21 anos\n",
        "\n",
        "display(df)"
      ]
    },
    {
      "cell_type": "code",
      "execution_count": 8,
      "metadata": {
        "colab": {
          "base_uri": "https://localhost:8080/",
          "height": 505
        },
        "id": "biZCeG6i4TCF",
        "outputId": "f335dbc0-7dda-42f0-ef4c-5561ef8f3c93"
      },
      "outputs": [
        {
          "data": {
            "text/html": [
              "<div>\n",
              "<style scoped>\n",
              "    .dataframe tbody tr th:only-of-type {\n",
              "        vertical-align: middle;\n",
              "    }\n",
              "\n",
              "    .dataframe tbody tr th {\n",
              "        vertical-align: top;\n",
              "    }\n",
              "\n",
              "    .dataframe thead th {\n",
              "        text-align: right;\n",
              "    }\n",
              "</style>\n",
              "<table border=\"1\" class=\"dataframe\">\n",
              "  <thead>\n",
              "    <tr style=\"text-align: right;\">\n",
              "      <th></th>\n",
              "      <th>Unnamed: 0</th>\n",
              "      <th>NU_INSCRICAO</th>\n",
              "      <th>NU_ANO</th>\n",
              "      <th>TP_FAIXA_ETARIA</th>\n",
              "      <th>TP_SEXO</th>\n",
              "      <th>TP_ESTADO_CIVIL</th>\n",
              "      <th>TP_COR_RACA</th>\n",
              "      <th>TP_ST_CONCLUSAO</th>\n",
              "      <th>TP_ANO_CONCLUIU</th>\n",
              "      <th>TP_ESCOLA</th>\n",
              "      <th>...</th>\n",
              "      <th>NU_NOTA_MT</th>\n",
              "      <th>TP_LINGUA</th>\n",
              "      <th>TP_STATUS_REDACAO</th>\n",
              "      <th>NU_NOTA_REDACAO</th>\n",
              "      <th>Q001</th>\n",
              "      <th>Q002</th>\n",
              "      <th>Q003</th>\n",
              "      <th>Q004</th>\n",
              "      <th>Q005</th>\n",
              "      <th>Q006</th>\n",
              "    </tr>\n",
              "  </thead>\n",
              "  <tbody>\n",
              "    <tr>\n",
              "      <th>0</th>\n",
              "      <td>0</td>\n",
              "      <td>210051185282</td>\n",
              "      <td>2021</td>\n",
              "      <td>2</td>\n",
              "      <td>F</td>\n",
              "      <td>1</td>\n",
              "      <td>1</td>\n",
              "      <td>2</td>\n",
              "      <td>0</td>\n",
              "      <td>2</td>\n",
              "      <td>...</td>\n",
              "      <td>482.8</td>\n",
              "      <td>0</td>\n",
              "      <td>1.0</td>\n",
              "      <td>540.0</td>\n",
              "      <td>G</td>\n",
              "      <td>E</td>\n",
              "      <td>D</td>\n",
              "      <td>B</td>\n",
              "      <td>4.0</td>\n",
              "      <td>O</td>\n",
              "    </tr>\n",
              "    <tr>\n",
              "      <th>1</th>\n",
              "      <td>1</td>\n",
              "      <td>210051684606</td>\n",
              "      <td>2021</td>\n",
              "      <td>2</td>\n",
              "      <td>M</td>\n",
              "      <td>1</td>\n",
              "      <td>1</td>\n",
              "      <td>2</td>\n",
              "      <td>0</td>\n",
              "      <td>2</td>\n",
              "      <td>...</td>\n",
              "      <td>510.8</td>\n",
              "      <td>0</td>\n",
              "      <td>1.0</td>\n",
              "      <td>580.0</td>\n",
              "      <td>H</td>\n",
              "      <td>E</td>\n",
              "      <td>D</td>\n",
              "      <td>B</td>\n",
              "      <td>4.0</td>\n",
              "      <td>B</td>\n",
              "    </tr>\n",
              "    <tr>\n",
              "      <th>2</th>\n",
              "      <td>2</td>\n",
              "      <td>210054369325</td>\n",
              "      <td>2021</td>\n",
              "      <td>2</td>\n",
              "      <td>F</td>\n",
              "      <td>1</td>\n",
              "      <td>1</td>\n",
              "      <td>2</td>\n",
              "      <td>0</td>\n",
              "      <td>2</td>\n",
              "      <td>...</td>\n",
              "      <td>722.2</td>\n",
              "      <td>0</td>\n",
              "      <td>1.0</td>\n",
              "      <td>880.0</td>\n",
              "      <td>E</td>\n",
              "      <td>D</td>\n",
              "      <td>B</td>\n",
              "      <td>D</td>\n",
              "      <td>5.0</td>\n",
              "      <td>H</td>\n",
              "    </tr>\n",
              "    <tr>\n",
              "      <th>3</th>\n",
              "      <td>3</td>\n",
              "      <td>210053533029</td>\n",
              "      <td>2021</td>\n",
              "      <td>2</td>\n",
              "      <td>F</td>\n",
              "      <td>1</td>\n",
              "      <td>1</td>\n",
              "      <td>2</td>\n",
              "      <td>0</td>\n",
              "      <td>3</td>\n",
              "      <td>...</td>\n",
              "      <td>589.8</td>\n",
              "      <td>0</td>\n",
              "      <td>1.0</td>\n",
              "      <td>700.0</td>\n",
              "      <td>F</td>\n",
              "      <td>G</td>\n",
              "      <td>D</td>\n",
              "      <td>D</td>\n",
              "      <td>5.0</td>\n",
              "      <td>O</td>\n",
              "    </tr>\n",
              "    <tr>\n",
              "      <th>4</th>\n",
              "      <td>4</td>\n",
              "      <td>210051391672</td>\n",
              "      <td>2021</td>\n",
              "      <td>3</td>\n",
              "      <td>F</td>\n",
              "      <td>1</td>\n",
              "      <td>1</td>\n",
              "      <td>2</td>\n",
              "      <td>0</td>\n",
              "      <td>3</td>\n",
              "      <td>...</td>\n",
              "      <td>678.4</td>\n",
              "      <td>0</td>\n",
              "      <td>1.0</td>\n",
              "      <td>720.0</td>\n",
              "      <td>G</td>\n",
              "      <td>G</td>\n",
              "      <td>E</td>\n",
              "      <td>E</td>\n",
              "      <td>3.0</td>\n",
              "      <td>P</td>\n",
              "    </tr>\n",
              "    <tr>\n",
              "      <th>...</th>\n",
              "      <td>...</td>\n",
              "      <td>...</td>\n",
              "      <td>...</td>\n",
              "      <td>...</td>\n",
              "      <td>...</td>\n",
              "      <td>...</td>\n",
              "      <td>...</td>\n",
              "      <td>...</td>\n",
              "      <td>...</td>\n",
              "      <td>...</td>\n",
              "      <td>...</td>\n",
              "      <td>...</td>\n",
              "      <td>...</td>\n",
              "      <td>...</td>\n",
              "      <td>...</td>\n",
              "      <td>...</td>\n",
              "      <td>...</td>\n",
              "      <td>...</td>\n",
              "      <td>...</td>\n",
              "      <td>...</td>\n",
              "      <td>...</td>\n",
              "    </tr>\n",
              "    <tr>\n",
              "      <th>4846</th>\n",
              "      <td>4846</td>\n",
              "      <td>210053914709</td>\n",
              "      <td>2021</td>\n",
              "      <td>6</td>\n",
              "      <td>F</td>\n",
              "      <td>1</td>\n",
              "      <td>1</td>\n",
              "      <td>2</td>\n",
              "      <td>0</td>\n",
              "      <td>2</td>\n",
              "      <td>...</td>\n",
              "      <td>415.4</td>\n",
              "      <td>1</td>\n",
              "      <td>1.0</td>\n",
              "      <td>460.0</td>\n",
              "      <td>D</td>\n",
              "      <td>E</td>\n",
              "      <td>F</td>\n",
              "      <td>F</td>\n",
              "      <td>2.0</td>\n",
              "      <td>B</td>\n",
              "    </tr>\n",
              "    <tr>\n",
              "      <th>4847</th>\n",
              "      <td>4847</td>\n",
              "      <td>210051125170</td>\n",
              "      <td>2021</td>\n",
              "      <td>2</td>\n",
              "      <td>M</td>\n",
              "      <td>1</td>\n",
              "      <td>3</td>\n",
              "      <td>2</td>\n",
              "      <td>0</td>\n",
              "      <td>2</td>\n",
              "      <td>...</td>\n",
              "      <td>619.1</td>\n",
              "      <td>0</td>\n",
              "      <td>1.0</td>\n",
              "      <td>520.0</td>\n",
              "      <td>F</td>\n",
              "      <td>E</td>\n",
              "      <td>B</td>\n",
              "      <td>C</td>\n",
              "      <td>4.0</td>\n",
              "      <td>C</td>\n",
              "    </tr>\n",
              "    <tr>\n",
              "      <th>4850</th>\n",
              "      <td>4850</td>\n",
              "      <td>210053962964</td>\n",
              "      <td>2021</td>\n",
              "      <td>3</td>\n",
              "      <td>M</td>\n",
              "      <td>1</td>\n",
              "      <td>1</td>\n",
              "      <td>2</td>\n",
              "      <td>0</td>\n",
              "      <td>2</td>\n",
              "      <td>...</td>\n",
              "      <td>467.1</td>\n",
              "      <td>0</td>\n",
              "      <td>1.0</td>\n",
              "      <td>580.0</td>\n",
              "      <td>E</td>\n",
              "      <td>F</td>\n",
              "      <td>C</td>\n",
              "      <td>F</td>\n",
              "      <td>2.0</td>\n",
              "      <td>B</td>\n",
              "    </tr>\n",
              "    <tr>\n",
              "      <th>4851</th>\n",
              "      <td>4851</td>\n",
              "      <td>210052915375</td>\n",
              "      <td>2021</td>\n",
              "      <td>2</td>\n",
              "      <td>M</td>\n",
              "      <td>1</td>\n",
              "      <td>3</td>\n",
              "      <td>2</td>\n",
              "      <td>0</td>\n",
              "      <td>2</td>\n",
              "      <td>...</td>\n",
              "      <td>646.0</td>\n",
              "      <td>0</td>\n",
              "      <td>1.0</td>\n",
              "      <td>360.0</td>\n",
              "      <td>C</td>\n",
              "      <td>C</td>\n",
              "      <td>C</td>\n",
              "      <td>C</td>\n",
              "      <td>4.0</td>\n",
              "      <td>D</td>\n",
              "    </tr>\n",
              "    <tr>\n",
              "      <th>4853</th>\n",
              "      <td>4853</td>\n",
              "      <td>210051722139</td>\n",
              "      <td>2021</td>\n",
              "      <td>3</td>\n",
              "      <td>M</td>\n",
              "      <td>1</td>\n",
              "      <td>3</td>\n",
              "      <td>2</td>\n",
              "      <td>0</td>\n",
              "      <td>2</td>\n",
              "      <td>...</td>\n",
              "      <td>558.3</td>\n",
              "      <td>0</td>\n",
              "      <td>1.0</td>\n",
              "      <td>340.0</td>\n",
              "      <td>F</td>\n",
              "      <td>F</td>\n",
              "      <td>D</td>\n",
              "      <td>B</td>\n",
              "      <td>3.0</td>\n",
              "      <td>C</td>\n",
              "    </tr>\n",
              "  </tbody>\n",
              "</table>\n",
              "<p>3902 rows × 40 columns</p>\n",
              "</div>"
            ],
            "text/plain": [
              "      Unnamed: 0  NU_INSCRICAO  NU_ANO  TP_FAIXA_ETARIA TP_SEXO  \\\n",
              "0              0  210051185282    2021                2       F   \n",
              "1              1  210051684606    2021                2       M   \n",
              "2              2  210054369325    2021                2       F   \n",
              "3              3  210053533029    2021                2       F   \n",
              "4              4  210051391672    2021                3       F   \n",
              "...          ...           ...     ...              ...     ...   \n",
              "4846        4846  210053914709    2021                6       F   \n",
              "4847        4847  210051125170    2021                2       M   \n",
              "4850        4850  210053962964    2021                3       M   \n",
              "4851        4851  210052915375    2021                2       M   \n",
              "4853        4853  210051722139    2021                3       M   \n",
              "\n",
              "      TP_ESTADO_CIVIL  TP_COR_RACA  TP_ST_CONCLUSAO  TP_ANO_CONCLUIU  \\\n",
              "0                   1            1                2                0   \n",
              "1                   1            1                2                0   \n",
              "2                   1            1                2                0   \n",
              "3                   1            1                2                0   \n",
              "4                   1            1                2                0   \n",
              "...               ...          ...              ...              ...   \n",
              "4846                1            1                2                0   \n",
              "4847                1            3                2                0   \n",
              "4850                1            1                2                0   \n",
              "4851                1            3                2                0   \n",
              "4853                1            3                2                0   \n",
              "\n",
              "      TP_ESCOLA  ...  NU_NOTA_MT  TP_LINGUA  TP_STATUS_REDACAO  \\\n",
              "0             2  ...       482.8          0                1.0   \n",
              "1             2  ...       510.8          0                1.0   \n",
              "2             2  ...       722.2          0                1.0   \n",
              "3             3  ...       589.8          0                1.0   \n",
              "4             3  ...       678.4          0                1.0   \n",
              "...         ...  ...         ...        ...                ...   \n",
              "4846          2  ...       415.4          1                1.0   \n",
              "4847          2  ...       619.1          0                1.0   \n",
              "4850          2  ...       467.1          0                1.0   \n",
              "4851          2  ...       646.0          0                1.0   \n",
              "4853          2  ...       558.3          0                1.0   \n",
              "\n",
              "     NU_NOTA_REDACAO  Q001 Q002  Q003  Q004  Q005  Q006  \n",
              "0              540.0     G    E     D     B   4.0     O  \n",
              "1              580.0     H    E     D     B   4.0     B  \n",
              "2              880.0     E    D     B     D   5.0     H  \n",
              "3              700.0     F    G     D     D   5.0     O  \n",
              "4              720.0     G    G     E     E   3.0     P  \n",
              "...              ...   ...  ...   ...   ...   ...   ...  \n",
              "4846           460.0     D    E     F     F   2.0     B  \n",
              "4847           520.0     F    E     B     C   4.0     C  \n",
              "4850           580.0     E    F     C     F   2.0     B  \n",
              "4851           360.0     C    C     C     C   4.0     D  \n",
              "4853           340.0     F    F     D     B   3.0     C  \n",
              "\n",
              "[3902 rows x 40 columns]"
            ]
          },
          "metadata": {},
          "output_type": "display_data"
        }
      ],
      "source": [
        "df_presentes = df.loc[(df['TP_PRESENCA_MT']  == 1) & (df['TP_PRESENCA_LC'] == 1)]\n",
        "display(df_presentes)"
      ]
    },
    {
      "attachments": {},
      "cell_type": "markdown",
      "metadata": {},
      "source": [
        "### Mudança de dados para corresponder ao dicionário de variáveis:\n",
        "Ao acessar os arquivos disponibilizados pelo INEP, é importante notar que eles vêm codificados e com uma nomenclatura específica. Para realizar a conversão correspondente ao tipo de informação desejado, utilizou-se como referência o \"Dicionário de Variáveis\". Esse dicionário está disponível para leitura no arquivo denominado \"Dicionário_Microdados_Enem_2021.xlsx\"."
      ]
    },
    {
      "cell_type": "code",
      "execution_count": 9,
      "metadata": {
        "id": "YR27m3yQfZyA"
      },
      "outputs": [],
      "source": [
        "TP_FAIXA_ETARIA = {\"Menores de 17 anos\":1,\"17 anos\":2,\"18 anos\":3,\"19 anos\":4,\"20 anos\":5,\"21 anos\":6,\"22 anos\":7}\n",
        "\n",
        "TP_ESTADO_CIVIL =  {\n",
        "   'Não informado': 0,\n",
        "\t'Solteiro(a)': 1,\n",
        "\t'Casado(a)/Mora com companheiro(a)': 2,\n",
        "\t'Divorciado(a)/Desquitado(a)/Separado(a)': 3,\n",
        "\t'Viúvo(a)': 4}\n",
        "\n",
        "TP_SEXO = {'Feminino':'F',\n",
        "                 'Masculino': 'M'}\n",
        "\n",
        "TP_COR_RACA = {\n",
        "'Não declarado': 0,\n",
        "'Branca': 1,\n",
        "'Preta': 2,\n",
        "'Parda': 3,\n",
        "'Amarela': 4,\n",
        "'Indígena': 5,\n",
        "'Não dispõe da informação': 6}\n",
        "\n",
        "TP_ST_CONCLUSAO = {\n",
        "'Já concluí o Ensino Médio': 1,\n",
        "'Estou cursando e concluirei o Ensino Médio em 2021': 2,\n",
        "'Estou cursando e concluirei o Ensino Médio após 2021': 3,\n",
        "'Não concluí e não estou cursando o Ensino Médio': 4}\n",
        "\n",
        "TP_ANO_CONCLUIU = {\n",
        "'Não informado': 0,\n",
        "'2020': 1,\n",
        "'2019': 2,\n",
        "'2018': 3,\n",
        "'2017': 4,\n",
        "'2016': 5,\n",
        "'2015': 6,\n",
        "'2014': 7,\n",
        "'2013': 8,\n",
        "'2012': 9,\n",
        "'2011': 10,\n",
        "'2010': 11,\n",
        "'2009': 12,\n",
        "'2008': 13,\n",
        "'2007': 14,\n",
        "'Antes de 2007': 15}\n",
        "\n",
        "TP_ESCOLA = {\n",
        "'Não Respondeu': 1,\n",
        "'Pública': 2,\n",
        "'Privada': 3}\n",
        "\n",
        "IN_TREINEIRO = {'Não': 0,'Sim':1}\n",
        "\n",
        "TP_DEPENDENCIA_ADM_ESC={\n",
        "  'Federal': 1,\n",
        "\t'Estadual': 2,\n",
        "\t'Municipal': 3,\n",
        "\t'Privada': 4}\n",
        "TP_LOCALIZACAO_ESC = {'Urbana': 1, 'Rural': 2}\n",
        "\n",
        "TP_SIT_FUNC_ESC = {\n",
        "'Em atividade': 1,\n",
        "'Paralisada': 2,\n",
        "'Extinta': 3,\n",
        "'Escola extinta em anos anteriores.': 4}\n",
        "\n",
        "TP_STATUS_REDACAO\t= {'Sem problemas': 1,\n",
        "'Anulada': 2,\n",
        "'Cópia Texto Motivador': 3,\n",
        "'Em Branco': 4,\n",
        "'Fuga ao tema': 6,\n",
        "'Não atendimento ao tipo textual': 7,\n",
        "'Texto insuficiente': 8,\n",
        "'Parte desconectada': 9}\n",
        "\n",
        "Q001 = Q002= {\n",
        "'Nunca estudou.': 'A',\n",
        "'Não completou a 4ª série/5º ano do Ensino Fundamental.': 'B',\n",
        "'Completou a 4ª série/5º ano, mas não completou a 8ª série/9º ano do Ensino Fundamental.': 'C',\n",
        "'Completou a 8ª série/9º ano do Ensino Fundamental, mas não completou o Ensino Médio.': 'D',\n",
        "'Completou o Ensino Médio, mas não completou a Faculdade.': 'E',\n",
        "'Completou a Faculdade, mas não completou a Pós-graduação.': 'F',\n",
        "'Completou a Pós-graduação.': 'G',\n",
        "'Não sei.': 'H'}\n",
        "\n",
        "TP_LINGUA = {'Inglês': 0, 'Espanhol': 1}\n",
        "\n",
        "Q003 = Q004 = {'Grupo 1': 'A', 'Grupo 2': 'B', 'Grupo 3': 'C', 'Grupo 4': 'D', 'Grupo 5': 'E', 'Não sei': 'F'}\n",
        "\n",
        "Q005 = {'1 - 5':[1,2,3,4,5],\n",
        "        '6 - 10':[6,7,8,9,10],\n",
        "\t\t\t\t'11 - 15':[11,12,13,14,15],\n",
        "\t\t\t\t'16 - 20':[16,17,18,19,20]}\n",
        "\n",
        "Q006 = {\n",
        "'Nenhuma Renda': ['A'],\n",
        "'R$ 1.100,00 - R$ 2.750,00.': ['B','C','D','E'],\n",
        "'R$ 2.750,01 - R$ 6.600,00.': ['F','G','H','I'],\n",
        "'R$ 6.600,01 - R$ 11.000,00.': ['J','K','L','M'],\n",
        "'R$ 11.000,01 - Acima de R$ 22.000,00.': ['N','O','P','Q']\n",
        "}\n",
        "\n",
        "dicionarios_cols = {\n",
        "    'TP_FAIXA_ETARIA':TP_FAIXA_ETARIA,\n",
        "    'TP_SEXO':TP_SEXO,\n",
        "    'TP_ESTADO_CIVIL':TP_ESTADO_CIVIL,\n",
        "    'TP_COR_RACA':TP_COR_RACA,\n",
        "    'TP_ST_CONCLUSAO':TP_ST_CONCLUSAO,\n",
        "    'TP_ANO_CONCLUIU':TP_ANO_CONCLUIU,\n",
        "    'TP_ESCOLA':TP_ESCOLA,\n",
        "    'IN_TREINEIRO':IN_TREINEIRO,\n",
        "    'TP_DEPENDENCIA_ADM_ESC':TP_DEPENDENCIA_ADM_ESC,\n",
        "    'TP_LOCALIZACAO_ESC':TP_LOCALIZACAO_ESC,\n",
        "    'TP_SIT_FUNC_ESC':TP_SIT_FUNC_ESC,\n",
        "    'TP_LINGUA': TP_LINGUA,\n",
        "    'TP_STATUS_REDACAO': TP_STATUS_REDACAO,\n",
        "    'Q001':Q001,\n",
        "    'Q002':Q002,\n",
        "    'Q003':Q003,\n",
        "    'Q004':Q004}\n",
        "\n"
      ]
    },
    {
      "cell_type": "code",
      "execution_count": 10,
      "metadata": {
        "colab": {
          "base_uri": "https://localhost:8080/",
          "height": 1000
        },
        "id": "WoAauZsXCiRV",
        "outputId": "5a9b0e2c-2700-4b77-fae1-fe7a05a31998"
      },
      "outputs": [
        {
          "data": {
            "text/html": [
              "<div>\n",
              "<style scoped>\n",
              "    .dataframe tbody tr th:only-of-type {\n",
              "        vertical-align: middle;\n",
              "    }\n",
              "\n",
              "    .dataframe tbody tr th {\n",
              "        vertical-align: top;\n",
              "    }\n",
              "\n",
              "    .dataframe thead th {\n",
              "        text-align: right;\n",
              "    }\n",
              "</style>\n",
              "<table border=\"1\" class=\"dataframe\">\n",
              "  <thead>\n",
              "    <tr style=\"text-align: right;\">\n",
              "      <th></th>\n",
              "      <th>Unnamed: 0</th>\n",
              "      <th>NU_INSCRICAO</th>\n",
              "      <th>NU_ANO</th>\n",
              "      <th>TP_FAIXA_ETARIA</th>\n",
              "      <th>TP_SEXO</th>\n",
              "      <th>TP_ESTADO_CIVIL</th>\n",
              "      <th>TP_COR_RACA</th>\n",
              "      <th>TP_ST_CONCLUSAO</th>\n",
              "      <th>TP_ANO_CONCLUIU</th>\n",
              "      <th>TP_ESCOLA</th>\n",
              "      <th>...</th>\n",
              "      <th>NU_NOTA_MT</th>\n",
              "      <th>TP_LINGUA</th>\n",
              "      <th>TP_STATUS_REDACAO</th>\n",
              "      <th>NU_NOTA_REDACAO</th>\n",
              "      <th>Q001</th>\n",
              "      <th>Q002</th>\n",
              "      <th>Q003</th>\n",
              "      <th>Q004</th>\n",
              "      <th>Q005</th>\n",
              "      <th>Q006</th>\n",
              "    </tr>\n",
              "  </thead>\n",
              "  <tbody>\n",
              "    <tr>\n",
              "      <th>0</th>\n",
              "      <td>0</td>\n",
              "      <td>210051185282</td>\n",
              "      <td>2021</td>\n",
              "      <td>17 anos</td>\n",
              "      <td>Feminino</td>\n",
              "      <td>Solteiro(a)</td>\n",
              "      <td>Branca</td>\n",
              "      <td>Estou cursando e concluirei o Ensino Médio em ...</td>\n",
              "      <td>Não informado</td>\n",
              "      <td>Pública</td>\n",
              "      <td>...</td>\n",
              "      <td>482.8</td>\n",
              "      <td>Inglês</td>\n",
              "      <td>Sem problemas</td>\n",
              "      <td>540.0</td>\n",
              "      <td>Completou a Pós-graduação.</td>\n",
              "      <td>Completou o Ensino Médio, mas não completou a ...</td>\n",
              "      <td>Grupo 4</td>\n",
              "      <td>Grupo 2</td>\n",
              "      <td>1 - 5</td>\n",
              "      <td>R$ 11.000,01 - Acima de R$ 22.000,00.</td>\n",
              "    </tr>\n",
              "    <tr>\n",
              "      <th>1</th>\n",
              "      <td>1</td>\n",
              "      <td>210051684606</td>\n",
              "      <td>2021</td>\n",
              "      <td>17 anos</td>\n",
              "      <td>Masculino</td>\n",
              "      <td>Solteiro(a)</td>\n",
              "      <td>Branca</td>\n",
              "      <td>Estou cursando e concluirei o Ensino Médio em ...</td>\n",
              "      <td>Não informado</td>\n",
              "      <td>Pública</td>\n",
              "      <td>...</td>\n",
              "      <td>510.8</td>\n",
              "      <td>Inglês</td>\n",
              "      <td>Sem problemas</td>\n",
              "      <td>580.0</td>\n",
              "      <td>Não sei.</td>\n",
              "      <td>Completou o Ensino Médio, mas não completou a ...</td>\n",
              "      <td>Grupo 4</td>\n",
              "      <td>Grupo 2</td>\n",
              "      <td>1 - 5</td>\n",
              "      <td>R$ 1.100,00 - R$ 2.750,00.</td>\n",
              "    </tr>\n",
              "    <tr>\n",
              "      <th>2</th>\n",
              "      <td>2</td>\n",
              "      <td>210054369325</td>\n",
              "      <td>2021</td>\n",
              "      <td>17 anos</td>\n",
              "      <td>Feminino</td>\n",
              "      <td>Solteiro(a)</td>\n",
              "      <td>Branca</td>\n",
              "      <td>Estou cursando e concluirei o Ensino Médio em ...</td>\n",
              "      <td>Não informado</td>\n",
              "      <td>Pública</td>\n",
              "      <td>...</td>\n",
              "      <td>722.2</td>\n",
              "      <td>Inglês</td>\n",
              "      <td>Sem problemas</td>\n",
              "      <td>880.0</td>\n",
              "      <td>Completou o Ensino Médio, mas não completou a ...</td>\n",
              "      <td>Completou a 8ª série/9º ano do Ensino Fundamen...</td>\n",
              "      <td>Grupo 2</td>\n",
              "      <td>Grupo 4</td>\n",
              "      <td>1 - 5</td>\n",
              "      <td>R$ 2.750,01 - R$ 6.600,00.</td>\n",
              "    </tr>\n",
              "    <tr>\n",
              "      <th>3</th>\n",
              "      <td>3</td>\n",
              "      <td>210053533029</td>\n",
              "      <td>2021</td>\n",
              "      <td>17 anos</td>\n",
              "      <td>Feminino</td>\n",
              "      <td>Solteiro(a)</td>\n",
              "      <td>Branca</td>\n",
              "      <td>Estou cursando e concluirei o Ensino Médio em ...</td>\n",
              "      <td>Não informado</td>\n",
              "      <td>Privada</td>\n",
              "      <td>...</td>\n",
              "      <td>589.8</td>\n",
              "      <td>Inglês</td>\n",
              "      <td>Sem problemas</td>\n",
              "      <td>700.0</td>\n",
              "      <td>Completou a Faculdade, mas não completou a Pós...</td>\n",
              "      <td>Completou a Pós-graduação.</td>\n",
              "      <td>Grupo 4</td>\n",
              "      <td>Grupo 4</td>\n",
              "      <td>1 - 5</td>\n",
              "      <td>R$ 11.000,01 - Acima de R$ 22.000,00.</td>\n",
              "    </tr>\n",
              "    <tr>\n",
              "      <th>4</th>\n",
              "      <td>4</td>\n",
              "      <td>210051391672</td>\n",
              "      <td>2021</td>\n",
              "      <td>18 anos</td>\n",
              "      <td>Feminino</td>\n",
              "      <td>Solteiro(a)</td>\n",
              "      <td>Branca</td>\n",
              "      <td>Estou cursando e concluirei o Ensino Médio em ...</td>\n",
              "      <td>Não informado</td>\n",
              "      <td>Privada</td>\n",
              "      <td>...</td>\n",
              "      <td>678.4</td>\n",
              "      <td>Inglês</td>\n",
              "      <td>Sem problemas</td>\n",
              "      <td>720.0</td>\n",
              "      <td>Completou a Pós-graduação.</td>\n",
              "      <td>Completou a Pós-graduação.</td>\n",
              "      <td>Grupo 5</td>\n",
              "      <td>Grupo 5</td>\n",
              "      <td>1 - 5</td>\n",
              "      <td>R$ 11.000,01 - Acima de R$ 22.000,00.</td>\n",
              "    </tr>\n",
              "    <tr>\n",
              "      <th>...</th>\n",
              "      <td>...</td>\n",
              "      <td>...</td>\n",
              "      <td>...</td>\n",
              "      <td>...</td>\n",
              "      <td>...</td>\n",
              "      <td>...</td>\n",
              "      <td>...</td>\n",
              "      <td>...</td>\n",
              "      <td>...</td>\n",
              "      <td>...</td>\n",
              "      <td>...</td>\n",
              "      <td>...</td>\n",
              "      <td>...</td>\n",
              "      <td>...</td>\n",
              "      <td>...</td>\n",
              "      <td>...</td>\n",
              "      <td>...</td>\n",
              "      <td>...</td>\n",
              "      <td>...</td>\n",
              "      <td>...</td>\n",
              "      <td>...</td>\n",
              "    </tr>\n",
              "    <tr>\n",
              "      <th>4846</th>\n",
              "      <td>4846</td>\n",
              "      <td>210053914709</td>\n",
              "      <td>2021</td>\n",
              "      <td>21 anos</td>\n",
              "      <td>Feminino</td>\n",
              "      <td>Solteiro(a)</td>\n",
              "      <td>Branca</td>\n",
              "      <td>Estou cursando e concluirei o Ensino Médio em ...</td>\n",
              "      <td>Não informado</td>\n",
              "      <td>Pública</td>\n",
              "      <td>...</td>\n",
              "      <td>415.4</td>\n",
              "      <td>Espanhol</td>\n",
              "      <td>Sem problemas</td>\n",
              "      <td>460.0</td>\n",
              "      <td>Completou a 8ª série/9º ano do Ensino Fundamen...</td>\n",
              "      <td>Completou o Ensino Médio, mas não completou a ...</td>\n",
              "      <td>Não sei</td>\n",
              "      <td>Não sei</td>\n",
              "      <td>1 - 5</td>\n",
              "      <td>R$ 1.100,00 - R$ 2.750,00.</td>\n",
              "    </tr>\n",
              "    <tr>\n",
              "      <th>4847</th>\n",
              "      <td>4847</td>\n",
              "      <td>210051125170</td>\n",
              "      <td>2021</td>\n",
              "      <td>17 anos</td>\n",
              "      <td>Masculino</td>\n",
              "      <td>Solteiro(a)</td>\n",
              "      <td>Parda</td>\n",
              "      <td>Estou cursando e concluirei o Ensino Médio em ...</td>\n",
              "      <td>Não informado</td>\n",
              "      <td>Pública</td>\n",
              "      <td>...</td>\n",
              "      <td>619.1</td>\n",
              "      <td>Inglês</td>\n",
              "      <td>Sem problemas</td>\n",
              "      <td>520.0</td>\n",
              "      <td>Completou a Faculdade, mas não completou a Pós...</td>\n",
              "      <td>Completou o Ensino Médio, mas não completou a ...</td>\n",
              "      <td>Grupo 2</td>\n",
              "      <td>Grupo 3</td>\n",
              "      <td>1 - 5</td>\n",
              "      <td>R$ 1.100,00 - R$ 2.750,00.</td>\n",
              "    </tr>\n",
              "    <tr>\n",
              "      <th>4850</th>\n",
              "      <td>4850</td>\n",
              "      <td>210053962964</td>\n",
              "      <td>2021</td>\n",
              "      <td>18 anos</td>\n",
              "      <td>Masculino</td>\n",
              "      <td>Solteiro(a)</td>\n",
              "      <td>Branca</td>\n",
              "      <td>Estou cursando e concluirei o Ensino Médio em ...</td>\n",
              "      <td>Não informado</td>\n",
              "      <td>Pública</td>\n",
              "      <td>...</td>\n",
              "      <td>467.1</td>\n",
              "      <td>Inglês</td>\n",
              "      <td>Sem problemas</td>\n",
              "      <td>580.0</td>\n",
              "      <td>Completou o Ensino Médio, mas não completou a ...</td>\n",
              "      <td>Completou a Faculdade, mas não completou a Pós...</td>\n",
              "      <td>Grupo 3</td>\n",
              "      <td>Não sei</td>\n",
              "      <td>1 - 5</td>\n",
              "      <td>R$ 1.100,00 - R$ 2.750,00.</td>\n",
              "    </tr>\n",
              "    <tr>\n",
              "      <th>4851</th>\n",
              "      <td>4851</td>\n",
              "      <td>210052915375</td>\n",
              "      <td>2021</td>\n",
              "      <td>17 anos</td>\n",
              "      <td>Masculino</td>\n",
              "      <td>Solteiro(a)</td>\n",
              "      <td>Parda</td>\n",
              "      <td>Estou cursando e concluirei o Ensino Médio em ...</td>\n",
              "      <td>Não informado</td>\n",
              "      <td>Pública</td>\n",
              "      <td>...</td>\n",
              "      <td>646.0</td>\n",
              "      <td>Inglês</td>\n",
              "      <td>Sem problemas</td>\n",
              "      <td>360.0</td>\n",
              "      <td>Completou a 4ª série/5º ano, mas não completou...</td>\n",
              "      <td>Completou a 4ª série/5º ano, mas não completou...</td>\n",
              "      <td>Grupo 3</td>\n",
              "      <td>Grupo 3</td>\n",
              "      <td>1 - 5</td>\n",
              "      <td>R$ 1.100,00 - R$ 2.750,00.</td>\n",
              "    </tr>\n",
              "    <tr>\n",
              "      <th>4853</th>\n",
              "      <td>4853</td>\n",
              "      <td>210051722139</td>\n",
              "      <td>2021</td>\n",
              "      <td>18 anos</td>\n",
              "      <td>Masculino</td>\n",
              "      <td>Solteiro(a)</td>\n",
              "      <td>Parda</td>\n",
              "      <td>Estou cursando e concluirei o Ensino Médio em ...</td>\n",
              "      <td>Não informado</td>\n",
              "      <td>Pública</td>\n",
              "      <td>...</td>\n",
              "      <td>558.3</td>\n",
              "      <td>Inglês</td>\n",
              "      <td>Sem problemas</td>\n",
              "      <td>340.0</td>\n",
              "      <td>Completou a Faculdade, mas não completou a Pós...</td>\n",
              "      <td>Completou a Faculdade, mas não completou a Pós...</td>\n",
              "      <td>Grupo 4</td>\n",
              "      <td>Grupo 2</td>\n",
              "      <td>1 - 5</td>\n",
              "      <td>R$ 1.100,00 - R$ 2.750,00.</td>\n",
              "    </tr>\n",
              "  </tbody>\n",
              "</table>\n",
              "<p>3902 rows × 40 columns</p>\n",
              "</div>"
            ],
            "text/plain": [
              "      Unnamed: 0  NU_INSCRICAO  NU_ANO TP_FAIXA_ETARIA    TP_SEXO  \\\n",
              "0              0  210051185282    2021         17 anos   Feminino   \n",
              "1              1  210051684606    2021         17 anos  Masculino   \n",
              "2              2  210054369325    2021         17 anos   Feminino   \n",
              "3              3  210053533029    2021         17 anos   Feminino   \n",
              "4              4  210051391672    2021         18 anos   Feminino   \n",
              "...          ...           ...     ...             ...        ...   \n",
              "4846        4846  210053914709    2021         21 anos   Feminino   \n",
              "4847        4847  210051125170    2021         17 anos  Masculino   \n",
              "4850        4850  210053962964    2021         18 anos  Masculino   \n",
              "4851        4851  210052915375    2021         17 anos  Masculino   \n",
              "4853        4853  210051722139    2021         18 anos  Masculino   \n",
              "\n",
              "     TP_ESTADO_CIVIL TP_COR_RACA  \\\n",
              "0        Solteiro(a)      Branca   \n",
              "1        Solteiro(a)      Branca   \n",
              "2        Solteiro(a)      Branca   \n",
              "3        Solteiro(a)      Branca   \n",
              "4        Solteiro(a)      Branca   \n",
              "...              ...         ...   \n",
              "4846     Solteiro(a)      Branca   \n",
              "4847     Solteiro(a)       Parda   \n",
              "4850     Solteiro(a)      Branca   \n",
              "4851     Solteiro(a)       Parda   \n",
              "4853     Solteiro(a)       Parda   \n",
              "\n",
              "                                        TP_ST_CONCLUSAO TP_ANO_CONCLUIU  \\\n",
              "0     Estou cursando e concluirei o Ensino Médio em ...   Não informado   \n",
              "1     Estou cursando e concluirei o Ensino Médio em ...   Não informado   \n",
              "2     Estou cursando e concluirei o Ensino Médio em ...   Não informado   \n",
              "3     Estou cursando e concluirei o Ensino Médio em ...   Não informado   \n",
              "4     Estou cursando e concluirei o Ensino Médio em ...   Não informado   \n",
              "...                                                 ...             ...   \n",
              "4846  Estou cursando e concluirei o Ensino Médio em ...   Não informado   \n",
              "4847  Estou cursando e concluirei o Ensino Médio em ...   Não informado   \n",
              "4850  Estou cursando e concluirei o Ensino Médio em ...   Não informado   \n",
              "4851  Estou cursando e concluirei o Ensino Médio em ...   Não informado   \n",
              "4853  Estou cursando e concluirei o Ensino Médio em ...   Não informado   \n",
              "\n",
              "     TP_ESCOLA  ...  NU_NOTA_MT TP_LINGUA  TP_STATUS_REDACAO NU_NOTA_REDACAO  \\\n",
              "0      Pública  ...       482.8    Inglês      Sem problemas           540.0   \n",
              "1      Pública  ...       510.8    Inglês      Sem problemas           580.0   \n",
              "2      Pública  ...       722.2    Inglês      Sem problemas           880.0   \n",
              "3      Privada  ...       589.8    Inglês      Sem problemas           700.0   \n",
              "4      Privada  ...       678.4    Inglês      Sem problemas           720.0   \n",
              "...        ...  ...         ...       ...                ...             ...   \n",
              "4846   Pública  ...       415.4  Espanhol      Sem problemas           460.0   \n",
              "4847   Pública  ...       619.1    Inglês      Sem problemas           520.0   \n",
              "4850   Pública  ...       467.1    Inglês      Sem problemas           580.0   \n",
              "4851   Pública  ...       646.0    Inglês      Sem problemas           360.0   \n",
              "4853   Pública  ...       558.3    Inglês      Sem problemas           340.0   \n",
              "\n",
              "                                                   Q001  \\\n",
              "0                            Completou a Pós-graduação.   \n",
              "1                                              Não sei.   \n",
              "2     Completou o Ensino Médio, mas não completou a ...   \n",
              "3     Completou a Faculdade, mas não completou a Pós...   \n",
              "4                            Completou a Pós-graduação.   \n",
              "...                                                 ...   \n",
              "4846  Completou a 8ª série/9º ano do Ensino Fundamen...   \n",
              "4847  Completou a Faculdade, mas não completou a Pós...   \n",
              "4850  Completou o Ensino Médio, mas não completou a ...   \n",
              "4851  Completou a 4ª série/5º ano, mas não completou...   \n",
              "4853  Completou a Faculdade, mas não completou a Pós...   \n",
              "\n",
              "                                                   Q002     Q003     Q004  \\\n",
              "0     Completou o Ensino Médio, mas não completou a ...  Grupo 4  Grupo 2   \n",
              "1     Completou o Ensino Médio, mas não completou a ...  Grupo 4  Grupo 2   \n",
              "2     Completou a 8ª série/9º ano do Ensino Fundamen...  Grupo 2  Grupo 4   \n",
              "3                            Completou a Pós-graduação.  Grupo 4  Grupo 4   \n",
              "4                            Completou a Pós-graduação.  Grupo 5  Grupo 5   \n",
              "...                                                 ...      ...      ...   \n",
              "4846  Completou o Ensino Médio, mas não completou a ...  Não sei  Não sei   \n",
              "4847  Completou o Ensino Médio, mas não completou a ...  Grupo 2  Grupo 3   \n",
              "4850  Completou a Faculdade, mas não completou a Pós...  Grupo 3  Não sei   \n",
              "4851  Completou a 4ª série/5º ano, mas não completou...  Grupo 3  Grupo 3   \n",
              "4853  Completou a Faculdade, mas não completou a Pós...  Grupo 4  Grupo 2   \n",
              "\n",
              "       Q005                                   Q006  \n",
              "0     1 - 5  R$ 11.000,01 - Acima de R$ 22.000,00.  \n",
              "1     1 - 5             R$ 1.100,00 - R$ 2.750,00.  \n",
              "2     1 - 5             R$ 2.750,01 - R$ 6.600,00.  \n",
              "3     1 - 5  R$ 11.000,01 - Acima de R$ 22.000,00.  \n",
              "4     1 - 5  R$ 11.000,01 - Acima de R$ 22.000,00.  \n",
              "...     ...                                    ...  \n",
              "4846  1 - 5             R$ 1.100,00 - R$ 2.750,00.  \n",
              "4847  1 - 5             R$ 1.100,00 - R$ 2.750,00.  \n",
              "4850  1 - 5             R$ 1.100,00 - R$ 2.750,00.  \n",
              "4851  1 - 5             R$ 1.100,00 - R$ 2.750,00.  \n",
              "4853  1 - 5             R$ 1.100,00 - R$ 2.750,00.  \n",
              "\n",
              "[3902 rows x 40 columns]"
            ]
          },
          "metadata": {},
          "output_type": "display_data"
        }
      ],
      "source": [
        "df_presentes = df.loc[(df['TP_PRESENCA_MT']  == 1) & (df['TP_PRESENCA_LC'] == 1)]\n",
        "\n",
        "def valores_em_texto(val,colunas):\n",
        "  dict_temporario = dicionarios_cols[colunas]\n",
        "  for chave, valor in dict_temporario.items():\n",
        "    if valor == val:\n",
        "      return chave\n",
        "\n",
        "def faixa_Q5_Q6(val,coluna):\n",
        "  for chave,valor in coluna.items():\n",
        "    if val in valor:\n",
        "      return chave\n",
        "\n",
        "str_colunas = ['TP_FAIXA_ETARIA','TP_SEXO','TP_ESTADO_CIVIL','TP_COR_RACA','TP_ST_CONCLUSAO','TP_ANO_CONCLUIU','TP_ESCOLA','IN_TREINEIRO',\n",
        "               'TP_DEPENDENCIA_ADM_ESC','TP_LOCALIZACAO_ESC','TP_STATUS_REDACAO','TP_LINGUA','TP_SIT_FUNC_ESC','Q001','Q002','Q003','Q004']\n",
        "\n",
        "nov_df = df_presentes[:]\n",
        "\n",
        "for colunas in str_colunas:\n",
        "  nov_df[colunas] = df_presentes[colunas].apply(valores_em_texto,args=(colunas,))\n",
        "\n",
        "nov_df['Q005'] = nov_df['Q005'].apply(faixa_Q5_Q6,args=(Q005,))\n",
        "nov_df['Q006'] = nov_df['Q006'].apply(faixa_Q5_Q6,args=(Q006,))\n",
        "display(nov_df)\n"
      ]
    },
    {
      "attachments": {},
      "cell_type": "markdown",
      "metadata": {
        "id": "7F6Gzqg8mn0e"
      },
      "source": [
        "## DataFrames de Notas escolas por categoria\n",
        "\n",
        "Para a análise das notas, realizou-se uma distinção das categorias das escolas em três grupos: Pública, Privada e Geral. O grupo Geral engloba todas as modalidades."
      ]
    },
    {
      "cell_type": "code",
      "execution_count": 11,
      "metadata": {},
      "outputs": [],
      "source": [
        "def tabela_notas(data):\n",
        "    locais = ['GERAL','Cotia','Embu das Artes','Itapevi','Jandira','Osasco','Vargem Grande Paulista']\n",
        "    dict_med = {}\n",
        "\n",
        "    for i in locais:\n",
        "        if i == 'GERAL':\n",
        "            municipio = data\n",
        "        else:\n",
        "            municipio = data.loc[data['NO_MUNICIPIO_ESC'] == i]\n",
        "        dict_med[i] = [municipio.iloc[:,27].mean(),\n",
        "                        municipio.iloc[:,28].mean(),\n",
        "                        municipio.iloc[:,29].mean(),\n",
        "                        municipio.iloc[:,30].mean(),\n",
        "                        municipio.iloc[:,33].mean()]\n",
        "\n",
        "        df_medias_notas = pd.DataFrame(data= dict_med,index=['Natureza','Humanas','Linguagem','Matematica','Redacao'])\n",
        "        df_medias_notas = df_medias_notas.applymap('{:.2f}'.format)\n",
        "        df_medias_notas = df_medias_notas.astype('float64')\n",
        "    return df_medias_notas"
      ]
    },
    {
      "cell_type": "code",
      "execution_count": 12,
      "metadata": {},
      "outputs": [
        {
          "data": {
            "text/html": [
              "<div>\n",
              "<style scoped>\n",
              "    .dataframe tbody tr th:only-of-type {\n",
              "        vertical-align: middle;\n",
              "    }\n",
              "\n",
              "    .dataframe tbody tr th {\n",
              "        vertical-align: top;\n",
              "    }\n",
              "\n",
              "    .dataframe thead th {\n",
              "        text-align: right;\n",
              "    }\n",
              "</style>\n",
              "<table border=\"1\" class=\"dataframe\">\n",
              "  <thead>\n",
              "    <tr style=\"text-align: right;\">\n",
              "      <th></th>\n",
              "      <th>GERAL</th>\n",
              "      <th>Cotia</th>\n",
              "      <th>Embu das Artes</th>\n",
              "      <th>Itapevi</th>\n",
              "      <th>Jandira</th>\n",
              "      <th>Osasco</th>\n",
              "      <th>Vargem Grande Paulista</th>\n",
              "    </tr>\n",
              "  </thead>\n",
              "  <tbody>\n",
              "    <tr>\n",
              "      <th>Natureza</th>\n",
              "      <td>499.20</td>\n",
              "      <td>509.34</td>\n",
              "      <td>481.13</td>\n",
              "      <td>471.20</td>\n",
              "      <td>475.66</td>\n",
              "      <td>503.65</td>\n",
              "      <td>515.23</td>\n",
              "    </tr>\n",
              "    <tr>\n",
              "      <th>Humanas</th>\n",
              "      <td>536.86</td>\n",
              "      <td>540.20</td>\n",
              "      <td>526.43</td>\n",
              "      <td>509.97</td>\n",
              "      <td>518.41</td>\n",
              "      <td>542.94</td>\n",
              "      <td>531.59</td>\n",
              "    </tr>\n",
              "    <tr>\n",
              "      <th>Linguagem</th>\n",
              "      <td>522.34</td>\n",
              "      <td>525.50</td>\n",
              "      <td>514.69</td>\n",
              "      <td>500.31</td>\n",
              "      <td>508.07</td>\n",
              "      <td>526.77</td>\n",
              "      <td>520.16</td>\n",
              "    </tr>\n",
              "    <tr>\n",
              "      <th>Matematica</th>\n",
              "      <td>553.20</td>\n",
              "      <td>568.36</td>\n",
              "      <td>531.74</td>\n",
              "      <td>513.95</td>\n",
              "      <td>530.06</td>\n",
              "      <td>558.16</td>\n",
              "      <td>555.90</td>\n",
              "    </tr>\n",
              "    <tr>\n",
              "      <th>Redacao</th>\n",
              "      <td>620.78</td>\n",
              "      <td>632.59</td>\n",
              "      <td>584.79</td>\n",
              "      <td>570.72</td>\n",
              "      <td>589.70</td>\n",
              "      <td>632.56</td>\n",
              "      <td>610.89</td>\n",
              "    </tr>\n",
              "  </tbody>\n",
              "</table>\n",
              "</div>"
            ],
            "text/plain": [
              "             GERAL   Cotia  Embu das Artes  Itapevi  Jandira  Osasco  \\\n",
              "Natureza    499.20  509.34          481.13   471.20   475.66  503.65   \n",
              "Humanas     536.86  540.20          526.43   509.97   518.41  542.94   \n",
              "Linguagem   522.34  525.50          514.69   500.31   508.07  526.77   \n",
              "Matematica  553.20  568.36          531.74   513.95   530.06  558.16   \n",
              "Redacao     620.78  632.59          584.79   570.72   589.70  632.56   \n",
              "\n",
              "            Vargem Grande Paulista  \n",
              "Natureza                    515.23  \n",
              "Humanas                     531.59  \n",
              "Linguagem                   520.16  \n",
              "Matematica                  555.90  \n",
              "Redacao                     610.89  "
            ]
          },
          "metadata": {},
          "output_type": "display_data"
        }
      ],
      "source": [
        "df_medias_notas = tabela_notas(df_presentes)\n",
        "display(df_medias_notas)"
      ]
    },
    {
      "cell_type": "code",
      "execution_count": 13,
      "metadata": {},
      "outputs": [
        {
          "data": {
            "text/html": [
              "<div>\n",
              "<style scoped>\n",
              "    .dataframe tbody tr th:only-of-type {\n",
              "        vertical-align: middle;\n",
              "    }\n",
              "\n",
              "    .dataframe tbody tr th {\n",
              "        vertical-align: top;\n",
              "    }\n",
              "\n",
              "    .dataframe thead th {\n",
              "        text-align: right;\n",
              "    }\n",
              "</style>\n",
              "<table border=\"1\" class=\"dataframe\">\n",
              "  <thead>\n",
              "    <tr style=\"text-align: right;\">\n",
              "      <th></th>\n",
              "      <th>GERAL</th>\n",
              "      <th>Cotia</th>\n",
              "      <th>Embu das Artes</th>\n",
              "      <th>Itapevi</th>\n",
              "      <th>Jandira</th>\n",
              "      <th>Osasco</th>\n",
              "      <th>Vargem Grande Paulista</th>\n",
              "    </tr>\n",
              "  </thead>\n",
              "  <tbody>\n",
              "    <tr>\n",
              "      <th>Natureza</th>\n",
              "      <td>539.12</td>\n",
              "      <td>543.47</td>\n",
              "      <td>506.87</td>\n",
              "      <td>546.06</td>\n",
              "      <td>526.65</td>\n",
              "      <td>536.48</td>\n",
              "      <td>582.99</td>\n",
              "    </tr>\n",
              "    <tr>\n",
              "      <th>Humanas</th>\n",
              "      <td>567.49</td>\n",
              "      <td>561.13</td>\n",
              "      <td>564.14</td>\n",
              "      <td>569.82</td>\n",
              "      <td>571.75</td>\n",
              "      <td>568.42</td>\n",
              "      <td>597.06</td>\n",
              "    </tr>\n",
              "    <tr>\n",
              "      <th>Linguagem</th>\n",
              "      <td>548.32</td>\n",
              "      <td>546.69</td>\n",
              "      <td>540.74</td>\n",
              "      <td>547.69</td>\n",
              "      <td>550.93</td>\n",
              "      <td>547.88</td>\n",
              "      <td>573.47</td>\n",
              "    </tr>\n",
              "    <tr>\n",
              "      <th>Matematica</th>\n",
              "      <td>600.66</td>\n",
              "      <td>610.17</td>\n",
              "      <td>554.99</td>\n",
              "      <td>579.82</td>\n",
              "      <td>600.46</td>\n",
              "      <td>597.19</td>\n",
              "      <td>635.76</td>\n",
              "    </tr>\n",
              "    <tr>\n",
              "      <th>Redacao</th>\n",
              "      <td>685.34</td>\n",
              "      <td>685.56</td>\n",
              "      <td>595.65</td>\n",
              "      <td>645.62</td>\n",
              "      <td>662.56</td>\n",
              "      <td>689.04</td>\n",
              "      <td>702.33</td>\n",
              "    </tr>\n",
              "  </tbody>\n",
              "</table>\n",
              "</div>"
            ],
            "text/plain": [
              "             GERAL   Cotia  Embu das Artes  Itapevi  Jandira  Osasco  \\\n",
              "Natureza    539.12  543.47          506.87   546.06   526.65  536.48   \n",
              "Humanas     567.49  561.13          564.14   569.82   571.75  568.42   \n",
              "Linguagem   548.32  546.69          540.74   547.69   550.93  547.88   \n",
              "Matematica  600.66  610.17          554.99   579.82   600.46  597.19   \n",
              "Redacao     685.34  685.56          595.65   645.62   662.56  689.04   \n",
              "\n",
              "            Vargem Grande Paulista  \n",
              "Natureza                    582.99  \n",
              "Humanas                     597.06  \n",
              "Linguagem                   573.47  \n",
              "Matematica                  635.76  \n",
              "Redacao                     702.33  "
            ]
          },
          "metadata": {},
          "output_type": "display_data"
        }
      ],
      "source": [
        "df_medias_notas_priv = tabela_notas(nov_df.loc[nov_df['TP_ESCOLA'] == \"Privada\"])\n",
        "display(df_medias_notas_priv)"
      ]
    },
    {
      "cell_type": "code",
      "execution_count": 14,
      "metadata": {},
      "outputs": [
        {
          "data": {
            "text/html": [
              "<div>\n",
              "<style scoped>\n",
              "    .dataframe tbody tr th:only-of-type {\n",
              "        vertical-align: middle;\n",
              "    }\n",
              "\n",
              "    .dataframe tbody tr th {\n",
              "        vertical-align: top;\n",
              "    }\n",
              "\n",
              "    .dataframe thead th {\n",
              "        text-align: right;\n",
              "    }\n",
              "</style>\n",
              "<table border=\"1\" class=\"dataframe\">\n",
              "  <thead>\n",
              "    <tr style=\"text-align: right;\">\n",
              "      <th></th>\n",
              "      <th>GERAL</th>\n",
              "      <th>Cotia</th>\n",
              "      <th>Embu das Artes</th>\n",
              "      <th>Itapevi</th>\n",
              "      <th>Jandira</th>\n",
              "      <th>Osasco</th>\n",
              "      <th>Vargem Grande Paulista</th>\n",
              "    </tr>\n",
              "  </thead>\n",
              "  <tbody>\n",
              "    <tr>\n",
              "      <th>Natureza</th>\n",
              "      <td>476.31</td>\n",
              "      <td>482.69</td>\n",
              "      <td>479.51</td>\n",
              "      <td>458.59</td>\n",
              "      <td>466.82</td>\n",
              "      <td>477.70</td>\n",
              "      <td>473.00</td>\n",
              "    </tr>\n",
              "    <tr>\n",
              "      <th>Humanas</th>\n",
              "      <td>519.29</td>\n",
              "      <td>523.85</td>\n",
              "      <td>524.05</td>\n",
              "      <td>499.89</td>\n",
              "      <td>509.16</td>\n",
              "      <td>522.79</td>\n",
              "      <td>490.80</td>\n",
              "    </tr>\n",
              "    <tr>\n",
              "      <th>Linguagem</th>\n",
              "      <td>507.44</td>\n",
              "      <td>508.95</td>\n",
              "      <td>513.04</td>\n",
              "      <td>492.33</td>\n",
              "      <td>500.64</td>\n",
              "      <td>510.08</td>\n",
              "      <td>486.93</td>\n",
              "    </tr>\n",
              "    <tr>\n",
              "      <th>Matematica</th>\n",
              "      <td>525.98</td>\n",
              "      <td>535.70</td>\n",
              "      <td>530.27</td>\n",
              "      <td>502.86</td>\n",
              "      <td>517.86</td>\n",
              "      <td>527.31</td>\n",
              "      <td>506.12</td>\n",
              "    </tr>\n",
              "    <tr>\n",
              "      <th>Redacao</th>\n",
              "      <td>583.76</td>\n",
              "      <td>591.24</td>\n",
              "      <td>584.11</td>\n",
              "      <td>558.11</td>\n",
              "      <td>577.07</td>\n",
              "      <td>587.91</td>\n",
              "      <td>553.91</td>\n",
              "    </tr>\n",
              "  </tbody>\n",
              "</table>\n",
              "</div>"
            ],
            "text/plain": [
              "             GERAL   Cotia  Embu das Artes  Itapevi  Jandira  Osasco  \\\n",
              "Natureza    476.31  482.69          479.51   458.59   466.82  477.70   \n",
              "Humanas     519.29  523.85          524.05   499.89   509.16  522.79   \n",
              "Linguagem   507.44  508.95          513.04   492.33   500.64  510.08   \n",
              "Matematica  525.98  535.70          530.27   502.86   517.86  527.31   \n",
              "Redacao     583.76  591.24          584.11   558.11   577.07  587.91   \n",
              "\n",
              "            Vargem Grande Paulista  \n",
              "Natureza                    473.00  \n",
              "Humanas                     490.80  \n",
              "Linguagem                   486.93  \n",
              "Matematica                  506.12  \n",
              "Redacao                     553.91  "
            ]
          },
          "metadata": {},
          "output_type": "display_data"
        }
      ],
      "source": [
        "df_medias_notas_publi = tabela_notas(nov_df.loc[nov_df['TP_ESCOLA'] == \"Pública\"])\n",
        "display(df_medias_notas_publi)"
      ]
    },
    {
      "attachments": {},
      "cell_type": "markdown",
      "metadata": {
        "id": "1bD2ySZR0GqY"
      },
      "source": [
        "## Funções para gerar Gráficos\n",
        "\n"
      ]
    },
    {
      "cell_type": "code",
      "execution_count": 20,
      "metadata": {
        "id": "aQFdsNtlcOTo"
      },
      "outputs": [],
      "source": [
        "cor_destaque = \"rgb(00, 33, 47)\"\n",
        "cor_claro = \"rgb(33, 249, 208)\"\n",
        "cor_tema = \"rgb(0, 143, 199)\"\n",
        "cor_destoante = \"rgb(46, 66, 74)\"\n",
        "cor_escuro = \"rgb(00, 69, 94)\"\n",
        "\n",
        "textos_graficos = {\n",
        "'TP_FAIXA_ETARIA': ['Faixa etária Enem 2021','Idade'],\n",
        "'TP_SEXO': ['Sexo dos candidatos Enem 2021','Sexo'],\n",
        "'TP_COR_RACA': ['Etnias candidatos Enem 2021','Etinia'],\n",
        "'TP_ESCOLA': ['Tipo de escola do Ensino Médio Enem 2021','Tipos de escola'],\n",
        "'NO_MUNICIPIO_ESC':['Município das escolas dos candidatos Enem 2021','Município'],\n",
        "'TP_DEPENDENCIA_ADM_ESC': ['Dependência administrativa (Escola) Enem 2021','Região Administrativa'],\n",
        "'TP_LINGUA':['Língua Estrangeira selecionada Enem 2021','Língua Estrangeira'],\n",
        "'TP_STATUS_REDACAO':['Status da redação Enem 2021','Status redação'],\n",
        "'Q001':['Escolaridade Paterna Enem 2021', 'Escolaridade Pai'],\n",
        "'Q002':['Escolaridade Materna Enem 2021','Escolaridade Mãe'],\n",
        "'Q003':['Grupo de Ocupação Paterna Enem 2021', 'Ocupação Pai'],\n",
        "'Q004':['Grupo de Ocupação Materna Enem 2021', 'Ocupação Mãe'],\n",
        "'Q005':['Quantidade de pessoas que moram na<br>residência do candidato Enem 2021', 'Membros da Família'],\n",
        "'Q006':['Renda Familiar','Renda']\n",
        "}\n",
        "\n",
        "\n",
        "def create_graf_pizza(SERIE):\n",
        "  cores_array_pizza = [cor_destaque] * len(SERIE.index)\n",
        "  cores_array_pizza[1] = cor_claro\n",
        "  if len(SERIE.index) == 3:\n",
        "    cores_array_pizza[2] = cor_escuro\n",
        "\n",
        "  fig_pie = go.Figure()\n",
        "\n",
        "  fig_pie.add_trace(go.Pie(values=SERIE.values,\n",
        "                          labels= SERIE.index,\n",
        "                          marker_colors=cores_array_pizza))\n",
        "\n",
        "  fig_pie.update_traces(hole=.5,\n",
        "                        customdata = np.stack( (SERIE.index, SERIE.values), axis=-1),\n",
        "                        hovertemplate= f'<b>{textos_graficos[SERIE.name][1]}:'+'</b> %{customdata[0][0]}<br><b>Quantidade: %{customdata[0][1]}</b>',\n",
        "                        textfont_size=16,)\n",
        "\n",
        "  fig_pie.update_layout(title=f\"<b>{textos_graficos[SERIE.name][0]}</b>\",\n",
        "                        title_x=0.5,\n",
        "                        title_font = {\"size\": 20,\"family\":\"Tahoma,sans serif\"},\n",
        "                        width=500,\n",
        "                        height=500)\n",
        "\n",
        "  return fig_pie\n",
        "\n"
      ]
    },
    {
      "cell_type": "code",
      "execution_count": 16,
      "metadata": {
        "colab": {
          "base_uri": "https://localhost:8080/",
          "height": 562
        },
        "id": "qmtRbvuxvFCA",
        "outputId": "a9724090-1f96-4d8c-d804-a98053d5bd65"
      },
      "outputs": [],
      "source": [
        "def tamanho_zoom(SERIE):\n",
        "  maior = max(SERIE) * 1.07\n",
        "  return maior\n",
        "\n",
        "\n",
        "def gerador_graf(SERIE):\n",
        "  if len(SERIE.index) <= 3:\n",
        "    return create_graf_pizza(SERIE)\n",
        "  else:\n",
        "    cores_array = [cor_destoante] * len(SERIE.index)\n",
        "    cores_array[0] = cor_destaque\n",
        "    cores_array[1] =cor_escuro\n",
        "    cores_array[2] = cor_claro\n",
        "    #marker_colors=[cor_destaque,cor_claro]\n",
        "    layout_zoom = go.Layout(yaxis=dict(range=[0, tamanho_zoom(SERIE)]))\n",
        "    GRAF_SERIE = go.Figure(layout=layout_zoom)\n",
        "\n",
        "    GRAF_SERIE.add_trace(go.Bar(x=SERIE.index,\n",
        "                                          y=SERIE.values,\n",
        "                                          text=SERIE.values,\n",
        "                                          textposition='outside',\n",
        "                                          textfont_size=16,\n",
        "                                          marker_color= cores_array\n",
        "                                          ))\n",
        "\n",
        "    GRAF_SERIE.update_layout(title=f\"<b>{textos_graficos[SERIE.name][0]}</b>\",\n",
        "                                      title_x= 0.5,\n",
        "                                      template= 'plotly_white',\n",
        "                                      title_font = {\"size\": 20,\"family\":\"Tahoma,sans serif\"})\n",
        "\n",
        "    # GRAF_SERIE.update_xaxes(title_font=dict(size=18))\n",
        "    GRAF_SERIE.update_yaxes(visible=False, showticklabels=False)\n",
        "\n",
        "    GRAF_SERIE.update_traces(customdata = np.stack( (SERIE.index, SERIE.values), axis=-1),\n",
        "                            hovertemplate= f'<b>{textos_graficos[SERIE.name][1]}:'+'</b> %{customdata[0]}<br><b>Quantidade: %{customdata[1]}</b>')\n",
        "\n",
        "    GRAF_SERIE.update_xaxes(tickfont_size=16)\n",
        "\n",
        "    return GRAF_SERIE\n",
        "\n"
      ]
    },
    {
      "cell_type": "code",
      "execution_count": 17,
      "metadata": {},
      "outputs": [],
      "source": [
        "def graf_notas_esc(data,titulo):\n",
        "    fig_notas = go.Figure(layout= go.Layout(yaxis=dict(range=[0,1000])))\n",
        "    palheta = [cor_destaque,cor_claro,cor_tema,cor_destoante,cor_escuro]\n",
        "    nome_materias = ['Natureza','Humanas','Linguagem','Matematica','Redacao']\n",
        "    for i in range(len(data.index)):\n",
        "        fig_notas.add_trace(go.Bar(x=data.loc[nome_materias[i]].index,\n",
        "                                   y=data.loc[nome_materias[i]].values,\n",
        "                                   text=data.loc[nome_materias[i]].values,\n",
        "                                   textposition='outside',\n",
        "                                   textfont_size=16,\n",
        "                                   name= nome_materias[i],\n",
        "                                   marker_color=palheta[i]))\n",
        "\n",
        "\n",
        "    fig_notas.update_layout(title=f\"<b>{titulo}</b>\",\n",
        "                                        title_x= 0.5,\n",
        "                                        template= 'plotly_white',\n",
        "                                        title_font = {\"size\": 20,\"family\":\"Tahoma,sans serif\"},\n",
        "                                        bargap=0.20,\n",
        "                                        bargroupgap=0.1)\n",
        "\n",
        "    fig_notas.update_yaxes(visible=False, showticklabels=False)\n",
        "\n",
        "    fig_notas.update_traces(customdata = np.stack( (data.columns, data.loc['Natureza'].values,data.loc['Humanas'].values,data.loc['Linguagem'].values,data.loc['Matematica'].values,data.loc['Redacao'].values), axis=-1),\n",
        "                                hovertemplate= '<b>Município</b> %{customdata[0]}<br><b>Nota Natureza: %{customdata[1]}</b><br><b>Nota Humanas: %{customdata[2]}</b><br><b>Nota Linguagem: %{customdata[3]}</b><br><b>Nota Matemática: %{customdata[4]}</b><br><b>Nota Redação: %{customdata[5]}</b>')\n",
        "\n",
        "    fig_notas.update_xaxes(tickfont_size=16)\n",
        "\n",
        "    return fig_notas\n",
        "\n",
        "\n"
      ]
    },
    {
      "attachments": {},
      "cell_type": "markdown",
      "metadata": {},
      "source": [
        "## Gráficos Plotados"
      ]
    },
    {
      "cell_type": "code",
      "execution_count": 21,
      "metadata": {},
      "outputs": [
        {
          "data": {
            "application/vnd.plotly.v1+json": {
              "config": {
                "plotlyServerURL": "https://plot.ly"
              },
              "data": [
                {
                  "customdata": [
                    [
                      "Osasco",
                      2095
                    ],
                    [
                      "Cotia",
                      821
                    ],
                    [
                      "Embu das Artes",
                      388
                    ],
                    [
                      "Jandira",
                      264
                    ],
                    [
                      "Itapevi",
                      222
                    ],
                    [
                      "Vargem Grande Paulista",
                      112
                    ]
                  ],
                  "hovertemplate": "<b>Município:</b> %{customdata[0]}<br><b>Quantidade: %{customdata[1]}</b>",
                  "marker": {
                    "color": [
                      "rgb(00, 33, 47)",
                      "rgb(00, 69, 94)",
                      "rgb(33, 249, 208)",
                      "rgb(46, 66, 74)",
                      "rgb(46, 66, 74)",
                      "rgb(46, 66, 74)"
                    ]
                  },
                  "text": [
                    2095,
                    821,
                    388,
                    264,
                    222,
                    112
                  ],
                  "textfont": {
                    "size": 16
                  },
                  "textposition": "outside",
                  "type": "bar",
                  "x": [
                    "Osasco",
                    "Cotia",
                    "Embu das Artes",
                    "Jandira",
                    "Itapevi",
                    "Vargem Grande Paulista"
                  ],
                  "y": [
                    2095,
                    821,
                    388,
                    264,
                    222,
                    112
                  ]
                }
              ],
              "layout": {
                "template": {
                  "data": {
                    "bar": [
                      {
                        "error_x": {
                          "color": "#2a3f5f"
                        },
                        "error_y": {
                          "color": "#2a3f5f"
                        },
                        "marker": {
                          "line": {
                            "color": "white",
                            "width": 0.5
                          },
                          "pattern": {
                            "fillmode": "overlay",
                            "size": 10,
                            "solidity": 0.2
                          }
                        },
                        "type": "bar"
                      }
                    ],
                    "barpolar": [
                      {
                        "marker": {
                          "line": {
                            "color": "white",
                            "width": 0.5
                          },
                          "pattern": {
                            "fillmode": "overlay",
                            "size": 10,
                            "solidity": 0.2
                          }
                        },
                        "type": "barpolar"
                      }
                    ],
                    "carpet": [
                      {
                        "aaxis": {
                          "endlinecolor": "#2a3f5f",
                          "gridcolor": "#C8D4E3",
                          "linecolor": "#C8D4E3",
                          "minorgridcolor": "#C8D4E3",
                          "startlinecolor": "#2a3f5f"
                        },
                        "baxis": {
                          "endlinecolor": "#2a3f5f",
                          "gridcolor": "#C8D4E3",
                          "linecolor": "#C8D4E3",
                          "minorgridcolor": "#C8D4E3",
                          "startlinecolor": "#2a3f5f"
                        },
                        "type": "carpet"
                      }
                    ],
                    "choropleth": [
                      {
                        "colorbar": {
                          "outlinewidth": 0,
                          "ticks": ""
                        },
                        "type": "choropleth"
                      }
                    ],
                    "contour": [
                      {
                        "colorbar": {
                          "outlinewidth": 0,
                          "ticks": ""
                        },
                        "colorscale": [
                          [
                            0,
                            "#0d0887"
                          ],
                          [
                            0.1111111111111111,
                            "#46039f"
                          ],
                          [
                            0.2222222222222222,
                            "#7201a8"
                          ],
                          [
                            0.3333333333333333,
                            "#9c179e"
                          ],
                          [
                            0.4444444444444444,
                            "#bd3786"
                          ],
                          [
                            0.5555555555555556,
                            "#d8576b"
                          ],
                          [
                            0.6666666666666666,
                            "#ed7953"
                          ],
                          [
                            0.7777777777777778,
                            "#fb9f3a"
                          ],
                          [
                            0.8888888888888888,
                            "#fdca26"
                          ],
                          [
                            1,
                            "#f0f921"
                          ]
                        ],
                        "type": "contour"
                      }
                    ],
                    "contourcarpet": [
                      {
                        "colorbar": {
                          "outlinewidth": 0,
                          "ticks": ""
                        },
                        "type": "contourcarpet"
                      }
                    ],
                    "heatmap": [
                      {
                        "colorbar": {
                          "outlinewidth": 0,
                          "ticks": ""
                        },
                        "colorscale": [
                          [
                            0,
                            "#0d0887"
                          ],
                          [
                            0.1111111111111111,
                            "#46039f"
                          ],
                          [
                            0.2222222222222222,
                            "#7201a8"
                          ],
                          [
                            0.3333333333333333,
                            "#9c179e"
                          ],
                          [
                            0.4444444444444444,
                            "#bd3786"
                          ],
                          [
                            0.5555555555555556,
                            "#d8576b"
                          ],
                          [
                            0.6666666666666666,
                            "#ed7953"
                          ],
                          [
                            0.7777777777777778,
                            "#fb9f3a"
                          ],
                          [
                            0.8888888888888888,
                            "#fdca26"
                          ],
                          [
                            1,
                            "#f0f921"
                          ]
                        ],
                        "type": "heatmap"
                      }
                    ],
                    "heatmapgl": [
                      {
                        "colorbar": {
                          "outlinewidth": 0,
                          "ticks": ""
                        },
                        "colorscale": [
                          [
                            0,
                            "#0d0887"
                          ],
                          [
                            0.1111111111111111,
                            "#46039f"
                          ],
                          [
                            0.2222222222222222,
                            "#7201a8"
                          ],
                          [
                            0.3333333333333333,
                            "#9c179e"
                          ],
                          [
                            0.4444444444444444,
                            "#bd3786"
                          ],
                          [
                            0.5555555555555556,
                            "#d8576b"
                          ],
                          [
                            0.6666666666666666,
                            "#ed7953"
                          ],
                          [
                            0.7777777777777778,
                            "#fb9f3a"
                          ],
                          [
                            0.8888888888888888,
                            "#fdca26"
                          ],
                          [
                            1,
                            "#f0f921"
                          ]
                        ],
                        "type": "heatmapgl"
                      }
                    ],
                    "histogram": [
                      {
                        "marker": {
                          "pattern": {
                            "fillmode": "overlay",
                            "size": 10,
                            "solidity": 0.2
                          }
                        },
                        "type": "histogram"
                      }
                    ],
                    "histogram2d": [
                      {
                        "colorbar": {
                          "outlinewidth": 0,
                          "ticks": ""
                        },
                        "colorscale": [
                          [
                            0,
                            "#0d0887"
                          ],
                          [
                            0.1111111111111111,
                            "#46039f"
                          ],
                          [
                            0.2222222222222222,
                            "#7201a8"
                          ],
                          [
                            0.3333333333333333,
                            "#9c179e"
                          ],
                          [
                            0.4444444444444444,
                            "#bd3786"
                          ],
                          [
                            0.5555555555555556,
                            "#d8576b"
                          ],
                          [
                            0.6666666666666666,
                            "#ed7953"
                          ],
                          [
                            0.7777777777777778,
                            "#fb9f3a"
                          ],
                          [
                            0.8888888888888888,
                            "#fdca26"
                          ],
                          [
                            1,
                            "#f0f921"
                          ]
                        ],
                        "type": "histogram2d"
                      }
                    ],
                    "histogram2dcontour": [
                      {
                        "colorbar": {
                          "outlinewidth": 0,
                          "ticks": ""
                        },
                        "colorscale": [
                          [
                            0,
                            "#0d0887"
                          ],
                          [
                            0.1111111111111111,
                            "#46039f"
                          ],
                          [
                            0.2222222222222222,
                            "#7201a8"
                          ],
                          [
                            0.3333333333333333,
                            "#9c179e"
                          ],
                          [
                            0.4444444444444444,
                            "#bd3786"
                          ],
                          [
                            0.5555555555555556,
                            "#d8576b"
                          ],
                          [
                            0.6666666666666666,
                            "#ed7953"
                          ],
                          [
                            0.7777777777777778,
                            "#fb9f3a"
                          ],
                          [
                            0.8888888888888888,
                            "#fdca26"
                          ],
                          [
                            1,
                            "#f0f921"
                          ]
                        ],
                        "type": "histogram2dcontour"
                      }
                    ],
                    "mesh3d": [
                      {
                        "colorbar": {
                          "outlinewidth": 0,
                          "ticks": ""
                        },
                        "type": "mesh3d"
                      }
                    ],
                    "parcoords": [
                      {
                        "line": {
                          "colorbar": {
                            "outlinewidth": 0,
                            "ticks": ""
                          }
                        },
                        "type": "parcoords"
                      }
                    ],
                    "pie": [
                      {
                        "automargin": true,
                        "type": "pie"
                      }
                    ],
                    "scatter": [
                      {
                        "fillpattern": {
                          "fillmode": "overlay",
                          "size": 10,
                          "solidity": 0.2
                        },
                        "type": "scatter"
                      }
                    ],
                    "scatter3d": [
                      {
                        "line": {
                          "colorbar": {
                            "outlinewidth": 0,
                            "ticks": ""
                          }
                        },
                        "marker": {
                          "colorbar": {
                            "outlinewidth": 0,
                            "ticks": ""
                          }
                        },
                        "type": "scatter3d"
                      }
                    ],
                    "scattercarpet": [
                      {
                        "marker": {
                          "colorbar": {
                            "outlinewidth": 0,
                            "ticks": ""
                          }
                        },
                        "type": "scattercarpet"
                      }
                    ],
                    "scattergeo": [
                      {
                        "marker": {
                          "colorbar": {
                            "outlinewidth": 0,
                            "ticks": ""
                          }
                        },
                        "type": "scattergeo"
                      }
                    ],
                    "scattergl": [
                      {
                        "marker": {
                          "colorbar": {
                            "outlinewidth": 0,
                            "ticks": ""
                          }
                        },
                        "type": "scattergl"
                      }
                    ],
                    "scattermapbox": [
                      {
                        "marker": {
                          "colorbar": {
                            "outlinewidth": 0,
                            "ticks": ""
                          }
                        },
                        "type": "scattermapbox"
                      }
                    ],
                    "scatterpolar": [
                      {
                        "marker": {
                          "colorbar": {
                            "outlinewidth": 0,
                            "ticks": ""
                          }
                        },
                        "type": "scatterpolar"
                      }
                    ],
                    "scatterpolargl": [
                      {
                        "marker": {
                          "colorbar": {
                            "outlinewidth": 0,
                            "ticks": ""
                          }
                        },
                        "type": "scatterpolargl"
                      }
                    ],
                    "scatterternary": [
                      {
                        "marker": {
                          "colorbar": {
                            "outlinewidth": 0,
                            "ticks": ""
                          }
                        },
                        "type": "scatterternary"
                      }
                    ],
                    "surface": [
                      {
                        "colorbar": {
                          "outlinewidth": 0,
                          "ticks": ""
                        },
                        "colorscale": [
                          [
                            0,
                            "#0d0887"
                          ],
                          [
                            0.1111111111111111,
                            "#46039f"
                          ],
                          [
                            0.2222222222222222,
                            "#7201a8"
                          ],
                          [
                            0.3333333333333333,
                            "#9c179e"
                          ],
                          [
                            0.4444444444444444,
                            "#bd3786"
                          ],
                          [
                            0.5555555555555556,
                            "#d8576b"
                          ],
                          [
                            0.6666666666666666,
                            "#ed7953"
                          ],
                          [
                            0.7777777777777778,
                            "#fb9f3a"
                          ],
                          [
                            0.8888888888888888,
                            "#fdca26"
                          ],
                          [
                            1,
                            "#f0f921"
                          ]
                        ],
                        "type": "surface"
                      }
                    ],
                    "table": [
                      {
                        "cells": {
                          "fill": {
                            "color": "#EBF0F8"
                          },
                          "line": {
                            "color": "white"
                          }
                        },
                        "header": {
                          "fill": {
                            "color": "#C8D4E3"
                          },
                          "line": {
                            "color": "white"
                          }
                        },
                        "type": "table"
                      }
                    ]
                  },
                  "layout": {
                    "annotationdefaults": {
                      "arrowcolor": "#2a3f5f",
                      "arrowhead": 0,
                      "arrowwidth": 1
                    },
                    "autotypenumbers": "strict",
                    "coloraxis": {
                      "colorbar": {
                        "outlinewidth": 0,
                        "ticks": ""
                      }
                    },
                    "colorscale": {
                      "diverging": [
                        [
                          0,
                          "#8e0152"
                        ],
                        [
                          0.1,
                          "#c51b7d"
                        ],
                        [
                          0.2,
                          "#de77ae"
                        ],
                        [
                          0.3,
                          "#f1b6da"
                        ],
                        [
                          0.4,
                          "#fde0ef"
                        ],
                        [
                          0.5,
                          "#f7f7f7"
                        ],
                        [
                          0.6,
                          "#e6f5d0"
                        ],
                        [
                          0.7,
                          "#b8e186"
                        ],
                        [
                          0.8,
                          "#7fbc41"
                        ],
                        [
                          0.9,
                          "#4d9221"
                        ],
                        [
                          1,
                          "#276419"
                        ]
                      ],
                      "sequential": [
                        [
                          0,
                          "#0d0887"
                        ],
                        [
                          0.1111111111111111,
                          "#46039f"
                        ],
                        [
                          0.2222222222222222,
                          "#7201a8"
                        ],
                        [
                          0.3333333333333333,
                          "#9c179e"
                        ],
                        [
                          0.4444444444444444,
                          "#bd3786"
                        ],
                        [
                          0.5555555555555556,
                          "#d8576b"
                        ],
                        [
                          0.6666666666666666,
                          "#ed7953"
                        ],
                        [
                          0.7777777777777778,
                          "#fb9f3a"
                        ],
                        [
                          0.8888888888888888,
                          "#fdca26"
                        ],
                        [
                          1,
                          "#f0f921"
                        ]
                      ],
                      "sequentialminus": [
                        [
                          0,
                          "#0d0887"
                        ],
                        [
                          0.1111111111111111,
                          "#46039f"
                        ],
                        [
                          0.2222222222222222,
                          "#7201a8"
                        ],
                        [
                          0.3333333333333333,
                          "#9c179e"
                        ],
                        [
                          0.4444444444444444,
                          "#bd3786"
                        ],
                        [
                          0.5555555555555556,
                          "#d8576b"
                        ],
                        [
                          0.6666666666666666,
                          "#ed7953"
                        ],
                        [
                          0.7777777777777778,
                          "#fb9f3a"
                        ],
                        [
                          0.8888888888888888,
                          "#fdca26"
                        ],
                        [
                          1,
                          "#f0f921"
                        ]
                      ]
                    },
                    "colorway": [
                      "#636efa",
                      "#EF553B",
                      "#00cc96",
                      "#ab63fa",
                      "#FFA15A",
                      "#19d3f3",
                      "#FF6692",
                      "#B6E880",
                      "#FF97FF",
                      "#FECB52"
                    ],
                    "font": {
                      "color": "#2a3f5f"
                    },
                    "geo": {
                      "bgcolor": "white",
                      "lakecolor": "white",
                      "landcolor": "white",
                      "showlakes": true,
                      "showland": true,
                      "subunitcolor": "#C8D4E3"
                    },
                    "hoverlabel": {
                      "align": "left"
                    },
                    "hovermode": "closest",
                    "mapbox": {
                      "style": "light"
                    },
                    "paper_bgcolor": "white",
                    "plot_bgcolor": "white",
                    "polar": {
                      "angularaxis": {
                        "gridcolor": "#EBF0F8",
                        "linecolor": "#EBF0F8",
                        "ticks": ""
                      },
                      "bgcolor": "white",
                      "radialaxis": {
                        "gridcolor": "#EBF0F8",
                        "linecolor": "#EBF0F8",
                        "ticks": ""
                      }
                    },
                    "scene": {
                      "xaxis": {
                        "backgroundcolor": "white",
                        "gridcolor": "#DFE8F3",
                        "gridwidth": 2,
                        "linecolor": "#EBF0F8",
                        "showbackground": true,
                        "ticks": "",
                        "zerolinecolor": "#EBF0F8"
                      },
                      "yaxis": {
                        "backgroundcolor": "white",
                        "gridcolor": "#DFE8F3",
                        "gridwidth": 2,
                        "linecolor": "#EBF0F8",
                        "showbackground": true,
                        "ticks": "",
                        "zerolinecolor": "#EBF0F8"
                      },
                      "zaxis": {
                        "backgroundcolor": "white",
                        "gridcolor": "#DFE8F3",
                        "gridwidth": 2,
                        "linecolor": "#EBF0F8",
                        "showbackground": true,
                        "ticks": "",
                        "zerolinecolor": "#EBF0F8"
                      }
                    },
                    "shapedefaults": {
                      "line": {
                        "color": "#2a3f5f"
                      }
                    },
                    "ternary": {
                      "aaxis": {
                        "gridcolor": "#DFE8F3",
                        "linecolor": "#A2B1C6",
                        "ticks": ""
                      },
                      "baxis": {
                        "gridcolor": "#DFE8F3",
                        "linecolor": "#A2B1C6",
                        "ticks": ""
                      },
                      "bgcolor": "white",
                      "caxis": {
                        "gridcolor": "#DFE8F3",
                        "linecolor": "#A2B1C6",
                        "ticks": ""
                      }
                    },
                    "title": {
                      "x": 0.05
                    },
                    "xaxis": {
                      "automargin": true,
                      "gridcolor": "#EBF0F8",
                      "linecolor": "#EBF0F8",
                      "ticks": "",
                      "title": {
                        "standoff": 15
                      },
                      "zerolinecolor": "#EBF0F8",
                      "zerolinewidth": 2
                    },
                    "yaxis": {
                      "automargin": true,
                      "gridcolor": "#EBF0F8",
                      "linecolor": "#EBF0F8",
                      "ticks": "",
                      "title": {
                        "standoff": 15
                      },
                      "zerolinecolor": "#EBF0F8",
                      "zerolinewidth": 2
                    }
                  }
                },
                "title": {
                  "font": {
                    "family": "Tahoma,sans serif",
                    "size": 20
                  },
                  "text": "<b>Município das escolas dos candidatos Enem 2021</b>",
                  "x": 0.5
                },
                "xaxis": {
                  "tickfont": {
                    "size": 16
                  }
                },
                "yaxis": {
                  "range": [
                    0,
                    2241.65
                  ],
                  "showticklabels": false,
                  "visible": false
                }
              }
            }
          },
          "metadata": {},
          "output_type": "display_data"
        }
      ],
      "source": [
        "gerador_graf(nov_df['NO_MUNICIPIO_ESC'].value_counts())"
      ]
    },
    {
      "cell_type": "code",
      "execution_count": 14,
      "metadata": {},
      "outputs": [
        {
          "data": {
            "application/vnd.plotly.v1+json": {
              "config": {
                "plotlyServerURL": "https://plot.ly"
              },
              "data": [
                {
                  "customdata": [
                    [
                      "17 anos",
                      2011
                    ],
                    [
                      "18 anos",
                      1786
                    ],
                    [
                      "19 anos",
                      76
                    ],
                    [
                      "Menores de 17 anos",
                      16
                    ],
                    [
                      "20 anos",
                      10
                    ],
                    [
                      "21 anos",
                      3
                    ]
                  ],
                  "hovertemplate": "<b>Idade:</b> %{customdata[0]}<br><b>Quantidade: %{customdata[1]}</b>",
                  "marker": {
                    "color": [
                      "rgb(00, 33, 47)",
                      "rgb(00, 69, 94)",
                      "rgb(33, 249, 208)",
                      "rgb(46, 66, 74)",
                      "rgb(46, 66, 74)",
                      "rgb(46, 66, 74)"
                    ]
                  },
                  "text": [
                    2011,
                    1786,
                    76,
                    16,
                    10,
                    3
                  ],
                  "textfont": {
                    "size": 16
                  },
                  "textposition": "outside",
                  "type": "bar",
                  "x": [
                    "17 anos",
                    "18 anos",
                    "19 anos",
                    "Menores de 17 anos",
                    "20 anos",
                    "21 anos"
                  ],
                  "y": [
                    2011,
                    1786,
                    76,
                    16,
                    10,
                    3
                  ]
                }
              ],
              "layout": {
                "template": {
                  "data": {
                    "bar": [
                      {
                        "error_x": {
                          "color": "#2a3f5f"
                        },
                        "error_y": {
                          "color": "#2a3f5f"
                        },
                        "marker": {
                          "line": {
                            "color": "white",
                            "width": 0.5
                          },
                          "pattern": {
                            "fillmode": "overlay",
                            "size": 10,
                            "solidity": 0.2
                          }
                        },
                        "type": "bar"
                      }
                    ],
                    "barpolar": [
                      {
                        "marker": {
                          "line": {
                            "color": "white",
                            "width": 0.5
                          },
                          "pattern": {
                            "fillmode": "overlay",
                            "size": 10,
                            "solidity": 0.2
                          }
                        },
                        "type": "barpolar"
                      }
                    ],
                    "carpet": [
                      {
                        "aaxis": {
                          "endlinecolor": "#2a3f5f",
                          "gridcolor": "#C8D4E3",
                          "linecolor": "#C8D4E3",
                          "minorgridcolor": "#C8D4E3",
                          "startlinecolor": "#2a3f5f"
                        },
                        "baxis": {
                          "endlinecolor": "#2a3f5f",
                          "gridcolor": "#C8D4E3",
                          "linecolor": "#C8D4E3",
                          "minorgridcolor": "#C8D4E3",
                          "startlinecolor": "#2a3f5f"
                        },
                        "type": "carpet"
                      }
                    ],
                    "choropleth": [
                      {
                        "colorbar": {
                          "outlinewidth": 0,
                          "ticks": ""
                        },
                        "type": "choropleth"
                      }
                    ],
                    "contour": [
                      {
                        "colorbar": {
                          "outlinewidth": 0,
                          "ticks": ""
                        },
                        "colorscale": [
                          [
                            0,
                            "#0d0887"
                          ],
                          [
                            0.1111111111111111,
                            "#46039f"
                          ],
                          [
                            0.2222222222222222,
                            "#7201a8"
                          ],
                          [
                            0.3333333333333333,
                            "#9c179e"
                          ],
                          [
                            0.4444444444444444,
                            "#bd3786"
                          ],
                          [
                            0.5555555555555556,
                            "#d8576b"
                          ],
                          [
                            0.6666666666666666,
                            "#ed7953"
                          ],
                          [
                            0.7777777777777778,
                            "#fb9f3a"
                          ],
                          [
                            0.8888888888888888,
                            "#fdca26"
                          ],
                          [
                            1,
                            "#f0f921"
                          ]
                        ],
                        "type": "contour"
                      }
                    ],
                    "contourcarpet": [
                      {
                        "colorbar": {
                          "outlinewidth": 0,
                          "ticks": ""
                        },
                        "type": "contourcarpet"
                      }
                    ],
                    "heatmap": [
                      {
                        "colorbar": {
                          "outlinewidth": 0,
                          "ticks": ""
                        },
                        "colorscale": [
                          [
                            0,
                            "#0d0887"
                          ],
                          [
                            0.1111111111111111,
                            "#46039f"
                          ],
                          [
                            0.2222222222222222,
                            "#7201a8"
                          ],
                          [
                            0.3333333333333333,
                            "#9c179e"
                          ],
                          [
                            0.4444444444444444,
                            "#bd3786"
                          ],
                          [
                            0.5555555555555556,
                            "#d8576b"
                          ],
                          [
                            0.6666666666666666,
                            "#ed7953"
                          ],
                          [
                            0.7777777777777778,
                            "#fb9f3a"
                          ],
                          [
                            0.8888888888888888,
                            "#fdca26"
                          ],
                          [
                            1,
                            "#f0f921"
                          ]
                        ],
                        "type": "heatmap"
                      }
                    ],
                    "heatmapgl": [
                      {
                        "colorbar": {
                          "outlinewidth": 0,
                          "ticks": ""
                        },
                        "colorscale": [
                          [
                            0,
                            "#0d0887"
                          ],
                          [
                            0.1111111111111111,
                            "#46039f"
                          ],
                          [
                            0.2222222222222222,
                            "#7201a8"
                          ],
                          [
                            0.3333333333333333,
                            "#9c179e"
                          ],
                          [
                            0.4444444444444444,
                            "#bd3786"
                          ],
                          [
                            0.5555555555555556,
                            "#d8576b"
                          ],
                          [
                            0.6666666666666666,
                            "#ed7953"
                          ],
                          [
                            0.7777777777777778,
                            "#fb9f3a"
                          ],
                          [
                            0.8888888888888888,
                            "#fdca26"
                          ],
                          [
                            1,
                            "#f0f921"
                          ]
                        ],
                        "type": "heatmapgl"
                      }
                    ],
                    "histogram": [
                      {
                        "marker": {
                          "pattern": {
                            "fillmode": "overlay",
                            "size": 10,
                            "solidity": 0.2
                          }
                        },
                        "type": "histogram"
                      }
                    ],
                    "histogram2d": [
                      {
                        "colorbar": {
                          "outlinewidth": 0,
                          "ticks": ""
                        },
                        "colorscale": [
                          [
                            0,
                            "#0d0887"
                          ],
                          [
                            0.1111111111111111,
                            "#46039f"
                          ],
                          [
                            0.2222222222222222,
                            "#7201a8"
                          ],
                          [
                            0.3333333333333333,
                            "#9c179e"
                          ],
                          [
                            0.4444444444444444,
                            "#bd3786"
                          ],
                          [
                            0.5555555555555556,
                            "#d8576b"
                          ],
                          [
                            0.6666666666666666,
                            "#ed7953"
                          ],
                          [
                            0.7777777777777778,
                            "#fb9f3a"
                          ],
                          [
                            0.8888888888888888,
                            "#fdca26"
                          ],
                          [
                            1,
                            "#f0f921"
                          ]
                        ],
                        "type": "histogram2d"
                      }
                    ],
                    "histogram2dcontour": [
                      {
                        "colorbar": {
                          "outlinewidth": 0,
                          "ticks": ""
                        },
                        "colorscale": [
                          [
                            0,
                            "#0d0887"
                          ],
                          [
                            0.1111111111111111,
                            "#46039f"
                          ],
                          [
                            0.2222222222222222,
                            "#7201a8"
                          ],
                          [
                            0.3333333333333333,
                            "#9c179e"
                          ],
                          [
                            0.4444444444444444,
                            "#bd3786"
                          ],
                          [
                            0.5555555555555556,
                            "#d8576b"
                          ],
                          [
                            0.6666666666666666,
                            "#ed7953"
                          ],
                          [
                            0.7777777777777778,
                            "#fb9f3a"
                          ],
                          [
                            0.8888888888888888,
                            "#fdca26"
                          ],
                          [
                            1,
                            "#f0f921"
                          ]
                        ],
                        "type": "histogram2dcontour"
                      }
                    ],
                    "mesh3d": [
                      {
                        "colorbar": {
                          "outlinewidth": 0,
                          "ticks": ""
                        },
                        "type": "mesh3d"
                      }
                    ],
                    "parcoords": [
                      {
                        "line": {
                          "colorbar": {
                            "outlinewidth": 0,
                            "ticks": ""
                          }
                        },
                        "type": "parcoords"
                      }
                    ],
                    "pie": [
                      {
                        "automargin": true,
                        "type": "pie"
                      }
                    ],
                    "scatter": [
                      {
                        "fillpattern": {
                          "fillmode": "overlay",
                          "size": 10,
                          "solidity": 0.2
                        },
                        "type": "scatter"
                      }
                    ],
                    "scatter3d": [
                      {
                        "line": {
                          "colorbar": {
                            "outlinewidth": 0,
                            "ticks": ""
                          }
                        },
                        "marker": {
                          "colorbar": {
                            "outlinewidth": 0,
                            "ticks": ""
                          }
                        },
                        "type": "scatter3d"
                      }
                    ],
                    "scattercarpet": [
                      {
                        "marker": {
                          "colorbar": {
                            "outlinewidth": 0,
                            "ticks": ""
                          }
                        },
                        "type": "scattercarpet"
                      }
                    ],
                    "scattergeo": [
                      {
                        "marker": {
                          "colorbar": {
                            "outlinewidth": 0,
                            "ticks": ""
                          }
                        },
                        "type": "scattergeo"
                      }
                    ],
                    "scattergl": [
                      {
                        "marker": {
                          "colorbar": {
                            "outlinewidth": 0,
                            "ticks": ""
                          }
                        },
                        "type": "scattergl"
                      }
                    ],
                    "scattermapbox": [
                      {
                        "marker": {
                          "colorbar": {
                            "outlinewidth": 0,
                            "ticks": ""
                          }
                        },
                        "type": "scattermapbox"
                      }
                    ],
                    "scatterpolar": [
                      {
                        "marker": {
                          "colorbar": {
                            "outlinewidth": 0,
                            "ticks": ""
                          }
                        },
                        "type": "scatterpolar"
                      }
                    ],
                    "scatterpolargl": [
                      {
                        "marker": {
                          "colorbar": {
                            "outlinewidth": 0,
                            "ticks": ""
                          }
                        },
                        "type": "scatterpolargl"
                      }
                    ],
                    "scatterternary": [
                      {
                        "marker": {
                          "colorbar": {
                            "outlinewidth": 0,
                            "ticks": ""
                          }
                        },
                        "type": "scatterternary"
                      }
                    ],
                    "surface": [
                      {
                        "colorbar": {
                          "outlinewidth": 0,
                          "ticks": ""
                        },
                        "colorscale": [
                          [
                            0,
                            "#0d0887"
                          ],
                          [
                            0.1111111111111111,
                            "#46039f"
                          ],
                          [
                            0.2222222222222222,
                            "#7201a8"
                          ],
                          [
                            0.3333333333333333,
                            "#9c179e"
                          ],
                          [
                            0.4444444444444444,
                            "#bd3786"
                          ],
                          [
                            0.5555555555555556,
                            "#d8576b"
                          ],
                          [
                            0.6666666666666666,
                            "#ed7953"
                          ],
                          [
                            0.7777777777777778,
                            "#fb9f3a"
                          ],
                          [
                            0.8888888888888888,
                            "#fdca26"
                          ],
                          [
                            1,
                            "#f0f921"
                          ]
                        ],
                        "type": "surface"
                      }
                    ],
                    "table": [
                      {
                        "cells": {
                          "fill": {
                            "color": "#EBF0F8"
                          },
                          "line": {
                            "color": "white"
                          }
                        },
                        "header": {
                          "fill": {
                            "color": "#C8D4E3"
                          },
                          "line": {
                            "color": "white"
                          }
                        },
                        "type": "table"
                      }
                    ]
                  },
                  "layout": {
                    "annotationdefaults": {
                      "arrowcolor": "#2a3f5f",
                      "arrowhead": 0,
                      "arrowwidth": 1
                    },
                    "autotypenumbers": "strict",
                    "coloraxis": {
                      "colorbar": {
                        "outlinewidth": 0,
                        "ticks": ""
                      }
                    },
                    "colorscale": {
                      "diverging": [
                        [
                          0,
                          "#8e0152"
                        ],
                        [
                          0.1,
                          "#c51b7d"
                        ],
                        [
                          0.2,
                          "#de77ae"
                        ],
                        [
                          0.3,
                          "#f1b6da"
                        ],
                        [
                          0.4,
                          "#fde0ef"
                        ],
                        [
                          0.5,
                          "#f7f7f7"
                        ],
                        [
                          0.6,
                          "#e6f5d0"
                        ],
                        [
                          0.7,
                          "#b8e186"
                        ],
                        [
                          0.8,
                          "#7fbc41"
                        ],
                        [
                          0.9,
                          "#4d9221"
                        ],
                        [
                          1,
                          "#276419"
                        ]
                      ],
                      "sequential": [
                        [
                          0,
                          "#0d0887"
                        ],
                        [
                          0.1111111111111111,
                          "#46039f"
                        ],
                        [
                          0.2222222222222222,
                          "#7201a8"
                        ],
                        [
                          0.3333333333333333,
                          "#9c179e"
                        ],
                        [
                          0.4444444444444444,
                          "#bd3786"
                        ],
                        [
                          0.5555555555555556,
                          "#d8576b"
                        ],
                        [
                          0.6666666666666666,
                          "#ed7953"
                        ],
                        [
                          0.7777777777777778,
                          "#fb9f3a"
                        ],
                        [
                          0.8888888888888888,
                          "#fdca26"
                        ],
                        [
                          1,
                          "#f0f921"
                        ]
                      ],
                      "sequentialminus": [
                        [
                          0,
                          "#0d0887"
                        ],
                        [
                          0.1111111111111111,
                          "#46039f"
                        ],
                        [
                          0.2222222222222222,
                          "#7201a8"
                        ],
                        [
                          0.3333333333333333,
                          "#9c179e"
                        ],
                        [
                          0.4444444444444444,
                          "#bd3786"
                        ],
                        [
                          0.5555555555555556,
                          "#d8576b"
                        ],
                        [
                          0.6666666666666666,
                          "#ed7953"
                        ],
                        [
                          0.7777777777777778,
                          "#fb9f3a"
                        ],
                        [
                          0.8888888888888888,
                          "#fdca26"
                        ],
                        [
                          1,
                          "#f0f921"
                        ]
                      ]
                    },
                    "colorway": [
                      "#636efa",
                      "#EF553B",
                      "#00cc96",
                      "#ab63fa",
                      "#FFA15A",
                      "#19d3f3",
                      "#FF6692",
                      "#B6E880",
                      "#FF97FF",
                      "#FECB52"
                    ],
                    "font": {
                      "color": "#2a3f5f"
                    },
                    "geo": {
                      "bgcolor": "white",
                      "lakecolor": "white",
                      "landcolor": "white",
                      "showlakes": true,
                      "showland": true,
                      "subunitcolor": "#C8D4E3"
                    },
                    "hoverlabel": {
                      "align": "left"
                    },
                    "hovermode": "closest",
                    "mapbox": {
                      "style": "light"
                    },
                    "paper_bgcolor": "white",
                    "plot_bgcolor": "white",
                    "polar": {
                      "angularaxis": {
                        "gridcolor": "#EBF0F8",
                        "linecolor": "#EBF0F8",
                        "ticks": ""
                      },
                      "bgcolor": "white",
                      "radialaxis": {
                        "gridcolor": "#EBF0F8",
                        "linecolor": "#EBF0F8",
                        "ticks": ""
                      }
                    },
                    "scene": {
                      "xaxis": {
                        "backgroundcolor": "white",
                        "gridcolor": "#DFE8F3",
                        "gridwidth": 2,
                        "linecolor": "#EBF0F8",
                        "showbackground": true,
                        "ticks": "",
                        "zerolinecolor": "#EBF0F8"
                      },
                      "yaxis": {
                        "backgroundcolor": "white",
                        "gridcolor": "#DFE8F3",
                        "gridwidth": 2,
                        "linecolor": "#EBF0F8",
                        "showbackground": true,
                        "ticks": "",
                        "zerolinecolor": "#EBF0F8"
                      },
                      "zaxis": {
                        "backgroundcolor": "white",
                        "gridcolor": "#DFE8F3",
                        "gridwidth": 2,
                        "linecolor": "#EBF0F8",
                        "showbackground": true,
                        "ticks": "",
                        "zerolinecolor": "#EBF0F8"
                      }
                    },
                    "shapedefaults": {
                      "line": {
                        "color": "#2a3f5f"
                      }
                    },
                    "ternary": {
                      "aaxis": {
                        "gridcolor": "#DFE8F3",
                        "linecolor": "#A2B1C6",
                        "ticks": ""
                      },
                      "baxis": {
                        "gridcolor": "#DFE8F3",
                        "linecolor": "#A2B1C6",
                        "ticks": ""
                      },
                      "bgcolor": "white",
                      "caxis": {
                        "gridcolor": "#DFE8F3",
                        "linecolor": "#A2B1C6",
                        "ticks": ""
                      }
                    },
                    "title": {
                      "x": 0.05
                    },
                    "xaxis": {
                      "automargin": true,
                      "gridcolor": "#EBF0F8",
                      "linecolor": "#EBF0F8",
                      "ticks": "",
                      "title": {
                        "standoff": 15
                      },
                      "zerolinecolor": "#EBF0F8",
                      "zerolinewidth": 2
                    },
                    "yaxis": {
                      "automargin": true,
                      "gridcolor": "#EBF0F8",
                      "linecolor": "#EBF0F8",
                      "ticks": "",
                      "title": {
                        "standoff": 15
                      },
                      "zerolinecolor": "#EBF0F8",
                      "zerolinewidth": 2
                    }
                  }
                },
                "title": {
                  "font": {
                    "family": "Tahoma,sans serif",
                    "size": 20
                  },
                  "text": "<b>Faixa etária Enem 2021</b>",
                  "x": 0.5
                },
                "xaxis": {
                  "tickfont": {
                    "size": 16
                  }
                },
                "yaxis": {
                  "range": [
                    0,
                    2151.77
                  ],
                  "showticklabels": false,
                  "visible": false
                }
              }
            }
          },
          "metadata": {},
          "output_type": "display_data"
        }
      ],
      "source": [
        "gerador_graf(nov_df['TP_FAIXA_ETARIA'].value_counts())"
      ]
    },
    {
      "cell_type": "code",
      "execution_count": 15,
      "metadata": {
        "colab": {
          "base_uri": "https://localhost:8080/",
          "height": 517
        },
        "id": "wNwE0hb9dYai",
        "outputId": "83b02697-e179-48f0-d8a2-d65dd05378a8"
      },
      "outputs": [
        {
          "data": {
            "application/vnd.plotly.v1+json": {
              "config": {
                "plotlyServerURL": "https://plot.ly"
              },
              "data": [
                {
                  "customdata": [
                    [
                      "Inglês",
                      2937
                    ],
                    [
                      "Espanhol",
                      965
                    ]
                  ],
                  "hole": 0.5,
                  "hovertemplate": "<b>Língua Estrangeira:</b> %{customdata[0][0]}<br><b>Quantidade: %{customdata[0][1]}</b>",
                  "labels": [
                    "Inglês",
                    "Espanhol"
                  ],
                  "marker": {
                    "colors": [
                      "rgb(00, 33, 47)",
                      "rgb(33, 249, 208)"
                    ]
                  },
                  "textfont": {
                    "size": 16
                  },
                  "type": "pie",
                  "values": [
                    2937,
                    965
                  ]
                }
              ],
              "layout": {
                "height": 500,
                "template": {
                  "data": {
                    "bar": [
                      {
                        "error_x": {
                          "color": "#2a3f5f"
                        },
                        "error_y": {
                          "color": "#2a3f5f"
                        },
                        "marker": {
                          "line": {
                            "color": "#E5ECF6",
                            "width": 0.5
                          },
                          "pattern": {
                            "fillmode": "overlay",
                            "size": 10,
                            "solidity": 0.2
                          }
                        },
                        "type": "bar"
                      }
                    ],
                    "barpolar": [
                      {
                        "marker": {
                          "line": {
                            "color": "#E5ECF6",
                            "width": 0.5
                          },
                          "pattern": {
                            "fillmode": "overlay",
                            "size": 10,
                            "solidity": 0.2
                          }
                        },
                        "type": "barpolar"
                      }
                    ],
                    "carpet": [
                      {
                        "aaxis": {
                          "endlinecolor": "#2a3f5f",
                          "gridcolor": "white",
                          "linecolor": "white",
                          "minorgridcolor": "white",
                          "startlinecolor": "#2a3f5f"
                        },
                        "baxis": {
                          "endlinecolor": "#2a3f5f",
                          "gridcolor": "white",
                          "linecolor": "white",
                          "minorgridcolor": "white",
                          "startlinecolor": "#2a3f5f"
                        },
                        "type": "carpet"
                      }
                    ],
                    "choropleth": [
                      {
                        "colorbar": {
                          "outlinewidth": 0,
                          "ticks": ""
                        },
                        "type": "choropleth"
                      }
                    ],
                    "contour": [
                      {
                        "colorbar": {
                          "outlinewidth": 0,
                          "ticks": ""
                        },
                        "colorscale": [
                          [
                            0,
                            "#0d0887"
                          ],
                          [
                            0.1111111111111111,
                            "#46039f"
                          ],
                          [
                            0.2222222222222222,
                            "#7201a8"
                          ],
                          [
                            0.3333333333333333,
                            "#9c179e"
                          ],
                          [
                            0.4444444444444444,
                            "#bd3786"
                          ],
                          [
                            0.5555555555555556,
                            "#d8576b"
                          ],
                          [
                            0.6666666666666666,
                            "#ed7953"
                          ],
                          [
                            0.7777777777777778,
                            "#fb9f3a"
                          ],
                          [
                            0.8888888888888888,
                            "#fdca26"
                          ],
                          [
                            1,
                            "#f0f921"
                          ]
                        ],
                        "type": "contour"
                      }
                    ],
                    "contourcarpet": [
                      {
                        "colorbar": {
                          "outlinewidth": 0,
                          "ticks": ""
                        },
                        "type": "contourcarpet"
                      }
                    ],
                    "heatmap": [
                      {
                        "colorbar": {
                          "outlinewidth": 0,
                          "ticks": ""
                        },
                        "colorscale": [
                          [
                            0,
                            "#0d0887"
                          ],
                          [
                            0.1111111111111111,
                            "#46039f"
                          ],
                          [
                            0.2222222222222222,
                            "#7201a8"
                          ],
                          [
                            0.3333333333333333,
                            "#9c179e"
                          ],
                          [
                            0.4444444444444444,
                            "#bd3786"
                          ],
                          [
                            0.5555555555555556,
                            "#d8576b"
                          ],
                          [
                            0.6666666666666666,
                            "#ed7953"
                          ],
                          [
                            0.7777777777777778,
                            "#fb9f3a"
                          ],
                          [
                            0.8888888888888888,
                            "#fdca26"
                          ],
                          [
                            1,
                            "#f0f921"
                          ]
                        ],
                        "type": "heatmap"
                      }
                    ],
                    "heatmapgl": [
                      {
                        "colorbar": {
                          "outlinewidth": 0,
                          "ticks": ""
                        },
                        "colorscale": [
                          [
                            0,
                            "#0d0887"
                          ],
                          [
                            0.1111111111111111,
                            "#46039f"
                          ],
                          [
                            0.2222222222222222,
                            "#7201a8"
                          ],
                          [
                            0.3333333333333333,
                            "#9c179e"
                          ],
                          [
                            0.4444444444444444,
                            "#bd3786"
                          ],
                          [
                            0.5555555555555556,
                            "#d8576b"
                          ],
                          [
                            0.6666666666666666,
                            "#ed7953"
                          ],
                          [
                            0.7777777777777778,
                            "#fb9f3a"
                          ],
                          [
                            0.8888888888888888,
                            "#fdca26"
                          ],
                          [
                            1,
                            "#f0f921"
                          ]
                        ],
                        "type": "heatmapgl"
                      }
                    ],
                    "histogram": [
                      {
                        "marker": {
                          "pattern": {
                            "fillmode": "overlay",
                            "size": 10,
                            "solidity": 0.2
                          }
                        },
                        "type": "histogram"
                      }
                    ],
                    "histogram2d": [
                      {
                        "colorbar": {
                          "outlinewidth": 0,
                          "ticks": ""
                        },
                        "colorscale": [
                          [
                            0,
                            "#0d0887"
                          ],
                          [
                            0.1111111111111111,
                            "#46039f"
                          ],
                          [
                            0.2222222222222222,
                            "#7201a8"
                          ],
                          [
                            0.3333333333333333,
                            "#9c179e"
                          ],
                          [
                            0.4444444444444444,
                            "#bd3786"
                          ],
                          [
                            0.5555555555555556,
                            "#d8576b"
                          ],
                          [
                            0.6666666666666666,
                            "#ed7953"
                          ],
                          [
                            0.7777777777777778,
                            "#fb9f3a"
                          ],
                          [
                            0.8888888888888888,
                            "#fdca26"
                          ],
                          [
                            1,
                            "#f0f921"
                          ]
                        ],
                        "type": "histogram2d"
                      }
                    ],
                    "histogram2dcontour": [
                      {
                        "colorbar": {
                          "outlinewidth": 0,
                          "ticks": ""
                        },
                        "colorscale": [
                          [
                            0,
                            "#0d0887"
                          ],
                          [
                            0.1111111111111111,
                            "#46039f"
                          ],
                          [
                            0.2222222222222222,
                            "#7201a8"
                          ],
                          [
                            0.3333333333333333,
                            "#9c179e"
                          ],
                          [
                            0.4444444444444444,
                            "#bd3786"
                          ],
                          [
                            0.5555555555555556,
                            "#d8576b"
                          ],
                          [
                            0.6666666666666666,
                            "#ed7953"
                          ],
                          [
                            0.7777777777777778,
                            "#fb9f3a"
                          ],
                          [
                            0.8888888888888888,
                            "#fdca26"
                          ],
                          [
                            1,
                            "#f0f921"
                          ]
                        ],
                        "type": "histogram2dcontour"
                      }
                    ],
                    "mesh3d": [
                      {
                        "colorbar": {
                          "outlinewidth": 0,
                          "ticks": ""
                        },
                        "type": "mesh3d"
                      }
                    ],
                    "parcoords": [
                      {
                        "line": {
                          "colorbar": {
                            "outlinewidth": 0,
                            "ticks": ""
                          }
                        },
                        "type": "parcoords"
                      }
                    ],
                    "pie": [
                      {
                        "automargin": true,
                        "type": "pie"
                      }
                    ],
                    "scatter": [
                      {
                        "fillpattern": {
                          "fillmode": "overlay",
                          "size": 10,
                          "solidity": 0.2
                        },
                        "type": "scatter"
                      }
                    ],
                    "scatter3d": [
                      {
                        "line": {
                          "colorbar": {
                            "outlinewidth": 0,
                            "ticks": ""
                          }
                        },
                        "marker": {
                          "colorbar": {
                            "outlinewidth": 0,
                            "ticks": ""
                          }
                        },
                        "type": "scatter3d"
                      }
                    ],
                    "scattercarpet": [
                      {
                        "marker": {
                          "colorbar": {
                            "outlinewidth": 0,
                            "ticks": ""
                          }
                        },
                        "type": "scattercarpet"
                      }
                    ],
                    "scattergeo": [
                      {
                        "marker": {
                          "colorbar": {
                            "outlinewidth": 0,
                            "ticks": ""
                          }
                        },
                        "type": "scattergeo"
                      }
                    ],
                    "scattergl": [
                      {
                        "marker": {
                          "colorbar": {
                            "outlinewidth": 0,
                            "ticks": ""
                          }
                        },
                        "type": "scattergl"
                      }
                    ],
                    "scattermapbox": [
                      {
                        "marker": {
                          "colorbar": {
                            "outlinewidth": 0,
                            "ticks": ""
                          }
                        },
                        "type": "scattermapbox"
                      }
                    ],
                    "scatterpolar": [
                      {
                        "marker": {
                          "colorbar": {
                            "outlinewidth": 0,
                            "ticks": ""
                          }
                        },
                        "type": "scatterpolar"
                      }
                    ],
                    "scatterpolargl": [
                      {
                        "marker": {
                          "colorbar": {
                            "outlinewidth": 0,
                            "ticks": ""
                          }
                        },
                        "type": "scatterpolargl"
                      }
                    ],
                    "scatterternary": [
                      {
                        "marker": {
                          "colorbar": {
                            "outlinewidth": 0,
                            "ticks": ""
                          }
                        },
                        "type": "scatterternary"
                      }
                    ],
                    "surface": [
                      {
                        "colorbar": {
                          "outlinewidth": 0,
                          "ticks": ""
                        },
                        "colorscale": [
                          [
                            0,
                            "#0d0887"
                          ],
                          [
                            0.1111111111111111,
                            "#46039f"
                          ],
                          [
                            0.2222222222222222,
                            "#7201a8"
                          ],
                          [
                            0.3333333333333333,
                            "#9c179e"
                          ],
                          [
                            0.4444444444444444,
                            "#bd3786"
                          ],
                          [
                            0.5555555555555556,
                            "#d8576b"
                          ],
                          [
                            0.6666666666666666,
                            "#ed7953"
                          ],
                          [
                            0.7777777777777778,
                            "#fb9f3a"
                          ],
                          [
                            0.8888888888888888,
                            "#fdca26"
                          ],
                          [
                            1,
                            "#f0f921"
                          ]
                        ],
                        "type": "surface"
                      }
                    ],
                    "table": [
                      {
                        "cells": {
                          "fill": {
                            "color": "#EBF0F8"
                          },
                          "line": {
                            "color": "white"
                          }
                        },
                        "header": {
                          "fill": {
                            "color": "#C8D4E3"
                          },
                          "line": {
                            "color": "white"
                          }
                        },
                        "type": "table"
                      }
                    ]
                  },
                  "layout": {
                    "annotationdefaults": {
                      "arrowcolor": "#2a3f5f",
                      "arrowhead": 0,
                      "arrowwidth": 1
                    },
                    "autotypenumbers": "strict",
                    "coloraxis": {
                      "colorbar": {
                        "outlinewidth": 0,
                        "ticks": ""
                      }
                    },
                    "colorscale": {
                      "diverging": [
                        [
                          0,
                          "#8e0152"
                        ],
                        [
                          0.1,
                          "#c51b7d"
                        ],
                        [
                          0.2,
                          "#de77ae"
                        ],
                        [
                          0.3,
                          "#f1b6da"
                        ],
                        [
                          0.4,
                          "#fde0ef"
                        ],
                        [
                          0.5,
                          "#f7f7f7"
                        ],
                        [
                          0.6,
                          "#e6f5d0"
                        ],
                        [
                          0.7,
                          "#b8e186"
                        ],
                        [
                          0.8,
                          "#7fbc41"
                        ],
                        [
                          0.9,
                          "#4d9221"
                        ],
                        [
                          1,
                          "#276419"
                        ]
                      ],
                      "sequential": [
                        [
                          0,
                          "#0d0887"
                        ],
                        [
                          0.1111111111111111,
                          "#46039f"
                        ],
                        [
                          0.2222222222222222,
                          "#7201a8"
                        ],
                        [
                          0.3333333333333333,
                          "#9c179e"
                        ],
                        [
                          0.4444444444444444,
                          "#bd3786"
                        ],
                        [
                          0.5555555555555556,
                          "#d8576b"
                        ],
                        [
                          0.6666666666666666,
                          "#ed7953"
                        ],
                        [
                          0.7777777777777778,
                          "#fb9f3a"
                        ],
                        [
                          0.8888888888888888,
                          "#fdca26"
                        ],
                        [
                          1,
                          "#f0f921"
                        ]
                      ],
                      "sequentialminus": [
                        [
                          0,
                          "#0d0887"
                        ],
                        [
                          0.1111111111111111,
                          "#46039f"
                        ],
                        [
                          0.2222222222222222,
                          "#7201a8"
                        ],
                        [
                          0.3333333333333333,
                          "#9c179e"
                        ],
                        [
                          0.4444444444444444,
                          "#bd3786"
                        ],
                        [
                          0.5555555555555556,
                          "#d8576b"
                        ],
                        [
                          0.6666666666666666,
                          "#ed7953"
                        ],
                        [
                          0.7777777777777778,
                          "#fb9f3a"
                        ],
                        [
                          0.8888888888888888,
                          "#fdca26"
                        ],
                        [
                          1,
                          "#f0f921"
                        ]
                      ]
                    },
                    "colorway": [
                      "#636efa",
                      "#EF553B",
                      "#00cc96",
                      "#ab63fa",
                      "#FFA15A",
                      "#19d3f3",
                      "#FF6692",
                      "#B6E880",
                      "#FF97FF",
                      "#FECB52"
                    ],
                    "font": {
                      "color": "#2a3f5f"
                    },
                    "geo": {
                      "bgcolor": "white",
                      "lakecolor": "white",
                      "landcolor": "#E5ECF6",
                      "showlakes": true,
                      "showland": true,
                      "subunitcolor": "white"
                    },
                    "hoverlabel": {
                      "align": "left"
                    },
                    "hovermode": "closest",
                    "mapbox": {
                      "style": "light"
                    },
                    "paper_bgcolor": "white",
                    "plot_bgcolor": "#E5ECF6",
                    "polar": {
                      "angularaxis": {
                        "gridcolor": "white",
                        "linecolor": "white",
                        "ticks": ""
                      },
                      "bgcolor": "#E5ECF6",
                      "radialaxis": {
                        "gridcolor": "white",
                        "linecolor": "white",
                        "ticks": ""
                      }
                    },
                    "scene": {
                      "xaxis": {
                        "backgroundcolor": "#E5ECF6",
                        "gridcolor": "white",
                        "gridwidth": 2,
                        "linecolor": "white",
                        "showbackground": true,
                        "ticks": "",
                        "zerolinecolor": "white"
                      },
                      "yaxis": {
                        "backgroundcolor": "#E5ECF6",
                        "gridcolor": "white",
                        "gridwidth": 2,
                        "linecolor": "white",
                        "showbackground": true,
                        "ticks": "",
                        "zerolinecolor": "white"
                      },
                      "zaxis": {
                        "backgroundcolor": "#E5ECF6",
                        "gridcolor": "white",
                        "gridwidth": 2,
                        "linecolor": "white",
                        "showbackground": true,
                        "ticks": "",
                        "zerolinecolor": "white"
                      }
                    },
                    "shapedefaults": {
                      "line": {
                        "color": "#2a3f5f"
                      }
                    },
                    "ternary": {
                      "aaxis": {
                        "gridcolor": "white",
                        "linecolor": "white",
                        "ticks": ""
                      },
                      "baxis": {
                        "gridcolor": "white",
                        "linecolor": "white",
                        "ticks": ""
                      },
                      "bgcolor": "#E5ECF6",
                      "caxis": {
                        "gridcolor": "white",
                        "linecolor": "white",
                        "ticks": ""
                      }
                    },
                    "title": {
                      "x": 0.05
                    },
                    "xaxis": {
                      "automargin": true,
                      "gridcolor": "white",
                      "linecolor": "white",
                      "ticks": "",
                      "title": {
                        "standoff": 15
                      },
                      "zerolinecolor": "white",
                      "zerolinewidth": 2
                    },
                    "yaxis": {
                      "automargin": true,
                      "gridcolor": "white",
                      "linecolor": "white",
                      "ticks": "",
                      "title": {
                        "standoff": 15
                      },
                      "zerolinecolor": "white",
                      "zerolinewidth": 2
                    }
                  }
                },
                "title": {
                  "font": {
                    "family": "Tahoma,sans serif",
                    "size": 20
                  },
                  "text": "<b>Língua Estrangeira selecionada Enem 2021</b>",
                  "x": 0.5
                },
                "width": 500
              }
            }
          },
          "metadata": {},
          "output_type": "display_data"
        }
      ],
      "source": [
        "gerador_graf(nov_df['TP_LINGUA'].value_counts() )"
      ]
    },
    {
      "cell_type": "code",
      "execution_count": 16,
      "metadata": {},
      "outputs": [
        {
          "data": {
            "application/vnd.plotly.v1+json": {
              "config": {
                "plotlyServerURL": "https://plot.ly"
              },
              "data": [
                {
                  "customdata": [
                    [
                      "Estadual",
                      2123
                    ],
                    [
                      "Privada",
                      1773
                    ],
                    [
                      "Municipal",
                      6
                    ]
                  ],
                  "hole": 0.5,
                  "hovertemplate": "<b>Região Administrativa:</b> %{customdata[0][0]}<br><b>Quantidade: %{customdata[0][1]}</b>",
                  "labels": [
                    "Estadual",
                    "Privada",
                    "Municipal"
                  ],
                  "marker": {
                    "colors": [
                      "rgb(00, 33, 47)",
                      "rgb(33, 249, 208)",
                      "rgb(00, 69, 94)"
                    ]
                  },
                  "textfont": {
                    "size": 16
                  },
                  "type": "pie",
                  "values": [
                    2123,
                    1773,
                    6
                  ]
                }
              ],
              "layout": {
                "height": 500,
                "template": {
                  "data": {
                    "bar": [
                      {
                        "error_x": {
                          "color": "#2a3f5f"
                        },
                        "error_y": {
                          "color": "#2a3f5f"
                        },
                        "marker": {
                          "line": {
                            "color": "#E5ECF6",
                            "width": 0.5
                          },
                          "pattern": {
                            "fillmode": "overlay",
                            "size": 10,
                            "solidity": 0.2
                          }
                        },
                        "type": "bar"
                      }
                    ],
                    "barpolar": [
                      {
                        "marker": {
                          "line": {
                            "color": "#E5ECF6",
                            "width": 0.5
                          },
                          "pattern": {
                            "fillmode": "overlay",
                            "size": 10,
                            "solidity": 0.2
                          }
                        },
                        "type": "barpolar"
                      }
                    ],
                    "carpet": [
                      {
                        "aaxis": {
                          "endlinecolor": "#2a3f5f",
                          "gridcolor": "white",
                          "linecolor": "white",
                          "minorgridcolor": "white",
                          "startlinecolor": "#2a3f5f"
                        },
                        "baxis": {
                          "endlinecolor": "#2a3f5f",
                          "gridcolor": "white",
                          "linecolor": "white",
                          "minorgridcolor": "white",
                          "startlinecolor": "#2a3f5f"
                        },
                        "type": "carpet"
                      }
                    ],
                    "choropleth": [
                      {
                        "colorbar": {
                          "outlinewidth": 0,
                          "ticks": ""
                        },
                        "type": "choropleth"
                      }
                    ],
                    "contour": [
                      {
                        "colorbar": {
                          "outlinewidth": 0,
                          "ticks": ""
                        },
                        "colorscale": [
                          [
                            0,
                            "#0d0887"
                          ],
                          [
                            0.1111111111111111,
                            "#46039f"
                          ],
                          [
                            0.2222222222222222,
                            "#7201a8"
                          ],
                          [
                            0.3333333333333333,
                            "#9c179e"
                          ],
                          [
                            0.4444444444444444,
                            "#bd3786"
                          ],
                          [
                            0.5555555555555556,
                            "#d8576b"
                          ],
                          [
                            0.6666666666666666,
                            "#ed7953"
                          ],
                          [
                            0.7777777777777778,
                            "#fb9f3a"
                          ],
                          [
                            0.8888888888888888,
                            "#fdca26"
                          ],
                          [
                            1,
                            "#f0f921"
                          ]
                        ],
                        "type": "contour"
                      }
                    ],
                    "contourcarpet": [
                      {
                        "colorbar": {
                          "outlinewidth": 0,
                          "ticks": ""
                        },
                        "type": "contourcarpet"
                      }
                    ],
                    "heatmap": [
                      {
                        "colorbar": {
                          "outlinewidth": 0,
                          "ticks": ""
                        },
                        "colorscale": [
                          [
                            0,
                            "#0d0887"
                          ],
                          [
                            0.1111111111111111,
                            "#46039f"
                          ],
                          [
                            0.2222222222222222,
                            "#7201a8"
                          ],
                          [
                            0.3333333333333333,
                            "#9c179e"
                          ],
                          [
                            0.4444444444444444,
                            "#bd3786"
                          ],
                          [
                            0.5555555555555556,
                            "#d8576b"
                          ],
                          [
                            0.6666666666666666,
                            "#ed7953"
                          ],
                          [
                            0.7777777777777778,
                            "#fb9f3a"
                          ],
                          [
                            0.8888888888888888,
                            "#fdca26"
                          ],
                          [
                            1,
                            "#f0f921"
                          ]
                        ],
                        "type": "heatmap"
                      }
                    ],
                    "heatmapgl": [
                      {
                        "colorbar": {
                          "outlinewidth": 0,
                          "ticks": ""
                        },
                        "colorscale": [
                          [
                            0,
                            "#0d0887"
                          ],
                          [
                            0.1111111111111111,
                            "#46039f"
                          ],
                          [
                            0.2222222222222222,
                            "#7201a8"
                          ],
                          [
                            0.3333333333333333,
                            "#9c179e"
                          ],
                          [
                            0.4444444444444444,
                            "#bd3786"
                          ],
                          [
                            0.5555555555555556,
                            "#d8576b"
                          ],
                          [
                            0.6666666666666666,
                            "#ed7953"
                          ],
                          [
                            0.7777777777777778,
                            "#fb9f3a"
                          ],
                          [
                            0.8888888888888888,
                            "#fdca26"
                          ],
                          [
                            1,
                            "#f0f921"
                          ]
                        ],
                        "type": "heatmapgl"
                      }
                    ],
                    "histogram": [
                      {
                        "marker": {
                          "pattern": {
                            "fillmode": "overlay",
                            "size": 10,
                            "solidity": 0.2
                          }
                        },
                        "type": "histogram"
                      }
                    ],
                    "histogram2d": [
                      {
                        "colorbar": {
                          "outlinewidth": 0,
                          "ticks": ""
                        },
                        "colorscale": [
                          [
                            0,
                            "#0d0887"
                          ],
                          [
                            0.1111111111111111,
                            "#46039f"
                          ],
                          [
                            0.2222222222222222,
                            "#7201a8"
                          ],
                          [
                            0.3333333333333333,
                            "#9c179e"
                          ],
                          [
                            0.4444444444444444,
                            "#bd3786"
                          ],
                          [
                            0.5555555555555556,
                            "#d8576b"
                          ],
                          [
                            0.6666666666666666,
                            "#ed7953"
                          ],
                          [
                            0.7777777777777778,
                            "#fb9f3a"
                          ],
                          [
                            0.8888888888888888,
                            "#fdca26"
                          ],
                          [
                            1,
                            "#f0f921"
                          ]
                        ],
                        "type": "histogram2d"
                      }
                    ],
                    "histogram2dcontour": [
                      {
                        "colorbar": {
                          "outlinewidth": 0,
                          "ticks": ""
                        },
                        "colorscale": [
                          [
                            0,
                            "#0d0887"
                          ],
                          [
                            0.1111111111111111,
                            "#46039f"
                          ],
                          [
                            0.2222222222222222,
                            "#7201a8"
                          ],
                          [
                            0.3333333333333333,
                            "#9c179e"
                          ],
                          [
                            0.4444444444444444,
                            "#bd3786"
                          ],
                          [
                            0.5555555555555556,
                            "#d8576b"
                          ],
                          [
                            0.6666666666666666,
                            "#ed7953"
                          ],
                          [
                            0.7777777777777778,
                            "#fb9f3a"
                          ],
                          [
                            0.8888888888888888,
                            "#fdca26"
                          ],
                          [
                            1,
                            "#f0f921"
                          ]
                        ],
                        "type": "histogram2dcontour"
                      }
                    ],
                    "mesh3d": [
                      {
                        "colorbar": {
                          "outlinewidth": 0,
                          "ticks": ""
                        },
                        "type": "mesh3d"
                      }
                    ],
                    "parcoords": [
                      {
                        "line": {
                          "colorbar": {
                            "outlinewidth": 0,
                            "ticks": ""
                          }
                        },
                        "type": "parcoords"
                      }
                    ],
                    "pie": [
                      {
                        "automargin": true,
                        "type": "pie"
                      }
                    ],
                    "scatter": [
                      {
                        "fillpattern": {
                          "fillmode": "overlay",
                          "size": 10,
                          "solidity": 0.2
                        },
                        "type": "scatter"
                      }
                    ],
                    "scatter3d": [
                      {
                        "line": {
                          "colorbar": {
                            "outlinewidth": 0,
                            "ticks": ""
                          }
                        },
                        "marker": {
                          "colorbar": {
                            "outlinewidth": 0,
                            "ticks": ""
                          }
                        },
                        "type": "scatter3d"
                      }
                    ],
                    "scattercarpet": [
                      {
                        "marker": {
                          "colorbar": {
                            "outlinewidth": 0,
                            "ticks": ""
                          }
                        },
                        "type": "scattercarpet"
                      }
                    ],
                    "scattergeo": [
                      {
                        "marker": {
                          "colorbar": {
                            "outlinewidth": 0,
                            "ticks": ""
                          }
                        },
                        "type": "scattergeo"
                      }
                    ],
                    "scattergl": [
                      {
                        "marker": {
                          "colorbar": {
                            "outlinewidth": 0,
                            "ticks": ""
                          }
                        },
                        "type": "scattergl"
                      }
                    ],
                    "scattermapbox": [
                      {
                        "marker": {
                          "colorbar": {
                            "outlinewidth": 0,
                            "ticks": ""
                          }
                        },
                        "type": "scattermapbox"
                      }
                    ],
                    "scatterpolar": [
                      {
                        "marker": {
                          "colorbar": {
                            "outlinewidth": 0,
                            "ticks": ""
                          }
                        },
                        "type": "scatterpolar"
                      }
                    ],
                    "scatterpolargl": [
                      {
                        "marker": {
                          "colorbar": {
                            "outlinewidth": 0,
                            "ticks": ""
                          }
                        },
                        "type": "scatterpolargl"
                      }
                    ],
                    "scatterternary": [
                      {
                        "marker": {
                          "colorbar": {
                            "outlinewidth": 0,
                            "ticks": ""
                          }
                        },
                        "type": "scatterternary"
                      }
                    ],
                    "surface": [
                      {
                        "colorbar": {
                          "outlinewidth": 0,
                          "ticks": ""
                        },
                        "colorscale": [
                          [
                            0,
                            "#0d0887"
                          ],
                          [
                            0.1111111111111111,
                            "#46039f"
                          ],
                          [
                            0.2222222222222222,
                            "#7201a8"
                          ],
                          [
                            0.3333333333333333,
                            "#9c179e"
                          ],
                          [
                            0.4444444444444444,
                            "#bd3786"
                          ],
                          [
                            0.5555555555555556,
                            "#d8576b"
                          ],
                          [
                            0.6666666666666666,
                            "#ed7953"
                          ],
                          [
                            0.7777777777777778,
                            "#fb9f3a"
                          ],
                          [
                            0.8888888888888888,
                            "#fdca26"
                          ],
                          [
                            1,
                            "#f0f921"
                          ]
                        ],
                        "type": "surface"
                      }
                    ],
                    "table": [
                      {
                        "cells": {
                          "fill": {
                            "color": "#EBF0F8"
                          },
                          "line": {
                            "color": "white"
                          }
                        },
                        "header": {
                          "fill": {
                            "color": "#C8D4E3"
                          },
                          "line": {
                            "color": "white"
                          }
                        },
                        "type": "table"
                      }
                    ]
                  },
                  "layout": {
                    "annotationdefaults": {
                      "arrowcolor": "#2a3f5f",
                      "arrowhead": 0,
                      "arrowwidth": 1
                    },
                    "autotypenumbers": "strict",
                    "coloraxis": {
                      "colorbar": {
                        "outlinewidth": 0,
                        "ticks": ""
                      }
                    },
                    "colorscale": {
                      "diverging": [
                        [
                          0,
                          "#8e0152"
                        ],
                        [
                          0.1,
                          "#c51b7d"
                        ],
                        [
                          0.2,
                          "#de77ae"
                        ],
                        [
                          0.3,
                          "#f1b6da"
                        ],
                        [
                          0.4,
                          "#fde0ef"
                        ],
                        [
                          0.5,
                          "#f7f7f7"
                        ],
                        [
                          0.6,
                          "#e6f5d0"
                        ],
                        [
                          0.7,
                          "#b8e186"
                        ],
                        [
                          0.8,
                          "#7fbc41"
                        ],
                        [
                          0.9,
                          "#4d9221"
                        ],
                        [
                          1,
                          "#276419"
                        ]
                      ],
                      "sequential": [
                        [
                          0,
                          "#0d0887"
                        ],
                        [
                          0.1111111111111111,
                          "#46039f"
                        ],
                        [
                          0.2222222222222222,
                          "#7201a8"
                        ],
                        [
                          0.3333333333333333,
                          "#9c179e"
                        ],
                        [
                          0.4444444444444444,
                          "#bd3786"
                        ],
                        [
                          0.5555555555555556,
                          "#d8576b"
                        ],
                        [
                          0.6666666666666666,
                          "#ed7953"
                        ],
                        [
                          0.7777777777777778,
                          "#fb9f3a"
                        ],
                        [
                          0.8888888888888888,
                          "#fdca26"
                        ],
                        [
                          1,
                          "#f0f921"
                        ]
                      ],
                      "sequentialminus": [
                        [
                          0,
                          "#0d0887"
                        ],
                        [
                          0.1111111111111111,
                          "#46039f"
                        ],
                        [
                          0.2222222222222222,
                          "#7201a8"
                        ],
                        [
                          0.3333333333333333,
                          "#9c179e"
                        ],
                        [
                          0.4444444444444444,
                          "#bd3786"
                        ],
                        [
                          0.5555555555555556,
                          "#d8576b"
                        ],
                        [
                          0.6666666666666666,
                          "#ed7953"
                        ],
                        [
                          0.7777777777777778,
                          "#fb9f3a"
                        ],
                        [
                          0.8888888888888888,
                          "#fdca26"
                        ],
                        [
                          1,
                          "#f0f921"
                        ]
                      ]
                    },
                    "colorway": [
                      "#636efa",
                      "#EF553B",
                      "#00cc96",
                      "#ab63fa",
                      "#FFA15A",
                      "#19d3f3",
                      "#FF6692",
                      "#B6E880",
                      "#FF97FF",
                      "#FECB52"
                    ],
                    "font": {
                      "color": "#2a3f5f"
                    },
                    "geo": {
                      "bgcolor": "white",
                      "lakecolor": "white",
                      "landcolor": "#E5ECF6",
                      "showlakes": true,
                      "showland": true,
                      "subunitcolor": "white"
                    },
                    "hoverlabel": {
                      "align": "left"
                    },
                    "hovermode": "closest",
                    "mapbox": {
                      "style": "light"
                    },
                    "paper_bgcolor": "white",
                    "plot_bgcolor": "#E5ECF6",
                    "polar": {
                      "angularaxis": {
                        "gridcolor": "white",
                        "linecolor": "white",
                        "ticks": ""
                      },
                      "bgcolor": "#E5ECF6",
                      "radialaxis": {
                        "gridcolor": "white",
                        "linecolor": "white",
                        "ticks": ""
                      }
                    },
                    "scene": {
                      "xaxis": {
                        "backgroundcolor": "#E5ECF6",
                        "gridcolor": "white",
                        "gridwidth": 2,
                        "linecolor": "white",
                        "showbackground": true,
                        "ticks": "",
                        "zerolinecolor": "white"
                      },
                      "yaxis": {
                        "backgroundcolor": "#E5ECF6",
                        "gridcolor": "white",
                        "gridwidth": 2,
                        "linecolor": "white",
                        "showbackground": true,
                        "ticks": "",
                        "zerolinecolor": "white"
                      },
                      "zaxis": {
                        "backgroundcolor": "#E5ECF6",
                        "gridcolor": "white",
                        "gridwidth": 2,
                        "linecolor": "white",
                        "showbackground": true,
                        "ticks": "",
                        "zerolinecolor": "white"
                      }
                    },
                    "shapedefaults": {
                      "line": {
                        "color": "#2a3f5f"
                      }
                    },
                    "ternary": {
                      "aaxis": {
                        "gridcolor": "white",
                        "linecolor": "white",
                        "ticks": ""
                      },
                      "baxis": {
                        "gridcolor": "white",
                        "linecolor": "white",
                        "ticks": ""
                      },
                      "bgcolor": "#E5ECF6",
                      "caxis": {
                        "gridcolor": "white",
                        "linecolor": "white",
                        "ticks": ""
                      }
                    },
                    "title": {
                      "x": 0.05
                    },
                    "xaxis": {
                      "automargin": true,
                      "gridcolor": "white",
                      "linecolor": "white",
                      "ticks": "",
                      "title": {
                        "standoff": 15
                      },
                      "zerolinecolor": "white",
                      "zerolinewidth": 2
                    },
                    "yaxis": {
                      "automargin": true,
                      "gridcolor": "white",
                      "linecolor": "white",
                      "ticks": "",
                      "title": {
                        "standoff": 15
                      },
                      "zerolinecolor": "white",
                      "zerolinewidth": 2
                    }
                  }
                },
                "title": {
                  "font": {
                    "family": "Tahoma,sans serif",
                    "size": 20
                  },
                  "text": "<b>Dependência administrativa (Escola) Enem 2021</b>",
                  "x": 0.5
                },
                "width": 500
              }
            }
          },
          "metadata": {},
          "output_type": "display_data"
        }
      ],
      "source": [
        "gerador_graf(nov_df['TP_DEPENDENCIA_ADM_ESC'].value_counts())"
      ]
    },
    {
      "cell_type": "code",
      "execution_count": 17,
      "metadata": {},
      "outputs": [
        {
          "data": {
            "application/vnd.plotly.v1+json": {
              "config": {
                "plotlyServerURL": "https://plot.ly"
              },
              "data": [
                {
                  "customdata": [
                    [
                      "Pública",
                      2480
                    ],
                    [
                      "Privada",
                      1422
                    ]
                  ],
                  "hole": 0.5,
                  "hovertemplate": "<b>Tipos de escola:</b> %{customdata[0][0]}<br><b>Quantidade: %{customdata[0][1]}</b>",
                  "labels": [
                    "Pública",
                    "Privada"
                  ],
                  "marker": {
                    "colors": [
                      "rgb(00, 33, 47)",
                      "rgb(33, 249, 208)"
                    ]
                  },
                  "textfont": {
                    "size": 16
                  },
                  "type": "pie",
                  "values": [
                    2480,
                    1422
                  ]
                }
              ],
              "layout": {
                "height": 500,
                "template": {
                  "data": {
                    "bar": [
                      {
                        "error_x": {
                          "color": "#2a3f5f"
                        },
                        "error_y": {
                          "color": "#2a3f5f"
                        },
                        "marker": {
                          "line": {
                            "color": "#E5ECF6",
                            "width": 0.5
                          },
                          "pattern": {
                            "fillmode": "overlay",
                            "size": 10,
                            "solidity": 0.2
                          }
                        },
                        "type": "bar"
                      }
                    ],
                    "barpolar": [
                      {
                        "marker": {
                          "line": {
                            "color": "#E5ECF6",
                            "width": 0.5
                          },
                          "pattern": {
                            "fillmode": "overlay",
                            "size": 10,
                            "solidity": 0.2
                          }
                        },
                        "type": "barpolar"
                      }
                    ],
                    "carpet": [
                      {
                        "aaxis": {
                          "endlinecolor": "#2a3f5f",
                          "gridcolor": "white",
                          "linecolor": "white",
                          "minorgridcolor": "white",
                          "startlinecolor": "#2a3f5f"
                        },
                        "baxis": {
                          "endlinecolor": "#2a3f5f",
                          "gridcolor": "white",
                          "linecolor": "white",
                          "minorgridcolor": "white",
                          "startlinecolor": "#2a3f5f"
                        },
                        "type": "carpet"
                      }
                    ],
                    "choropleth": [
                      {
                        "colorbar": {
                          "outlinewidth": 0,
                          "ticks": ""
                        },
                        "type": "choropleth"
                      }
                    ],
                    "contour": [
                      {
                        "colorbar": {
                          "outlinewidth": 0,
                          "ticks": ""
                        },
                        "colorscale": [
                          [
                            0,
                            "#0d0887"
                          ],
                          [
                            0.1111111111111111,
                            "#46039f"
                          ],
                          [
                            0.2222222222222222,
                            "#7201a8"
                          ],
                          [
                            0.3333333333333333,
                            "#9c179e"
                          ],
                          [
                            0.4444444444444444,
                            "#bd3786"
                          ],
                          [
                            0.5555555555555556,
                            "#d8576b"
                          ],
                          [
                            0.6666666666666666,
                            "#ed7953"
                          ],
                          [
                            0.7777777777777778,
                            "#fb9f3a"
                          ],
                          [
                            0.8888888888888888,
                            "#fdca26"
                          ],
                          [
                            1,
                            "#f0f921"
                          ]
                        ],
                        "type": "contour"
                      }
                    ],
                    "contourcarpet": [
                      {
                        "colorbar": {
                          "outlinewidth": 0,
                          "ticks": ""
                        },
                        "type": "contourcarpet"
                      }
                    ],
                    "heatmap": [
                      {
                        "colorbar": {
                          "outlinewidth": 0,
                          "ticks": ""
                        },
                        "colorscale": [
                          [
                            0,
                            "#0d0887"
                          ],
                          [
                            0.1111111111111111,
                            "#46039f"
                          ],
                          [
                            0.2222222222222222,
                            "#7201a8"
                          ],
                          [
                            0.3333333333333333,
                            "#9c179e"
                          ],
                          [
                            0.4444444444444444,
                            "#bd3786"
                          ],
                          [
                            0.5555555555555556,
                            "#d8576b"
                          ],
                          [
                            0.6666666666666666,
                            "#ed7953"
                          ],
                          [
                            0.7777777777777778,
                            "#fb9f3a"
                          ],
                          [
                            0.8888888888888888,
                            "#fdca26"
                          ],
                          [
                            1,
                            "#f0f921"
                          ]
                        ],
                        "type": "heatmap"
                      }
                    ],
                    "heatmapgl": [
                      {
                        "colorbar": {
                          "outlinewidth": 0,
                          "ticks": ""
                        },
                        "colorscale": [
                          [
                            0,
                            "#0d0887"
                          ],
                          [
                            0.1111111111111111,
                            "#46039f"
                          ],
                          [
                            0.2222222222222222,
                            "#7201a8"
                          ],
                          [
                            0.3333333333333333,
                            "#9c179e"
                          ],
                          [
                            0.4444444444444444,
                            "#bd3786"
                          ],
                          [
                            0.5555555555555556,
                            "#d8576b"
                          ],
                          [
                            0.6666666666666666,
                            "#ed7953"
                          ],
                          [
                            0.7777777777777778,
                            "#fb9f3a"
                          ],
                          [
                            0.8888888888888888,
                            "#fdca26"
                          ],
                          [
                            1,
                            "#f0f921"
                          ]
                        ],
                        "type": "heatmapgl"
                      }
                    ],
                    "histogram": [
                      {
                        "marker": {
                          "pattern": {
                            "fillmode": "overlay",
                            "size": 10,
                            "solidity": 0.2
                          }
                        },
                        "type": "histogram"
                      }
                    ],
                    "histogram2d": [
                      {
                        "colorbar": {
                          "outlinewidth": 0,
                          "ticks": ""
                        },
                        "colorscale": [
                          [
                            0,
                            "#0d0887"
                          ],
                          [
                            0.1111111111111111,
                            "#46039f"
                          ],
                          [
                            0.2222222222222222,
                            "#7201a8"
                          ],
                          [
                            0.3333333333333333,
                            "#9c179e"
                          ],
                          [
                            0.4444444444444444,
                            "#bd3786"
                          ],
                          [
                            0.5555555555555556,
                            "#d8576b"
                          ],
                          [
                            0.6666666666666666,
                            "#ed7953"
                          ],
                          [
                            0.7777777777777778,
                            "#fb9f3a"
                          ],
                          [
                            0.8888888888888888,
                            "#fdca26"
                          ],
                          [
                            1,
                            "#f0f921"
                          ]
                        ],
                        "type": "histogram2d"
                      }
                    ],
                    "histogram2dcontour": [
                      {
                        "colorbar": {
                          "outlinewidth": 0,
                          "ticks": ""
                        },
                        "colorscale": [
                          [
                            0,
                            "#0d0887"
                          ],
                          [
                            0.1111111111111111,
                            "#46039f"
                          ],
                          [
                            0.2222222222222222,
                            "#7201a8"
                          ],
                          [
                            0.3333333333333333,
                            "#9c179e"
                          ],
                          [
                            0.4444444444444444,
                            "#bd3786"
                          ],
                          [
                            0.5555555555555556,
                            "#d8576b"
                          ],
                          [
                            0.6666666666666666,
                            "#ed7953"
                          ],
                          [
                            0.7777777777777778,
                            "#fb9f3a"
                          ],
                          [
                            0.8888888888888888,
                            "#fdca26"
                          ],
                          [
                            1,
                            "#f0f921"
                          ]
                        ],
                        "type": "histogram2dcontour"
                      }
                    ],
                    "mesh3d": [
                      {
                        "colorbar": {
                          "outlinewidth": 0,
                          "ticks": ""
                        },
                        "type": "mesh3d"
                      }
                    ],
                    "parcoords": [
                      {
                        "line": {
                          "colorbar": {
                            "outlinewidth": 0,
                            "ticks": ""
                          }
                        },
                        "type": "parcoords"
                      }
                    ],
                    "pie": [
                      {
                        "automargin": true,
                        "type": "pie"
                      }
                    ],
                    "scatter": [
                      {
                        "fillpattern": {
                          "fillmode": "overlay",
                          "size": 10,
                          "solidity": 0.2
                        },
                        "type": "scatter"
                      }
                    ],
                    "scatter3d": [
                      {
                        "line": {
                          "colorbar": {
                            "outlinewidth": 0,
                            "ticks": ""
                          }
                        },
                        "marker": {
                          "colorbar": {
                            "outlinewidth": 0,
                            "ticks": ""
                          }
                        },
                        "type": "scatter3d"
                      }
                    ],
                    "scattercarpet": [
                      {
                        "marker": {
                          "colorbar": {
                            "outlinewidth": 0,
                            "ticks": ""
                          }
                        },
                        "type": "scattercarpet"
                      }
                    ],
                    "scattergeo": [
                      {
                        "marker": {
                          "colorbar": {
                            "outlinewidth": 0,
                            "ticks": ""
                          }
                        },
                        "type": "scattergeo"
                      }
                    ],
                    "scattergl": [
                      {
                        "marker": {
                          "colorbar": {
                            "outlinewidth": 0,
                            "ticks": ""
                          }
                        },
                        "type": "scattergl"
                      }
                    ],
                    "scattermapbox": [
                      {
                        "marker": {
                          "colorbar": {
                            "outlinewidth": 0,
                            "ticks": ""
                          }
                        },
                        "type": "scattermapbox"
                      }
                    ],
                    "scatterpolar": [
                      {
                        "marker": {
                          "colorbar": {
                            "outlinewidth": 0,
                            "ticks": ""
                          }
                        },
                        "type": "scatterpolar"
                      }
                    ],
                    "scatterpolargl": [
                      {
                        "marker": {
                          "colorbar": {
                            "outlinewidth": 0,
                            "ticks": ""
                          }
                        },
                        "type": "scatterpolargl"
                      }
                    ],
                    "scatterternary": [
                      {
                        "marker": {
                          "colorbar": {
                            "outlinewidth": 0,
                            "ticks": ""
                          }
                        },
                        "type": "scatterternary"
                      }
                    ],
                    "surface": [
                      {
                        "colorbar": {
                          "outlinewidth": 0,
                          "ticks": ""
                        },
                        "colorscale": [
                          [
                            0,
                            "#0d0887"
                          ],
                          [
                            0.1111111111111111,
                            "#46039f"
                          ],
                          [
                            0.2222222222222222,
                            "#7201a8"
                          ],
                          [
                            0.3333333333333333,
                            "#9c179e"
                          ],
                          [
                            0.4444444444444444,
                            "#bd3786"
                          ],
                          [
                            0.5555555555555556,
                            "#d8576b"
                          ],
                          [
                            0.6666666666666666,
                            "#ed7953"
                          ],
                          [
                            0.7777777777777778,
                            "#fb9f3a"
                          ],
                          [
                            0.8888888888888888,
                            "#fdca26"
                          ],
                          [
                            1,
                            "#f0f921"
                          ]
                        ],
                        "type": "surface"
                      }
                    ],
                    "table": [
                      {
                        "cells": {
                          "fill": {
                            "color": "#EBF0F8"
                          },
                          "line": {
                            "color": "white"
                          }
                        },
                        "header": {
                          "fill": {
                            "color": "#C8D4E3"
                          },
                          "line": {
                            "color": "white"
                          }
                        },
                        "type": "table"
                      }
                    ]
                  },
                  "layout": {
                    "annotationdefaults": {
                      "arrowcolor": "#2a3f5f",
                      "arrowhead": 0,
                      "arrowwidth": 1
                    },
                    "autotypenumbers": "strict",
                    "coloraxis": {
                      "colorbar": {
                        "outlinewidth": 0,
                        "ticks": ""
                      }
                    },
                    "colorscale": {
                      "diverging": [
                        [
                          0,
                          "#8e0152"
                        ],
                        [
                          0.1,
                          "#c51b7d"
                        ],
                        [
                          0.2,
                          "#de77ae"
                        ],
                        [
                          0.3,
                          "#f1b6da"
                        ],
                        [
                          0.4,
                          "#fde0ef"
                        ],
                        [
                          0.5,
                          "#f7f7f7"
                        ],
                        [
                          0.6,
                          "#e6f5d0"
                        ],
                        [
                          0.7,
                          "#b8e186"
                        ],
                        [
                          0.8,
                          "#7fbc41"
                        ],
                        [
                          0.9,
                          "#4d9221"
                        ],
                        [
                          1,
                          "#276419"
                        ]
                      ],
                      "sequential": [
                        [
                          0,
                          "#0d0887"
                        ],
                        [
                          0.1111111111111111,
                          "#46039f"
                        ],
                        [
                          0.2222222222222222,
                          "#7201a8"
                        ],
                        [
                          0.3333333333333333,
                          "#9c179e"
                        ],
                        [
                          0.4444444444444444,
                          "#bd3786"
                        ],
                        [
                          0.5555555555555556,
                          "#d8576b"
                        ],
                        [
                          0.6666666666666666,
                          "#ed7953"
                        ],
                        [
                          0.7777777777777778,
                          "#fb9f3a"
                        ],
                        [
                          0.8888888888888888,
                          "#fdca26"
                        ],
                        [
                          1,
                          "#f0f921"
                        ]
                      ],
                      "sequentialminus": [
                        [
                          0,
                          "#0d0887"
                        ],
                        [
                          0.1111111111111111,
                          "#46039f"
                        ],
                        [
                          0.2222222222222222,
                          "#7201a8"
                        ],
                        [
                          0.3333333333333333,
                          "#9c179e"
                        ],
                        [
                          0.4444444444444444,
                          "#bd3786"
                        ],
                        [
                          0.5555555555555556,
                          "#d8576b"
                        ],
                        [
                          0.6666666666666666,
                          "#ed7953"
                        ],
                        [
                          0.7777777777777778,
                          "#fb9f3a"
                        ],
                        [
                          0.8888888888888888,
                          "#fdca26"
                        ],
                        [
                          1,
                          "#f0f921"
                        ]
                      ]
                    },
                    "colorway": [
                      "#636efa",
                      "#EF553B",
                      "#00cc96",
                      "#ab63fa",
                      "#FFA15A",
                      "#19d3f3",
                      "#FF6692",
                      "#B6E880",
                      "#FF97FF",
                      "#FECB52"
                    ],
                    "font": {
                      "color": "#2a3f5f"
                    },
                    "geo": {
                      "bgcolor": "white",
                      "lakecolor": "white",
                      "landcolor": "#E5ECF6",
                      "showlakes": true,
                      "showland": true,
                      "subunitcolor": "white"
                    },
                    "hoverlabel": {
                      "align": "left"
                    },
                    "hovermode": "closest",
                    "mapbox": {
                      "style": "light"
                    },
                    "paper_bgcolor": "white",
                    "plot_bgcolor": "#E5ECF6",
                    "polar": {
                      "angularaxis": {
                        "gridcolor": "white",
                        "linecolor": "white",
                        "ticks": ""
                      },
                      "bgcolor": "#E5ECF6",
                      "radialaxis": {
                        "gridcolor": "white",
                        "linecolor": "white",
                        "ticks": ""
                      }
                    },
                    "scene": {
                      "xaxis": {
                        "backgroundcolor": "#E5ECF6",
                        "gridcolor": "white",
                        "gridwidth": 2,
                        "linecolor": "white",
                        "showbackground": true,
                        "ticks": "",
                        "zerolinecolor": "white"
                      },
                      "yaxis": {
                        "backgroundcolor": "#E5ECF6",
                        "gridcolor": "white",
                        "gridwidth": 2,
                        "linecolor": "white",
                        "showbackground": true,
                        "ticks": "",
                        "zerolinecolor": "white"
                      },
                      "zaxis": {
                        "backgroundcolor": "#E5ECF6",
                        "gridcolor": "white",
                        "gridwidth": 2,
                        "linecolor": "white",
                        "showbackground": true,
                        "ticks": "",
                        "zerolinecolor": "white"
                      }
                    },
                    "shapedefaults": {
                      "line": {
                        "color": "#2a3f5f"
                      }
                    },
                    "ternary": {
                      "aaxis": {
                        "gridcolor": "white",
                        "linecolor": "white",
                        "ticks": ""
                      },
                      "baxis": {
                        "gridcolor": "white",
                        "linecolor": "white",
                        "ticks": ""
                      },
                      "bgcolor": "#E5ECF6",
                      "caxis": {
                        "gridcolor": "white",
                        "linecolor": "white",
                        "ticks": ""
                      }
                    },
                    "title": {
                      "x": 0.05
                    },
                    "xaxis": {
                      "automargin": true,
                      "gridcolor": "white",
                      "linecolor": "white",
                      "ticks": "",
                      "title": {
                        "standoff": 15
                      },
                      "zerolinecolor": "white",
                      "zerolinewidth": 2
                    },
                    "yaxis": {
                      "automargin": true,
                      "gridcolor": "white",
                      "linecolor": "white",
                      "ticks": "",
                      "title": {
                        "standoff": 15
                      },
                      "zerolinecolor": "white",
                      "zerolinewidth": 2
                    }
                  }
                },
                "title": {
                  "text": "<b>Tipo de escola dos participantes Enem 2021</b>"
                },
                "width": 500
              }
            }
          },
          "metadata": {},
          "output_type": "display_data"
        }
      ],
      "source": [
        "tipo_esc = gerador_graf(nov_df['TP_ESCOLA'].value_counts())\n",
        "tipo_esc.update_layout(title=\"<b>Tipo de escola dos participantes Enem 2021</b>\")\n",
        "tipo_esc.show() "
      ]
    },
    {
      "cell_type": "code",
      "execution_count": 18,
      "metadata": {},
      "outputs": [
        {
          "data": {
            "application/vnd.plotly.v1+json": {
              "config": {
                "plotlyServerURL": "https://plot.ly"
              },
              "data": [
                {
                  "customdata": [
                    [
                      "Sem problemas",
                      3825
                    ],
                    [
                      "Em Branco",
                      34
                    ],
                    [
                      "Fuga ao tema",
                      29
                    ],
                    [
                      "Texto insuficiente",
                      6
                    ],
                    [
                      "Parte desconectada",
                      4
                    ],
                    [
                      "Cópia Texto Motivador",
                      2
                    ],
                    [
                      "Não atendimento ao tipo textual",
                      1
                    ],
                    [
                      "Anulada",
                      1
                    ]
                  ],
                  "hovertemplate": "<b>Status redação:</b> %{customdata[0]}<br><b>Quantidade: %{customdata[1]}</b>",
                  "marker": {
                    "color": [
                      "rgb(00, 33, 47)",
                      "rgb(00, 69, 94)",
                      "rgb(33, 249, 208)",
                      "rgb(46, 66, 74)",
                      "rgb(46, 66, 74)",
                      "rgb(46, 66, 74)",
                      "rgb(46, 66, 74)",
                      "rgb(46, 66, 74)"
                    ]
                  },
                  "text": [
                    3825,
                    34,
                    29,
                    6,
                    4,
                    2,
                    1,
                    1
                  ],
                  "textfont": {
                    "size": 16
                  },
                  "textposition": "outside",
                  "type": "bar",
                  "x": [
                    "Sem problemas",
                    "Em Branco",
                    "Fuga ao tema",
                    "Texto insuficiente",
                    "Parte desconectada",
                    "Cópia Texto Motivador",
                    "Não atendimento ao tipo textual",
                    "Anulada"
                  ],
                  "y": [
                    3825,
                    34,
                    29,
                    6,
                    4,
                    2,
                    1,
                    1
                  ]
                }
              ],
              "layout": {
                "template": {
                  "data": {
                    "bar": [
                      {
                        "error_x": {
                          "color": "#2a3f5f"
                        },
                        "error_y": {
                          "color": "#2a3f5f"
                        },
                        "marker": {
                          "line": {
                            "color": "white",
                            "width": 0.5
                          },
                          "pattern": {
                            "fillmode": "overlay",
                            "size": 10,
                            "solidity": 0.2
                          }
                        },
                        "type": "bar"
                      }
                    ],
                    "barpolar": [
                      {
                        "marker": {
                          "line": {
                            "color": "white",
                            "width": 0.5
                          },
                          "pattern": {
                            "fillmode": "overlay",
                            "size": 10,
                            "solidity": 0.2
                          }
                        },
                        "type": "barpolar"
                      }
                    ],
                    "carpet": [
                      {
                        "aaxis": {
                          "endlinecolor": "#2a3f5f",
                          "gridcolor": "#C8D4E3",
                          "linecolor": "#C8D4E3",
                          "minorgridcolor": "#C8D4E3",
                          "startlinecolor": "#2a3f5f"
                        },
                        "baxis": {
                          "endlinecolor": "#2a3f5f",
                          "gridcolor": "#C8D4E3",
                          "linecolor": "#C8D4E3",
                          "minorgridcolor": "#C8D4E3",
                          "startlinecolor": "#2a3f5f"
                        },
                        "type": "carpet"
                      }
                    ],
                    "choropleth": [
                      {
                        "colorbar": {
                          "outlinewidth": 0,
                          "ticks": ""
                        },
                        "type": "choropleth"
                      }
                    ],
                    "contour": [
                      {
                        "colorbar": {
                          "outlinewidth": 0,
                          "ticks": ""
                        },
                        "colorscale": [
                          [
                            0,
                            "#0d0887"
                          ],
                          [
                            0.1111111111111111,
                            "#46039f"
                          ],
                          [
                            0.2222222222222222,
                            "#7201a8"
                          ],
                          [
                            0.3333333333333333,
                            "#9c179e"
                          ],
                          [
                            0.4444444444444444,
                            "#bd3786"
                          ],
                          [
                            0.5555555555555556,
                            "#d8576b"
                          ],
                          [
                            0.6666666666666666,
                            "#ed7953"
                          ],
                          [
                            0.7777777777777778,
                            "#fb9f3a"
                          ],
                          [
                            0.8888888888888888,
                            "#fdca26"
                          ],
                          [
                            1,
                            "#f0f921"
                          ]
                        ],
                        "type": "contour"
                      }
                    ],
                    "contourcarpet": [
                      {
                        "colorbar": {
                          "outlinewidth": 0,
                          "ticks": ""
                        },
                        "type": "contourcarpet"
                      }
                    ],
                    "heatmap": [
                      {
                        "colorbar": {
                          "outlinewidth": 0,
                          "ticks": ""
                        },
                        "colorscale": [
                          [
                            0,
                            "#0d0887"
                          ],
                          [
                            0.1111111111111111,
                            "#46039f"
                          ],
                          [
                            0.2222222222222222,
                            "#7201a8"
                          ],
                          [
                            0.3333333333333333,
                            "#9c179e"
                          ],
                          [
                            0.4444444444444444,
                            "#bd3786"
                          ],
                          [
                            0.5555555555555556,
                            "#d8576b"
                          ],
                          [
                            0.6666666666666666,
                            "#ed7953"
                          ],
                          [
                            0.7777777777777778,
                            "#fb9f3a"
                          ],
                          [
                            0.8888888888888888,
                            "#fdca26"
                          ],
                          [
                            1,
                            "#f0f921"
                          ]
                        ],
                        "type": "heatmap"
                      }
                    ],
                    "heatmapgl": [
                      {
                        "colorbar": {
                          "outlinewidth": 0,
                          "ticks": ""
                        },
                        "colorscale": [
                          [
                            0,
                            "#0d0887"
                          ],
                          [
                            0.1111111111111111,
                            "#46039f"
                          ],
                          [
                            0.2222222222222222,
                            "#7201a8"
                          ],
                          [
                            0.3333333333333333,
                            "#9c179e"
                          ],
                          [
                            0.4444444444444444,
                            "#bd3786"
                          ],
                          [
                            0.5555555555555556,
                            "#d8576b"
                          ],
                          [
                            0.6666666666666666,
                            "#ed7953"
                          ],
                          [
                            0.7777777777777778,
                            "#fb9f3a"
                          ],
                          [
                            0.8888888888888888,
                            "#fdca26"
                          ],
                          [
                            1,
                            "#f0f921"
                          ]
                        ],
                        "type": "heatmapgl"
                      }
                    ],
                    "histogram": [
                      {
                        "marker": {
                          "pattern": {
                            "fillmode": "overlay",
                            "size": 10,
                            "solidity": 0.2
                          }
                        },
                        "type": "histogram"
                      }
                    ],
                    "histogram2d": [
                      {
                        "colorbar": {
                          "outlinewidth": 0,
                          "ticks": ""
                        },
                        "colorscale": [
                          [
                            0,
                            "#0d0887"
                          ],
                          [
                            0.1111111111111111,
                            "#46039f"
                          ],
                          [
                            0.2222222222222222,
                            "#7201a8"
                          ],
                          [
                            0.3333333333333333,
                            "#9c179e"
                          ],
                          [
                            0.4444444444444444,
                            "#bd3786"
                          ],
                          [
                            0.5555555555555556,
                            "#d8576b"
                          ],
                          [
                            0.6666666666666666,
                            "#ed7953"
                          ],
                          [
                            0.7777777777777778,
                            "#fb9f3a"
                          ],
                          [
                            0.8888888888888888,
                            "#fdca26"
                          ],
                          [
                            1,
                            "#f0f921"
                          ]
                        ],
                        "type": "histogram2d"
                      }
                    ],
                    "histogram2dcontour": [
                      {
                        "colorbar": {
                          "outlinewidth": 0,
                          "ticks": ""
                        },
                        "colorscale": [
                          [
                            0,
                            "#0d0887"
                          ],
                          [
                            0.1111111111111111,
                            "#46039f"
                          ],
                          [
                            0.2222222222222222,
                            "#7201a8"
                          ],
                          [
                            0.3333333333333333,
                            "#9c179e"
                          ],
                          [
                            0.4444444444444444,
                            "#bd3786"
                          ],
                          [
                            0.5555555555555556,
                            "#d8576b"
                          ],
                          [
                            0.6666666666666666,
                            "#ed7953"
                          ],
                          [
                            0.7777777777777778,
                            "#fb9f3a"
                          ],
                          [
                            0.8888888888888888,
                            "#fdca26"
                          ],
                          [
                            1,
                            "#f0f921"
                          ]
                        ],
                        "type": "histogram2dcontour"
                      }
                    ],
                    "mesh3d": [
                      {
                        "colorbar": {
                          "outlinewidth": 0,
                          "ticks": ""
                        },
                        "type": "mesh3d"
                      }
                    ],
                    "parcoords": [
                      {
                        "line": {
                          "colorbar": {
                            "outlinewidth": 0,
                            "ticks": ""
                          }
                        },
                        "type": "parcoords"
                      }
                    ],
                    "pie": [
                      {
                        "automargin": true,
                        "type": "pie"
                      }
                    ],
                    "scatter": [
                      {
                        "fillpattern": {
                          "fillmode": "overlay",
                          "size": 10,
                          "solidity": 0.2
                        },
                        "type": "scatter"
                      }
                    ],
                    "scatter3d": [
                      {
                        "line": {
                          "colorbar": {
                            "outlinewidth": 0,
                            "ticks": ""
                          }
                        },
                        "marker": {
                          "colorbar": {
                            "outlinewidth": 0,
                            "ticks": ""
                          }
                        },
                        "type": "scatter3d"
                      }
                    ],
                    "scattercarpet": [
                      {
                        "marker": {
                          "colorbar": {
                            "outlinewidth": 0,
                            "ticks": ""
                          }
                        },
                        "type": "scattercarpet"
                      }
                    ],
                    "scattergeo": [
                      {
                        "marker": {
                          "colorbar": {
                            "outlinewidth": 0,
                            "ticks": ""
                          }
                        },
                        "type": "scattergeo"
                      }
                    ],
                    "scattergl": [
                      {
                        "marker": {
                          "colorbar": {
                            "outlinewidth": 0,
                            "ticks": ""
                          }
                        },
                        "type": "scattergl"
                      }
                    ],
                    "scattermapbox": [
                      {
                        "marker": {
                          "colorbar": {
                            "outlinewidth": 0,
                            "ticks": ""
                          }
                        },
                        "type": "scattermapbox"
                      }
                    ],
                    "scatterpolar": [
                      {
                        "marker": {
                          "colorbar": {
                            "outlinewidth": 0,
                            "ticks": ""
                          }
                        },
                        "type": "scatterpolar"
                      }
                    ],
                    "scatterpolargl": [
                      {
                        "marker": {
                          "colorbar": {
                            "outlinewidth": 0,
                            "ticks": ""
                          }
                        },
                        "type": "scatterpolargl"
                      }
                    ],
                    "scatterternary": [
                      {
                        "marker": {
                          "colorbar": {
                            "outlinewidth": 0,
                            "ticks": ""
                          }
                        },
                        "type": "scatterternary"
                      }
                    ],
                    "surface": [
                      {
                        "colorbar": {
                          "outlinewidth": 0,
                          "ticks": ""
                        },
                        "colorscale": [
                          [
                            0,
                            "#0d0887"
                          ],
                          [
                            0.1111111111111111,
                            "#46039f"
                          ],
                          [
                            0.2222222222222222,
                            "#7201a8"
                          ],
                          [
                            0.3333333333333333,
                            "#9c179e"
                          ],
                          [
                            0.4444444444444444,
                            "#bd3786"
                          ],
                          [
                            0.5555555555555556,
                            "#d8576b"
                          ],
                          [
                            0.6666666666666666,
                            "#ed7953"
                          ],
                          [
                            0.7777777777777778,
                            "#fb9f3a"
                          ],
                          [
                            0.8888888888888888,
                            "#fdca26"
                          ],
                          [
                            1,
                            "#f0f921"
                          ]
                        ],
                        "type": "surface"
                      }
                    ],
                    "table": [
                      {
                        "cells": {
                          "fill": {
                            "color": "#EBF0F8"
                          },
                          "line": {
                            "color": "white"
                          }
                        },
                        "header": {
                          "fill": {
                            "color": "#C8D4E3"
                          },
                          "line": {
                            "color": "white"
                          }
                        },
                        "type": "table"
                      }
                    ]
                  },
                  "layout": {
                    "annotationdefaults": {
                      "arrowcolor": "#2a3f5f",
                      "arrowhead": 0,
                      "arrowwidth": 1
                    },
                    "autotypenumbers": "strict",
                    "coloraxis": {
                      "colorbar": {
                        "outlinewidth": 0,
                        "ticks": ""
                      }
                    },
                    "colorscale": {
                      "diverging": [
                        [
                          0,
                          "#8e0152"
                        ],
                        [
                          0.1,
                          "#c51b7d"
                        ],
                        [
                          0.2,
                          "#de77ae"
                        ],
                        [
                          0.3,
                          "#f1b6da"
                        ],
                        [
                          0.4,
                          "#fde0ef"
                        ],
                        [
                          0.5,
                          "#f7f7f7"
                        ],
                        [
                          0.6,
                          "#e6f5d0"
                        ],
                        [
                          0.7,
                          "#b8e186"
                        ],
                        [
                          0.8,
                          "#7fbc41"
                        ],
                        [
                          0.9,
                          "#4d9221"
                        ],
                        [
                          1,
                          "#276419"
                        ]
                      ],
                      "sequential": [
                        [
                          0,
                          "#0d0887"
                        ],
                        [
                          0.1111111111111111,
                          "#46039f"
                        ],
                        [
                          0.2222222222222222,
                          "#7201a8"
                        ],
                        [
                          0.3333333333333333,
                          "#9c179e"
                        ],
                        [
                          0.4444444444444444,
                          "#bd3786"
                        ],
                        [
                          0.5555555555555556,
                          "#d8576b"
                        ],
                        [
                          0.6666666666666666,
                          "#ed7953"
                        ],
                        [
                          0.7777777777777778,
                          "#fb9f3a"
                        ],
                        [
                          0.8888888888888888,
                          "#fdca26"
                        ],
                        [
                          1,
                          "#f0f921"
                        ]
                      ],
                      "sequentialminus": [
                        [
                          0,
                          "#0d0887"
                        ],
                        [
                          0.1111111111111111,
                          "#46039f"
                        ],
                        [
                          0.2222222222222222,
                          "#7201a8"
                        ],
                        [
                          0.3333333333333333,
                          "#9c179e"
                        ],
                        [
                          0.4444444444444444,
                          "#bd3786"
                        ],
                        [
                          0.5555555555555556,
                          "#d8576b"
                        ],
                        [
                          0.6666666666666666,
                          "#ed7953"
                        ],
                        [
                          0.7777777777777778,
                          "#fb9f3a"
                        ],
                        [
                          0.8888888888888888,
                          "#fdca26"
                        ],
                        [
                          1,
                          "#f0f921"
                        ]
                      ]
                    },
                    "colorway": [
                      "#636efa",
                      "#EF553B",
                      "#00cc96",
                      "#ab63fa",
                      "#FFA15A",
                      "#19d3f3",
                      "#FF6692",
                      "#B6E880",
                      "#FF97FF",
                      "#FECB52"
                    ],
                    "font": {
                      "color": "#2a3f5f"
                    },
                    "geo": {
                      "bgcolor": "white",
                      "lakecolor": "white",
                      "landcolor": "white",
                      "showlakes": true,
                      "showland": true,
                      "subunitcolor": "#C8D4E3"
                    },
                    "hoverlabel": {
                      "align": "left"
                    },
                    "hovermode": "closest",
                    "mapbox": {
                      "style": "light"
                    },
                    "paper_bgcolor": "white",
                    "plot_bgcolor": "white",
                    "polar": {
                      "angularaxis": {
                        "gridcolor": "#EBF0F8",
                        "linecolor": "#EBF0F8",
                        "ticks": ""
                      },
                      "bgcolor": "white",
                      "radialaxis": {
                        "gridcolor": "#EBF0F8",
                        "linecolor": "#EBF0F8",
                        "ticks": ""
                      }
                    },
                    "scene": {
                      "xaxis": {
                        "backgroundcolor": "white",
                        "gridcolor": "#DFE8F3",
                        "gridwidth": 2,
                        "linecolor": "#EBF0F8",
                        "showbackground": true,
                        "ticks": "",
                        "zerolinecolor": "#EBF0F8"
                      },
                      "yaxis": {
                        "backgroundcolor": "white",
                        "gridcolor": "#DFE8F3",
                        "gridwidth": 2,
                        "linecolor": "#EBF0F8",
                        "showbackground": true,
                        "ticks": "",
                        "zerolinecolor": "#EBF0F8"
                      },
                      "zaxis": {
                        "backgroundcolor": "white",
                        "gridcolor": "#DFE8F3",
                        "gridwidth": 2,
                        "linecolor": "#EBF0F8",
                        "showbackground": true,
                        "ticks": "",
                        "zerolinecolor": "#EBF0F8"
                      }
                    },
                    "shapedefaults": {
                      "line": {
                        "color": "#2a3f5f"
                      }
                    },
                    "ternary": {
                      "aaxis": {
                        "gridcolor": "#DFE8F3",
                        "linecolor": "#A2B1C6",
                        "ticks": ""
                      },
                      "baxis": {
                        "gridcolor": "#DFE8F3",
                        "linecolor": "#A2B1C6",
                        "ticks": ""
                      },
                      "bgcolor": "white",
                      "caxis": {
                        "gridcolor": "#DFE8F3",
                        "linecolor": "#A2B1C6",
                        "ticks": ""
                      }
                    },
                    "title": {
                      "x": 0.05
                    },
                    "xaxis": {
                      "automargin": true,
                      "gridcolor": "#EBF0F8",
                      "linecolor": "#EBF0F8",
                      "ticks": "",
                      "title": {
                        "standoff": 15
                      },
                      "zerolinecolor": "#EBF0F8",
                      "zerolinewidth": 2
                    },
                    "yaxis": {
                      "automargin": true,
                      "gridcolor": "#EBF0F8",
                      "linecolor": "#EBF0F8",
                      "ticks": "",
                      "title": {
                        "standoff": 15
                      },
                      "zerolinecolor": "#EBF0F8",
                      "zerolinewidth": 2
                    }
                  }
                },
                "title": {
                  "font": {
                    "family": "Tahoma,sans serif",
                    "size": 20
                  },
                  "text": "<b>Status da redação Enem 2021</b>",
                  "x": 0.5
                },
                "xaxis": {
                  "tickfont": {
                    "size": 14
                  },
                  "tickmode": "array",
                  "ticktext": [
                    "Sem problemas",
                    "Em Branco",
                    "Fuga ao tema",
                    "Texto insuficiente",
                    "Parte<br>desconectada",
                    "Cópia Texto<br>Motivador",
                    "Não atendimento<br>ao tipo textual",
                    "Anulada"
                  ],
                  "tickvals": [
                    0,
                    1,
                    2,
                    3,
                    4,
                    5,
                    6,
                    7
                  ]
                },
                "yaxis": {
                  "range": [
                    0,
                    4092.7500000000005
                  ],
                  "showticklabels": false,
                  "visible": false
                }
              }
            }
          },
          "metadata": {},
          "output_type": "display_data"
        }
      ],
      "source": [
        "graf_redacao = gerador_graf(nov_df['TP_STATUS_REDACAO'].value_counts())\n",
        "\n",
        "graf_redacao.update_layout(xaxis=dict(tickmode='array',tickvals=[0,1,2,3,4,5,6,7],ticktext =['Sem problemas', 'Em Branco', 'Fuga ao tema', 'Texto insuficiente','Parte<br>desconectada', 'Cópia Texto<br>Motivador','Não atendimento<br>ao tipo textual', 'Anulada'],tickfont_size=14))"
      ]
    },
    {
      "cell_type": "code",
      "execution_count": 19,
      "metadata": {},
      "outputs": [
        {
          "data": {
            "application/vnd.plotly.v1+json": {
              "config": {
                "plotlyServerURL": "https://plot.ly"
              },
              "data": [
                {
                  "customdata": [
                    [
                      "Completou o Ensino Médio, mas não completou a Faculdade.",
                      1427
                    ],
                    [
                      "Completou a Faculdade, mas não completou a Pós-graduação.",
                      752
                    ],
                    [
                      "Completou a Pós-graduação.",
                      456
                    ],
                    [
                      "Completou a 8ª série/9º ano do Ensino Fundamental, mas não completou o Ensino Médio.",
                      408
                    ],
                    [
                      "Completou a 4ª série/5º ano, mas não completou a 8ª série/9º ano do Ensino Fundamental.",
                      350
                    ],
                    [
                      "Não sei.",
                      242
                    ],
                    [
                      "Não completou a 4ª série/5º ano do Ensino Fundamental.",
                      242
                    ],
                    [
                      "Nunca estudou.",
                      25
                    ]
                  ],
                  "hovertemplate": "<b>Escolaridade Pai:</b> %{customdata[0]}<br><b>Quantidade: %{customdata[1]}</b>",
                  "marker": {
                    "color": [
                      "rgb(00, 33, 47)",
                      "rgb(00, 69, 94)",
                      "rgb(33, 249, 208)",
                      "rgb(46, 66, 74)",
                      "rgb(46, 66, 74)",
                      "rgb(46, 66, 74)",
                      "rgb(46, 66, 74)",
                      "rgb(46, 66, 74)"
                    ]
                  },
                  "text": [
                    1427,
                    752,
                    456,
                    408,
                    350,
                    242,
                    242,
                    25
                  ],
                  "textfont": {
                    "size": 16
                  },
                  "textposition": "outside",
                  "type": "bar",
                  "x": [
                    "Completou o Ensino Médio, mas não completou a Faculdade.",
                    "Completou a Faculdade, mas não completou a Pós-graduação.",
                    "Completou a Pós-graduação.",
                    "Completou a 8ª série/9º ano do Ensino Fundamental, mas não completou o Ensino Médio.",
                    "Completou a 4ª série/5º ano, mas não completou a 8ª série/9º ano do Ensino Fundamental.",
                    "Não sei.",
                    "Não completou a 4ª série/5º ano do Ensino Fundamental.",
                    "Nunca estudou."
                  ],
                  "y": [
                    1427,
                    752,
                    456,
                    408,
                    350,
                    242,
                    242,
                    25
                  ]
                }
              ],
              "layout": {
                "template": {
                  "data": {
                    "bar": [
                      {
                        "error_x": {
                          "color": "#2a3f5f"
                        },
                        "error_y": {
                          "color": "#2a3f5f"
                        },
                        "marker": {
                          "line": {
                            "color": "white",
                            "width": 0.5
                          },
                          "pattern": {
                            "fillmode": "overlay",
                            "size": 10,
                            "solidity": 0.2
                          }
                        },
                        "type": "bar"
                      }
                    ],
                    "barpolar": [
                      {
                        "marker": {
                          "line": {
                            "color": "white",
                            "width": 0.5
                          },
                          "pattern": {
                            "fillmode": "overlay",
                            "size": 10,
                            "solidity": 0.2
                          }
                        },
                        "type": "barpolar"
                      }
                    ],
                    "carpet": [
                      {
                        "aaxis": {
                          "endlinecolor": "#2a3f5f",
                          "gridcolor": "#C8D4E3",
                          "linecolor": "#C8D4E3",
                          "minorgridcolor": "#C8D4E3",
                          "startlinecolor": "#2a3f5f"
                        },
                        "baxis": {
                          "endlinecolor": "#2a3f5f",
                          "gridcolor": "#C8D4E3",
                          "linecolor": "#C8D4E3",
                          "minorgridcolor": "#C8D4E3",
                          "startlinecolor": "#2a3f5f"
                        },
                        "type": "carpet"
                      }
                    ],
                    "choropleth": [
                      {
                        "colorbar": {
                          "outlinewidth": 0,
                          "ticks": ""
                        },
                        "type": "choropleth"
                      }
                    ],
                    "contour": [
                      {
                        "colorbar": {
                          "outlinewidth": 0,
                          "ticks": ""
                        },
                        "colorscale": [
                          [
                            0,
                            "#0d0887"
                          ],
                          [
                            0.1111111111111111,
                            "#46039f"
                          ],
                          [
                            0.2222222222222222,
                            "#7201a8"
                          ],
                          [
                            0.3333333333333333,
                            "#9c179e"
                          ],
                          [
                            0.4444444444444444,
                            "#bd3786"
                          ],
                          [
                            0.5555555555555556,
                            "#d8576b"
                          ],
                          [
                            0.6666666666666666,
                            "#ed7953"
                          ],
                          [
                            0.7777777777777778,
                            "#fb9f3a"
                          ],
                          [
                            0.8888888888888888,
                            "#fdca26"
                          ],
                          [
                            1,
                            "#f0f921"
                          ]
                        ],
                        "type": "contour"
                      }
                    ],
                    "contourcarpet": [
                      {
                        "colorbar": {
                          "outlinewidth": 0,
                          "ticks": ""
                        },
                        "type": "contourcarpet"
                      }
                    ],
                    "heatmap": [
                      {
                        "colorbar": {
                          "outlinewidth": 0,
                          "ticks": ""
                        },
                        "colorscale": [
                          [
                            0,
                            "#0d0887"
                          ],
                          [
                            0.1111111111111111,
                            "#46039f"
                          ],
                          [
                            0.2222222222222222,
                            "#7201a8"
                          ],
                          [
                            0.3333333333333333,
                            "#9c179e"
                          ],
                          [
                            0.4444444444444444,
                            "#bd3786"
                          ],
                          [
                            0.5555555555555556,
                            "#d8576b"
                          ],
                          [
                            0.6666666666666666,
                            "#ed7953"
                          ],
                          [
                            0.7777777777777778,
                            "#fb9f3a"
                          ],
                          [
                            0.8888888888888888,
                            "#fdca26"
                          ],
                          [
                            1,
                            "#f0f921"
                          ]
                        ],
                        "type": "heatmap"
                      }
                    ],
                    "heatmapgl": [
                      {
                        "colorbar": {
                          "outlinewidth": 0,
                          "ticks": ""
                        },
                        "colorscale": [
                          [
                            0,
                            "#0d0887"
                          ],
                          [
                            0.1111111111111111,
                            "#46039f"
                          ],
                          [
                            0.2222222222222222,
                            "#7201a8"
                          ],
                          [
                            0.3333333333333333,
                            "#9c179e"
                          ],
                          [
                            0.4444444444444444,
                            "#bd3786"
                          ],
                          [
                            0.5555555555555556,
                            "#d8576b"
                          ],
                          [
                            0.6666666666666666,
                            "#ed7953"
                          ],
                          [
                            0.7777777777777778,
                            "#fb9f3a"
                          ],
                          [
                            0.8888888888888888,
                            "#fdca26"
                          ],
                          [
                            1,
                            "#f0f921"
                          ]
                        ],
                        "type": "heatmapgl"
                      }
                    ],
                    "histogram": [
                      {
                        "marker": {
                          "pattern": {
                            "fillmode": "overlay",
                            "size": 10,
                            "solidity": 0.2
                          }
                        },
                        "type": "histogram"
                      }
                    ],
                    "histogram2d": [
                      {
                        "colorbar": {
                          "outlinewidth": 0,
                          "ticks": ""
                        },
                        "colorscale": [
                          [
                            0,
                            "#0d0887"
                          ],
                          [
                            0.1111111111111111,
                            "#46039f"
                          ],
                          [
                            0.2222222222222222,
                            "#7201a8"
                          ],
                          [
                            0.3333333333333333,
                            "#9c179e"
                          ],
                          [
                            0.4444444444444444,
                            "#bd3786"
                          ],
                          [
                            0.5555555555555556,
                            "#d8576b"
                          ],
                          [
                            0.6666666666666666,
                            "#ed7953"
                          ],
                          [
                            0.7777777777777778,
                            "#fb9f3a"
                          ],
                          [
                            0.8888888888888888,
                            "#fdca26"
                          ],
                          [
                            1,
                            "#f0f921"
                          ]
                        ],
                        "type": "histogram2d"
                      }
                    ],
                    "histogram2dcontour": [
                      {
                        "colorbar": {
                          "outlinewidth": 0,
                          "ticks": ""
                        },
                        "colorscale": [
                          [
                            0,
                            "#0d0887"
                          ],
                          [
                            0.1111111111111111,
                            "#46039f"
                          ],
                          [
                            0.2222222222222222,
                            "#7201a8"
                          ],
                          [
                            0.3333333333333333,
                            "#9c179e"
                          ],
                          [
                            0.4444444444444444,
                            "#bd3786"
                          ],
                          [
                            0.5555555555555556,
                            "#d8576b"
                          ],
                          [
                            0.6666666666666666,
                            "#ed7953"
                          ],
                          [
                            0.7777777777777778,
                            "#fb9f3a"
                          ],
                          [
                            0.8888888888888888,
                            "#fdca26"
                          ],
                          [
                            1,
                            "#f0f921"
                          ]
                        ],
                        "type": "histogram2dcontour"
                      }
                    ],
                    "mesh3d": [
                      {
                        "colorbar": {
                          "outlinewidth": 0,
                          "ticks": ""
                        },
                        "type": "mesh3d"
                      }
                    ],
                    "parcoords": [
                      {
                        "line": {
                          "colorbar": {
                            "outlinewidth": 0,
                            "ticks": ""
                          }
                        },
                        "type": "parcoords"
                      }
                    ],
                    "pie": [
                      {
                        "automargin": true,
                        "type": "pie"
                      }
                    ],
                    "scatter": [
                      {
                        "fillpattern": {
                          "fillmode": "overlay",
                          "size": 10,
                          "solidity": 0.2
                        },
                        "type": "scatter"
                      }
                    ],
                    "scatter3d": [
                      {
                        "line": {
                          "colorbar": {
                            "outlinewidth": 0,
                            "ticks": ""
                          }
                        },
                        "marker": {
                          "colorbar": {
                            "outlinewidth": 0,
                            "ticks": ""
                          }
                        },
                        "type": "scatter3d"
                      }
                    ],
                    "scattercarpet": [
                      {
                        "marker": {
                          "colorbar": {
                            "outlinewidth": 0,
                            "ticks": ""
                          }
                        },
                        "type": "scattercarpet"
                      }
                    ],
                    "scattergeo": [
                      {
                        "marker": {
                          "colorbar": {
                            "outlinewidth": 0,
                            "ticks": ""
                          }
                        },
                        "type": "scattergeo"
                      }
                    ],
                    "scattergl": [
                      {
                        "marker": {
                          "colorbar": {
                            "outlinewidth": 0,
                            "ticks": ""
                          }
                        },
                        "type": "scattergl"
                      }
                    ],
                    "scattermapbox": [
                      {
                        "marker": {
                          "colorbar": {
                            "outlinewidth": 0,
                            "ticks": ""
                          }
                        },
                        "type": "scattermapbox"
                      }
                    ],
                    "scatterpolar": [
                      {
                        "marker": {
                          "colorbar": {
                            "outlinewidth": 0,
                            "ticks": ""
                          }
                        },
                        "type": "scatterpolar"
                      }
                    ],
                    "scatterpolargl": [
                      {
                        "marker": {
                          "colorbar": {
                            "outlinewidth": 0,
                            "ticks": ""
                          }
                        },
                        "type": "scatterpolargl"
                      }
                    ],
                    "scatterternary": [
                      {
                        "marker": {
                          "colorbar": {
                            "outlinewidth": 0,
                            "ticks": ""
                          }
                        },
                        "type": "scatterternary"
                      }
                    ],
                    "surface": [
                      {
                        "colorbar": {
                          "outlinewidth": 0,
                          "ticks": ""
                        },
                        "colorscale": [
                          [
                            0,
                            "#0d0887"
                          ],
                          [
                            0.1111111111111111,
                            "#46039f"
                          ],
                          [
                            0.2222222222222222,
                            "#7201a8"
                          ],
                          [
                            0.3333333333333333,
                            "#9c179e"
                          ],
                          [
                            0.4444444444444444,
                            "#bd3786"
                          ],
                          [
                            0.5555555555555556,
                            "#d8576b"
                          ],
                          [
                            0.6666666666666666,
                            "#ed7953"
                          ],
                          [
                            0.7777777777777778,
                            "#fb9f3a"
                          ],
                          [
                            0.8888888888888888,
                            "#fdca26"
                          ],
                          [
                            1,
                            "#f0f921"
                          ]
                        ],
                        "type": "surface"
                      }
                    ],
                    "table": [
                      {
                        "cells": {
                          "fill": {
                            "color": "#EBF0F8"
                          },
                          "line": {
                            "color": "white"
                          }
                        },
                        "header": {
                          "fill": {
                            "color": "#C8D4E3"
                          },
                          "line": {
                            "color": "white"
                          }
                        },
                        "type": "table"
                      }
                    ]
                  },
                  "layout": {
                    "annotationdefaults": {
                      "arrowcolor": "#2a3f5f",
                      "arrowhead": 0,
                      "arrowwidth": 1
                    },
                    "autotypenumbers": "strict",
                    "coloraxis": {
                      "colorbar": {
                        "outlinewidth": 0,
                        "ticks": ""
                      }
                    },
                    "colorscale": {
                      "diverging": [
                        [
                          0,
                          "#8e0152"
                        ],
                        [
                          0.1,
                          "#c51b7d"
                        ],
                        [
                          0.2,
                          "#de77ae"
                        ],
                        [
                          0.3,
                          "#f1b6da"
                        ],
                        [
                          0.4,
                          "#fde0ef"
                        ],
                        [
                          0.5,
                          "#f7f7f7"
                        ],
                        [
                          0.6,
                          "#e6f5d0"
                        ],
                        [
                          0.7,
                          "#b8e186"
                        ],
                        [
                          0.8,
                          "#7fbc41"
                        ],
                        [
                          0.9,
                          "#4d9221"
                        ],
                        [
                          1,
                          "#276419"
                        ]
                      ],
                      "sequential": [
                        [
                          0,
                          "#0d0887"
                        ],
                        [
                          0.1111111111111111,
                          "#46039f"
                        ],
                        [
                          0.2222222222222222,
                          "#7201a8"
                        ],
                        [
                          0.3333333333333333,
                          "#9c179e"
                        ],
                        [
                          0.4444444444444444,
                          "#bd3786"
                        ],
                        [
                          0.5555555555555556,
                          "#d8576b"
                        ],
                        [
                          0.6666666666666666,
                          "#ed7953"
                        ],
                        [
                          0.7777777777777778,
                          "#fb9f3a"
                        ],
                        [
                          0.8888888888888888,
                          "#fdca26"
                        ],
                        [
                          1,
                          "#f0f921"
                        ]
                      ],
                      "sequentialminus": [
                        [
                          0,
                          "#0d0887"
                        ],
                        [
                          0.1111111111111111,
                          "#46039f"
                        ],
                        [
                          0.2222222222222222,
                          "#7201a8"
                        ],
                        [
                          0.3333333333333333,
                          "#9c179e"
                        ],
                        [
                          0.4444444444444444,
                          "#bd3786"
                        ],
                        [
                          0.5555555555555556,
                          "#d8576b"
                        ],
                        [
                          0.6666666666666666,
                          "#ed7953"
                        ],
                        [
                          0.7777777777777778,
                          "#fb9f3a"
                        ],
                        [
                          0.8888888888888888,
                          "#fdca26"
                        ],
                        [
                          1,
                          "#f0f921"
                        ]
                      ]
                    },
                    "colorway": [
                      "#636efa",
                      "#EF553B",
                      "#00cc96",
                      "#ab63fa",
                      "#FFA15A",
                      "#19d3f3",
                      "#FF6692",
                      "#B6E880",
                      "#FF97FF",
                      "#FECB52"
                    ],
                    "font": {
                      "color": "#2a3f5f"
                    },
                    "geo": {
                      "bgcolor": "white",
                      "lakecolor": "white",
                      "landcolor": "white",
                      "showlakes": true,
                      "showland": true,
                      "subunitcolor": "#C8D4E3"
                    },
                    "hoverlabel": {
                      "align": "left"
                    },
                    "hovermode": "closest",
                    "mapbox": {
                      "style": "light"
                    },
                    "paper_bgcolor": "white",
                    "plot_bgcolor": "white",
                    "polar": {
                      "angularaxis": {
                        "gridcolor": "#EBF0F8",
                        "linecolor": "#EBF0F8",
                        "ticks": ""
                      },
                      "bgcolor": "white",
                      "radialaxis": {
                        "gridcolor": "#EBF0F8",
                        "linecolor": "#EBF0F8",
                        "ticks": ""
                      }
                    },
                    "scene": {
                      "xaxis": {
                        "backgroundcolor": "white",
                        "gridcolor": "#DFE8F3",
                        "gridwidth": 2,
                        "linecolor": "#EBF0F8",
                        "showbackground": true,
                        "ticks": "",
                        "zerolinecolor": "#EBF0F8"
                      },
                      "yaxis": {
                        "backgroundcolor": "white",
                        "gridcolor": "#DFE8F3",
                        "gridwidth": 2,
                        "linecolor": "#EBF0F8",
                        "showbackground": true,
                        "ticks": "",
                        "zerolinecolor": "#EBF0F8"
                      },
                      "zaxis": {
                        "backgroundcolor": "white",
                        "gridcolor": "#DFE8F3",
                        "gridwidth": 2,
                        "linecolor": "#EBF0F8",
                        "showbackground": true,
                        "ticks": "",
                        "zerolinecolor": "#EBF0F8"
                      }
                    },
                    "shapedefaults": {
                      "line": {
                        "color": "#2a3f5f"
                      }
                    },
                    "ternary": {
                      "aaxis": {
                        "gridcolor": "#DFE8F3",
                        "linecolor": "#A2B1C6",
                        "ticks": ""
                      },
                      "baxis": {
                        "gridcolor": "#DFE8F3",
                        "linecolor": "#A2B1C6",
                        "ticks": ""
                      },
                      "bgcolor": "white",
                      "caxis": {
                        "gridcolor": "#DFE8F3",
                        "linecolor": "#A2B1C6",
                        "ticks": ""
                      }
                    },
                    "title": {
                      "x": 0.05
                    },
                    "xaxis": {
                      "automargin": true,
                      "gridcolor": "#EBF0F8",
                      "linecolor": "#EBF0F8",
                      "ticks": "",
                      "title": {
                        "standoff": 15
                      },
                      "zerolinecolor": "#EBF0F8",
                      "zerolinewidth": 2
                    },
                    "yaxis": {
                      "automargin": true,
                      "gridcolor": "#EBF0F8",
                      "linecolor": "#EBF0F8",
                      "ticks": "",
                      "title": {
                        "standoff": 15
                      },
                      "zerolinecolor": "#EBF0F8",
                      "zerolinewidth": 2
                    }
                  }
                },
                "title": {
                  "font": {
                    "family": "Tahoma,sans serif",
                    "size": 20
                  },
                  "text": "<b>Escolaridade Paterna Enem 2021</b>",
                  "x": 0.5
                },
                "xaxis": {
                  "tickfont": {
                    "size": 14
                  },
                  "tickmode": "array",
                  "ticktext": [
                    "Até Ensino médio",
                    "Até Faculdade",
                    "Pós-graduado",
                    "Até o fundamental",
                    "Até o 5°<br>do fundamental",
                    "Não sabe",
                    "Não completou<br>5° do fundamental",
                    "Nunca estudou"
                  ],
                  "tickvals": [
                    0,
                    1,
                    2,
                    3,
                    4,
                    5,
                    6,
                    7
                  ]
                },
                "yaxis": {
                  "range": [
                    0,
                    1526.89
                  ],
                  "showticklabels": false,
                  "visible": false
                }
              }
            }
          },
          "metadata": {},
          "output_type": "display_data"
        }
      ],
      "source": [
        "lista_escolaridade_familiar = [\"Até Ensino médio\",\"Até Faculdade\",\"Pós-graduado\",\"Até o fundamental\",\"Até o 5°<br>do fundamental\",\"Não sabe\",\"Não completou<br>5° do fundamental\",\"Nunca estudou\"]\n",
        "\n",
        "graf_q001 = gerador_graf(nov_df['Q001'].value_counts())\n",
        "graf_q001.update_layout(xaxis=dict(tickmode='array',tickvals=[0,1,2,3,4,5,6,7],ticktext =lista_escolaridade_familiar,tickfont_size=14))\n",
        "\n",
        "graf_q001.show()"
      ]
    },
    {
      "cell_type": "code",
      "execution_count": 20,
      "metadata": {},
      "outputs": [
        {
          "data": {
            "application/vnd.plotly.v1+json": {
              "config": {
                "plotlyServerURL": "https://plot.ly"
              },
              "data": [
                {
                  "customdata": [
                    [
                      "Completou o Ensino Médio, mas não completou a Faculdade.",
                      1614
                    ],
                    [
                      "Completou a Faculdade, mas não completou a Pós-graduação.",
                      975
                    ],
                    [
                      "Completou a Pós-graduação.",
                      545
                    ],
                    [
                      "Completou a 8ª série/9º ano do Ensino Fundamental, mas não completou o Ensino Médio.",
                      334
                    ],
                    [
                      "Completou a 4ª série/5º ano, mas não completou a 8ª série/9º ano do Ensino Fundamental.",
                      250
                    ],
                    [
                      "Não completou a 4ª série/5º ano do Ensino Fundamental.",
                      124
                    ],
                    [
                      "Não sei.",
                      50
                    ],
                    [
                      "Nunca estudou.",
                      10
                    ]
                  ],
                  "hovertemplate": "<b>Escolaridade Mãe:</b> %{customdata[0]}<br><b>Quantidade: %{customdata[1]}</b>",
                  "marker": {
                    "color": [
                      "rgb(00, 33, 47)",
                      "rgb(00, 69, 94)",
                      "rgb(33, 249, 208)",
                      "rgb(46, 66, 74)",
                      "rgb(46, 66, 74)",
                      "rgb(46, 66, 74)",
                      "rgb(46, 66, 74)",
                      "rgb(46, 66, 74)"
                    ]
                  },
                  "text": [
                    1614,
                    975,
                    545,
                    334,
                    250,
                    124,
                    50,
                    10
                  ],
                  "textfont": {
                    "size": 16
                  },
                  "textposition": "outside",
                  "type": "bar",
                  "x": [
                    "Completou o Ensino Médio, mas não completou a Faculdade.",
                    "Completou a Faculdade, mas não completou a Pós-graduação.",
                    "Completou a Pós-graduação.",
                    "Completou a 8ª série/9º ano do Ensino Fundamental, mas não completou o Ensino Médio.",
                    "Completou a 4ª série/5º ano, mas não completou a 8ª série/9º ano do Ensino Fundamental.",
                    "Não completou a 4ª série/5º ano do Ensino Fundamental.",
                    "Não sei.",
                    "Nunca estudou."
                  ],
                  "y": [
                    1614,
                    975,
                    545,
                    334,
                    250,
                    124,
                    50,
                    10
                  ]
                }
              ],
              "layout": {
                "template": {
                  "data": {
                    "bar": [
                      {
                        "error_x": {
                          "color": "#2a3f5f"
                        },
                        "error_y": {
                          "color": "#2a3f5f"
                        },
                        "marker": {
                          "line": {
                            "color": "white",
                            "width": 0.5
                          },
                          "pattern": {
                            "fillmode": "overlay",
                            "size": 10,
                            "solidity": 0.2
                          }
                        },
                        "type": "bar"
                      }
                    ],
                    "barpolar": [
                      {
                        "marker": {
                          "line": {
                            "color": "white",
                            "width": 0.5
                          },
                          "pattern": {
                            "fillmode": "overlay",
                            "size": 10,
                            "solidity": 0.2
                          }
                        },
                        "type": "barpolar"
                      }
                    ],
                    "carpet": [
                      {
                        "aaxis": {
                          "endlinecolor": "#2a3f5f",
                          "gridcolor": "#C8D4E3",
                          "linecolor": "#C8D4E3",
                          "minorgridcolor": "#C8D4E3",
                          "startlinecolor": "#2a3f5f"
                        },
                        "baxis": {
                          "endlinecolor": "#2a3f5f",
                          "gridcolor": "#C8D4E3",
                          "linecolor": "#C8D4E3",
                          "minorgridcolor": "#C8D4E3",
                          "startlinecolor": "#2a3f5f"
                        },
                        "type": "carpet"
                      }
                    ],
                    "choropleth": [
                      {
                        "colorbar": {
                          "outlinewidth": 0,
                          "ticks": ""
                        },
                        "type": "choropleth"
                      }
                    ],
                    "contour": [
                      {
                        "colorbar": {
                          "outlinewidth": 0,
                          "ticks": ""
                        },
                        "colorscale": [
                          [
                            0,
                            "#0d0887"
                          ],
                          [
                            0.1111111111111111,
                            "#46039f"
                          ],
                          [
                            0.2222222222222222,
                            "#7201a8"
                          ],
                          [
                            0.3333333333333333,
                            "#9c179e"
                          ],
                          [
                            0.4444444444444444,
                            "#bd3786"
                          ],
                          [
                            0.5555555555555556,
                            "#d8576b"
                          ],
                          [
                            0.6666666666666666,
                            "#ed7953"
                          ],
                          [
                            0.7777777777777778,
                            "#fb9f3a"
                          ],
                          [
                            0.8888888888888888,
                            "#fdca26"
                          ],
                          [
                            1,
                            "#f0f921"
                          ]
                        ],
                        "type": "contour"
                      }
                    ],
                    "contourcarpet": [
                      {
                        "colorbar": {
                          "outlinewidth": 0,
                          "ticks": ""
                        },
                        "type": "contourcarpet"
                      }
                    ],
                    "heatmap": [
                      {
                        "colorbar": {
                          "outlinewidth": 0,
                          "ticks": ""
                        },
                        "colorscale": [
                          [
                            0,
                            "#0d0887"
                          ],
                          [
                            0.1111111111111111,
                            "#46039f"
                          ],
                          [
                            0.2222222222222222,
                            "#7201a8"
                          ],
                          [
                            0.3333333333333333,
                            "#9c179e"
                          ],
                          [
                            0.4444444444444444,
                            "#bd3786"
                          ],
                          [
                            0.5555555555555556,
                            "#d8576b"
                          ],
                          [
                            0.6666666666666666,
                            "#ed7953"
                          ],
                          [
                            0.7777777777777778,
                            "#fb9f3a"
                          ],
                          [
                            0.8888888888888888,
                            "#fdca26"
                          ],
                          [
                            1,
                            "#f0f921"
                          ]
                        ],
                        "type": "heatmap"
                      }
                    ],
                    "heatmapgl": [
                      {
                        "colorbar": {
                          "outlinewidth": 0,
                          "ticks": ""
                        },
                        "colorscale": [
                          [
                            0,
                            "#0d0887"
                          ],
                          [
                            0.1111111111111111,
                            "#46039f"
                          ],
                          [
                            0.2222222222222222,
                            "#7201a8"
                          ],
                          [
                            0.3333333333333333,
                            "#9c179e"
                          ],
                          [
                            0.4444444444444444,
                            "#bd3786"
                          ],
                          [
                            0.5555555555555556,
                            "#d8576b"
                          ],
                          [
                            0.6666666666666666,
                            "#ed7953"
                          ],
                          [
                            0.7777777777777778,
                            "#fb9f3a"
                          ],
                          [
                            0.8888888888888888,
                            "#fdca26"
                          ],
                          [
                            1,
                            "#f0f921"
                          ]
                        ],
                        "type": "heatmapgl"
                      }
                    ],
                    "histogram": [
                      {
                        "marker": {
                          "pattern": {
                            "fillmode": "overlay",
                            "size": 10,
                            "solidity": 0.2
                          }
                        },
                        "type": "histogram"
                      }
                    ],
                    "histogram2d": [
                      {
                        "colorbar": {
                          "outlinewidth": 0,
                          "ticks": ""
                        },
                        "colorscale": [
                          [
                            0,
                            "#0d0887"
                          ],
                          [
                            0.1111111111111111,
                            "#46039f"
                          ],
                          [
                            0.2222222222222222,
                            "#7201a8"
                          ],
                          [
                            0.3333333333333333,
                            "#9c179e"
                          ],
                          [
                            0.4444444444444444,
                            "#bd3786"
                          ],
                          [
                            0.5555555555555556,
                            "#d8576b"
                          ],
                          [
                            0.6666666666666666,
                            "#ed7953"
                          ],
                          [
                            0.7777777777777778,
                            "#fb9f3a"
                          ],
                          [
                            0.8888888888888888,
                            "#fdca26"
                          ],
                          [
                            1,
                            "#f0f921"
                          ]
                        ],
                        "type": "histogram2d"
                      }
                    ],
                    "histogram2dcontour": [
                      {
                        "colorbar": {
                          "outlinewidth": 0,
                          "ticks": ""
                        },
                        "colorscale": [
                          [
                            0,
                            "#0d0887"
                          ],
                          [
                            0.1111111111111111,
                            "#46039f"
                          ],
                          [
                            0.2222222222222222,
                            "#7201a8"
                          ],
                          [
                            0.3333333333333333,
                            "#9c179e"
                          ],
                          [
                            0.4444444444444444,
                            "#bd3786"
                          ],
                          [
                            0.5555555555555556,
                            "#d8576b"
                          ],
                          [
                            0.6666666666666666,
                            "#ed7953"
                          ],
                          [
                            0.7777777777777778,
                            "#fb9f3a"
                          ],
                          [
                            0.8888888888888888,
                            "#fdca26"
                          ],
                          [
                            1,
                            "#f0f921"
                          ]
                        ],
                        "type": "histogram2dcontour"
                      }
                    ],
                    "mesh3d": [
                      {
                        "colorbar": {
                          "outlinewidth": 0,
                          "ticks": ""
                        },
                        "type": "mesh3d"
                      }
                    ],
                    "parcoords": [
                      {
                        "line": {
                          "colorbar": {
                            "outlinewidth": 0,
                            "ticks": ""
                          }
                        },
                        "type": "parcoords"
                      }
                    ],
                    "pie": [
                      {
                        "automargin": true,
                        "type": "pie"
                      }
                    ],
                    "scatter": [
                      {
                        "fillpattern": {
                          "fillmode": "overlay",
                          "size": 10,
                          "solidity": 0.2
                        },
                        "type": "scatter"
                      }
                    ],
                    "scatter3d": [
                      {
                        "line": {
                          "colorbar": {
                            "outlinewidth": 0,
                            "ticks": ""
                          }
                        },
                        "marker": {
                          "colorbar": {
                            "outlinewidth": 0,
                            "ticks": ""
                          }
                        },
                        "type": "scatter3d"
                      }
                    ],
                    "scattercarpet": [
                      {
                        "marker": {
                          "colorbar": {
                            "outlinewidth": 0,
                            "ticks": ""
                          }
                        },
                        "type": "scattercarpet"
                      }
                    ],
                    "scattergeo": [
                      {
                        "marker": {
                          "colorbar": {
                            "outlinewidth": 0,
                            "ticks": ""
                          }
                        },
                        "type": "scattergeo"
                      }
                    ],
                    "scattergl": [
                      {
                        "marker": {
                          "colorbar": {
                            "outlinewidth": 0,
                            "ticks": ""
                          }
                        },
                        "type": "scattergl"
                      }
                    ],
                    "scattermapbox": [
                      {
                        "marker": {
                          "colorbar": {
                            "outlinewidth": 0,
                            "ticks": ""
                          }
                        },
                        "type": "scattermapbox"
                      }
                    ],
                    "scatterpolar": [
                      {
                        "marker": {
                          "colorbar": {
                            "outlinewidth": 0,
                            "ticks": ""
                          }
                        },
                        "type": "scatterpolar"
                      }
                    ],
                    "scatterpolargl": [
                      {
                        "marker": {
                          "colorbar": {
                            "outlinewidth": 0,
                            "ticks": ""
                          }
                        },
                        "type": "scatterpolargl"
                      }
                    ],
                    "scatterternary": [
                      {
                        "marker": {
                          "colorbar": {
                            "outlinewidth": 0,
                            "ticks": ""
                          }
                        },
                        "type": "scatterternary"
                      }
                    ],
                    "surface": [
                      {
                        "colorbar": {
                          "outlinewidth": 0,
                          "ticks": ""
                        },
                        "colorscale": [
                          [
                            0,
                            "#0d0887"
                          ],
                          [
                            0.1111111111111111,
                            "#46039f"
                          ],
                          [
                            0.2222222222222222,
                            "#7201a8"
                          ],
                          [
                            0.3333333333333333,
                            "#9c179e"
                          ],
                          [
                            0.4444444444444444,
                            "#bd3786"
                          ],
                          [
                            0.5555555555555556,
                            "#d8576b"
                          ],
                          [
                            0.6666666666666666,
                            "#ed7953"
                          ],
                          [
                            0.7777777777777778,
                            "#fb9f3a"
                          ],
                          [
                            0.8888888888888888,
                            "#fdca26"
                          ],
                          [
                            1,
                            "#f0f921"
                          ]
                        ],
                        "type": "surface"
                      }
                    ],
                    "table": [
                      {
                        "cells": {
                          "fill": {
                            "color": "#EBF0F8"
                          },
                          "line": {
                            "color": "white"
                          }
                        },
                        "header": {
                          "fill": {
                            "color": "#C8D4E3"
                          },
                          "line": {
                            "color": "white"
                          }
                        },
                        "type": "table"
                      }
                    ]
                  },
                  "layout": {
                    "annotationdefaults": {
                      "arrowcolor": "#2a3f5f",
                      "arrowhead": 0,
                      "arrowwidth": 1
                    },
                    "autotypenumbers": "strict",
                    "coloraxis": {
                      "colorbar": {
                        "outlinewidth": 0,
                        "ticks": ""
                      }
                    },
                    "colorscale": {
                      "diverging": [
                        [
                          0,
                          "#8e0152"
                        ],
                        [
                          0.1,
                          "#c51b7d"
                        ],
                        [
                          0.2,
                          "#de77ae"
                        ],
                        [
                          0.3,
                          "#f1b6da"
                        ],
                        [
                          0.4,
                          "#fde0ef"
                        ],
                        [
                          0.5,
                          "#f7f7f7"
                        ],
                        [
                          0.6,
                          "#e6f5d0"
                        ],
                        [
                          0.7,
                          "#b8e186"
                        ],
                        [
                          0.8,
                          "#7fbc41"
                        ],
                        [
                          0.9,
                          "#4d9221"
                        ],
                        [
                          1,
                          "#276419"
                        ]
                      ],
                      "sequential": [
                        [
                          0,
                          "#0d0887"
                        ],
                        [
                          0.1111111111111111,
                          "#46039f"
                        ],
                        [
                          0.2222222222222222,
                          "#7201a8"
                        ],
                        [
                          0.3333333333333333,
                          "#9c179e"
                        ],
                        [
                          0.4444444444444444,
                          "#bd3786"
                        ],
                        [
                          0.5555555555555556,
                          "#d8576b"
                        ],
                        [
                          0.6666666666666666,
                          "#ed7953"
                        ],
                        [
                          0.7777777777777778,
                          "#fb9f3a"
                        ],
                        [
                          0.8888888888888888,
                          "#fdca26"
                        ],
                        [
                          1,
                          "#f0f921"
                        ]
                      ],
                      "sequentialminus": [
                        [
                          0,
                          "#0d0887"
                        ],
                        [
                          0.1111111111111111,
                          "#46039f"
                        ],
                        [
                          0.2222222222222222,
                          "#7201a8"
                        ],
                        [
                          0.3333333333333333,
                          "#9c179e"
                        ],
                        [
                          0.4444444444444444,
                          "#bd3786"
                        ],
                        [
                          0.5555555555555556,
                          "#d8576b"
                        ],
                        [
                          0.6666666666666666,
                          "#ed7953"
                        ],
                        [
                          0.7777777777777778,
                          "#fb9f3a"
                        ],
                        [
                          0.8888888888888888,
                          "#fdca26"
                        ],
                        [
                          1,
                          "#f0f921"
                        ]
                      ]
                    },
                    "colorway": [
                      "#636efa",
                      "#EF553B",
                      "#00cc96",
                      "#ab63fa",
                      "#FFA15A",
                      "#19d3f3",
                      "#FF6692",
                      "#B6E880",
                      "#FF97FF",
                      "#FECB52"
                    ],
                    "font": {
                      "color": "#2a3f5f"
                    },
                    "geo": {
                      "bgcolor": "white",
                      "lakecolor": "white",
                      "landcolor": "white",
                      "showlakes": true,
                      "showland": true,
                      "subunitcolor": "#C8D4E3"
                    },
                    "hoverlabel": {
                      "align": "left"
                    },
                    "hovermode": "closest",
                    "mapbox": {
                      "style": "light"
                    },
                    "paper_bgcolor": "white",
                    "plot_bgcolor": "white",
                    "polar": {
                      "angularaxis": {
                        "gridcolor": "#EBF0F8",
                        "linecolor": "#EBF0F8",
                        "ticks": ""
                      },
                      "bgcolor": "white",
                      "radialaxis": {
                        "gridcolor": "#EBF0F8",
                        "linecolor": "#EBF0F8",
                        "ticks": ""
                      }
                    },
                    "scene": {
                      "xaxis": {
                        "backgroundcolor": "white",
                        "gridcolor": "#DFE8F3",
                        "gridwidth": 2,
                        "linecolor": "#EBF0F8",
                        "showbackground": true,
                        "ticks": "",
                        "zerolinecolor": "#EBF0F8"
                      },
                      "yaxis": {
                        "backgroundcolor": "white",
                        "gridcolor": "#DFE8F3",
                        "gridwidth": 2,
                        "linecolor": "#EBF0F8",
                        "showbackground": true,
                        "ticks": "",
                        "zerolinecolor": "#EBF0F8"
                      },
                      "zaxis": {
                        "backgroundcolor": "white",
                        "gridcolor": "#DFE8F3",
                        "gridwidth": 2,
                        "linecolor": "#EBF0F8",
                        "showbackground": true,
                        "ticks": "",
                        "zerolinecolor": "#EBF0F8"
                      }
                    },
                    "shapedefaults": {
                      "line": {
                        "color": "#2a3f5f"
                      }
                    },
                    "ternary": {
                      "aaxis": {
                        "gridcolor": "#DFE8F3",
                        "linecolor": "#A2B1C6",
                        "ticks": ""
                      },
                      "baxis": {
                        "gridcolor": "#DFE8F3",
                        "linecolor": "#A2B1C6",
                        "ticks": ""
                      },
                      "bgcolor": "white",
                      "caxis": {
                        "gridcolor": "#DFE8F3",
                        "linecolor": "#A2B1C6",
                        "ticks": ""
                      }
                    },
                    "title": {
                      "x": 0.05
                    },
                    "xaxis": {
                      "automargin": true,
                      "gridcolor": "#EBF0F8",
                      "linecolor": "#EBF0F8",
                      "ticks": "",
                      "title": {
                        "standoff": 15
                      },
                      "zerolinecolor": "#EBF0F8",
                      "zerolinewidth": 2
                    },
                    "yaxis": {
                      "automargin": true,
                      "gridcolor": "#EBF0F8",
                      "linecolor": "#EBF0F8",
                      "ticks": "",
                      "title": {
                        "standoff": 15
                      },
                      "zerolinecolor": "#EBF0F8",
                      "zerolinewidth": 2
                    }
                  }
                },
                "title": {
                  "font": {
                    "family": "Tahoma,sans serif",
                    "size": 20
                  },
                  "text": "<b>Escolaridade Materna Enem 2021</b>",
                  "x": 0.5
                },
                "xaxis": {
                  "tickfont": {
                    "size": 14
                  },
                  "tickmode": "array",
                  "ticktext": [
                    "Até Ensino médio",
                    "Até Faculdade",
                    "Pós-graduado",
                    "Até o fundamental",
                    "Até o 5°<br>do fundamental",
                    "Não sabe",
                    "Não completou<br>5° do fundamental",
                    "Nunca estudou"
                  ],
                  "tickvals": [
                    0,
                    1,
                    2,
                    3,
                    4,
                    5,
                    6,
                    7
                  ]
                },
                "yaxis": {
                  "range": [
                    0,
                    1726.98
                  ],
                  "showticklabels": false,
                  "visible": false
                }
              }
            }
          },
          "metadata": {},
          "output_type": "display_data"
        }
      ],
      "source": [
        "graf_q002 = gerador_graf(nov_df['Q002'].value_counts())\n",
        "\n",
        "graf_q002.update_layout(xaxis=dict(tickmode='array',tickvals=[0,1,2,3,4,5,6,7],ticktext =lista_escolaridade_familiar,tickfont_size=14))\n",
        "\n",
        "graf_q002.show()"
      ]
    },
    {
      "cell_type": "code",
      "execution_count": 21,
      "metadata": {},
      "outputs": [
        {
          "data": {
            "application/vnd.plotly.v1+json": {
              "config": {
                "plotlyServerURL": "https://plot.ly"
              },
              "data": [
                {
                  "customdata": [
                    [
                      "Grupo 4",
                      1354
                    ],
                    [
                      "Grupo 3",
                      1002
                    ],
                    [
                      "Grupo 2",
                      674
                    ],
                    [
                      "Grupo 5",
                      455
                    ],
                    [
                      "Não sei",
                      378
                    ],
                    [
                      "Grupo 1",
                      39
                    ]
                  ],
                  "hovertemplate": "<b>Ocupação Pai:</b> %{customdata[0]}<br><b>Quantidade: %{customdata[1]}</b>",
                  "marker": {
                    "color": [
                      "rgb(00, 33, 47)",
                      "rgb(00, 69, 94)",
                      "rgb(33, 249, 208)",
                      "rgb(46, 66, 74)",
                      "rgb(46, 66, 74)",
                      "rgb(46, 66, 74)"
                    ]
                  },
                  "text": [
                    1354,
                    1002,
                    674,
                    455,
                    378,
                    39
                  ],
                  "textfont": {
                    "size": 16
                  },
                  "textposition": "outside",
                  "type": "bar",
                  "x": [
                    "Grupo 4",
                    "Grupo 3",
                    "Grupo 2",
                    "Grupo 5",
                    "Não sei",
                    "Grupo 1"
                  ],
                  "y": [
                    1354,
                    1002,
                    674,
                    455,
                    378,
                    39
                  ]
                }
              ],
              "layout": {
                "template": {
                  "data": {
                    "bar": [
                      {
                        "error_x": {
                          "color": "#2a3f5f"
                        },
                        "error_y": {
                          "color": "#2a3f5f"
                        },
                        "marker": {
                          "line": {
                            "color": "white",
                            "width": 0.5
                          },
                          "pattern": {
                            "fillmode": "overlay",
                            "size": 10,
                            "solidity": 0.2
                          }
                        },
                        "type": "bar"
                      }
                    ],
                    "barpolar": [
                      {
                        "marker": {
                          "line": {
                            "color": "white",
                            "width": 0.5
                          },
                          "pattern": {
                            "fillmode": "overlay",
                            "size": 10,
                            "solidity": 0.2
                          }
                        },
                        "type": "barpolar"
                      }
                    ],
                    "carpet": [
                      {
                        "aaxis": {
                          "endlinecolor": "#2a3f5f",
                          "gridcolor": "#C8D4E3",
                          "linecolor": "#C8D4E3",
                          "minorgridcolor": "#C8D4E3",
                          "startlinecolor": "#2a3f5f"
                        },
                        "baxis": {
                          "endlinecolor": "#2a3f5f",
                          "gridcolor": "#C8D4E3",
                          "linecolor": "#C8D4E3",
                          "minorgridcolor": "#C8D4E3",
                          "startlinecolor": "#2a3f5f"
                        },
                        "type": "carpet"
                      }
                    ],
                    "choropleth": [
                      {
                        "colorbar": {
                          "outlinewidth": 0,
                          "ticks": ""
                        },
                        "type": "choropleth"
                      }
                    ],
                    "contour": [
                      {
                        "colorbar": {
                          "outlinewidth": 0,
                          "ticks": ""
                        },
                        "colorscale": [
                          [
                            0,
                            "#0d0887"
                          ],
                          [
                            0.1111111111111111,
                            "#46039f"
                          ],
                          [
                            0.2222222222222222,
                            "#7201a8"
                          ],
                          [
                            0.3333333333333333,
                            "#9c179e"
                          ],
                          [
                            0.4444444444444444,
                            "#bd3786"
                          ],
                          [
                            0.5555555555555556,
                            "#d8576b"
                          ],
                          [
                            0.6666666666666666,
                            "#ed7953"
                          ],
                          [
                            0.7777777777777778,
                            "#fb9f3a"
                          ],
                          [
                            0.8888888888888888,
                            "#fdca26"
                          ],
                          [
                            1,
                            "#f0f921"
                          ]
                        ],
                        "type": "contour"
                      }
                    ],
                    "contourcarpet": [
                      {
                        "colorbar": {
                          "outlinewidth": 0,
                          "ticks": ""
                        },
                        "type": "contourcarpet"
                      }
                    ],
                    "heatmap": [
                      {
                        "colorbar": {
                          "outlinewidth": 0,
                          "ticks": ""
                        },
                        "colorscale": [
                          [
                            0,
                            "#0d0887"
                          ],
                          [
                            0.1111111111111111,
                            "#46039f"
                          ],
                          [
                            0.2222222222222222,
                            "#7201a8"
                          ],
                          [
                            0.3333333333333333,
                            "#9c179e"
                          ],
                          [
                            0.4444444444444444,
                            "#bd3786"
                          ],
                          [
                            0.5555555555555556,
                            "#d8576b"
                          ],
                          [
                            0.6666666666666666,
                            "#ed7953"
                          ],
                          [
                            0.7777777777777778,
                            "#fb9f3a"
                          ],
                          [
                            0.8888888888888888,
                            "#fdca26"
                          ],
                          [
                            1,
                            "#f0f921"
                          ]
                        ],
                        "type": "heatmap"
                      }
                    ],
                    "heatmapgl": [
                      {
                        "colorbar": {
                          "outlinewidth": 0,
                          "ticks": ""
                        },
                        "colorscale": [
                          [
                            0,
                            "#0d0887"
                          ],
                          [
                            0.1111111111111111,
                            "#46039f"
                          ],
                          [
                            0.2222222222222222,
                            "#7201a8"
                          ],
                          [
                            0.3333333333333333,
                            "#9c179e"
                          ],
                          [
                            0.4444444444444444,
                            "#bd3786"
                          ],
                          [
                            0.5555555555555556,
                            "#d8576b"
                          ],
                          [
                            0.6666666666666666,
                            "#ed7953"
                          ],
                          [
                            0.7777777777777778,
                            "#fb9f3a"
                          ],
                          [
                            0.8888888888888888,
                            "#fdca26"
                          ],
                          [
                            1,
                            "#f0f921"
                          ]
                        ],
                        "type": "heatmapgl"
                      }
                    ],
                    "histogram": [
                      {
                        "marker": {
                          "pattern": {
                            "fillmode": "overlay",
                            "size": 10,
                            "solidity": 0.2
                          }
                        },
                        "type": "histogram"
                      }
                    ],
                    "histogram2d": [
                      {
                        "colorbar": {
                          "outlinewidth": 0,
                          "ticks": ""
                        },
                        "colorscale": [
                          [
                            0,
                            "#0d0887"
                          ],
                          [
                            0.1111111111111111,
                            "#46039f"
                          ],
                          [
                            0.2222222222222222,
                            "#7201a8"
                          ],
                          [
                            0.3333333333333333,
                            "#9c179e"
                          ],
                          [
                            0.4444444444444444,
                            "#bd3786"
                          ],
                          [
                            0.5555555555555556,
                            "#d8576b"
                          ],
                          [
                            0.6666666666666666,
                            "#ed7953"
                          ],
                          [
                            0.7777777777777778,
                            "#fb9f3a"
                          ],
                          [
                            0.8888888888888888,
                            "#fdca26"
                          ],
                          [
                            1,
                            "#f0f921"
                          ]
                        ],
                        "type": "histogram2d"
                      }
                    ],
                    "histogram2dcontour": [
                      {
                        "colorbar": {
                          "outlinewidth": 0,
                          "ticks": ""
                        },
                        "colorscale": [
                          [
                            0,
                            "#0d0887"
                          ],
                          [
                            0.1111111111111111,
                            "#46039f"
                          ],
                          [
                            0.2222222222222222,
                            "#7201a8"
                          ],
                          [
                            0.3333333333333333,
                            "#9c179e"
                          ],
                          [
                            0.4444444444444444,
                            "#bd3786"
                          ],
                          [
                            0.5555555555555556,
                            "#d8576b"
                          ],
                          [
                            0.6666666666666666,
                            "#ed7953"
                          ],
                          [
                            0.7777777777777778,
                            "#fb9f3a"
                          ],
                          [
                            0.8888888888888888,
                            "#fdca26"
                          ],
                          [
                            1,
                            "#f0f921"
                          ]
                        ],
                        "type": "histogram2dcontour"
                      }
                    ],
                    "mesh3d": [
                      {
                        "colorbar": {
                          "outlinewidth": 0,
                          "ticks": ""
                        },
                        "type": "mesh3d"
                      }
                    ],
                    "parcoords": [
                      {
                        "line": {
                          "colorbar": {
                            "outlinewidth": 0,
                            "ticks": ""
                          }
                        },
                        "type": "parcoords"
                      }
                    ],
                    "pie": [
                      {
                        "automargin": true,
                        "type": "pie"
                      }
                    ],
                    "scatter": [
                      {
                        "fillpattern": {
                          "fillmode": "overlay",
                          "size": 10,
                          "solidity": 0.2
                        },
                        "type": "scatter"
                      }
                    ],
                    "scatter3d": [
                      {
                        "line": {
                          "colorbar": {
                            "outlinewidth": 0,
                            "ticks": ""
                          }
                        },
                        "marker": {
                          "colorbar": {
                            "outlinewidth": 0,
                            "ticks": ""
                          }
                        },
                        "type": "scatter3d"
                      }
                    ],
                    "scattercarpet": [
                      {
                        "marker": {
                          "colorbar": {
                            "outlinewidth": 0,
                            "ticks": ""
                          }
                        },
                        "type": "scattercarpet"
                      }
                    ],
                    "scattergeo": [
                      {
                        "marker": {
                          "colorbar": {
                            "outlinewidth": 0,
                            "ticks": ""
                          }
                        },
                        "type": "scattergeo"
                      }
                    ],
                    "scattergl": [
                      {
                        "marker": {
                          "colorbar": {
                            "outlinewidth": 0,
                            "ticks": ""
                          }
                        },
                        "type": "scattergl"
                      }
                    ],
                    "scattermapbox": [
                      {
                        "marker": {
                          "colorbar": {
                            "outlinewidth": 0,
                            "ticks": ""
                          }
                        },
                        "type": "scattermapbox"
                      }
                    ],
                    "scatterpolar": [
                      {
                        "marker": {
                          "colorbar": {
                            "outlinewidth": 0,
                            "ticks": ""
                          }
                        },
                        "type": "scatterpolar"
                      }
                    ],
                    "scatterpolargl": [
                      {
                        "marker": {
                          "colorbar": {
                            "outlinewidth": 0,
                            "ticks": ""
                          }
                        },
                        "type": "scatterpolargl"
                      }
                    ],
                    "scatterternary": [
                      {
                        "marker": {
                          "colorbar": {
                            "outlinewidth": 0,
                            "ticks": ""
                          }
                        },
                        "type": "scatterternary"
                      }
                    ],
                    "surface": [
                      {
                        "colorbar": {
                          "outlinewidth": 0,
                          "ticks": ""
                        },
                        "colorscale": [
                          [
                            0,
                            "#0d0887"
                          ],
                          [
                            0.1111111111111111,
                            "#46039f"
                          ],
                          [
                            0.2222222222222222,
                            "#7201a8"
                          ],
                          [
                            0.3333333333333333,
                            "#9c179e"
                          ],
                          [
                            0.4444444444444444,
                            "#bd3786"
                          ],
                          [
                            0.5555555555555556,
                            "#d8576b"
                          ],
                          [
                            0.6666666666666666,
                            "#ed7953"
                          ],
                          [
                            0.7777777777777778,
                            "#fb9f3a"
                          ],
                          [
                            0.8888888888888888,
                            "#fdca26"
                          ],
                          [
                            1,
                            "#f0f921"
                          ]
                        ],
                        "type": "surface"
                      }
                    ],
                    "table": [
                      {
                        "cells": {
                          "fill": {
                            "color": "#EBF0F8"
                          },
                          "line": {
                            "color": "white"
                          }
                        },
                        "header": {
                          "fill": {
                            "color": "#C8D4E3"
                          },
                          "line": {
                            "color": "white"
                          }
                        },
                        "type": "table"
                      }
                    ]
                  },
                  "layout": {
                    "annotationdefaults": {
                      "arrowcolor": "#2a3f5f",
                      "arrowhead": 0,
                      "arrowwidth": 1
                    },
                    "autotypenumbers": "strict",
                    "coloraxis": {
                      "colorbar": {
                        "outlinewidth": 0,
                        "ticks": ""
                      }
                    },
                    "colorscale": {
                      "diverging": [
                        [
                          0,
                          "#8e0152"
                        ],
                        [
                          0.1,
                          "#c51b7d"
                        ],
                        [
                          0.2,
                          "#de77ae"
                        ],
                        [
                          0.3,
                          "#f1b6da"
                        ],
                        [
                          0.4,
                          "#fde0ef"
                        ],
                        [
                          0.5,
                          "#f7f7f7"
                        ],
                        [
                          0.6,
                          "#e6f5d0"
                        ],
                        [
                          0.7,
                          "#b8e186"
                        ],
                        [
                          0.8,
                          "#7fbc41"
                        ],
                        [
                          0.9,
                          "#4d9221"
                        ],
                        [
                          1,
                          "#276419"
                        ]
                      ],
                      "sequential": [
                        [
                          0,
                          "#0d0887"
                        ],
                        [
                          0.1111111111111111,
                          "#46039f"
                        ],
                        [
                          0.2222222222222222,
                          "#7201a8"
                        ],
                        [
                          0.3333333333333333,
                          "#9c179e"
                        ],
                        [
                          0.4444444444444444,
                          "#bd3786"
                        ],
                        [
                          0.5555555555555556,
                          "#d8576b"
                        ],
                        [
                          0.6666666666666666,
                          "#ed7953"
                        ],
                        [
                          0.7777777777777778,
                          "#fb9f3a"
                        ],
                        [
                          0.8888888888888888,
                          "#fdca26"
                        ],
                        [
                          1,
                          "#f0f921"
                        ]
                      ],
                      "sequentialminus": [
                        [
                          0,
                          "#0d0887"
                        ],
                        [
                          0.1111111111111111,
                          "#46039f"
                        ],
                        [
                          0.2222222222222222,
                          "#7201a8"
                        ],
                        [
                          0.3333333333333333,
                          "#9c179e"
                        ],
                        [
                          0.4444444444444444,
                          "#bd3786"
                        ],
                        [
                          0.5555555555555556,
                          "#d8576b"
                        ],
                        [
                          0.6666666666666666,
                          "#ed7953"
                        ],
                        [
                          0.7777777777777778,
                          "#fb9f3a"
                        ],
                        [
                          0.8888888888888888,
                          "#fdca26"
                        ],
                        [
                          1,
                          "#f0f921"
                        ]
                      ]
                    },
                    "colorway": [
                      "#636efa",
                      "#EF553B",
                      "#00cc96",
                      "#ab63fa",
                      "#FFA15A",
                      "#19d3f3",
                      "#FF6692",
                      "#B6E880",
                      "#FF97FF",
                      "#FECB52"
                    ],
                    "font": {
                      "color": "#2a3f5f"
                    },
                    "geo": {
                      "bgcolor": "white",
                      "lakecolor": "white",
                      "landcolor": "white",
                      "showlakes": true,
                      "showland": true,
                      "subunitcolor": "#C8D4E3"
                    },
                    "hoverlabel": {
                      "align": "left"
                    },
                    "hovermode": "closest",
                    "mapbox": {
                      "style": "light"
                    },
                    "paper_bgcolor": "white",
                    "plot_bgcolor": "white",
                    "polar": {
                      "angularaxis": {
                        "gridcolor": "#EBF0F8",
                        "linecolor": "#EBF0F8",
                        "ticks": ""
                      },
                      "bgcolor": "white",
                      "radialaxis": {
                        "gridcolor": "#EBF0F8",
                        "linecolor": "#EBF0F8",
                        "ticks": ""
                      }
                    },
                    "scene": {
                      "xaxis": {
                        "backgroundcolor": "white",
                        "gridcolor": "#DFE8F3",
                        "gridwidth": 2,
                        "linecolor": "#EBF0F8",
                        "showbackground": true,
                        "ticks": "",
                        "zerolinecolor": "#EBF0F8"
                      },
                      "yaxis": {
                        "backgroundcolor": "white",
                        "gridcolor": "#DFE8F3",
                        "gridwidth": 2,
                        "linecolor": "#EBF0F8",
                        "showbackground": true,
                        "ticks": "",
                        "zerolinecolor": "#EBF0F8"
                      },
                      "zaxis": {
                        "backgroundcolor": "white",
                        "gridcolor": "#DFE8F3",
                        "gridwidth": 2,
                        "linecolor": "#EBF0F8",
                        "showbackground": true,
                        "ticks": "",
                        "zerolinecolor": "#EBF0F8"
                      }
                    },
                    "shapedefaults": {
                      "line": {
                        "color": "#2a3f5f"
                      }
                    },
                    "ternary": {
                      "aaxis": {
                        "gridcolor": "#DFE8F3",
                        "linecolor": "#A2B1C6",
                        "ticks": ""
                      },
                      "baxis": {
                        "gridcolor": "#DFE8F3",
                        "linecolor": "#A2B1C6",
                        "ticks": ""
                      },
                      "bgcolor": "white",
                      "caxis": {
                        "gridcolor": "#DFE8F3",
                        "linecolor": "#A2B1C6",
                        "ticks": ""
                      }
                    },
                    "title": {
                      "x": 0.05
                    },
                    "xaxis": {
                      "automargin": true,
                      "gridcolor": "#EBF0F8",
                      "linecolor": "#EBF0F8",
                      "ticks": "",
                      "title": {
                        "standoff": 15
                      },
                      "zerolinecolor": "#EBF0F8",
                      "zerolinewidth": 2
                    },
                    "yaxis": {
                      "automargin": true,
                      "gridcolor": "#EBF0F8",
                      "linecolor": "#EBF0F8",
                      "ticks": "",
                      "title": {
                        "standoff": 15
                      },
                      "zerolinecolor": "#EBF0F8",
                      "zerolinewidth": 2
                    }
                  }
                },
                "title": {
                  "font": {
                    "family": "Tahoma,sans serif",
                    "size": 20
                  },
                  "text": "<b>Grupo de Ocupação Paterna Enem 2021</b>",
                  "x": 0.5
                },
                "xaxis": {
                  "tickfont": {
                    "size": 16
                  }
                },
                "yaxis": {
                  "range": [
                    0,
                    1448.78
                  ],
                  "showticklabels": false,
                  "visible": false
                }
              }
            }
          },
          "metadata": {},
          "output_type": "display_data"
        }
      ],
      "source": [
        "gerador_graf(nov_df['Q003'].value_counts())"
      ]
    },
    {
      "cell_type": "code",
      "execution_count": 22,
      "metadata": {},
      "outputs": [
        {
          "data": {
            "application/vnd.plotly.v1+json": {
              "config": {
                "plotlyServerURL": "https://plot.ly"
              },
              "data": [
                {
                  "customdata": [
                    [
                      "Grupo 2",
                      1480
                    ],
                    [
                      "Grupo 4",
                      1473
                    ],
                    [
                      "Não sei",
                      338
                    ],
                    [
                      "Grupo 5",
                      297
                    ],
                    [
                      "Grupo 3",
                      281
                    ],
                    [
                      "Grupo 1",
                      33
                    ]
                  ],
                  "hovertemplate": "<b>Ocupação Mãe:</b> %{customdata[0]}<br><b>Quantidade: %{customdata[1]}</b>",
                  "marker": {
                    "color": [
                      "rgb(00, 33, 47)",
                      "rgb(00, 69, 94)",
                      "rgb(33, 249, 208)",
                      "rgb(46, 66, 74)",
                      "rgb(46, 66, 74)",
                      "rgb(46, 66, 74)"
                    ]
                  },
                  "text": [
                    1480,
                    1473,
                    338,
                    297,
                    281,
                    33
                  ],
                  "textfont": {
                    "size": 16
                  },
                  "textposition": "outside",
                  "type": "bar",
                  "x": [
                    "Grupo 2",
                    "Grupo 4",
                    "Não sei",
                    "Grupo 5",
                    "Grupo 3",
                    "Grupo 1"
                  ],
                  "y": [
                    1480,
                    1473,
                    338,
                    297,
                    281,
                    33
                  ]
                }
              ],
              "layout": {
                "template": {
                  "data": {
                    "bar": [
                      {
                        "error_x": {
                          "color": "#2a3f5f"
                        },
                        "error_y": {
                          "color": "#2a3f5f"
                        },
                        "marker": {
                          "line": {
                            "color": "white",
                            "width": 0.5
                          },
                          "pattern": {
                            "fillmode": "overlay",
                            "size": 10,
                            "solidity": 0.2
                          }
                        },
                        "type": "bar"
                      }
                    ],
                    "barpolar": [
                      {
                        "marker": {
                          "line": {
                            "color": "white",
                            "width": 0.5
                          },
                          "pattern": {
                            "fillmode": "overlay",
                            "size": 10,
                            "solidity": 0.2
                          }
                        },
                        "type": "barpolar"
                      }
                    ],
                    "carpet": [
                      {
                        "aaxis": {
                          "endlinecolor": "#2a3f5f",
                          "gridcolor": "#C8D4E3",
                          "linecolor": "#C8D4E3",
                          "minorgridcolor": "#C8D4E3",
                          "startlinecolor": "#2a3f5f"
                        },
                        "baxis": {
                          "endlinecolor": "#2a3f5f",
                          "gridcolor": "#C8D4E3",
                          "linecolor": "#C8D4E3",
                          "minorgridcolor": "#C8D4E3",
                          "startlinecolor": "#2a3f5f"
                        },
                        "type": "carpet"
                      }
                    ],
                    "choropleth": [
                      {
                        "colorbar": {
                          "outlinewidth": 0,
                          "ticks": ""
                        },
                        "type": "choropleth"
                      }
                    ],
                    "contour": [
                      {
                        "colorbar": {
                          "outlinewidth": 0,
                          "ticks": ""
                        },
                        "colorscale": [
                          [
                            0,
                            "#0d0887"
                          ],
                          [
                            0.1111111111111111,
                            "#46039f"
                          ],
                          [
                            0.2222222222222222,
                            "#7201a8"
                          ],
                          [
                            0.3333333333333333,
                            "#9c179e"
                          ],
                          [
                            0.4444444444444444,
                            "#bd3786"
                          ],
                          [
                            0.5555555555555556,
                            "#d8576b"
                          ],
                          [
                            0.6666666666666666,
                            "#ed7953"
                          ],
                          [
                            0.7777777777777778,
                            "#fb9f3a"
                          ],
                          [
                            0.8888888888888888,
                            "#fdca26"
                          ],
                          [
                            1,
                            "#f0f921"
                          ]
                        ],
                        "type": "contour"
                      }
                    ],
                    "contourcarpet": [
                      {
                        "colorbar": {
                          "outlinewidth": 0,
                          "ticks": ""
                        },
                        "type": "contourcarpet"
                      }
                    ],
                    "heatmap": [
                      {
                        "colorbar": {
                          "outlinewidth": 0,
                          "ticks": ""
                        },
                        "colorscale": [
                          [
                            0,
                            "#0d0887"
                          ],
                          [
                            0.1111111111111111,
                            "#46039f"
                          ],
                          [
                            0.2222222222222222,
                            "#7201a8"
                          ],
                          [
                            0.3333333333333333,
                            "#9c179e"
                          ],
                          [
                            0.4444444444444444,
                            "#bd3786"
                          ],
                          [
                            0.5555555555555556,
                            "#d8576b"
                          ],
                          [
                            0.6666666666666666,
                            "#ed7953"
                          ],
                          [
                            0.7777777777777778,
                            "#fb9f3a"
                          ],
                          [
                            0.8888888888888888,
                            "#fdca26"
                          ],
                          [
                            1,
                            "#f0f921"
                          ]
                        ],
                        "type": "heatmap"
                      }
                    ],
                    "heatmapgl": [
                      {
                        "colorbar": {
                          "outlinewidth": 0,
                          "ticks": ""
                        },
                        "colorscale": [
                          [
                            0,
                            "#0d0887"
                          ],
                          [
                            0.1111111111111111,
                            "#46039f"
                          ],
                          [
                            0.2222222222222222,
                            "#7201a8"
                          ],
                          [
                            0.3333333333333333,
                            "#9c179e"
                          ],
                          [
                            0.4444444444444444,
                            "#bd3786"
                          ],
                          [
                            0.5555555555555556,
                            "#d8576b"
                          ],
                          [
                            0.6666666666666666,
                            "#ed7953"
                          ],
                          [
                            0.7777777777777778,
                            "#fb9f3a"
                          ],
                          [
                            0.8888888888888888,
                            "#fdca26"
                          ],
                          [
                            1,
                            "#f0f921"
                          ]
                        ],
                        "type": "heatmapgl"
                      }
                    ],
                    "histogram": [
                      {
                        "marker": {
                          "pattern": {
                            "fillmode": "overlay",
                            "size": 10,
                            "solidity": 0.2
                          }
                        },
                        "type": "histogram"
                      }
                    ],
                    "histogram2d": [
                      {
                        "colorbar": {
                          "outlinewidth": 0,
                          "ticks": ""
                        },
                        "colorscale": [
                          [
                            0,
                            "#0d0887"
                          ],
                          [
                            0.1111111111111111,
                            "#46039f"
                          ],
                          [
                            0.2222222222222222,
                            "#7201a8"
                          ],
                          [
                            0.3333333333333333,
                            "#9c179e"
                          ],
                          [
                            0.4444444444444444,
                            "#bd3786"
                          ],
                          [
                            0.5555555555555556,
                            "#d8576b"
                          ],
                          [
                            0.6666666666666666,
                            "#ed7953"
                          ],
                          [
                            0.7777777777777778,
                            "#fb9f3a"
                          ],
                          [
                            0.8888888888888888,
                            "#fdca26"
                          ],
                          [
                            1,
                            "#f0f921"
                          ]
                        ],
                        "type": "histogram2d"
                      }
                    ],
                    "histogram2dcontour": [
                      {
                        "colorbar": {
                          "outlinewidth": 0,
                          "ticks": ""
                        },
                        "colorscale": [
                          [
                            0,
                            "#0d0887"
                          ],
                          [
                            0.1111111111111111,
                            "#46039f"
                          ],
                          [
                            0.2222222222222222,
                            "#7201a8"
                          ],
                          [
                            0.3333333333333333,
                            "#9c179e"
                          ],
                          [
                            0.4444444444444444,
                            "#bd3786"
                          ],
                          [
                            0.5555555555555556,
                            "#d8576b"
                          ],
                          [
                            0.6666666666666666,
                            "#ed7953"
                          ],
                          [
                            0.7777777777777778,
                            "#fb9f3a"
                          ],
                          [
                            0.8888888888888888,
                            "#fdca26"
                          ],
                          [
                            1,
                            "#f0f921"
                          ]
                        ],
                        "type": "histogram2dcontour"
                      }
                    ],
                    "mesh3d": [
                      {
                        "colorbar": {
                          "outlinewidth": 0,
                          "ticks": ""
                        },
                        "type": "mesh3d"
                      }
                    ],
                    "parcoords": [
                      {
                        "line": {
                          "colorbar": {
                            "outlinewidth": 0,
                            "ticks": ""
                          }
                        },
                        "type": "parcoords"
                      }
                    ],
                    "pie": [
                      {
                        "automargin": true,
                        "type": "pie"
                      }
                    ],
                    "scatter": [
                      {
                        "fillpattern": {
                          "fillmode": "overlay",
                          "size": 10,
                          "solidity": 0.2
                        },
                        "type": "scatter"
                      }
                    ],
                    "scatter3d": [
                      {
                        "line": {
                          "colorbar": {
                            "outlinewidth": 0,
                            "ticks": ""
                          }
                        },
                        "marker": {
                          "colorbar": {
                            "outlinewidth": 0,
                            "ticks": ""
                          }
                        },
                        "type": "scatter3d"
                      }
                    ],
                    "scattercarpet": [
                      {
                        "marker": {
                          "colorbar": {
                            "outlinewidth": 0,
                            "ticks": ""
                          }
                        },
                        "type": "scattercarpet"
                      }
                    ],
                    "scattergeo": [
                      {
                        "marker": {
                          "colorbar": {
                            "outlinewidth": 0,
                            "ticks": ""
                          }
                        },
                        "type": "scattergeo"
                      }
                    ],
                    "scattergl": [
                      {
                        "marker": {
                          "colorbar": {
                            "outlinewidth": 0,
                            "ticks": ""
                          }
                        },
                        "type": "scattergl"
                      }
                    ],
                    "scattermapbox": [
                      {
                        "marker": {
                          "colorbar": {
                            "outlinewidth": 0,
                            "ticks": ""
                          }
                        },
                        "type": "scattermapbox"
                      }
                    ],
                    "scatterpolar": [
                      {
                        "marker": {
                          "colorbar": {
                            "outlinewidth": 0,
                            "ticks": ""
                          }
                        },
                        "type": "scatterpolar"
                      }
                    ],
                    "scatterpolargl": [
                      {
                        "marker": {
                          "colorbar": {
                            "outlinewidth": 0,
                            "ticks": ""
                          }
                        },
                        "type": "scatterpolargl"
                      }
                    ],
                    "scatterternary": [
                      {
                        "marker": {
                          "colorbar": {
                            "outlinewidth": 0,
                            "ticks": ""
                          }
                        },
                        "type": "scatterternary"
                      }
                    ],
                    "surface": [
                      {
                        "colorbar": {
                          "outlinewidth": 0,
                          "ticks": ""
                        },
                        "colorscale": [
                          [
                            0,
                            "#0d0887"
                          ],
                          [
                            0.1111111111111111,
                            "#46039f"
                          ],
                          [
                            0.2222222222222222,
                            "#7201a8"
                          ],
                          [
                            0.3333333333333333,
                            "#9c179e"
                          ],
                          [
                            0.4444444444444444,
                            "#bd3786"
                          ],
                          [
                            0.5555555555555556,
                            "#d8576b"
                          ],
                          [
                            0.6666666666666666,
                            "#ed7953"
                          ],
                          [
                            0.7777777777777778,
                            "#fb9f3a"
                          ],
                          [
                            0.8888888888888888,
                            "#fdca26"
                          ],
                          [
                            1,
                            "#f0f921"
                          ]
                        ],
                        "type": "surface"
                      }
                    ],
                    "table": [
                      {
                        "cells": {
                          "fill": {
                            "color": "#EBF0F8"
                          },
                          "line": {
                            "color": "white"
                          }
                        },
                        "header": {
                          "fill": {
                            "color": "#C8D4E3"
                          },
                          "line": {
                            "color": "white"
                          }
                        },
                        "type": "table"
                      }
                    ]
                  },
                  "layout": {
                    "annotationdefaults": {
                      "arrowcolor": "#2a3f5f",
                      "arrowhead": 0,
                      "arrowwidth": 1
                    },
                    "autotypenumbers": "strict",
                    "coloraxis": {
                      "colorbar": {
                        "outlinewidth": 0,
                        "ticks": ""
                      }
                    },
                    "colorscale": {
                      "diverging": [
                        [
                          0,
                          "#8e0152"
                        ],
                        [
                          0.1,
                          "#c51b7d"
                        ],
                        [
                          0.2,
                          "#de77ae"
                        ],
                        [
                          0.3,
                          "#f1b6da"
                        ],
                        [
                          0.4,
                          "#fde0ef"
                        ],
                        [
                          0.5,
                          "#f7f7f7"
                        ],
                        [
                          0.6,
                          "#e6f5d0"
                        ],
                        [
                          0.7,
                          "#b8e186"
                        ],
                        [
                          0.8,
                          "#7fbc41"
                        ],
                        [
                          0.9,
                          "#4d9221"
                        ],
                        [
                          1,
                          "#276419"
                        ]
                      ],
                      "sequential": [
                        [
                          0,
                          "#0d0887"
                        ],
                        [
                          0.1111111111111111,
                          "#46039f"
                        ],
                        [
                          0.2222222222222222,
                          "#7201a8"
                        ],
                        [
                          0.3333333333333333,
                          "#9c179e"
                        ],
                        [
                          0.4444444444444444,
                          "#bd3786"
                        ],
                        [
                          0.5555555555555556,
                          "#d8576b"
                        ],
                        [
                          0.6666666666666666,
                          "#ed7953"
                        ],
                        [
                          0.7777777777777778,
                          "#fb9f3a"
                        ],
                        [
                          0.8888888888888888,
                          "#fdca26"
                        ],
                        [
                          1,
                          "#f0f921"
                        ]
                      ],
                      "sequentialminus": [
                        [
                          0,
                          "#0d0887"
                        ],
                        [
                          0.1111111111111111,
                          "#46039f"
                        ],
                        [
                          0.2222222222222222,
                          "#7201a8"
                        ],
                        [
                          0.3333333333333333,
                          "#9c179e"
                        ],
                        [
                          0.4444444444444444,
                          "#bd3786"
                        ],
                        [
                          0.5555555555555556,
                          "#d8576b"
                        ],
                        [
                          0.6666666666666666,
                          "#ed7953"
                        ],
                        [
                          0.7777777777777778,
                          "#fb9f3a"
                        ],
                        [
                          0.8888888888888888,
                          "#fdca26"
                        ],
                        [
                          1,
                          "#f0f921"
                        ]
                      ]
                    },
                    "colorway": [
                      "#636efa",
                      "#EF553B",
                      "#00cc96",
                      "#ab63fa",
                      "#FFA15A",
                      "#19d3f3",
                      "#FF6692",
                      "#B6E880",
                      "#FF97FF",
                      "#FECB52"
                    ],
                    "font": {
                      "color": "#2a3f5f"
                    },
                    "geo": {
                      "bgcolor": "white",
                      "lakecolor": "white",
                      "landcolor": "white",
                      "showlakes": true,
                      "showland": true,
                      "subunitcolor": "#C8D4E3"
                    },
                    "hoverlabel": {
                      "align": "left"
                    },
                    "hovermode": "closest",
                    "mapbox": {
                      "style": "light"
                    },
                    "paper_bgcolor": "white",
                    "plot_bgcolor": "white",
                    "polar": {
                      "angularaxis": {
                        "gridcolor": "#EBF0F8",
                        "linecolor": "#EBF0F8",
                        "ticks": ""
                      },
                      "bgcolor": "white",
                      "radialaxis": {
                        "gridcolor": "#EBF0F8",
                        "linecolor": "#EBF0F8",
                        "ticks": ""
                      }
                    },
                    "scene": {
                      "xaxis": {
                        "backgroundcolor": "white",
                        "gridcolor": "#DFE8F3",
                        "gridwidth": 2,
                        "linecolor": "#EBF0F8",
                        "showbackground": true,
                        "ticks": "",
                        "zerolinecolor": "#EBF0F8"
                      },
                      "yaxis": {
                        "backgroundcolor": "white",
                        "gridcolor": "#DFE8F3",
                        "gridwidth": 2,
                        "linecolor": "#EBF0F8",
                        "showbackground": true,
                        "ticks": "",
                        "zerolinecolor": "#EBF0F8"
                      },
                      "zaxis": {
                        "backgroundcolor": "white",
                        "gridcolor": "#DFE8F3",
                        "gridwidth": 2,
                        "linecolor": "#EBF0F8",
                        "showbackground": true,
                        "ticks": "",
                        "zerolinecolor": "#EBF0F8"
                      }
                    },
                    "shapedefaults": {
                      "line": {
                        "color": "#2a3f5f"
                      }
                    },
                    "ternary": {
                      "aaxis": {
                        "gridcolor": "#DFE8F3",
                        "linecolor": "#A2B1C6",
                        "ticks": ""
                      },
                      "baxis": {
                        "gridcolor": "#DFE8F3",
                        "linecolor": "#A2B1C6",
                        "ticks": ""
                      },
                      "bgcolor": "white",
                      "caxis": {
                        "gridcolor": "#DFE8F3",
                        "linecolor": "#A2B1C6",
                        "ticks": ""
                      }
                    },
                    "title": {
                      "x": 0.05
                    },
                    "xaxis": {
                      "automargin": true,
                      "gridcolor": "#EBF0F8",
                      "linecolor": "#EBF0F8",
                      "ticks": "",
                      "title": {
                        "standoff": 15
                      },
                      "zerolinecolor": "#EBF0F8",
                      "zerolinewidth": 2
                    },
                    "yaxis": {
                      "automargin": true,
                      "gridcolor": "#EBF0F8",
                      "linecolor": "#EBF0F8",
                      "ticks": "",
                      "title": {
                        "standoff": 15
                      },
                      "zerolinecolor": "#EBF0F8",
                      "zerolinewidth": 2
                    }
                  }
                },
                "title": {
                  "font": {
                    "family": "Tahoma,sans serif",
                    "size": 20
                  },
                  "text": "<b>Grupo de Ocupação Materna Enem 2021</b>",
                  "x": 0.5
                },
                "xaxis": {
                  "tickfont": {
                    "size": 16
                  }
                },
                "yaxis": {
                  "range": [
                    0,
                    1583.6000000000001
                  ],
                  "showticklabels": false,
                  "visible": false
                }
              }
            }
          },
          "metadata": {},
          "output_type": "display_data"
        }
      ],
      "source": [
        "gerador_graf(nov_df['Q004'].value_counts())"
      ]
    },
    {
      "cell_type": "code",
      "execution_count": 23,
      "metadata": {},
      "outputs": [
        {
          "data": {
            "application/vnd.plotly.v1+json": {
              "config": {
                "plotlyServerURL": "https://plot.ly"
              },
              "data": [
                {
                  "customdata": [
                    [
                      "1 - 5",
                      3703
                    ],
                    [
                      "6 - 10",
                      198
                    ],
                    [
                      "11 - 15",
                      1
                    ]
                  ],
                  "hole": 0.5,
                  "hovertemplate": "<b>Membros da Família:</b> %{customdata[0][0]}<br><b>Quantidade: %{customdata[0][1]}</b>",
                  "labels": [
                    "1 - 5",
                    "6 - 10",
                    "11 - 15"
                  ],
                  "marker": {
                    "colors": [
                      "rgb(00, 33, 47)",
                      "rgb(33, 249, 208)",
                      "rgb(00, 69, 94)"
                    ]
                  },
                  "textfont": {
                    "size": 16
                  },
                  "type": "pie",
                  "values": [
                    3703,
                    198,
                    1
                  ]
                }
              ],
              "layout": {
                "height": 500,
                "template": {
                  "data": {
                    "bar": [
                      {
                        "error_x": {
                          "color": "#2a3f5f"
                        },
                        "error_y": {
                          "color": "#2a3f5f"
                        },
                        "marker": {
                          "line": {
                            "color": "#E5ECF6",
                            "width": 0.5
                          },
                          "pattern": {
                            "fillmode": "overlay",
                            "size": 10,
                            "solidity": 0.2
                          }
                        },
                        "type": "bar"
                      }
                    ],
                    "barpolar": [
                      {
                        "marker": {
                          "line": {
                            "color": "#E5ECF6",
                            "width": 0.5
                          },
                          "pattern": {
                            "fillmode": "overlay",
                            "size": 10,
                            "solidity": 0.2
                          }
                        },
                        "type": "barpolar"
                      }
                    ],
                    "carpet": [
                      {
                        "aaxis": {
                          "endlinecolor": "#2a3f5f",
                          "gridcolor": "white",
                          "linecolor": "white",
                          "minorgridcolor": "white",
                          "startlinecolor": "#2a3f5f"
                        },
                        "baxis": {
                          "endlinecolor": "#2a3f5f",
                          "gridcolor": "white",
                          "linecolor": "white",
                          "minorgridcolor": "white",
                          "startlinecolor": "#2a3f5f"
                        },
                        "type": "carpet"
                      }
                    ],
                    "choropleth": [
                      {
                        "colorbar": {
                          "outlinewidth": 0,
                          "ticks": ""
                        },
                        "type": "choropleth"
                      }
                    ],
                    "contour": [
                      {
                        "colorbar": {
                          "outlinewidth": 0,
                          "ticks": ""
                        },
                        "colorscale": [
                          [
                            0,
                            "#0d0887"
                          ],
                          [
                            0.1111111111111111,
                            "#46039f"
                          ],
                          [
                            0.2222222222222222,
                            "#7201a8"
                          ],
                          [
                            0.3333333333333333,
                            "#9c179e"
                          ],
                          [
                            0.4444444444444444,
                            "#bd3786"
                          ],
                          [
                            0.5555555555555556,
                            "#d8576b"
                          ],
                          [
                            0.6666666666666666,
                            "#ed7953"
                          ],
                          [
                            0.7777777777777778,
                            "#fb9f3a"
                          ],
                          [
                            0.8888888888888888,
                            "#fdca26"
                          ],
                          [
                            1,
                            "#f0f921"
                          ]
                        ],
                        "type": "contour"
                      }
                    ],
                    "contourcarpet": [
                      {
                        "colorbar": {
                          "outlinewidth": 0,
                          "ticks": ""
                        },
                        "type": "contourcarpet"
                      }
                    ],
                    "heatmap": [
                      {
                        "colorbar": {
                          "outlinewidth": 0,
                          "ticks": ""
                        },
                        "colorscale": [
                          [
                            0,
                            "#0d0887"
                          ],
                          [
                            0.1111111111111111,
                            "#46039f"
                          ],
                          [
                            0.2222222222222222,
                            "#7201a8"
                          ],
                          [
                            0.3333333333333333,
                            "#9c179e"
                          ],
                          [
                            0.4444444444444444,
                            "#bd3786"
                          ],
                          [
                            0.5555555555555556,
                            "#d8576b"
                          ],
                          [
                            0.6666666666666666,
                            "#ed7953"
                          ],
                          [
                            0.7777777777777778,
                            "#fb9f3a"
                          ],
                          [
                            0.8888888888888888,
                            "#fdca26"
                          ],
                          [
                            1,
                            "#f0f921"
                          ]
                        ],
                        "type": "heatmap"
                      }
                    ],
                    "heatmapgl": [
                      {
                        "colorbar": {
                          "outlinewidth": 0,
                          "ticks": ""
                        },
                        "colorscale": [
                          [
                            0,
                            "#0d0887"
                          ],
                          [
                            0.1111111111111111,
                            "#46039f"
                          ],
                          [
                            0.2222222222222222,
                            "#7201a8"
                          ],
                          [
                            0.3333333333333333,
                            "#9c179e"
                          ],
                          [
                            0.4444444444444444,
                            "#bd3786"
                          ],
                          [
                            0.5555555555555556,
                            "#d8576b"
                          ],
                          [
                            0.6666666666666666,
                            "#ed7953"
                          ],
                          [
                            0.7777777777777778,
                            "#fb9f3a"
                          ],
                          [
                            0.8888888888888888,
                            "#fdca26"
                          ],
                          [
                            1,
                            "#f0f921"
                          ]
                        ],
                        "type": "heatmapgl"
                      }
                    ],
                    "histogram": [
                      {
                        "marker": {
                          "pattern": {
                            "fillmode": "overlay",
                            "size": 10,
                            "solidity": 0.2
                          }
                        },
                        "type": "histogram"
                      }
                    ],
                    "histogram2d": [
                      {
                        "colorbar": {
                          "outlinewidth": 0,
                          "ticks": ""
                        },
                        "colorscale": [
                          [
                            0,
                            "#0d0887"
                          ],
                          [
                            0.1111111111111111,
                            "#46039f"
                          ],
                          [
                            0.2222222222222222,
                            "#7201a8"
                          ],
                          [
                            0.3333333333333333,
                            "#9c179e"
                          ],
                          [
                            0.4444444444444444,
                            "#bd3786"
                          ],
                          [
                            0.5555555555555556,
                            "#d8576b"
                          ],
                          [
                            0.6666666666666666,
                            "#ed7953"
                          ],
                          [
                            0.7777777777777778,
                            "#fb9f3a"
                          ],
                          [
                            0.8888888888888888,
                            "#fdca26"
                          ],
                          [
                            1,
                            "#f0f921"
                          ]
                        ],
                        "type": "histogram2d"
                      }
                    ],
                    "histogram2dcontour": [
                      {
                        "colorbar": {
                          "outlinewidth": 0,
                          "ticks": ""
                        },
                        "colorscale": [
                          [
                            0,
                            "#0d0887"
                          ],
                          [
                            0.1111111111111111,
                            "#46039f"
                          ],
                          [
                            0.2222222222222222,
                            "#7201a8"
                          ],
                          [
                            0.3333333333333333,
                            "#9c179e"
                          ],
                          [
                            0.4444444444444444,
                            "#bd3786"
                          ],
                          [
                            0.5555555555555556,
                            "#d8576b"
                          ],
                          [
                            0.6666666666666666,
                            "#ed7953"
                          ],
                          [
                            0.7777777777777778,
                            "#fb9f3a"
                          ],
                          [
                            0.8888888888888888,
                            "#fdca26"
                          ],
                          [
                            1,
                            "#f0f921"
                          ]
                        ],
                        "type": "histogram2dcontour"
                      }
                    ],
                    "mesh3d": [
                      {
                        "colorbar": {
                          "outlinewidth": 0,
                          "ticks": ""
                        },
                        "type": "mesh3d"
                      }
                    ],
                    "parcoords": [
                      {
                        "line": {
                          "colorbar": {
                            "outlinewidth": 0,
                            "ticks": ""
                          }
                        },
                        "type": "parcoords"
                      }
                    ],
                    "pie": [
                      {
                        "automargin": true,
                        "type": "pie"
                      }
                    ],
                    "scatter": [
                      {
                        "fillpattern": {
                          "fillmode": "overlay",
                          "size": 10,
                          "solidity": 0.2
                        },
                        "type": "scatter"
                      }
                    ],
                    "scatter3d": [
                      {
                        "line": {
                          "colorbar": {
                            "outlinewidth": 0,
                            "ticks": ""
                          }
                        },
                        "marker": {
                          "colorbar": {
                            "outlinewidth": 0,
                            "ticks": ""
                          }
                        },
                        "type": "scatter3d"
                      }
                    ],
                    "scattercarpet": [
                      {
                        "marker": {
                          "colorbar": {
                            "outlinewidth": 0,
                            "ticks": ""
                          }
                        },
                        "type": "scattercarpet"
                      }
                    ],
                    "scattergeo": [
                      {
                        "marker": {
                          "colorbar": {
                            "outlinewidth": 0,
                            "ticks": ""
                          }
                        },
                        "type": "scattergeo"
                      }
                    ],
                    "scattergl": [
                      {
                        "marker": {
                          "colorbar": {
                            "outlinewidth": 0,
                            "ticks": ""
                          }
                        },
                        "type": "scattergl"
                      }
                    ],
                    "scattermapbox": [
                      {
                        "marker": {
                          "colorbar": {
                            "outlinewidth": 0,
                            "ticks": ""
                          }
                        },
                        "type": "scattermapbox"
                      }
                    ],
                    "scatterpolar": [
                      {
                        "marker": {
                          "colorbar": {
                            "outlinewidth": 0,
                            "ticks": ""
                          }
                        },
                        "type": "scatterpolar"
                      }
                    ],
                    "scatterpolargl": [
                      {
                        "marker": {
                          "colorbar": {
                            "outlinewidth": 0,
                            "ticks": ""
                          }
                        },
                        "type": "scatterpolargl"
                      }
                    ],
                    "scatterternary": [
                      {
                        "marker": {
                          "colorbar": {
                            "outlinewidth": 0,
                            "ticks": ""
                          }
                        },
                        "type": "scatterternary"
                      }
                    ],
                    "surface": [
                      {
                        "colorbar": {
                          "outlinewidth": 0,
                          "ticks": ""
                        },
                        "colorscale": [
                          [
                            0,
                            "#0d0887"
                          ],
                          [
                            0.1111111111111111,
                            "#46039f"
                          ],
                          [
                            0.2222222222222222,
                            "#7201a8"
                          ],
                          [
                            0.3333333333333333,
                            "#9c179e"
                          ],
                          [
                            0.4444444444444444,
                            "#bd3786"
                          ],
                          [
                            0.5555555555555556,
                            "#d8576b"
                          ],
                          [
                            0.6666666666666666,
                            "#ed7953"
                          ],
                          [
                            0.7777777777777778,
                            "#fb9f3a"
                          ],
                          [
                            0.8888888888888888,
                            "#fdca26"
                          ],
                          [
                            1,
                            "#f0f921"
                          ]
                        ],
                        "type": "surface"
                      }
                    ],
                    "table": [
                      {
                        "cells": {
                          "fill": {
                            "color": "#EBF0F8"
                          },
                          "line": {
                            "color": "white"
                          }
                        },
                        "header": {
                          "fill": {
                            "color": "#C8D4E3"
                          },
                          "line": {
                            "color": "white"
                          }
                        },
                        "type": "table"
                      }
                    ]
                  },
                  "layout": {
                    "annotationdefaults": {
                      "arrowcolor": "#2a3f5f",
                      "arrowhead": 0,
                      "arrowwidth": 1
                    },
                    "autotypenumbers": "strict",
                    "coloraxis": {
                      "colorbar": {
                        "outlinewidth": 0,
                        "ticks": ""
                      }
                    },
                    "colorscale": {
                      "diverging": [
                        [
                          0,
                          "#8e0152"
                        ],
                        [
                          0.1,
                          "#c51b7d"
                        ],
                        [
                          0.2,
                          "#de77ae"
                        ],
                        [
                          0.3,
                          "#f1b6da"
                        ],
                        [
                          0.4,
                          "#fde0ef"
                        ],
                        [
                          0.5,
                          "#f7f7f7"
                        ],
                        [
                          0.6,
                          "#e6f5d0"
                        ],
                        [
                          0.7,
                          "#b8e186"
                        ],
                        [
                          0.8,
                          "#7fbc41"
                        ],
                        [
                          0.9,
                          "#4d9221"
                        ],
                        [
                          1,
                          "#276419"
                        ]
                      ],
                      "sequential": [
                        [
                          0,
                          "#0d0887"
                        ],
                        [
                          0.1111111111111111,
                          "#46039f"
                        ],
                        [
                          0.2222222222222222,
                          "#7201a8"
                        ],
                        [
                          0.3333333333333333,
                          "#9c179e"
                        ],
                        [
                          0.4444444444444444,
                          "#bd3786"
                        ],
                        [
                          0.5555555555555556,
                          "#d8576b"
                        ],
                        [
                          0.6666666666666666,
                          "#ed7953"
                        ],
                        [
                          0.7777777777777778,
                          "#fb9f3a"
                        ],
                        [
                          0.8888888888888888,
                          "#fdca26"
                        ],
                        [
                          1,
                          "#f0f921"
                        ]
                      ],
                      "sequentialminus": [
                        [
                          0,
                          "#0d0887"
                        ],
                        [
                          0.1111111111111111,
                          "#46039f"
                        ],
                        [
                          0.2222222222222222,
                          "#7201a8"
                        ],
                        [
                          0.3333333333333333,
                          "#9c179e"
                        ],
                        [
                          0.4444444444444444,
                          "#bd3786"
                        ],
                        [
                          0.5555555555555556,
                          "#d8576b"
                        ],
                        [
                          0.6666666666666666,
                          "#ed7953"
                        ],
                        [
                          0.7777777777777778,
                          "#fb9f3a"
                        ],
                        [
                          0.8888888888888888,
                          "#fdca26"
                        ],
                        [
                          1,
                          "#f0f921"
                        ]
                      ]
                    },
                    "colorway": [
                      "#636efa",
                      "#EF553B",
                      "#00cc96",
                      "#ab63fa",
                      "#FFA15A",
                      "#19d3f3",
                      "#FF6692",
                      "#B6E880",
                      "#FF97FF",
                      "#FECB52"
                    ],
                    "font": {
                      "color": "#2a3f5f"
                    },
                    "geo": {
                      "bgcolor": "white",
                      "lakecolor": "white",
                      "landcolor": "#E5ECF6",
                      "showlakes": true,
                      "showland": true,
                      "subunitcolor": "white"
                    },
                    "hoverlabel": {
                      "align": "left"
                    },
                    "hovermode": "closest",
                    "mapbox": {
                      "style": "light"
                    },
                    "paper_bgcolor": "white",
                    "plot_bgcolor": "#E5ECF6",
                    "polar": {
                      "angularaxis": {
                        "gridcolor": "white",
                        "linecolor": "white",
                        "ticks": ""
                      },
                      "bgcolor": "#E5ECF6",
                      "radialaxis": {
                        "gridcolor": "white",
                        "linecolor": "white",
                        "ticks": ""
                      }
                    },
                    "scene": {
                      "xaxis": {
                        "backgroundcolor": "#E5ECF6",
                        "gridcolor": "white",
                        "gridwidth": 2,
                        "linecolor": "white",
                        "showbackground": true,
                        "ticks": "",
                        "zerolinecolor": "white"
                      },
                      "yaxis": {
                        "backgroundcolor": "#E5ECF6",
                        "gridcolor": "white",
                        "gridwidth": 2,
                        "linecolor": "white",
                        "showbackground": true,
                        "ticks": "",
                        "zerolinecolor": "white"
                      },
                      "zaxis": {
                        "backgroundcolor": "#E5ECF6",
                        "gridcolor": "white",
                        "gridwidth": 2,
                        "linecolor": "white",
                        "showbackground": true,
                        "ticks": "",
                        "zerolinecolor": "white"
                      }
                    },
                    "shapedefaults": {
                      "line": {
                        "color": "#2a3f5f"
                      }
                    },
                    "ternary": {
                      "aaxis": {
                        "gridcolor": "white",
                        "linecolor": "white",
                        "ticks": ""
                      },
                      "baxis": {
                        "gridcolor": "white",
                        "linecolor": "white",
                        "ticks": ""
                      },
                      "bgcolor": "#E5ECF6",
                      "caxis": {
                        "gridcolor": "white",
                        "linecolor": "white",
                        "ticks": ""
                      }
                    },
                    "title": {
                      "x": 0.05
                    },
                    "xaxis": {
                      "automargin": true,
                      "gridcolor": "white",
                      "linecolor": "white",
                      "ticks": "",
                      "title": {
                        "standoff": 15
                      },
                      "zerolinecolor": "white",
                      "zerolinewidth": 2
                    },
                    "yaxis": {
                      "automargin": true,
                      "gridcolor": "white",
                      "linecolor": "white",
                      "ticks": "",
                      "title": {
                        "standoff": 15
                      },
                      "zerolinecolor": "white",
                      "zerolinewidth": 2
                    }
                  }
                },
                "title": {
                  "font": {
                    "family": "Tahoma,sans serif",
                    "size": 20
                  },
                  "text": "<b>Quantidade de pessoas que moram na<br>residência do candidato Enem 2021</b>",
                  "x": 0.5
                },
                "width": 500
              }
            }
          },
          "metadata": {},
          "output_type": "display_data"
        }
      ],
      "source": [
        "gerador_graf(nov_df['Q005'].value_counts())"
      ]
    },
    {
      "cell_type": "code",
      "execution_count": 24,
      "metadata": {},
      "outputs": [
        {
          "data": {
            "application/vnd.plotly.v1+json": {
              "config": {
                "plotlyServerURL": "https://plot.ly"
              },
              "data": [
                {
                  "customdata": [
                    [
                      "R$ 1.100,00 - R$ 2.750,00.",
                      1614
                    ],
                    [
                      "R$ 2.750,01 - R$ 6.600,00.",
                      1413
                    ],
                    [
                      "R$ 6.600,01 - R$ 11.000,00.",
                      481
                    ],
                    [
                      "R$ 11.000,01 - Acima de R$ 22.000,00.",
                      351
                    ],
                    [
                      "Nenhuma Renda",
                      43
                    ]
                  ],
                  "hovertemplate": "<b>Renda:</b> %{customdata[0]}<br><b>Quantidade: %{customdata[1]}</b>",
                  "marker": {
                    "color": [
                      "rgb(00, 33, 47)",
                      "rgb(00, 69, 94)",
                      "rgb(33, 249, 208)",
                      "rgb(46, 66, 74)",
                      "rgb(46, 66, 74)"
                    ]
                  },
                  "text": [
                    1614,
                    1413,
                    481,
                    351,
                    43
                  ],
                  "textfont": {
                    "size": 16
                  },
                  "textposition": "outside",
                  "type": "bar",
                  "x": [
                    "R$ 1.100,00 - R$ 2.750,00.",
                    "R$ 2.750,01 - R$ 6.600,00.",
                    "R$ 6.600,01 - R$ 11.000,00.",
                    "R$ 11.000,01 - Acima de R$ 22.000,00.",
                    "Nenhuma Renda"
                  ],
                  "y": [
                    1614,
                    1413,
                    481,
                    351,
                    43
                  ]
                }
              ],
              "layout": {
                "template": {
                  "data": {
                    "bar": [
                      {
                        "error_x": {
                          "color": "#2a3f5f"
                        },
                        "error_y": {
                          "color": "#2a3f5f"
                        },
                        "marker": {
                          "line": {
                            "color": "white",
                            "width": 0.5
                          },
                          "pattern": {
                            "fillmode": "overlay",
                            "size": 10,
                            "solidity": 0.2
                          }
                        },
                        "type": "bar"
                      }
                    ],
                    "barpolar": [
                      {
                        "marker": {
                          "line": {
                            "color": "white",
                            "width": 0.5
                          },
                          "pattern": {
                            "fillmode": "overlay",
                            "size": 10,
                            "solidity": 0.2
                          }
                        },
                        "type": "barpolar"
                      }
                    ],
                    "carpet": [
                      {
                        "aaxis": {
                          "endlinecolor": "#2a3f5f",
                          "gridcolor": "#C8D4E3",
                          "linecolor": "#C8D4E3",
                          "minorgridcolor": "#C8D4E3",
                          "startlinecolor": "#2a3f5f"
                        },
                        "baxis": {
                          "endlinecolor": "#2a3f5f",
                          "gridcolor": "#C8D4E3",
                          "linecolor": "#C8D4E3",
                          "minorgridcolor": "#C8D4E3",
                          "startlinecolor": "#2a3f5f"
                        },
                        "type": "carpet"
                      }
                    ],
                    "choropleth": [
                      {
                        "colorbar": {
                          "outlinewidth": 0,
                          "ticks": ""
                        },
                        "type": "choropleth"
                      }
                    ],
                    "contour": [
                      {
                        "colorbar": {
                          "outlinewidth": 0,
                          "ticks": ""
                        },
                        "colorscale": [
                          [
                            0,
                            "#0d0887"
                          ],
                          [
                            0.1111111111111111,
                            "#46039f"
                          ],
                          [
                            0.2222222222222222,
                            "#7201a8"
                          ],
                          [
                            0.3333333333333333,
                            "#9c179e"
                          ],
                          [
                            0.4444444444444444,
                            "#bd3786"
                          ],
                          [
                            0.5555555555555556,
                            "#d8576b"
                          ],
                          [
                            0.6666666666666666,
                            "#ed7953"
                          ],
                          [
                            0.7777777777777778,
                            "#fb9f3a"
                          ],
                          [
                            0.8888888888888888,
                            "#fdca26"
                          ],
                          [
                            1,
                            "#f0f921"
                          ]
                        ],
                        "type": "contour"
                      }
                    ],
                    "contourcarpet": [
                      {
                        "colorbar": {
                          "outlinewidth": 0,
                          "ticks": ""
                        },
                        "type": "contourcarpet"
                      }
                    ],
                    "heatmap": [
                      {
                        "colorbar": {
                          "outlinewidth": 0,
                          "ticks": ""
                        },
                        "colorscale": [
                          [
                            0,
                            "#0d0887"
                          ],
                          [
                            0.1111111111111111,
                            "#46039f"
                          ],
                          [
                            0.2222222222222222,
                            "#7201a8"
                          ],
                          [
                            0.3333333333333333,
                            "#9c179e"
                          ],
                          [
                            0.4444444444444444,
                            "#bd3786"
                          ],
                          [
                            0.5555555555555556,
                            "#d8576b"
                          ],
                          [
                            0.6666666666666666,
                            "#ed7953"
                          ],
                          [
                            0.7777777777777778,
                            "#fb9f3a"
                          ],
                          [
                            0.8888888888888888,
                            "#fdca26"
                          ],
                          [
                            1,
                            "#f0f921"
                          ]
                        ],
                        "type": "heatmap"
                      }
                    ],
                    "heatmapgl": [
                      {
                        "colorbar": {
                          "outlinewidth": 0,
                          "ticks": ""
                        },
                        "colorscale": [
                          [
                            0,
                            "#0d0887"
                          ],
                          [
                            0.1111111111111111,
                            "#46039f"
                          ],
                          [
                            0.2222222222222222,
                            "#7201a8"
                          ],
                          [
                            0.3333333333333333,
                            "#9c179e"
                          ],
                          [
                            0.4444444444444444,
                            "#bd3786"
                          ],
                          [
                            0.5555555555555556,
                            "#d8576b"
                          ],
                          [
                            0.6666666666666666,
                            "#ed7953"
                          ],
                          [
                            0.7777777777777778,
                            "#fb9f3a"
                          ],
                          [
                            0.8888888888888888,
                            "#fdca26"
                          ],
                          [
                            1,
                            "#f0f921"
                          ]
                        ],
                        "type": "heatmapgl"
                      }
                    ],
                    "histogram": [
                      {
                        "marker": {
                          "pattern": {
                            "fillmode": "overlay",
                            "size": 10,
                            "solidity": 0.2
                          }
                        },
                        "type": "histogram"
                      }
                    ],
                    "histogram2d": [
                      {
                        "colorbar": {
                          "outlinewidth": 0,
                          "ticks": ""
                        },
                        "colorscale": [
                          [
                            0,
                            "#0d0887"
                          ],
                          [
                            0.1111111111111111,
                            "#46039f"
                          ],
                          [
                            0.2222222222222222,
                            "#7201a8"
                          ],
                          [
                            0.3333333333333333,
                            "#9c179e"
                          ],
                          [
                            0.4444444444444444,
                            "#bd3786"
                          ],
                          [
                            0.5555555555555556,
                            "#d8576b"
                          ],
                          [
                            0.6666666666666666,
                            "#ed7953"
                          ],
                          [
                            0.7777777777777778,
                            "#fb9f3a"
                          ],
                          [
                            0.8888888888888888,
                            "#fdca26"
                          ],
                          [
                            1,
                            "#f0f921"
                          ]
                        ],
                        "type": "histogram2d"
                      }
                    ],
                    "histogram2dcontour": [
                      {
                        "colorbar": {
                          "outlinewidth": 0,
                          "ticks": ""
                        },
                        "colorscale": [
                          [
                            0,
                            "#0d0887"
                          ],
                          [
                            0.1111111111111111,
                            "#46039f"
                          ],
                          [
                            0.2222222222222222,
                            "#7201a8"
                          ],
                          [
                            0.3333333333333333,
                            "#9c179e"
                          ],
                          [
                            0.4444444444444444,
                            "#bd3786"
                          ],
                          [
                            0.5555555555555556,
                            "#d8576b"
                          ],
                          [
                            0.6666666666666666,
                            "#ed7953"
                          ],
                          [
                            0.7777777777777778,
                            "#fb9f3a"
                          ],
                          [
                            0.8888888888888888,
                            "#fdca26"
                          ],
                          [
                            1,
                            "#f0f921"
                          ]
                        ],
                        "type": "histogram2dcontour"
                      }
                    ],
                    "mesh3d": [
                      {
                        "colorbar": {
                          "outlinewidth": 0,
                          "ticks": ""
                        },
                        "type": "mesh3d"
                      }
                    ],
                    "parcoords": [
                      {
                        "line": {
                          "colorbar": {
                            "outlinewidth": 0,
                            "ticks": ""
                          }
                        },
                        "type": "parcoords"
                      }
                    ],
                    "pie": [
                      {
                        "automargin": true,
                        "type": "pie"
                      }
                    ],
                    "scatter": [
                      {
                        "fillpattern": {
                          "fillmode": "overlay",
                          "size": 10,
                          "solidity": 0.2
                        },
                        "type": "scatter"
                      }
                    ],
                    "scatter3d": [
                      {
                        "line": {
                          "colorbar": {
                            "outlinewidth": 0,
                            "ticks": ""
                          }
                        },
                        "marker": {
                          "colorbar": {
                            "outlinewidth": 0,
                            "ticks": ""
                          }
                        },
                        "type": "scatter3d"
                      }
                    ],
                    "scattercarpet": [
                      {
                        "marker": {
                          "colorbar": {
                            "outlinewidth": 0,
                            "ticks": ""
                          }
                        },
                        "type": "scattercarpet"
                      }
                    ],
                    "scattergeo": [
                      {
                        "marker": {
                          "colorbar": {
                            "outlinewidth": 0,
                            "ticks": ""
                          }
                        },
                        "type": "scattergeo"
                      }
                    ],
                    "scattergl": [
                      {
                        "marker": {
                          "colorbar": {
                            "outlinewidth": 0,
                            "ticks": ""
                          }
                        },
                        "type": "scattergl"
                      }
                    ],
                    "scattermapbox": [
                      {
                        "marker": {
                          "colorbar": {
                            "outlinewidth": 0,
                            "ticks": ""
                          }
                        },
                        "type": "scattermapbox"
                      }
                    ],
                    "scatterpolar": [
                      {
                        "marker": {
                          "colorbar": {
                            "outlinewidth": 0,
                            "ticks": ""
                          }
                        },
                        "type": "scatterpolar"
                      }
                    ],
                    "scatterpolargl": [
                      {
                        "marker": {
                          "colorbar": {
                            "outlinewidth": 0,
                            "ticks": ""
                          }
                        },
                        "type": "scatterpolargl"
                      }
                    ],
                    "scatterternary": [
                      {
                        "marker": {
                          "colorbar": {
                            "outlinewidth": 0,
                            "ticks": ""
                          }
                        },
                        "type": "scatterternary"
                      }
                    ],
                    "surface": [
                      {
                        "colorbar": {
                          "outlinewidth": 0,
                          "ticks": ""
                        },
                        "colorscale": [
                          [
                            0,
                            "#0d0887"
                          ],
                          [
                            0.1111111111111111,
                            "#46039f"
                          ],
                          [
                            0.2222222222222222,
                            "#7201a8"
                          ],
                          [
                            0.3333333333333333,
                            "#9c179e"
                          ],
                          [
                            0.4444444444444444,
                            "#bd3786"
                          ],
                          [
                            0.5555555555555556,
                            "#d8576b"
                          ],
                          [
                            0.6666666666666666,
                            "#ed7953"
                          ],
                          [
                            0.7777777777777778,
                            "#fb9f3a"
                          ],
                          [
                            0.8888888888888888,
                            "#fdca26"
                          ],
                          [
                            1,
                            "#f0f921"
                          ]
                        ],
                        "type": "surface"
                      }
                    ],
                    "table": [
                      {
                        "cells": {
                          "fill": {
                            "color": "#EBF0F8"
                          },
                          "line": {
                            "color": "white"
                          }
                        },
                        "header": {
                          "fill": {
                            "color": "#C8D4E3"
                          },
                          "line": {
                            "color": "white"
                          }
                        },
                        "type": "table"
                      }
                    ]
                  },
                  "layout": {
                    "annotationdefaults": {
                      "arrowcolor": "#2a3f5f",
                      "arrowhead": 0,
                      "arrowwidth": 1
                    },
                    "autotypenumbers": "strict",
                    "coloraxis": {
                      "colorbar": {
                        "outlinewidth": 0,
                        "ticks": ""
                      }
                    },
                    "colorscale": {
                      "diverging": [
                        [
                          0,
                          "#8e0152"
                        ],
                        [
                          0.1,
                          "#c51b7d"
                        ],
                        [
                          0.2,
                          "#de77ae"
                        ],
                        [
                          0.3,
                          "#f1b6da"
                        ],
                        [
                          0.4,
                          "#fde0ef"
                        ],
                        [
                          0.5,
                          "#f7f7f7"
                        ],
                        [
                          0.6,
                          "#e6f5d0"
                        ],
                        [
                          0.7,
                          "#b8e186"
                        ],
                        [
                          0.8,
                          "#7fbc41"
                        ],
                        [
                          0.9,
                          "#4d9221"
                        ],
                        [
                          1,
                          "#276419"
                        ]
                      ],
                      "sequential": [
                        [
                          0,
                          "#0d0887"
                        ],
                        [
                          0.1111111111111111,
                          "#46039f"
                        ],
                        [
                          0.2222222222222222,
                          "#7201a8"
                        ],
                        [
                          0.3333333333333333,
                          "#9c179e"
                        ],
                        [
                          0.4444444444444444,
                          "#bd3786"
                        ],
                        [
                          0.5555555555555556,
                          "#d8576b"
                        ],
                        [
                          0.6666666666666666,
                          "#ed7953"
                        ],
                        [
                          0.7777777777777778,
                          "#fb9f3a"
                        ],
                        [
                          0.8888888888888888,
                          "#fdca26"
                        ],
                        [
                          1,
                          "#f0f921"
                        ]
                      ],
                      "sequentialminus": [
                        [
                          0,
                          "#0d0887"
                        ],
                        [
                          0.1111111111111111,
                          "#46039f"
                        ],
                        [
                          0.2222222222222222,
                          "#7201a8"
                        ],
                        [
                          0.3333333333333333,
                          "#9c179e"
                        ],
                        [
                          0.4444444444444444,
                          "#bd3786"
                        ],
                        [
                          0.5555555555555556,
                          "#d8576b"
                        ],
                        [
                          0.6666666666666666,
                          "#ed7953"
                        ],
                        [
                          0.7777777777777778,
                          "#fb9f3a"
                        ],
                        [
                          0.8888888888888888,
                          "#fdca26"
                        ],
                        [
                          1,
                          "#f0f921"
                        ]
                      ]
                    },
                    "colorway": [
                      "#636efa",
                      "#EF553B",
                      "#00cc96",
                      "#ab63fa",
                      "#FFA15A",
                      "#19d3f3",
                      "#FF6692",
                      "#B6E880",
                      "#FF97FF",
                      "#FECB52"
                    ],
                    "font": {
                      "color": "#2a3f5f"
                    },
                    "geo": {
                      "bgcolor": "white",
                      "lakecolor": "white",
                      "landcolor": "white",
                      "showlakes": true,
                      "showland": true,
                      "subunitcolor": "#C8D4E3"
                    },
                    "hoverlabel": {
                      "align": "left"
                    },
                    "hovermode": "closest",
                    "mapbox": {
                      "style": "light"
                    },
                    "paper_bgcolor": "white",
                    "plot_bgcolor": "white",
                    "polar": {
                      "angularaxis": {
                        "gridcolor": "#EBF0F8",
                        "linecolor": "#EBF0F8",
                        "ticks": ""
                      },
                      "bgcolor": "white",
                      "radialaxis": {
                        "gridcolor": "#EBF0F8",
                        "linecolor": "#EBF0F8",
                        "ticks": ""
                      }
                    },
                    "scene": {
                      "xaxis": {
                        "backgroundcolor": "white",
                        "gridcolor": "#DFE8F3",
                        "gridwidth": 2,
                        "linecolor": "#EBF0F8",
                        "showbackground": true,
                        "ticks": "",
                        "zerolinecolor": "#EBF0F8"
                      },
                      "yaxis": {
                        "backgroundcolor": "white",
                        "gridcolor": "#DFE8F3",
                        "gridwidth": 2,
                        "linecolor": "#EBF0F8",
                        "showbackground": true,
                        "ticks": "",
                        "zerolinecolor": "#EBF0F8"
                      },
                      "zaxis": {
                        "backgroundcolor": "white",
                        "gridcolor": "#DFE8F3",
                        "gridwidth": 2,
                        "linecolor": "#EBF0F8",
                        "showbackground": true,
                        "ticks": "",
                        "zerolinecolor": "#EBF0F8"
                      }
                    },
                    "shapedefaults": {
                      "line": {
                        "color": "#2a3f5f"
                      }
                    },
                    "ternary": {
                      "aaxis": {
                        "gridcolor": "#DFE8F3",
                        "linecolor": "#A2B1C6",
                        "ticks": ""
                      },
                      "baxis": {
                        "gridcolor": "#DFE8F3",
                        "linecolor": "#A2B1C6",
                        "ticks": ""
                      },
                      "bgcolor": "white",
                      "caxis": {
                        "gridcolor": "#DFE8F3",
                        "linecolor": "#A2B1C6",
                        "ticks": ""
                      }
                    },
                    "title": {
                      "x": 0.05
                    },
                    "xaxis": {
                      "automargin": true,
                      "gridcolor": "#EBF0F8",
                      "linecolor": "#EBF0F8",
                      "ticks": "",
                      "title": {
                        "standoff": 15
                      },
                      "zerolinecolor": "#EBF0F8",
                      "zerolinewidth": 2
                    },
                    "yaxis": {
                      "automargin": true,
                      "gridcolor": "#EBF0F8",
                      "linecolor": "#EBF0F8",
                      "ticks": "",
                      "title": {
                        "standoff": 15
                      },
                      "zerolinecolor": "#EBF0F8",
                      "zerolinewidth": 2
                    }
                  }
                },
                "title": {
                  "font": {
                    "family": "Tahoma,sans serif",
                    "size": 20
                  },
                  "text": "<b>Renda Familiar</b>",
                  "x": 0.5
                },
                "xaxis": {
                  "tickfont": {
                    "size": 14
                  },
                  "tickmode": "array",
                  "ticktext": [
                    "R&#36; 1.100,00 até<br>R&#36; 2.750,00.",
                    "R&#36; 2.750,01 até<br>R&#36; 6.600,00.",
                    "R&#36; 6.600,01 até<br>R&#36; 11.000,00.",
                    "R&#36; 11.000,01<br>Acima de R&#36; 22.000,00.",
                    "Nenhuma Renda"
                  ],
                  "tickvals": [
                    0,
                    1,
                    2,
                    3,
                    4
                  ]
                },
                "yaxis": {
                  "range": [
                    0,
                    1726.98
                  ],
                  "showticklabels": false,
                  "visible": false
                }
              }
            }
          },
          "metadata": {},
          "output_type": "display_data"
        }
      ],
      "source": [
        "graf_q006 = gerador_graf(nov_df['Q006'].value_counts())\n",
        "\n",
        "graf_q006.update_layout(xaxis=dict(tickmode='array',tickvals=[0,1,2,3,4],ticktext =['R&#36; 1.100,00 até<br>R&#36; 2.750,00.', 'R&#36; 2.750,01 até<br>R&#36; 6.600,00.','R&#36; 6.600,01 até<br>R&#36; 11.000,00.', 'R&#36; 11.000,01<br>Acima de R&#36; 22.000,00.','Nenhuma Renda'],tickfont_size=14))\n",
        "\n",
        "graf_q006.show()"
      ]
    },
    {
      "attachments": {},
      "cell_type": "markdown",
      "metadata": {
        "id": "C49OoQCie8Te"
      },
      "source": [
        "Grafico notas enem"
      ]
    },
    {
      "cell_type": "code",
      "execution_count": 25,
      "metadata": {},
      "outputs": [
        {
          "data": {
            "application/vnd.plotly.v1+json": {
              "config": {
                "plotlyServerURL": "https://plot.ly"
              },
              "data": [
                {
                  "customdata": [
                    [
                      "GERAL",
                      499.2,
                      536.86,
                      522.34,
                      553.2,
                      620.78
                    ],
                    [
                      "Cotia",
                      509.34,
                      540.2,
                      525.5,
                      568.36,
                      632.59
                    ],
                    [
                      "Embu das Artes",
                      481.13,
                      526.43,
                      514.69,
                      531.74,
                      584.79
                    ],
                    [
                      "Itapevi",
                      471.2,
                      509.97,
                      500.31,
                      513.95,
                      570.72
                    ],
                    [
                      "Jandira",
                      475.66,
                      518.41,
                      508.07,
                      530.06,
                      589.7
                    ],
                    [
                      "Osasco",
                      503.65,
                      542.94,
                      526.77,
                      558.16,
                      632.56
                    ],
                    [
                      "Vargem Grande Paulista",
                      515.23,
                      531.59,
                      520.16,
                      555.9,
                      610.89
                    ]
                  ],
                  "hovertemplate": "<b>Município</b> %{customdata[0]}<br><b>Nota Natureza: %{customdata[1]}</b><br><b>Nota Humanas: %{customdata[2]}</b><br><b>Nota Linguagem: %{customdata[3]}</b><br><b>Nota Matemática: %{customdata[4]}</b><br><b>Nota Redação: %{customdata[5]}</b>",
                  "marker": {
                    "color": "rgb(00, 33, 47)"
                  },
                  "name": "Natureza",
                  "text": [
                    499.2,
                    509.34,
                    481.13,
                    471.2,
                    475.66,
                    503.65,
                    515.23
                  ],
                  "textfont": {
                    "size": 16
                  },
                  "textposition": "outside",
                  "type": "bar",
                  "x": [
                    "GERAL",
                    "Cotia",
                    "Embu das Artes",
                    "Itapevi",
                    "Jandira",
                    "Osasco",
                    "Vargem Grande Paulista"
                  ],
                  "y": [
                    499.2,
                    509.34,
                    481.13,
                    471.2,
                    475.66,
                    503.65,
                    515.23
                  ]
                },
                {
                  "customdata": [
                    [
                      "GERAL",
                      499.2,
                      536.86,
                      522.34,
                      553.2,
                      620.78
                    ],
                    [
                      "Cotia",
                      509.34,
                      540.2,
                      525.5,
                      568.36,
                      632.59
                    ],
                    [
                      "Embu das Artes",
                      481.13,
                      526.43,
                      514.69,
                      531.74,
                      584.79
                    ],
                    [
                      "Itapevi",
                      471.2,
                      509.97,
                      500.31,
                      513.95,
                      570.72
                    ],
                    [
                      "Jandira",
                      475.66,
                      518.41,
                      508.07,
                      530.06,
                      589.7
                    ],
                    [
                      "Osasco",
                      503.65,
                      542.94,
                      526.77,
                      558.16,
                      632.56
                    ],
                    [
                      "Vargem Grande Paulista",
                      515.23,
                      531.59,
                      520.16,
                      555.9,
                      610.89
                    ]
                  ],
                  "hovertemplate": "<b>Município</b> %{customdata[0]}<br><b>Nota Natureza: %{customdata[1]}</b><br><b>Nota Humanas: %{customdata[2]}</b><br><b>Nota Linguagem: %{customdata[3]}</b><br><b>Nota Matemática: %{customdata[4]}</b><br><b>Nota Redação: %{customdata[5]}</b>",
                  "marker": {
                    "color": "rgb(33, 249, 208)"
                  },
                  "name": "Humanas",
                  "text": [
                    536.86,
                    540.2,
                    526.43,
                    509.97,
                    518.41,
                    542.94,
                    531.59
                  ],
                  "textfont": {
                    "size": 16
                  },
                  "textposition": "outside",
                  "type": "bar",
                  "x": [
                    "GERAL",
                    "Cotia",
                    "Embu das Artes",
                    "Itapevi",
                    "Jandira",
                    "Osasco",
                    "Vargem Grande Paulista"
                  ],
                  "y": [
                    536.86,
                    540.2,
                    526.43,
                    509.97,
                    518.41,
                    542.94,
                    531.59
                  ]
                },
                {
                  "customdata": [
                    [
                      "GERAL",
                      499.2,
                      536.86,
                      522.34,
                      553.2,
                      620.78
                    ],
                    [
                      "Cotia",
                      509.34,
                      540.2,
                      525.5,
                      568.36,
                      632.59
                    ],
                    [
                      "Embu das Artes",
                      481.13,
                      526.43,
                      514.69,
                      531.74,
                      584.79
                    ],
                    [
                      "Itapevi",
                      471.2,
                      509.97,
                      500.31,
                      513.95,
                      570.72
                    ],
                    [
                      "Jandira",
                      475.66,
                      518.41,
                      508.07,
                      530.06,
                      589.7
                    ],
                    [
                      "Osasco",
                      503.65,
                      542.94,
                      526.77,
                      558.16,
                      632.56
                    ],
                    [
                      "Vargem Grande Paulista",
                      515.23,
                      531.59,
                      520.16,
                      555.9,
                      610.89
                    ]
                  ],
                  "hovertemplate": "<b>Município</b> %{customdata[0]}<br><b>Nota Natureza: %{customdata[1]}</b><br><b>Nota Humanas: %{customdata[2]}</b><br><b>Nota Linguagem: %{customdata[3]}</b><br><b>Nota Matemática: %{customdata[4]}</b><br><b>Nota Redação: %{customdata[5]}</b>",
                  "marker": {
                    "color": "rgb(0, 143, 199)"
                  },
                  "name": "Linguagem",
                  "text": [
                    522.34,
                    525.5,
                    514.69,
                    500.31,
                    508.07,
                    526.77,
                    520.16
                  ],
                  "textfont": {
                    "size": 16
                  },
                  "textposition": "outside",
                  "type": "bar",
                  "x": [
                    "GERAL",
                    "Cotia",
                    "Embu das Artes",
                    "Itapevi",
                    "Jandira",
                    "Osasco",
                    "Vargem Grande Paulista"
                  ],
                  "y": [
                    522.34,
                    525.5,
                    514.69,
                    500.31,
                    508.07,
                    526.77,
                    520.16
                  ]
                },
                {
                  "customdata": [
                    [
                      "GERAL",
                      499.2,
                      536.86,
                      522.34,
                      553.2,
                      620.78
                    ],
                    [
                      "Cotia",
                      509.34,
                      540.2,
                      525.5,
                      568.36,
                      632.59
                    ],
                    [
                      "Embu das Artes",
                      481.13,
                      526.43,
                      514.69,
                      531.74,
                      584.79
                    ],
                    [
                      "Itapevi",
                      471.2,
                      509.97,
                      500.31,
                      513.95,
                      570.72
                    ],
                    [
                      "Jandira",
                      475.66,
                      518.41,
                      508.07,
                      530.06,
                      589.7
                    ],
                    [
                      "Osasco",
                      503.65,
                      542.94,
                      526.77,
                      558.16,
                      632.56
                    ],
                    [
                      "Vargem Grande Paulista",
                      515.23,
                      531.59,
                      520.16,
                      555.9,
                      610.89
                    ]
                  ],
                  "hovertemplate": "<b>Município</b> %{customdata[0]}<br><b>Nota Natureza: %{customdata[1]}</b><br><b>Nota Humanas: %{customdata[2]}</b><br><b>Nota Linguagem: %{customdata[3]}</b><br><b>Nota Matemática: %{customdata[4]}</b><br><b>Nota Redação: %{customdata[5]}</b>",
                  "marker": {
                    "color": "rgb(46, 66, 74)"
                  },
                  "name": "Matematica",
                  "text": [
                    553.2,
                    568.36,
                    531.74,
                    513.95,
                    530.06,
                    558.16,
                    555.9
                  ],
                  "textfont": {
                    "size": 16
                  },
                  "textposition": "outside",
                  "type": "bar",
                  "x": [
                    "GERAL",
                    "Cotia",
                    "Embu das Artes",
                    "Itapevi",
                    "Jandira",
                    "Osasco",
                    "Vargem Grande Paulista"
                  ],
                  "y": [
                    553.2,
                    568.36,
                    531.74,
                    513.95,
                    530.06,
                    558.16,
                    555.9
                  ]
                },
                {
                  "customdata": [
                    [
                      "GERAL",
                      499.2,
                      536.86,
                      522.34,
                      553.2,
                      620.78
                    ],
                    [
                      "Cotia",
                      509.34,
                      540.2,
                      525.5,
                      568.36,
                      632.59
                    ],
                    [
                      "Embu das Artes",
                      481.13,
                      526.43,
                      514.69,
                      531.74,
                      584.79
                    ],
                    [
                      "Itapevi",
                      471.2,
                      509.97,
                      500.31,
                      513.95,
                      570.72
                    ],
                    [
                      "Jandira",
                      475.66,
                      518.41,
                      508.07,
                      530.06,
                      589.7
                    ],
                    [
                      "Osasco",
                      503.65,
                      542.94,
                      526.77,
                      558.16,
                      632.56
                    ],
                    [
                      "Vargem Grande Paulista",
                      515.23,
                      531.59,
                      520.16,
                      555.9,
                      610.89
                    ]
                  ],
                  "hovertemplate": "<b>Município</b> %{customdata[0]}<br><b>Nota Natureza: %{customdata[1]}</b><br><b>Nota Humanas: %{customdata[2]}</b><br><b>Nota Linguagem: %{customdata[3]}</b><br><b>Nota Matemática: %{customdata[4]}</b><br><b>Nota Redação: %{customdata[5]}</b>",
                  "marker": {
                    "color": "rgb(00, 69, 94)"
                  },
                  "name": "Redacao",
                  "text": [
                    620.78,
                    632.59,
                    584.79,
                    570.72,
                    589.7,
                    632.56,
                    610.89
                  ],
                  "textfont": {
                    "size": 16
                  },
                  "textposition": "outside",
                  "type": "bar",
                  "x": [
                    "GERAL",
                    "Cotia",
                    "Embu das Artes",
                    "Itapevi",
                    "Jandira",
                    "Osasco",
                    "Vargem Grande Paulista"
                  ],
                  "y": [
                    620.78,
                    632.59,
                    584.79,
                    570.72,
                    589.7,
                    632.56,
                    610.89
                  ]
                }
              ],
              "layout": {
                "bargap": 0.2,
                "bargroupgap": 0.1,
                "template": {
                  "data": {
                    "bar": [
                      {
                        "error_x": {
                          "color": "#2a3f5f"
                        },
                        "error_y": {
                          "color": "#2a3f5f"
                        },
                        "marker": {
                          "line": {
                            "color": "white",
                            "width": 0.5
                          },
                          "pattern": {
                            "fillmode": "overlay",
                            "size": 10,
                            "solidity": 0.2
                          }
                        },
                        "type": "bar"
                      }
                    ],
                    "barpolar": [
                      {
                        "marker": {
                          "line": {
                            "color": "white",
                            "width": 0.5
                          },
                          "pattern": {
                            "fillmode": "overlay",
                            "size": 10,
                            "solidity": 0.2
                          }
                        },
                        "type": "barpolar"
                      }
                    ],
                    "carpet": [
                      {
                        "aaxis": {
                          "endlinecolor": "#2a3f5f",
                          "gridcolor": "#C8D4E3",
                          "linecolor": "#C8D4E3",
                          "minorgridcolor": "#C8D4E3",
                          "startlinecolor": "#2a3f5f"
                        },
                        "baxis": {
                          "endlinecolor": "#2a3f5f",
                          "gridcolor": "#C8D4E3",
                          "linecolor": "#C8D4E3",
                          "minorgridcolor": "#C8D4E3",
                          "startlinecolor": "#2a3f5f"
                        },
                        "type": "carpet"
                      }
                    ],
                    "choropleth": [
                      {
                        "colorbar": {
                          "outlinewidth": 0,
                          "ticks": ""
                        },
                        "type": "choropleth"
                      }
                    ],
                    "contour": [
                      {
                        "colorbar": {
                          "outlinewidth": 0,
                          "ticks": ""
                        },
                        "colorscale": [
                          [
                            0,
                            "#0d0887"
                          ],
                          [
                            0.1111111111111111,
                            "#46039f"
                          ],
                          [
                            0.2222222222222222,
                            "#7201a8"
                          ],
                          [
                            0.3333333333333333,
                            "#9c179e"
                          ],
                          [
                            0.4444444444444444,
                            "#bd3786"
                          ],
                          [
                            0.5555555555555556,
                            "#d8576b"
                          ],
                          [
                            0.6666666666666666,
                            "#ed7953"
                          ],
                          [
                            0.7777777777777778,
                            "#fb9f3a"
                          ],
                          [
                            0.8888888888888888,
                            "#fdca26"
                          ],
                          [
                            1,
                            "#f0f921"
                          ]
                        ],
                        "type": "contour"
                      }
                    ],
                    "contourcarpet": [
                      {
                        "colorbar": {
                          "outlinewidth": 0,
                          "ticks": ""
                        },
                        "type": "contourcarpet"
                      }
                    ],
                    "heatmap": [
                      {
                        "colorbar": {
                          "outlinewidth": 0,
                          "ticks": ""
                        },
                        "colorscale": [
                          [
                            0,
                            "#0d0887"
                          ],
                          [
                            0.1111111111111111,
                            "#46039f"
                          ],
                          [
                            0.2222222222222222,
                            "#7201a8"
                          ],
                          [
                            0.3333333333333333,
                            "#9c179e"
                          ],
                          [
                            0.4444444444444444,
                            "#bd3786"
                          ],
                          [
                            0.5555555555555556,
                            "#d8576b"
                          ],
                          [
                            0.6666666666666666,
                            "#ed7953"
                          ],
                          [
                            0.7777777777777778,
                            "#fb9f3a"
                          ],
                          [
                            0.8888888888888888,
                            "#fdca26"
                          ],
                          [
                            1,
                            "#f0f921"
                          ]
                        ],
                        "type": "heatmap"
                      }
                    ],
                    "heatmapgl": [
                      {
                        "colorbar": {
                          "outlinewidth": 0,
                          "ticks": ""
                        },
                        "colorscale": [
                          [
                            0,
                            "#0d0887"
                          ],
                          [
                            0.1111111111111111,
                            "#46039f"
                          ],
                          [
                            0.2222222222222222,
                            "#7201a8"
                          ],
                          [
                            0.3333333333333333,
                            "#9c179e"
                          ],
                          [
                            0.4444444444444444,
                            "#bd3786"
                          ],
                          [
                            0.5555555555555556,
                            "#d8576b"
                          ],
                          [
                            0.6666666666666666,
                            "#ed7953"
                          ],
                          [
                            0.7777777777777778,
                            "#fb9f3a"
                          ],
                          [
                            0.8888888888888888,
                            "#fdca26"
                          ],
                          [
                            1,
                            "#f0f921"
                          ]
                        ],
                        "type": "heatmapgl"
                      }
                    ],
                    "histogram": [
                      {
                        "marker": {
                          "pattern": {
                            "fillmode": "overlay",
                            "size": 10,
                            "solidity": 0.2
                          }
                        },
                        "type": "histogram"
                      }
                    ],
                    "histogram2d": [
                      {
                        "colorbar": {
                          "outlinewidth": 0,
                          "ticks": ""
                        },
                        "colorscale": [
                          [
                            0,
                            "#0d0887"
                          ],
                          [
                            0.1111111111111111,
                            "#46039f"
                          ],
                          [
                            0.2222222222222222,
                            "#7201a8"
                          ],
                          [
                            0.3333333333333333,
                            "#9c179e"
                          ],
                          [
                            0.4444444444444444,
                            "#bd3786"
                          ],
                          [
                            0.5555555555555556,
                            "#d8576b"
                          ],
                          [
                            0.6666666666666666,
                            "#ed7953"
                          ],
                          [
                            0.7777777777777778,
                            "#fb9f3a"
                          ],
                          [
                            0.8888888888888888,
                            "#fdca26"
                          ],
                          [
                            1,
                            "#f0f921"
                          ]
                        ],
                        "type": "histogram2d"
                      }
                    ],
                    "histogram2dcontour": [
                      {
                        "colorbar": {
                          "outlinewidth": 0,
                          "ticks": ""
                        },
                        "colorscale": [
                          [
                            0,
                            "#0d0887"
                          ],
                          [
                            0.1111111111111111,
                            "#46039f"
                          ],
                          [
                            0.2222222222222222,
                            "#7201a8"
                          ],
                          [
                            0.3333333333333333,
                            "#9c179e"
                          ],
                          [
                            0.4444444444444444,
                            "#bd3786"
                          ],
                          [
                            0.5555555555555556,
                            "#d8576b"
                          ],
                          [
                            0.6666666666666666,
                            "#ed7953"
                          ],
                          [
                            0.7777777777777778,
                            "#fb9f3a"
                          ],
                          [
                            0.8888888888888888,
                            "#fdca26"
                          ],
                          [
                            1,
                            "#f0f921"
                          ]
                        ],
                        "type": "histogram2dcontour"
                      }
                    ],
                    "mesh3d": [
                      {
                        "colorbar": {
                          "outlinewidth": 0,
                          "ticks": ""
                        },
                        "type": "mesh3d"
                      }
                    ],
                    "parcoords": [
                      {
                        "line": {
                          "colorbar": {
                            "outlinewidth": 0,
                            "ticks": ""
                          }
                        },
                        "type": "parcoords"
                      }
                    ],
                    "pie": [
                      {
                        "automargin": true,
                        "type": "pie"
                      }
                    ],
                    "scatter": [
                      {
                        "fillpattern": {
                          "fillmode": "overlay",
                          "size": 10,
                          "solidity": 0.2
                        },
                        "type": "scatter"
                      }
                    ],
                    "scatter3d": [
                      {
                        "line": {
                          "colorbar": {
                            "outlinewidth": 0,
                            "ticks": ""
                          }
                        },
                        "marker": {
                          "colorbar": {
                            "outlinewidth": 0,
                            "ticks": ""
                          }
                        },
                        "type": "scatter3d"
                      }
                    ],
                    "scattercarpet": [
                      {
                        "marker": {
                          "colorbar": {
                            "outlinewidth": 0,
                            "ticks": ""
                          }
                        },
                        "type": "scattercarpet"
                      }
                    ],
                    "scattergeo": [
                      {
                        "marker": {
                          "colorbar": {
                            "outlinewidth": 0,
                            "ticks": ""
                          }
                        },
                        "type": "scattergeo"
                      }
                    ],
                    "scattergl": [
                      {
                        "marker": {
                          "colorbar": {
                            "outlinewidth": 0,
                            "ticks": ""
                          }
                        },
                        "type": "scattergl"
                      }
                    ],
                    "scattermapbox": [
                      {
                        "marker": {
                          "colorbar": {
                            "outlinewidth": 0,
                            "ticks": ""
                          }
                        },
                        "type": "scattermapbox"
                      }
                    ],
                    "scatterpolar": [
                      {
                        "marker": {
                          "colorbar": {
                            "outlinewidth": 0,
                            "ticks": ""
                          }
                        },
                        "type": "scatterpolar"
                      }
                    ],
                    "scatterpolargl": [
                      {
                        "marker": {
                          "colorbar": {
                            "outlinewidth": 0,
                            "ticks": ""
                          }
                        },
                        "type": "scatterpolargl"
                      }
                    ],
                    "scatterternary": [
                      {
                        "marker": {
                          "colorbar": {
                            "outlinewidth": 0,
                            "ticks": ""
                          }
                        },
                        "type": "scatterternary"
                      }
                    ],
                    "surface": [
                      {
                        "colorbar": {
                          "outlinewidth": 0,
                          "ticks": ""
                        },
                        "colorscale": [
                          [
                            0,
                            "#0d0887"
                          ],
                          [
                            0.1111111111111111,
                            "#46039f"
                          ],
                          [
                            0.2222222222222222,
                            "#7201a8"
                          ],
                          [
                            0.3333333333333333,
                            "#9c179e"
                          ],
                          [
                            0.4444444444444444,
                            "#bd3786"
                          ],
                          [
                            0.5555555555555556,
                            "#d8576b"
                          ],
                          [
                            0.6666666666666666,
                            "#ed7953"
                          ],
                          [
                            0.7777777777777778,
                            "#fb9f3a"
                          ],
                          [
                            0.8888888888888888,
                            "#fdca26"
                          ],
                          [
                            1,
                            "#f0f921"
                          ]
                        ],
                        "type": "surface"
                      }
                    ],
                    "table": [
                      {
                        "cells": {
                          "fill": {
                            "color": "#EBF0F8"
                          },
                          "line": {
                            "color": "white"
                          }
                        },
                        "header": {
                          "fill": {
                            "color": "#C8D4E3"
                          },
                          "line": {
                            "color": "white"
                          }
                        },
                        "type": "table"
                      }
                    ]
                  },
                  "layout": {
                    "annotationdefaults": {
                      "arrowcolor": "#2a3f5f",
                      "arrowhead": 0,
                      "arrowwidth": 1
                    },
                    "autotypenumbers": "strict",
                    "coloraxis": {
                      "colorbar": {
                        "outlinewidth": 0,
                        "ticks": ""
                      }
                    },
                    "colorscale": {
                      "diverging": [
                        [
                          0,
                          "#8e0152"
                        ],
                        [
                          0.1,
                          "#c51b7d"
                        ],
                        [
                          0.2,
                          "#de77ae"
                        ],
                        [
                          0.3,
                          "#f1b6da"
                        ],
                        [
                          0.4,
                          "#fde0ef"
                        ],
                        [
                          0.5,
                          "#f7f7f7"
                        ],
                        [
                          0.6,
                          "#e6f5d0"
                        ],
                        [
                          0.7,
                          "#b8e186"
                        ],
                        [
                          0.8,
                          "#7fbc41"
                        ],
                        [
                          0.9,
                          "#4d9221"
                        ],
                        [
                          1,
                          "#276419"
                        ]
                      ],
                      "sequential": [
                        [
                          0,
                          "#0d0887"
                        ],
                        [
                          0.1111111111111111,
                          "#46039f"
                        ],
                        [
                          0.2222222222222222,
                          "#7201a8"
                        ],
                        [
                          0.3333333333333333,
                          "#9c179e"
                        ],
                        [
                          0.4444444444444444,
                          "#bd3786"
                        ],
                        [
                          0.5555555555555556,
                          "#d8576b"
                        ],
                        [
                          0.6666666666666666,
                          "#ed7953"
                        ],
                        [
                          0.7777777777777778,
                          "#fb9f3a"
                        ],
                        [
                          0.8888888888888888,
                          "#fdca26"
                        ],
                        [
                          1,
                          "#f0f921"
                        ]
                      ],
                      "sequentialminus": [
                        [
                          0,
                          "#0d0887"
                        ],
                        [
                          0.1111111111111111,
                          "#46039f"
                        ],
                        [
                          0.2222222222222222,
                          "#7201a8"
                        ],
                        [
                          0.3333333333333333,
                          "#9c179e"
                        ],
                        [
                          0.4444444444444444,
                          "#bd3786"
                        ],
                        [
                          0.5555555555555556,
                          "#d8576b"
                        ],
                        [
                          0.6666666666666666,
                          "#ed7953"
                        ],
                        [
                          0.7777777777777778,
                          "#fb9f3a"
                        ],
                        [
                          0.8888888888888888,
                          "#fdca26"
                        ],
                        [
                          1,
                          "#f0f921"
                        ]
                      ]
                    },
                    "colorway": [
                      "#636efa",
                      "#EF553B",
                      "#00cc96",
                      "#ab63fa",
                      "#FFA15A",
                      "#19d3f3",
                      "#FF6692",
                      "#B6E880",
                      "#FF97FF",
                      "#FECB52"
                    ],
                    "font": {
                      "color": "#2a3f5f"
                    },
                    "geo": {
                      "bgcolor": "white",
                      "lakecolor": "white",
                      "landcolor": "white",
                      "showlakes": true,
                      "showland": true,
                      "subunitcolor": "#C8D4E3"
                    },
                    "hoverlabel": {
                      "align": "left"
                    },
                    "hovermode": "closest",
                    "mapbox": {
                      "style": "light"
                    },
                    "paper_bgcolor": "white",
                    "plot_bgcolor": "white",
                    "polar": {
                      "angularaxis": {
                        "gridcolor": "#EBF0F8",
                        "linecolor": "#EBF0F8",
                        "ticks": ""
                      },
                      "bgcolor": "white",
                      "radialaxis": {
                        "gridcolor": "#EBF0F8",
                        "linecolor": "#EBF0F8",
                        "ticks": ""
                      }
                    },
                    "scene": {
                      "xaxis": {
                        "backgroundcolor": "white",
                        "gridcolor": "#DFE8F3",
                        "gridwidth": 2,
                        "linecolor": "#EBF0F8",
                        "showbackground": true,
                        "ticks": "",
                        "zerolinecolor": "#EBF0F8"
                      },
                      "yaxis": {
                        "backgroundcolor": "white",
                        "gridcolor": "#DFE8F3",
                        "gridwidth": 2,
                        "linecolor": "#EBF0F8",
                        "showbackground": true,
                        "ticks": "",
                        "zerolinecolor": "#EBF0F8"
                      },
                      "zaxis": {
                        "backgroundcolor": "white",
                        "gridcolor": "#DFE8F3",
                        "gridwidth": 2,
                        "linecolor": "#EBF0F8",
                        "showbackground": true,
                        "ticks": "",
                        "zerolinecolor": "#EBF0F8"
                      }
                    },
                    "shapedefaults": {
                      "line": {
                        "color": "#2a3f5f"
                      }
                    },
                    "ternary": {
                      "aaxis": {
                        "gridcolor": "#DFE8F3",
                        "linecolor": "#A2B1C6",
                        "ticks": ""
                      },
                      "baxis": {
                        "gridcolor": "#DFE8F3",
                        "linecolor": "#A2B1C6",
                        "ticks": ""
                      },
                      "bgcolor": "white",
                      "caxis": {
                        "gridcolor": "#DFE8F3",
                        "linecolor": "#A2B1C6",
                        "ticks": ""
                      }
                    },
                    "title": {
                      "x": 0.05
                    },
                    "xaxis": {
                      "automargin": true,
                      "gridcolor": "#EBF0F8",
                      "linecolor": "#EBF0F8",
                      "ticks": "",
                      "title": {
                        "standoff": 15
                      },
                      "zerolinecolor": "#EBF0F8",
                      "zerolinewidth": 2
                    },
                    "yaxis": {
                      "automargin": true,
                      "gridcolor": "#EBF0F8",
                      "linecolor": "#EBF0F8",
                      "ticks": "",
                      "title": {
                        "standoff": 15
                      },
                      "zerolinecolor": "#EBF0F8",
                      "zerolinewidth": 2
                    }
                  }
                },
                "title": {
                  "font": {
                    "family": "Tahoma,sans serif",
                    "size": 20
                  },
                  "text": "<b>Notas Gerais do Enem 2021</b>",
                  "x": 0.5
                },
                "xaxis": {
                  "tickfont": {
                    "size": 16
                  }
                },
                "yaxis": {
                  "range": [
                    0,
                    1000
                  ],
                  "showticklabels": false,
                  "visible": false
                }
              }
            }
          },
          "metadata": {},
          "output_type": "display_data"
        }
      ],
      "source": [
        "graf_notas_esc(df_medias_notas,\"Notas Gerais do Enem 2021\")"
      ]
    },
    {
      "cell_type": "code",
      "execution_count": 26,
      "metadata": {},
      "outputs": [
        {
          "data": {
            "application/vnd.plotly.v1+json": {
              "config": {
                "plotlyServerURL": "https://plot.ly"
              },
              "data": [
                {
                  "customdata": [
                    [
                      "GERAL",
                      539.12,
                      567.49,
                      548.32,
                      600.66,
                      685.34
                    ],
                    [
                      "Cotia",
                      543.47,
                      561.13,
                      546.69,
                      610.17,
                      685.56
                    ],
                    [
                      "Embu das Artes",
                      506.87,
                      564.14,
                      540.74,
                      554.99,
                      595.65
                    ],
                    [
                      "Itapevi",
                      546.06,
                      569.82,
                      547.69,
                      579.82,
                      645.62
                    ],
                    [
                      "Jandira",
                      526.65,
                      571.75,
                      550.93,
                      600.46,
                      662.56
                    ],
                    [
                      "Osasco",
                      536.48,
                      568.42,
                      547.88,
                      597.19,
                      689.04
                    ],
                    [
                      "Vargem Grande Paulista",
                      582.99,
                      597.06,
                      573.47,
                      635.76,
                      702.33
                    ]
                  ],
                  "hovertemplate": "<b>Município</b> %{customdata[0]}<br><b>Nota Natureza: %{customdata[1]}</b><br><b>Nota Humanas: %{customdata[2]}</b><br><b>Nota Linguagem: %{customdata[3]}</b><br><b>Nota Matemática: %{customdata[4]}</b><br><b>Nota Redação: %{customdata[5]}</b>",
                  "marker": {
                    "color": "rgb(00, 33, 47)"
                  },
                  "name": "Natureza",
                  "text": [
                    539.12,
                    543.47,
                    506.87,
                    546.06,
                    526.65,
                    536.48,
                    582.99
                  ],
                  "textfont": {
                    "size": 16
                  },
                  "textposition": "outside",
                  "type": "bar",
                  "x": [
                    "GERAL",
                    "Cotia",
                    "Embu das Artes",
                    "Itapevi",
                    "Jandira",
                    "Osasco",
                    "Vargem Grande Paulista"
                  ],
                  "y": [
                    539.12,
                    543.47,
                    506.87,
                    546.06,
                    526.65,
                    536.48,
                    582.99
                  ]
                },
                {
                  "customdata": [
                    [
                      "GERAL",
                      539.12,
                      567.49,
                      548.32,
                      600.66,
                      685.34
                    ],
                    [
                      "Cotia",
                      543.47,
                      561.13,
                      546.69,
                      610.17,
                      685.56
                    ],
                    [
                      "Embu das Artes",
                      506.87,
                      564.14,
                      540.74,
                      554.99,
                      595.65
                    ],
                    [
                      "Itapevi",
                      546.06,
                      569.82,
                      547.69,
                      579.82,
                      645.62
                    ],
                    [
                      "Jandira",
                      526.65,
                      571.75,
                      550.93,
                      600.46,
                      662.56
                    ],
                    [
                      "Osasco",
                      536.48,
                      568.42,
                      547.88,
                      597.19,
                      689.04
                    ],
                    [
                      "Vargem Grande Paulista",
                      582.99,
                      597.06,
                      573.47,
                      635.76,
                      702.33
                    ]
                  ],
                  "hovertemplate": "<b>Município</b> %{customdata[0]}<br><b>Nota Natureza: %{customdata[1]}</b><br><b>Nota Humanas: %{customdata[2]}</b><br><b>Nota Linguagem: %{customdata[3]}</b><br><b>Nota Matemática: %{customdata[4]}</b><br><b>Nota Redação: %{customdata[5]}</b>",
                  "marker": {
                    "color": "rgb(33, 249, 208)"
                  },
                  "name": "Humanas",
                  "text": [
                    567.49,
                    561.13,
                    564.14,
                    569.82,
                    571.75,
                    568.42,
                    597.06
                  ],
                  "textfont": {
                    "size": 16
                  },
                  "textposition": "outside",
                  "type": "bar",
                  "x": [
                    "GERAL",
                    "Cotia",
                    "Embu das Artes",
                    "Itapevi",
                    "Jandira",
                    "Osasco",
                    "Vargem Grande Paulista"
                  ],
                  "y": [
                    567.49,
                    561.13,
                    564.14,
                    569.82,
                    571.75,
                    568.42,
                    597.06
                  ]
                },
                {
                  "customdata": [
                    [
                      "GERAL",
                      539.12,
                      567.49,
                      548.32,
                      600.66,
                      685.34
                    ],
                    [
                      "Cotia",
                      543.47,
                      561.13,
                      546.69,
                      610.17,
                      685.56
                    ],
                    [
                      "Embu das Artes",
                      506.87,
                      564.14,
                      540.74,
                      554.99,
                      595.65
                    ],
                    [
                      "Itapevi",
                      546.06,
                      569.82,
                      547.69,
                      579.82,
                      645.62
                    ],
                    [
                      "Jandira",
                      526.65,
                      571.75,
                      550.93,
                      600.46,
                      662.56
                    ],
                    [
                      "Osasco",
                      536.48,
                      568.42,
                      547.88,
                      597.19,
                      689.04
                    ],
                    [
                      "Vargem Grande Paulista",
                      582.99,
                      597.06,
                      573.47,
                      635.76,
                      702.33
                    ]
                  ],
                  "hovertemplate": "<b>Município</b> %{customdata[0]}<br><b>Nota Natureza: %{customdata[1]}</b><br><b>Nota Humanas: %{customdata[2]}</b><br><b>Nota Linguagem: %{customdata[3]}</b><br><b>Nota Matemática: %{customdata[4]}</b><br><b>Nota Redação: %{customdata[5]}</b>",
                  "marker": {
                    "color": "rgb(0, 143, 199)"
                  },
                  "name": "Linguagem",
                  "text": [
                    548.32,
                    546.69,
                    540.74,
                    547.69,
                    550.93,
                    547.88,
                    573.47
                  ],
                  "textfont": {
                    "size": 16
                  },
                  "textposition": "outside",
                  "type": "bar",
                  "x": [
                    "GERAL",
                    "Cotia",
                    "Embu das Artes",
                    "Itapevi",
                    "Jandira",
                    "Osasco",
                    "Vargem Grande Paulista"
                  ],
                  "y": [
                    548.32,
                    546.69,
                    540.74,
                    547.69,
                    550.93,
                    547.88,
                    573.47
                  ]
                },
                {
                  "customdata": [
                    [
                      "GERAL",
                      539.12,
                      567.49,
                      548.32,
                      600.66,
                      685.34
                    ],
                    [
                      "Cotia",
                      543.47,
                      561.13,
                      546.69,
                      610.17,
                      685.56
                    ],
                    [
                      "Embu das Artes",
                      506.87,
                      564.14,
                      540.74,
                      554.99,
                      595.65
                    ],
                    [
                      "Itapevi",
                      546.06,
                      569.82,
                      547.69,
                      579.82,
                      645.62
                    ],
                    [
                      "Jandira",
                      526.65,
                      571.75,
                      550.93,
                      600.46,
                      662.56
                    ],
                    [
                      "Osasco",
                      536.48,
                      568.42,
                      547.88,
                      597.19,
                      689.04
                    ],
                    [
                      "Vargem Grande Paulista",
                      582.99,
                      597.06,
                      573.47,
                      635.76,
                      702.33
                    ]
                  ],
                  "hovertemplate": "<b>Município</b> %{customdata[0]}<br><b>Nota Natureza: %{customdata[1]}</b><br><b>Nota Humanas: %{customdata[2]}</b><br><b>Nota Linguagem: %{customdata[3]}</b><br><b>Nota Matemática: %{customdata[4]}</b><br><b>Nota Redação: %{customdata[5]}</b>",
                  "marker": {
                    "color": "rgb(46, 66, 74)"
                  },
                  "name": "Matematica",
                  "text": [
                    600.66,
                    610.17,
                    554.99,
                    579.82,
                    600.46,
                    597.19,
                    635.76
                  ],
                  "textfont": {
                    "size": 16
                  },
                  "textposition": "outside",
                  "type": "bar",
                  "x": [
                    "GERAL",
                    "Cotia",
                    "Embu das Artes",
                    "Itapevi",
                    "Jandira",
                    "Osasco",
                    "Vargem Grande Paulista"
                  ],
                  "y": [
                    600.66,
                    610.17,
                    554.99,
                    579.82,
                    600.46,
                    597.19,
                    635.76
                  ]
                },
                {
                  "customdata": [
                    [
                      "GERAL",
                      539.12,
                      567.49,
                      548.32,
                      600.66,
                      685.34
                    ],
                    [
                      "Cotia",
                      543.47,
                      561.13,
                      546.69,
                      610.17,
                      685.56
                    ],
                    [
                      "Embu das Artes",
                      506.87,
                      564.14,
                      540.74,
                      554.99,
                      595.65
                    ],
                    [
                      "Itapevi",
                      546.06,
                      569.82,
                      547.69,
                      579.82,
                      645.62
                    ],
                    [
                      "Jandira",
                      526.65,
                      571.75,
                      550.93,
                      600.46,
                      662.56
                    ],
                    [
                      "Osasco",
                      536.48,
                      568.42,
                      547.88,
                      597.19,
                      689.04
                    ],
                    [
                      "Vargem Grande Paulista",
                      582.99,
                      597.06,
                      573.47,
                      635.76,
                      702.33
                    ]
                  ],
                  "hovertemplate": "<b>Município</b> %{customdata[0]}<br><b>Nota Natureza: %{customdata[1]}</b><br><b>Nota Humanas: %{customdata[2]}</b><br><b>Nota Linguagem: %{customdata[3]}</b><br><b>Nota Matemática: %{customdata[4]}</b><br><b>Nota Redação: %{customdata[5]}</b>",
                  "marker": {
                    "color": "rgb(00, 69, 94)"
                  },
                  "name": "Redacao",
                  "text": [
                    685.34,
                    685.56,
                    595.65,
                    645.62,
                    662.56,
                    689.04,
                    702.33
                  ],
                  "textfont": {
                    "size": 16
                  },
                  "textposition": "outside",
                  "type": "bar",
                  "x": [
                    "GERAL",
                    "Cotia",
                    "Embu das Artes",
                    "Itapevi",
                    "Jandira",
                    "Osasco",
                    "Vargem Grande Paulista"
                  ],
                  "y": [
                    685.34,
                    685.56,
                    595.65,
                    645.62,
                    662.56,
                    689.04,
                    702.33
                  ]
                }
              ],
              "layout": {
                "bargap": 0.2,
                "bargroupgap": 0.1,
                "template": {
                  "data": {
                    "bar": [
                      {
                        "error_x": {
                          "color": "#2a3f5f"
                        },
                        "error_y": {
                          "color": "#2a3f5f"
                        },
                        "marker": {
                          "line": {
                            "color": "white",
                            "width": 0.5
                          },
                          "pattern": {
                            "fillmode": "overlay",
                            "size": 10,
                            "solidity": 0.2
                          }
                        },
                        "type": "bar"
                      }
                    ],
                    "barpolar": [
                      {
                        "marker": {
                          "line": {
                            "color": "white",
                            "width": 0.5
                          },
                          "pattern": {
                            "fillmode": "overlay",
                            "size": 10,
                            "solidity": 0.2
                          }
                        },
                        "type": "barpolar"
                      }
                    ],
                    "carpet": [
                      {
                        "aaxis": {
                          "endlinecolor": "#2a3f5f",
                          "gridcolor": "#C8D4E3",
                          "linecolor": "#C8D4E3",
                          "minorgridcolor": "#C8D4E3",
                          "startlinecolor": "#2a3f5f"
                        },
                        "baxis": {
                          "endlinecolor": "#2a3f5f",
                          "gridcolor": "#C8D4E3",
                          "linecolor": "#C8D4E3",
                          "minorgridcolor": "#C8D4E3",
                          "startlinecolor": "#2a3f5f"
                        },
                        "type": "carpet"
                      }
                    ],
                    "choropleth": [
                      {
                        "colorbar": {
                          "outlinewidth": 0,
                          "ticks": ""
                        },
                        "type": "choropleth"
                      }
                    ],
                    "contour": [
                      {
                        "colorbar": {
                          "outlinewidth": 0,
                          "ticks": ""
                        },
                        "colorscale": [
                          [
                            0,
                            "#0d0887"
                          ],
                          [
                            0.1111111111111111,
                            "#46039f"
                          ],
                          [
                            0.2222222222222222,
                            "#7201a8"
                          ],
                          [
                            0.3333333333333333,
                            "#9c179e"
                          ],
                          [
                            0.4444444444444444,
                            "#bd3786"
                          ],
                          [
                            0.5555555555555556,
                            "#d8576b"
                          ],
                          [
                            0.6666666666666666,
                            "#ed7953"
                          ],
                          [
                            0.7777777777777778,
                            "#fb9f3a"
                          ],
                          [
                            0.8888888888888888,
                            "#fdca26"
                          ],
                          [
                            1,
                            "#f0f921"
                          ]
                        ],
                        "type": "contour"
                      }
                    ],
                    "contourcarpet": [
                      {
                        "colorbar": {
                          "outlinewidth": 0,
                          "ticks": ""
                        },
                        "type": "contourcarpet"
                      }
                    ],
                    "heatmap": [
                      {
                        "colorbar": {
                          "outlinewidth": 0,
                          "ticks": ""
                        },
                        "colorscale": [
                          [
                            0,
                            "#0d0887"
                          ],
                          [
                            0.1111111111111111,
                            "#46039f"
                          ],
                          [
                            0.2222222222222222,
                            "#7201a8"
                          ],
                          [
                            0.3333333333333333,
                            "#9c179e"
                          ],
                          [
                            0.4444444444444444,
                            "#bd3786"
                          ],
                          [
                            0.5555555555555556,
                            "#d8576b"
                          ],
                          [
                            0.6666666666666666,
                            "#ed7953"
                          ],
                          [
                            0.7777777777777778,
                            "#fb9f3a"
                          ],
                          [
                            0.8888888888888888,
                            "#fdca26"
                          ],
                          [
                            1,
                            "#f0f921"
                          ]
                        ],
                        "type": "heatmap"
                      }
                    ],
                    "heatmapgl": [
                      {
                        "colorbar": {
                          "outlinewidth": 0,
                          "ticks": ""
                        },
                        "colorscale": [
                          [
                            0,
                            "#0d0887"
                          ],
                          [
                            0.1111111111111111,
                            "#46039f"
                          ],
                          [
                            0.2222222222222222,
                            "#7201a8"
                          ],
                          [
                            0.3333333333333333,
                            "#9c179e"
                          ],
                          [
                            0.4444444444444444,
                            "#bd3786"
                          ],
                          [
                            0.5555555555555556,
                            "#d8576b"
                          ],
                          [
                            0.6666666666666666,
                            "#ed7953"
                          ],
                          [
                            0.7777777777777778,
                            "#fb9f3a"
                          ],
                          [
                            0.8888888888888888,
                            "#fdca26"
                          ],
                          [
                            1,
                            "#f0f921"
                          ]
                        ],
                        "type": "heatmapgl"
                      }
                    ],
                    "histogram": [
                      {
                        "marker": {
                          "pattern": {
                            "fillmode": "overlay",
                            "size": 10,
                            "solidity": 0.2
                          }
                        },
                        "type": "histogram"
                      }
                    ],
                    "histogram2d": [
                      {
                        "colorbar": {
                          "outlinewidth": 0,
                          "ticks": ""
                        },
                        "colorscale": [
                          [
                            0,
                            "#0d0887"
                          ],
                          [
                            0.1111111111111111,
                            "#46039f"
                          ],
                          [
                            0.2222222222222222,
                            "#7201a8"
                          ],
                          [
                            0.3333333333333333,
                            "#9c179e"
                          ],
                          [
                            0.4444444444444444,
                            "#bd3786"
                          ],
                          [
                            0.5555555555555556,
                            "#d8576b"
                          ],
                          [
                            0.6666666666666666,
                            "#ed7953"
                          ],
                          [
                            0.7777777777777778,
                            "#fb9f3a"
                          ],
                          [
                            0.8888888888888888,
                            "#fdca26"
                          ],
                          [
                            1,
                            "#f0f921"
                          ]
                        ],
                        "type": "histogram2d"
                      }
                    ],
                    "histogram2dcontour": [
                      {
                        "colorbar": {
                          "outlinewidth": 0,
                          "ticks": ""
                        },
                        "colorscale": [
                          [
                            0,
                            "#0d0887"
                          ],
                          [
                            0.1111111111111111,
                            "#46039f"
                          ],
                          [
                            0.2222222222222222,
                            "#7201a8"
                          ],
                          [
                            0.3333333333333333,
                            "#9c179e"
                          ],
                          [
                            0.4444444444444444,
                            "#bd3786"
                          ],
                          [
                            0.5555555555555556,
                            "#d8576b"
                          ],
                          [
                            0.6666666666666666,
                            "#ed7953"
                          ],
                          [
                            0.7777777777777778,
                            "#fb9f3a"
                          ],
                          [
                            0.8888888888888888,
                            "#fdca26"
                          ],
                          [
                            1,
                            "#f0f921"
                          ]
                        ],
                        "type": "histogram2dcontour"
                      }
                    ],
                    "mesh3d": [
                      {
                        "colorbar": {
                          "outlinewidth": 0,
                          "ticks": ""
                        },
                        "type": "mesh3d"
                      }
                    ],
                    "parcoords": [
                      {
                        "line": {
                          "colorbar": {
                            "outlinewidth": 0,
                            "ticks": ""
                          }
                        },
                        "type": "parcoords"
                      }
                    ],
                    "pie": [
                      {
                        "automargin": true,
                        "type": "pie"
                      }
                    ],
                    "scatter": [
                      {
                        "fillpattern": {
                          "fillmode": "overlay",
                          "size": 10,
                          "solidity": 0.2
                        },
                        "type": "scatter"
                      }
                    ],
                    "scatter3d": [
                      {
                        "line": {
                          "colorbar": {
                            "outlinewidth": 0,
                            "ticks": ""
                          }
                        },
                        "marker": {
                          "colorbar": {
                            "outlinewidth": 0,
                            "ticks": ""
                          }
                        },
                        "type": "scatter3d"
                      }
                    ],
                    "scattercarpet": [
                      {
                        "marker": {
                          "colorbar": {
                            "outlinewidth": 0,
                            "ticks": ""
                          }
                        },
                        "type": "scattercarpet"
                      }
                    ],
                    "scattergeo": [
                      {
                        "marker": {
                          "colorbar": {
                            "outlinewidth": 0,
                            "ticks": ""
                          }
                        },
                        "type": "scattergeo"
                      }
                    ],
                    "scattergl": [
                      {
                        "marker": {
                          "colorbar": {
                            "outlinewidth": 0,
                            "ticks": ""
                          }
                        },
                        "type": "scattergl"
                      }
                    ],
                    "scattermapbox": [
                      {
                        "marker": {
                          "colorbar": {
                            "outlinewidth": 0,
                            "ticks": ""
                          }
                        },
                        "type": "scattermapbox"
                      }
                    ],
                    "scatterpolar": [
                      {
                        "marker": {
                          "colorbar": {
                            "outlinewidth": 0,
                            "ticks": ""
                          }
                        },
                        "type": "scatterpolar"
                      }
                    ],
                    "scatterpolargl": [
                      {
                        "marker": {
                          "colorbar": {
                            "outlinewidth": 0,
                            "ticks": ""
                          }
                        },
                        "type": "scatterpolargl"
                      }
                    ],
                    "scatterternary": [
                      {
                        "marker": {
                          "colorbar": {
                            "outlinewidth": 0,
                            "ticks": ""
                          }
                        },
                        "type": "scatterternary"
                      }
                    ],
                    "surface": [
                      {
                        "colorbar": {
                          "outlinewidth": 0,
                          "ticks": ""
                        },
                        "colorscale": [
                          [
                            0,
                            "#0d0887"
                          ],
                          [
                            0.1111111111111111,
                            "#46039f"
                          ],
                          [
                            0.2222222222222222,
                            "#7201a8"
                          ],
                          [
                            0.3333333333333333,
                            "#9c179e"
                          ],
                          [
                            0.4444444444444444,
                            "#bd3786"
                          ],
                          [
                            0.5555555555555556,
                            "#d8576b"
                          ],
                          [
                            0.6666666666666666,
                            "#ed7953"
                          ],
                          [
                            0.7777777777777778,
                            "#fb9f3a"
                          ],
                          [
                            0.8888888888888888,
                            "#fdca26"
                          ],
                          [
                            1,
                            "#f0f921"
                          ]
                        ],
                        "type": "surface"
                      }
                    ],
                    "table": [
                      {
                        "cells": {
                          "fill": {
                            "color": "#EBF0F8"
                          },
                          "line": {
                            "color": "white"
                          }
                        },
                        "header": {
                          "fill": {
                            "color": "#C8D4E3"
                          },
                          "line": {
                            "color": "white"
                          }
                        },
                        "type": "table"
                      }
                    ]
                  },
                  "layout": {
                    "annotationdefaults": {
                      "arrowcolor": "#2a3f5f",
                      "arrowhead": 0,
                      "arrowwidth": 1
                    },
                    "autotypenumbers": "strict",
                    "coloraxis": {
                      "colorbar": {
                        "outlinewidth": 0,
                        "ticks": ""
                      }
                    },
                    "colorscale": {
                      "diverging": [
                        [
                          0,
                          "#8e0152"
                        ],
                        [
                          0.1,
                          "#c51b7d"
                        ],
                        [
                          0.2,
                          "#de77ae"
                        ],
                        [
                          0.3,
                          "#f1b6da"
                        ],
                        [
                          0.4,
                          "#fde0ef"
                        ],
                        [
                          0.5,
                          "#f7f7f7"
                        ],
                        [
                          0.6,
                          "#e6f5d0"
                        ],
                        [
                          0.7,
                          "#b8e186"
                        ],
                        [
                          0.8,
                          "#7fbc41"
                        ],
                        [
                          0.9,
                          "#4d9221"
                        ],
                        [
                          1,
                          "#276419"
                        ]
                      ],
                      "sequential": [
                        [
                          0,
                          "#0d0887"
                        ],
                        [
                          0.1111111111111111,
                          "#46039f"
                        ],
                        [
                          0.2222222222222222,
                          "#7201a8"
                        ],
                        [
                          0.3333333333333333,
                          "#9c179e"
                        ],
                        [
                          0.4444444444444444,
                          "#bd3786"
                        ],
                        [
                          0.5555555555555556,
                          "#d8576b"
                        ],
                        [
                          0.6666666666666666,
                          "#ed7953"
                        ],
                        [
                          0.7777777777777778,
                          "#fb9f3a"
                        ],
                        [
                          0.8888888888888888,
                          "#fdca26"
                        ],
                        [
                          1,
                          "#f0f921"
                        ]
                      ],
                      "sequentialminus": [
                        [
                          0,
                          "#0d0887"
                        ],
                        [
                          0.1111111111111111,
                          "#46039f"
                        ],
                        [
                          0.2222222222222222,
                          "#7201a8"
                        ],
                        [
                          0.3333333333333333,
                          "#9c179e"
                        ],
                        [
                          0.4444444444444444,
                          "#bd3786"
                        ],
                        [
                          0.5555555555555556,
                          "#d8576b"
                        ],
                        [
                          0.6666666666666666,
                          "#ed7953"
                        ],
                        [
                          0.7777777777777778,
                          "#fb9f3a"
                        ],
                        [
                          0.8888888888888888,
                          "#fdca26"
                        ],
                        [
                          1,
                          "#f0f921"
                        ]
                      ]
                    },
                    "colorway": [
                      "#636efa",
                      "#EF553B",
                      "#00cc96",
                      "#ab63fa",
                      "#FFA15A",
                      "#19d3f3",
                      "#FF6692",
                      "#B6E880",
                      "#FF97FF",
                      "#FECB52"
                    ],
                    "font": {
                      "color": "#2a3f5f"
                    },
                    "geo": {
                      "bgcolor": "white",
                      "lakecolor": "white",
                      "landcolor": "white",
                      "showlakes": true,
                      "showland": true,
                      "subunitcolor": "#C8D4E3"
                    },
                    "hoverlabel": {
                      "align": "left"
                    },
                    "hovermode": "closest",
                    "mapbox": {
                      "style": "light"
                    },
                    "paper_bgcolor": "white",
                    "plot_bgcolor": "white",
                    "polar": {
                      "angularaxis": {
                        "gridcolor": "#EBF0F8",
                        "linecolor": "#EBF0F8",
                        "ticks": ""
                      },
                      "bgcolor": "white",
                      "radialaxis": {
                        "gridcolor": "#EBF0F8",
                        "linecolor": "#EBF0F8",
                        "ticks": ""
                      }
                    },
                    "scene": {
                      "xaxis": {
                        "backgroundcolor": "white",
                        "gridcolor": "#DFE8F3",
                        "gridwidth": 2,
                        "linecolor": "#EBF0F8",
                        "showbackground": true,
                        "ticks": "",
                        "zerolinecolor": "#EBF0F8"
                      },
                      "yaxis": {
                        "backgroundcolor": "white",
                        "gridcolor": "#DFE8F3",
                        "gridwidth": 2,
                        "linecolor": "#EBF0F8",
                        "showbackground": true,
                        "ticks": "",
                        "zerolinecolor": "#EBF0F8"
                      },
                      "zaxis": {
                        "backgroundcolor": "white",
                        "gridcolor": "#DFE8F3",
                        "gridwidth": 2,
                        "linecolor": "#EBF0F8",
                        "showbackground": true,
                        "ticks": "",
                        "zerolinecolor": "#EBF0F8"
                      }
                    },
                    "shapedefaults": {
                      "line": {
                        "color": "#2a3f5f"
                      }
                    },
                    "ternary": {
                      "aaxis": {
                        "gridcolor": "#DFE8F3",
                        "linecolor": "#A2B1C6",
                        "ticks": ""
                      },
                      "baxis": {
                        "gridcolor": "#DFE8F3",
                        "linecolor": "#A2B1C6",
                        "ticks": ""
                      },
                      "bgcolor": "white",
                      "caxis": {
                        "gridcolor": "#DFE8F3",
                        "linecolor": "#A2B1C6",
                        "ticks": ""
                      }
                    },
                    "title": {
                      "x": 0.05
                    },
                    "xaxis": {
                      "automargin": true,
                      "gridcolor": "#EBF0F8",
                      "linecolor": "#EBF0F8",
                      "ticks": "",
                      "title": {
                        "standoff": 15
                      },
                      "zerolinecolor": "#EBF0F8",
                      "zerolinewidth": 2
                    },
                    "yaxis": {
                      "automargin": true,
                      "gridcolor": "#EBF0F8",
                      "linecolor": "#EBF0F8",
                      "ticks": "",
                      "title": {
                        "standoff": 15
                      },
                      "zerolinecolor": "#EBF0F8",
                      "zerolinewidth": 2
                    }
                  }
                },
                "title": {
                  "font": {
                    "family": "Tahoma,sans serif",
                    "size": 20
                  },
                  "text": "<b>Notas Escolas Particulares do Enem 2021</b>",
                  "x": 0.5
                },
                "xaxis": {
                  "tickfont": {
                    "size": 16
                  }
                },
                "yaxis": {
                  "range": [
                    0,
                    1000
                  ],
                  "showticklabels": false,
                  "visible": false
                }
              }
            }
          },
          "metadata": {},
          "output_type": "display_data"
        }
      ],
      "source": [
        "graf_notas_esc(df_medias_notas_priv,\"Notas Escolas Particulares do Enem 2021\")"
      ]
    },
    {
      "cell_type": "code",
      "execution_count": 27,
      "metadata": {},
      "outputs": [
        {
          "data": {
            "application/vnd.plotly.v1+json": {
              "config": {
                "plotlyServerURL": "https://plot.ly"
              },
              "data": [
                {
                  "customdata": [
                    [
                      "GERAL",
                      476.31,
                      519.29,
                      507.44,
                      525.98,
                      583.76
                    ],
                    [
                      "Cotia",
                      482.69,
                      523.85,
                      508.95,
                      535.7,
                      591.24
                    ],
                    [
                      "Embu das Artes",
                      479.51,
                      524.05,
                      513.04,
                      530.27,
                      584.11
                    ],
                    [
                      "Itapevi",
                      458.59,
                      499.89,
                      492.33,
                      502.86,
                      558.11
                    ],
                    [
                      "Jandira",
                      466.82,
                      509.16,
                      500.64,
                      517.86,
                      577.07
                    ],
                    [
                      "Osasco",
                      477.7,
                      522.79,
                      510.08,
                      527.31,
                      587.91
                    ],
                    [
                      "Vargem Grande Paulista",
                      473,
                      490.8,
                      486.93,
                      506.12,
                      553.91
                    ]
                  ],
                  "hovertemplate": "<b>Município</b> %{customdata[0]}<br><b>Nota Natureza: %{customdata[1]}</b><br><b>Nota Humanas: %{customdata[2]}</b><br><b>Nota Linguagem: %{customdata[3]}</b><br><b>Nota Matemática: %{customdata[4]}</b><br><b>Nota Redação: %{customdata[5]}</b>",
                  "marker": {
                    "color": "rgb(00, 33, 47)"
                  },
                  "name": "Natureza",
                  "text": [
                    476.31,
                    482.69,
                    479.51,
                    458.59,
                    466.82,
                    477.7,
                    473
                  ],
                  "textfont": {
                    "size": 16
                  },
                  "textposition": "outside",
                  "type": "bar",
                  "x": [
                    "GERAL",
                    "Cotia",
                    "Embu das Artes",
                    "Itapevi",
                    "Jandira",
                    "Osasco",
                    "Vargem Grande Paulista"
                  ],
                  "y": [
                    476.31,
                    482.69,
                    479.51,
                    458.59,
                    466.82,
                    477.7,
                    473
                  ]
                },
                {
                  "customdata": [
                    [
                      "GERAL",
                      476.31,
                      519.29,
                      507.44,
                      525.98,
                      583.76
                    ],
                    [
                      "Cotia",
                      482.69,
                      523.85,
                      508.95,
                      535.7,
                      591.24
                    ],
                    [
                      "Embu das Artes",
                      479.51,
                      524.05,
                      513.04,
                      530.27,
                      584.11
                    ],
                    [
                      "Itapevi",
                      458.59,
                      499.89,
                      492.33,
                      502.86,
                      558.11
                    ],
                    [
                      "Jandira",
                      466.82,
                      509.16,
                      500.64,
                      517.86,
                      577.07
                    ],
                    [
                      "Osasco",
                      477.7,
                      522.79,
                      510.08,
                      527.31,
                      587.91
                    ],
                    [
                      "Vargem Grande Paulista",
                      473,
                      490.8,
                      486.93,
                      506.12,
                      553.91
                    ]
                  ],
                  "hovertemplate": "<b>Município</b> %{customdata[0]}<br><b>Nota Natureza: %{customdata[1]}</b><br><b>Nota Humanas: %{customdata[2]}</b><br><b>Nota Linguagem: %{customdata[3]}</b><br><b>Nota Matemática: %{customdata[4]}</b><br><b>Nota Redação: %{customdata[5]}</b>",
                  "marker": {
                    "color": "rgb(33, 249, 208)"
                  },
                  "name": "Humanas",
                  "text": [
                    519.29,
                    523.85,
                    524.05,
                    499.89,
                    509.16,
                    522.79,
                    490.8
                  ],
                  "textfont": {
                    "size": 16
                  },
                  "textposition": "outside",
                  "type": "bar",
                  "x": [
                    "GERAL",
                    "Cotia",
                    "Embu das Artes",
                    "Itapevi",
                    "Jandira",
                    "Osasco",
                    "Vargem Grande Paulista"
                  ],
                  "y": [
                    519.29,
                    523.85,
                    524.05,
                    499.89,
                    509.16,
                    522.79,
                    490.8
                  ]
                },
                {
                  "customdata": [
                    [
                      "GERAL",
                      476.31,
                      519.29,
                      507.44,
                      525.98,
                      583.76
                    ],
                    [
                      "Cotia",
                      482.69,
                      523.85,
                      508.95,
                      535.7,
                      591.24
                    ],
                    [
                      "Embu das Artes",
                      479.51,
                      524.05,
                      513.04,
                      530.27,
                      584.11
                    ],
                    [
                      "Itapevi",
                      458.59,
                      499.89,
                      492.33,
                      502.86,
                      558.11
                    ],
                    [
                      "Jandira",
                      466.82,
                      509.16,
                      500.64,
                      517.86,
                      577.07
                    ],
                    [
                      "Osasco",
                      477.7,
                      522.79,
                      510.08,
                      527.31,
                      587.91
                    ],
                    [
                      "Vargem Grande Paulista",
                      473,
                      490.8,
                      486.93,
                      506.12,
                      553.91
                    ]
                  ],
                  "hovertemplate": "<b>Município</b> %{customdata[0]}<br><b>Nota Natureza: %{customdata[1]}</b><br><b>Nota Humanas: %{customdata[2]}</b><br><b>Nota Linguagem: %{customdata[3]}</b><br><b>Nota Matemática: %{customdata[4]}</b><br><b>Nota Redação: %{customdata[5]}</b>",
                  "marker": {
                    "color": "rgb(0, 143, 199)"
                  },
                  "name": "Linguagem",
                  "text": [
                    507.44,
                    508.95,
                    513.04,
                    492.33,
                    500.64,
                    510.08,
                    486.93
                  ],
                  "textfont": {
                    "size": 16
                  },
                  "textposition": "outside",
                  "type": "bar",
                  "x": [
                    "GERAL",
                    "Cotia",
                    "Embu das Artes",
                    "Itapevi",
                    "Jandira",
                    "Osasco",
                    "Vargem Grande Paulista"
                  ],
                  "y": [
                    507.44,
                    508.95,
                    513.04,
                    492.33,
                    500.64,
                    510.08,
                    486.93
                  ]
                },
                {
                  "customdata": [
                    [
                      "GERAL",
                      476.31,
                      519.29,
                      507.44,
                      525.98,
                      583.76
                    ],
                    [
                      "Cotia",
                      482.69,
                      523.85,
                      508.95,
                      535.7,
                      591.24
                    ],
                    [
                      "Embu das Artes",
                      479.51,
                      524.05,
                      513.04,
                      530.27,
                      584.11
                    ],
                    [
                      "Itapevi",
                      458.59,
                      499.89,
                      492.33,
                      502.86,
                      558.11
                    ],
                    [
                      "Jandira",
                      466.82,
                      509.16,
                      500.64,
                      517.86,
                      577.07
                    ],
                    [
                      "Osasco",
                      477.7,
                      522.79,
                      510.08,
                      527.31,
                      587.91
                    ],
                    [
                      "Vargem Grande Paulista",
                      473,
                      490.8,
                      486.93,
                      506.12,
                      553.91
                    ]
                  ],
                  "hovertemplate": "<b>Município</b> %{customdata[0]}<br><b>Nota Natureza: %{customdata[1]}</b><br><b>Nota Humanas: %{customdata[2]}</b><br><b>Nota Linguagem: %{customdata[3]}</b><br><b>Nota Matemática: %{customdata[4]}</b><br><b>Nota Redação: %{customdata[5]}</b>",
                  "marker": {
                    "color": "rgb(46, 66, 74)"
                  },
                  "name": "Matematica",
                  "text": [
                    525.98,
                    535.7,
                    530.27,
                    502.86,
                    517.86,
                    527.31,
                    506.12
                  ],
                  "textfont": {
                    "size": 16
                  },
                  "textposition": "outside",
                  "type": "bar",
                  "x": [
                    "GERAL",
                    "Cotia",
                    "Embu das Artes",
                    "Itapevi",
                    "Jandira",
                    "Osasco",
                    "Vargem Grande Paulista"
                  ],
                  "y": [
                    525.98,
                    535.7,
                    530.27,
                    502.86,
                    517.86,
                    527.31,
                    506.12
                  ]
                },
                {
                  "customdata": [
                    [
                      "GERAL",
                      476.31,
                      519.29,
                      507.44,
                      525.98,
                      583.76
                    ],
                    [
                      "Cotia",
                      482.69,
                      523.85,
                      508.95,
                      535.7,
                      591.24
                    ],
                    [
                      "Embu das Artes",
                      479.51,
                      524.05,
                      513.04,
                      530.27,
                      584.11
                    ],
                    [
                      "Itapevi",
                      458.59,
                      499.89,
                      492.33,
                      502.86,
                      558.11
                    ],
                    [
                      "Jandira",
                      466.82,
                      509.16,
                      500.64,
                      517.86,
                      577.07
                    ],
                    [
                      "Osasco",
                      477.7,
                      522.79,
                      510.08,
                      527.31,
                      587.91
                    ],
                    [
                      "Vargem Grande Paulista",
                      473,
                      490.8,
                      486.93,
                      506.12,
                      553.91
                    ]
                  ],
                  "hovertemplate": "<b>Município</b> %{customdata[0]}<br><b>Nota Natureza: %{customdata[1]}</b><br><b>Nota Humanas: %{customdata[2]}</b><br><b>Nota Linguagem: %{customdata[3]}</b><br><b>Nota Matemática: %{customdata[4]}</b><br><b>Nota Redação: %{customdata[5]}</b>",
                  "marker": {
                    "color": "rgb(00, 69, 94)"
                  },
                  "name": "Redacao",
                  "text": [
                    583.76,
                    591.24,
                    584.11,
                    558.11,
                    577.07,
                    587.91,
                    553.91
                  ],
                  "textfont": {
                    "size": 16
                  },
                  "textposition": "outside",
                  "type": "bar",
                  "x": [
                    "GERAL",
                    "Cotia",
                    "Embu das Artes",
                    "Itapevi",
                    "Jandira",
                    "Osasco",
                    "Vargem Grande Paulista"
                  ],
                  "y": [
                    583.76,
                    591.24,
                    584.11,
                    558.11,
                    577.07,
                    587.91,
                    553.91
                  ]
                }
              ],
              "layout": {
                "bargap": 0.2,
                "bargroupgap": 0.1,
                "template": {
                  "data": {
                    "bar": [
                      {
                        "error_x": {
                          "color": "#2a3f5f"
                        },
                        "error_y": {
                          "color": "#2a3f5f"
                        },
                        "marker": {
                          "line": {
                            "color": "white",
                            "width": 0.5
                          },
                          "pattern": {
                            "fillmode": "overlay",
                            "size": 10,
                            "solidity": 0.2
                          }
                        },
                        "type": "bar"
                      }
                    ],
                    "barpolar": [
                      {
                        "marker": {
                          "line": {
                            "color": "white",
                            "width": 0.5
                          },
                          "pattern": {
                            "fillmode": "overlay",
                            "size": 10,
                            "solidity": 0.2
                          }
                        },
                        "type": "barpolar"
                      }
                    ],
                    "carpet": [
                      {
                        "aaxis": {
                          "endlinecolor": "#2a3f5f",
                          "gridcolor": "#C8D4E3",
                          "linecolor": "#C8D4E3",
                          "minorgridcolor": "#C8D4E3",
                          "startlinecolor": "#2a3f5f"
                        },
                        "baxis": {
                          "endlinecolor": "#2a3f5f",
                          "gridcolor": "#C8D4E3",
                          "linecolor": "#C8D4E3",
                          "minorgridcolor": "#C8D4E3",
                          "startlinecolor": "#2a3f5f"
                        },
                        "type": "carpet"
                      }
                    ],
                    "choropleth": [
                      {
                        "colorbar": {
                          "outlinewidth": 0,
                          "ticks": ""
                        },
                        "type": "choropleth"
                      }
                    ],
                    "contour": [
                      {
                        "colorbar": {
                          "outlinewidth": 0,
                          "ticks": ""
                        },
                        "colorscale": [
                          [
                            0,
                            "#0d0887"
                          ],
                          [
                            0.1111111111111111,
                            "#46039f"
                          ],
                          [
                            0.2222222222222222,
                            "#7201a8"
                          ],
                          [
                            0.3333333333333333,
                            "#9c179e"
                          ],
                          [
                            0.4444444444444444,
                            "#bd3786"
                          ],
                          [
                            0.5555555555555556,
                            "#d8576b"
                          ],
                          [
                            0.6666666666666666,
                            "#ed7953"
                          ],
                          [
                            0.7777777777777778,
                            "#fb9f3a"
                          ],
                          [
                            0.8888888888888888,
                            "#fdca26"
                          ],
                          [
                            1,
                            "#f0f921"
                          ]
                        ],
                        "type": "contour"
                      }
                    ],
                    "contourcarpet": [
                      {
                        "colorbar": {
                          "outlinewidth": 0,
                          "ticks": ""
                        },
                        "type": "contourcarpet"
                      }
                    ],
                    "heatmap": [
                      {
                        "colorbar": {
                          "outlinewidth": 0,
                          "ticks": ""
                        },
                        "colorscale": [
                          [
                            0,
                            "#0d0887"
                          ],
                          [
                            0.1111111111111111,
                            "#46039f"
                          ],
                          [
                            0.2222222222222222,
                            "#7201a8"
                          ],
                          [
                            0.3333333333333333,
                            "#9c179e"
                          ],
                          [
                            0.4444444444444444,
                            "#bd3786"
                          ],
                          [
                            0.5555555555555556,
                            "#d8576b"
                          ],
                          [
                            0.6666666666666666,
                            "#ed7953"
                          ],
                          [
                            0.7777777777777778,
                            "#fb9f3a"
                          ],
                          [
                            0.8888888888888888,
                            "#fdca26"
                          ],
                          [
                            1,
                            "#f0f921"
                          ]
                        ],
                        "type": "heatmap"
                      }
                    ],
                    "heatmapgl": [
                      {
                        "colorbar": {
                          "outlinewidth": 0,
                          "ticks": ""
                        },
                        "colorscale": [
                          [
                            0,
                            "#0d0887"
                          ],
                          [
                            0.1111111111111111,
                            "#46039f"
                          ],
                          [
                            0.2222222222222222,
                            "#7201a8"
                          ],
                          [
                            0.3333333333333333,
                            "#9c179e"
                          ],
                          [
                            0.4444444444444444,
                            "#bd3786"
                          ],
                          [
                            0.5555555555555556,
                            "#d8576b"
                          ],
                          [
                            0.6666666666666666,
                            "#ed7953"
                          ],
                          [
                            0.7777777777777778,
                            "#fb9f3a"
                          ],
                          [
                            0.8888888888888888,
                            "#fdca26"
                          ],
                          [
                            1,
                            "#f0f921"
                          ]
                        ],
                        "type": "heatmapgl"
                      }
                    ],
                    "histogram": [
                      {
                        "marker": {
                          "pattern": {
                            "fillmode": "overlay",
                            "size": 10,
                            "solidity": 0.2
                          }
                        },
                        "type": "histogram"
                      }
                    ],
                    "histogram2d": [
                      {
                        "colorbar": {
                          "outlinewidth": 0,
                          "ticks": ""
                        },
                        "colorscale": [
                          [
                            0,
                            "#0d0887"
                          ],
                          [
                            0.1111111111111111,
                            "#46039f"
                          ],
                          [
                            0.2222222222222222,
                            "#7201a8"
                          ],
                          [
                            0.3333333333333333,
                            "#9c179e"
                          ],
                          [
                            0.4444444444444444,
                            "#bd3786"
                          ],
                          [
                            0.5555555555555556,
                            "#d8576b"
                          ],
                          [
                            0.6666666666666666,
                            "#ed7953"
                          ],
                          [
                            0.7777777777777778,
                            "#fb9f3a"
                          ],
                          [
                            0.8888888888888888,
                            "#fdca26"
                          ],
                          [
                            1,
                            "#f0f921"
                          ]
                        ],
                        "type": "histogram2d"
                      }
                    ],
                    "histogram2dcontour": [
                      {
                        "colorbar": {
                          "outlinewidth": 0,
                          "ticks": ""
                        },
                        "colorscale": [
                          [
                            0,
                            "#0d0887"
                          ],
                          [
                            0.1111111111111111,
                            "#46039f"
                          ],
                          [
                            0.2222222222222222,
                            "#7201a8"
                          ],
                          [
                            0.3333333333333333,
                            "#9c179e"
                          ],
                          [
                            0.4444444444444444,
                            "#bd3786"
                          ],
                          [
                            0.5555555555555556,
                            "#d8576b"
                          ],
                          [
                            0.6666666666666666,
                            "#ed7953"
                          ],
                          [
                            0.7777777777777778,
                            "#fb9f3a"
                          ],
                          [
                            0.8888888888888888,
                            "#fdca26"
                          ],
                          [
                            1,
                            "#f0f921"
                          ]
                        ],
                        "type": "histogram2dcontour"
                      }
                    ],
                    "mesh3d": [
                      {
                        "colorbar": {
                          "outlinewidth": 0,
                          "ticks": ""
                        },
                        "type": "mesh3d"
                      }
                    ],
                    "parcoords": [
                      {
                        "line": {
                          "colorbar": {
                            "outlinewidth": 0,
                            "ticks": ""
                          }
                        },
                        "type": "parcoords"
                      }
                    ],
                    "pie": [
                      {
                        "automargin": true,
                        "type": "pie"
                      }
                    ],
                    "scatter": [
                      {
                        "fillpattern": {
                          "fillmode": "overlay",
                          "size": 10,
                          "solidity": 0.2
                        },
                        "type": "scatter"
                      }
                    ],
                    "scatter3d": [
                      {
                        "line": {
                          "colorbar": {
                            "outlinewidth": 0,
                            "ticks": ""
                          }
                        },
                        "marker": {
                          "colorbar": {
                            "outlinewidth": 0,
                            "ticks": ""
                          }
                        },
                        "type": "scatter3d"
                      }
                    ],
                    "scattercarpet": [
                      {
                        "marker": {
                          "colorbar": {
                            "outlinewidth": 0,
                            "ticks": ""
                          }
                        },
                        "type": "scattercarpet"
                      }
                    ],
                    "scattergeo": [
                      {
                        "marker": {
                          "colorbar": {
                            "outlinewidth": 0,
                            "ticks": ""
                          }
                        },
                        "type": "scattergeo"
                      }
                    ],
                    "scattergl": [
                      {
                        "marker": {
                          "colorbar": {
                            "outlinewidth": 0,
                            "ticks": ""
                          }
                        },
                        "type": "scattergl"
                      }
                    ],
                    "scattermapbox": [
                      {
                        "marker": {
                          "colorbar": {
                            "outlinewidth": 0,
                            "ticks": ""
                          }
                        },
                        "type": "scattermapbox"
                      }
                    ],
                    "scatterpolar": [
                      {
                        "marker": {
                          "colorbar": {
                            "outlinewidth": 0,
                            "ticks": ""
                          }
                        },
                        "type": "scatterpolar"
                      }
                    ],
                    "scatterpolargl": [
                      {
                        "marker": {
                          "colorbar": {
                            "outlinewidth": 0,
                            "ticks": ""
                          }
                        },
                        "type": "scatterpolargl"
                      }
                    ],
                    "scatterternary": [
                      {
                        "marker": {
                          "colorbar": {
                            "outlinewidth": 0,
                            "ticks": ""
                          }
                        },
                        "type": "scatterternary"
                      }
                    ],
                    "surface": [
                      {
                        "colorbar": {
                          "outlinewidth": 0,
                          "ticks": ""
                        },
                        "colorscale": [
                          [
                            0,
                            "#0d0887"
                          ],
                          [
                            0.1111111111111111,
                            "#46039f"
                          ],
                          [
                            0.2222222222222222,
                            "#7201a8"
                          ],
                          [
                            0.3333333333333333,
                            "#9c179e"
                          ],
                          [
                            0.4444444444444444,
                            "#bd3786"
                          ],
                          [
                            0.5555555555555556,
                            "#d8576b"
                          ],
                          [
                            0.6666666666666666,
                            "#ed7953"
                          ],
                          [
                            0.7777777777777778,
                            "#fb9f3a"
                          ],
                          [
                            0.8888888888888888,
                            "#fdca26"
                          ],
                          [
                            1,
                            "#f0f921"
                          ]
                        ],
                        "type": "surface"
                      }
                    ],
                    "table": [
                      {
                        "cells": {
                          "fill": {
                            "color": "#EBF0F8"
                          },
                          "line": {
                            "color": "white"
                          }
                        },
                        "header": {
                          "fill": {
                            "color": "#C8D4E3"
                          },
                          "line": {
                            "color": "white"
                          }
                        },
                        "type": "table"
                      }
                    ]
                  },
                  "layout": {
                    "annotationdefaults": {
                      "arrowcolor": "#2a3f5f",
                      "arrowhead": 0,
                      "arrowwidth": 1
                    },
                    "autotypenumbers": "strict",
                    "coloraxis": {
                      "colorbar": {
                        "outlinewidth": 0,
                        "ticks": ""
                      }
                    },
                    "colorscale": {
                      "diverging": [
                        [
                          0,
                          "#8e0152"
                        ],
                        [
                          0.1,
                          "#c51b7d"
                        ],
                        [
                          0.2,
                          "#de77ae"
                        ],
                        [
                          0.3,
                          "#f1b6da"
                        ],
                        [
                          0.4,
                          "#fde0ef"
                        ],
                        [
                          0.5,
                          "#f7f7f7"
                        ],
                        [
                          0.6,
                          "#e6f5d0"
                        ],
                        [
                          0.7,
                          "#b8e186"
                        ],
                        [
                          0.8,
                          "#7fbc41"
                        ],
                        [
                          0.9,
                          "#4d9221"
                        ],
                        [
                          1,
                          "#276419"
                        ]
                      ],
                      "sequential": [
                        [
                          0,
                          "#0d0887"
                        ],
                        [
                          0.1111111111111111,
                          "#46039f"
                        ],
                        [
                          0.2222222222222222,
                          "#7201a8"
                        ],
                        [
                          0.3333333333333333,
                          "#9c179e"
                        ],
                        [
                          0.4444444444444444,
                          "#bd3786"
                        ],
                        [
                          0.5555555555555556,
                          "#d8576b"
                        ],
                        [
                          0.6666666666666666,
                          "#ed7953"
                        ],
                        [
                          0.7777777777777778,
                          "#fb9f3a"
                        ],
                        [
                          0.8888888888888888,
                          "#fdca26"
                        ],
                        [
                          1,
                          "#f0f921"
                        ]
                      ],
                      "sequentialminus": [
                        [
                          0,
                          "#0d0887"
                        ],
                        [
                          0.1111111111111111,
                          "#46039f"
                        ],
                        [
                          0.2222222222222222,
                          "#7201a8"
                        ],
                        [
                          0.3333333333333333,
                          "#9c179e"
                        ],
                        [
                          0.4444444444444444,
                          "#bd3786"
                        ],
                        [
                          0.5555555555555556,
                          "#d8576b"
                        ],
                        [
                          0.6666666666666666,
                          "#ed7953"
                        ],
                        [
                          0.7777777777777778,
                          "#fb9f3a"
                        ],
                        [
                          0.8888888888888888,
                          "#fdca26"
                        ],
                        [
                          1,
                          "#f0f921"
                        ]
                      ]
                    },
                    "colorway": [
                      "#636efa",
                      "#EF553B",
                      "#00cc96",
                      "#ab63fa",
                      "#FFA15A",
                      "#19d3f3",
                      "#FF6692",
                      "#B6E880",
                      "#FF97FF",
                      "#FECB52"
                    ],
                    "font": {
                      "color": "#2a3f5f"
                    },
                    "geo": {
                      "bgcolor": "white",
                      "lakecolor": "white",
                      "landcolor": "white",
                      "showlakes": true,
                      "showland": true,
                      "subunitcolor": "#C8D4E3"
                    },
                    "hoverlabel": {
                      "align": "left"
                    },
                    "hovermode": "closest",
                    "mapbox": {
                      "style": "light"
                    },
                    "paper_bgcolor": "white",
                    "plot_bgcolor": "white",
                    "polar": {
                      "angularaxis": {
                        "gridcolor": "#EBF0F8",
                        "linecolor": "#EBF0F8",
                        "ticks": ""
                      },
                      "bgcolor": "white",
                      "radialaxis": {
                        "gridcolor": "#EBF0F8",
                        "linecolor": "#EBF0F8",
                        "ticks": ""
                      }
                    },
                    "scene": {
                      "xaxis": {
                        "backgroundcolor": "white",
                        "gridcolor": "#DFE8F3",
                        "gridwidth": 2,
                        "linecolor": "#EBF0F8",
                        "showbackground": true,
                        "ticks": "",
                        "zerolinecolor": "#EBF0F8"
                      },
                      "yaxis": {
                        "backgroundcolor": "white",
                        "gridcolor": "#DFE8F3",
                        "gridwidth": 2,
                        "linecolor": "#EBF0F8",
                        "showbackground": true,
                        "ticks": "",
                        "zerolinecolor": "#EBF0F8"
                      },
                      "zaxis": {
                        "backgroundcolor": "white",
                        "gridcolor": "#DFE8F3",
                        "gridwidth": 2,
                        "linecolor": "#EBF0F8",
                        "showbackground": true,
                        "ticks": "",
                        "zerolinecolor": "#EBF0F8"
                      }
                    },
                    "shapedefaults": {
                      "line": {
                        "color": "#2a3f5f"
                      }
                    },
                    "ternary": {
                      "aaxis": {
                        "gridcolor": "#DFE8F3",
                        "linecolor": "#A2B1C6",
                        "ticks": ""
                      },
                      "baxis": {
                        "gridcolor": "#DFE8F3",
                        "linecolor": "#A2B1C6",
                        "ticks": ""
                      },
                      "bgcolor": "white",
                      "caxis": {
                        "gridcolor": "#DFE8F3",
                        "linecolor": "#A2B1C6",
                        "ticks": ""
                      }
                    },
                    "title": {
                      "x": 0.05
                    },
                    "xaxis": {
                      "automargin": true,
                      "gridcolor": "#EBF0F8",
                      "linecolor": "#EBF0F8",
                      "ticks": "",
                      "title": {
                        "standoff": 15
                      },
                      "zerolinecolor": "#EBF0F8",
                      "zerolinewidth": 2
                    },
                    "yaxis": {
                      "automargin": true,
                      "gridcolor": "#EBF0F8",
                      "linecolor": "#EBF0F8",
                      "ticks": "",
                      "title": {
                        "standoff": 15
                      },
                      "zerolinecolor": "#EBF0F8",
                      "zerolinewidth": 2
                    }
                  }
                },
                "title": {
                  "font": {
                    "family": "Tahoma,sans serif",
                    "size": 20
                  },
                  "text": "<b>Notas Escolas Publicas do Enem 2021</b>",
                  "x": 0.5
                },
                "xaxis": {
                  "tickfont": {
                    "size": 16
                  }
                },
                "yaxis": {
                  "range": [
                    0,
                    1000
                  ],
                  "showticklabels": false,
                  "visible": false
                }
              }
            }
          },
          "metadata": {},
          "output_type": "display_data"
        }
      ],
      "source": [
        "graf_notas_esc(df_medias_notas_publi,\"Notas Escolas Publicas do Enem 2021\")"
      ]
    },
    {
      "attachments": {},
      "cell_type": "markdown",
      "metadata": {
        "id": "ahL3olo4yXlj"
      },
      "source": [
        "## Mapa de escolas da região de Cotia\n",
        "\n",
        "\n",
        "<p>Embora haja uma falta de dados específicos sobre as escolas frequentadas pelos alunos, foi relevante realizar um levantamento das localizações de todas as escolas registradas no sistema governamental da região estudada.</p>\n",
        "\n",
        "<p>O acesso ao catálogo de escolas pode ser feito através do seguinte site: </p>\n",
        "\n",
        "[Link para o acesso do catálogo](https://www.gov.br/inep/pt-br/acesso-a-informacao/dados-abertos/inep-data/catalogo-de-escolas)"
      ]
    },
    {
      "cell_type": "code",
      "execution_count": 3,
      "metadata": {
        "colab": {
          "base_uri": "https://localhost:8080/",
          "height": 1000
        },
        "id": "SFodcdaZyfZm",
        "outputId": "e14b264a-5fd1-423d-b817-7354b1f7d363"
      },
      "outputs": [
        {
          "data": {
            "text/html": [
              "<div>\n",
              "<style scoped>\n",
              "    .dataframe tbody tr th:only-of-type {\n",
              "        vertical-align: middle;\n",
              "    }\n",
              "\n",
              "    .dataframe tbody tr th {\n",
              "        vertical-align: top;\n",
              "    }\n",
              "\n",
              "    .dataframe thead th {\n",
              "        text-align: right;\n",
              "    }\n",
              "</style>\n",
              "<table border=\"1\" class=\"dataframe\">\n",
              "  <thead>\n",
              "    <tr style=\"text-align: right;\">\n",
              "      <th></th>\n",
              "      <th>Restrição de Atendimento</th>\n",
              "      <th>Escola</th>\n",
              "      <th>Código INEP</th>\n",
              "      <th>UF</th>\n",
              "      <th>Município</th>\n",
              "      <th>Localização</th>\n",
              "      <th>Localidade Diferenciada</th>\n",
              "      <th>Categoria Administrativa</th>\n",
              "      <th>Endereço</th>\n",
              "      <th>Telefone</th>\n",
              "      <th>Dependência Administrativa</th>\n",
              "      <th>Categoria Escola Privada</th>\n",
              "      <th>Conveniada Poder Público</th>\n",
              "      <th>Regulamentação pelo Conselho de Educação</th>\n",
              "      <th>Porte da Escola</th>\n",
              "      <th>Etapas e Modalidade de Ensino Oferecidas</th>\n",
              "      <th>Outras Ofertas Educacionais</th>\n",
              "      <th>Latitude</th>\n",
              "      <th>Longitude</th>\n",
              "    </tr>\n",
              "  </thead>\n",
              "  <tbody>\n",
              "    <tr>\n",
              "      <th>0</th>\n",
              "      <td>ESCOLA EM FUNCIONAMENTO E SEM RESTRIÇÃO DE ATE...</td>\n",
              "      <td>COLEGIO ESCOPO</td>\n",
              "      <td>35004874</td>\n",
              "      <td>SP</td>\n",
              "      <td>Osasco</td>\n",
              "      <td>Urbana</td>\n",
              "      <td>A escola não está em área de localização difer...</td>\n",
              "      <td>Privada</td>\n",
              "      <td>DOS AUTONOMISTAS, 1325 VILA YARA. 06020-015 Os...</td>\n",
              "      <td>(11) 36817396</td>\n",
              "      <td>Privada</td>\n",
              "      <td>Particular</td>\n",
              "      <td>Não</td>\n",
              "      <td>Sim</td>\n",
              "      <td>Entre 201 e 500 matrículas de escolarização</td>\n",
              "      <td>Ensino Fundamental, Ensino Médio</td>\n",
              "      <td>NaN</td>\n",
              "      <td>-23.542805</td>\n",
              "      <td>-46.767185</td>\n",
              "    </tr>\n",
              "    <tr>\n",
              "      <th>1</th>\n",
              "      <td>ESCOLA EM FUNCIONAMENTO E SEM RESTRIÇÃO DE ATE...</td>\n",
              "      <td>COLEGIO SAO JOSE DA DIVINA PROVIDENCIA</td>\n",
              "      <td>35005014</td>\n",
              "      <td>SP</td>\n",
              "      <td>Osasco</td>\n",
              "      <td>Urbana</td>\n",
              "      <td>A escola não está em área de localização difer...</td>\n",
              "      <td>Privada</td>\n",
              "      <td>ANASTACIA JACHIMOV, 170 AYROSA. 06290-180 Osas...</td>\n",
              "      <td>(11) 43761903</td>\n",
              "      <td>Privada</td>\n",
              "      <td>Confessional</td>\n",
              "      <td>Não</td>\n",
              "      <td>Sim</td>\n",
              "      <td>Entre 201 e 500 matrículas de escolarização</td>\n",
              "      <td>Educação Infantil, Ensino Fundamental, Ensino ...</td>\n",
              "      <td>NaN</td>\n",
              "      <td>-23.518471</td>\n",
              "      <td>-46.771809</td>\n",
              "    </tr>\n",
              "    <tr>\n",
              "      <th>2</th>\n",
              "      <td>ESCOLA EM FUNCIONAMENTO E SEM RESTRIÇÃO DE ATE...</td>\n",
              "      <td>CENTRO EDUCACIONAL SESI 440</td>\n",
              "      <td>35005116</td>\n",
              "      <td>SP</td>\n",
              "      <td>Jandira</td>\n",
              "      <td>Urbana</td>\n",
              "      <td>A escola não está em área de localização difer...</td>\n",
              "      <td>Privada</td>\n",
              "      <td>EMILIO GUERRA, SN JARDIM MASE. 06604-200 Jandi...</td>\n",
              "      <td>(11) 47892397</td>\n",
              "      <td>Privada</td>\n",
              "      <td>Particular</td>\n",
              "      <td>Não</td>\n",
              "      <td>Sim</td>\n",
              "      <td>Entre 501 e 1000 matrículas de escolarização</td>\n",
              "      <td>Ensino Fundamental, Ensino Médio</td>\n",
              "      <td>NaN</td>\n",
              "      <td>-23.542579</td>\n",
              "      <td>-46.900889</td>\n",
              "    </tr>\n",
              "    <tr>\n",
              "      <th>3</th>\n",
              "      <td>ESCOLA EM FUNCIONAMENTO E SEM RESTRIÇÃO DE ATE...</td>\n",
              "      <td>TESLA DIGITAL SCHOOL</td>\n",
              "      <td>35007646</td>\n",
              "      <td>SP</td>\n",
              "      <td>Osasco</td>\n",
              "      <td>Urbana</td>\n",
              "      <td>A escola não está em área de localização difer...</td>\n",
              "      <td>Privada</td>\n",
              "      <td>RUA MINAS BOGASIAN, 342 CENTRO. 06013-010 Osas...</td>\n",
              "      <td>(11) 952703703</td>\n",
              "      <td>Privada</td>\n",
              "      <td>Particular</td>\n",
              "      <td>Não</td>\n",
              "      <td>Sim</td>\n",
              "      <td>Entre 51 e 200 matrículas de escolarização</td>\n",
              "      <td>Ensino Fundamental, Ensino Médio</td>\n",
              "      <td>NaN</td>\n",
              "      <td>-23.533469</td>\n",
              "      <td>-46.778823</td>\n",
              "    </tr>\n",
              "    <tr>\n",
              "      <th>4</th>\n",
              "      <td>ESCOLA EM FUNCIONAMENTO E SEM RESTRIÇÃO DE ATE...</td>\n",
              "      <td>COC VILA YARA UNIDADE II</td>\n",
              "      <td>35007828</td>\n",
              "      <td>SP</td>\n",
              "      <td>Osasco</td>\n",
              "      <td>Urbana</td>\n",
              "      <td>A escola não está em área de localização difer...</td>\n",
              "      <td>Privada</td>\n",
              "      <td>AVENIDA YARA, 136 VILA YARA. 06028-100 Osasco ...</td>\n",
              "      <td>(11) 36818000</td>\n",
              "      <td>Privada</td>\n",
              "      <td>Particular</td>\n",
              "      <td>Não</td>\n",
              "      <td>Sim</td>\n",
              "      <td>Entre 51 e 200 matrículas de escolarização</td>\n",
              "      <td>Ensino Médio</td>\n",
              "      <td>NaN</td>\n",
              "      <td>-23.546947</td>\n",
              "      <td>-46.763852</td>\n",
              "    </tr>\n",
              "    <tr>\n",
              "      <th>...</th>\n",
              "      <td>...</td>\n",
              "      <td>...</td>\n",
              "      <td>...</td>\n",
              "      <td>...</td>\n",
              "      <td>...</td>\n",
              "      <td>...</td>\n",
              "      <td>...</td>\n",
              "      <td>...</td>\n",
              "      <td>...</td>\n",
              "      <td>...</td>\n",
              "      <td>...</td>\n",
              "      <td>...</td>\n",
              "      <td>...</td>\n",
              "      <td>...</td>\n",
              "      <td>...</td>\n",
              "      <td>...</td>\n",
              "      <td>...</td>\n",
              "      <td>...</td>\n",
              "      <td>...</td>\n",
              "    </tr>\n",
              "    <tr>\n",
              "      <th>232</th>\n",
              "      <td>ESCOLA EM FUNCIONAMENTO E SEM RESTRIÇÃO DE ATE...</td>\n",
              "      <td>ANTONIO CARLOS DA TRINDADE</td>\n",
              "      <td>35924040</td>\n",
              "      <td>SP</td>\n",
              "      <td>Osasco</td>\n",
              "      <td>Urbana</td>\n",
              "      <td>A escola não está em área de localização difer...</td>\n",
              "      <td>Pública</td>\n",
              "      <td>ONIX, 889 AVENIDA. AYROSA. 06280-030 Osasco - SP.</td>\n",
              "      <td>(11) 35991824</td>\n",
              "      <td>Estadual</td>\n",
              "      <td>Não Informado</td>\n",
              "      <td>Não</td>\n",
              "      <td>Sim</td>\n",
              "      <td>Entre 501 e 1000 matrículas de escolarização</td>\n",
              "      <td>Ensino Fundamental, Ensino Médio</td>\n",
              "      <td>Atividade Complementar</td>\n",
              "      <td>-23.508720</td>\n",
              "      <td>-46.765631</td>\n",
              "    </tr>\n",
              "    <tr>\n",
              "      <th>233</th>\n",
              "      <td>ESCOLA EM FUNCIONAMENTO E SEM RESTRIÇÃO DE ATE...</td>\n",
              "      <td>LAERCIO SURIM</td>\n",
              "      <td>35924313</td>\n",
              "      <td>SP</td>\n",
              "      <td>Vargem Grande Paulista</td>\n",
              "      <td>Urbana</td>\n",
              "      <td>A escola não está em área de localização difer...</td>\n",
              "      <td>Pública</td>\n",
              "      <td>AVENIDA IVO MARIO ISAAC PIRES, 5011 RUA. PARQU...</td>\n",
              "      <td>(11) 26588317</td>\n",
              "      <td>Estadual</td>\n",
              "      <td>Não Informado</td>\n",
              "      <td>Não</td>\n",
              "      <td>Sim</td>\n",
              "      <td>Entre 501 e 1000 matrículas de escolarização</td>\n",
              "      <td>Ensino Fundamental, Ensino Médio</td>\n",
              "      <td>Atividade Complementar</td>\n",
              "      <td>-23.649686</td>\n",
              "      <td>-46.995591</td>\n",
              "    </tr>\n",
              "    <tr>\n",
              "      <th>234</th>\n",
              "      <td>ESCOLA EM FUNCIONAMENTO E SEM RESTRIÇÃO DE ATE...</td>\n",
              "      <td>RODOLFO JOSE DA COSTA E SILVA</td>\n",
              "      <td>35924436</td>\n",
              "      <td>SP</td>\n",
              "      <td>Embu das Artes</td>\n",
              "      <td>Urbana</td>\n",
              "      <td>A escola não está em área de localização difer...</td>\n",
              "      <td>Pública</td>\n",
              "      <td>RUA DOUTOR JORGE BALDUZZI, 182 RUA. JARDIM MIM...</td>\n",
              "      <td>(11) 47043034</td>\n",
              "      <td>Estadual</td>\n",
              "      <td>Não Informado</td>\n",
              "      <td>Não</td>\n",
              "      <td>Sim</td>\n",
              "      <td>Entre 201 e 500 matrículas de escolarização</td>\n",
              "      <td>Ensino Fundamental, Ensino Médio</td>\n",
              "      <td>Atendimento Educacional Especializado</td>\n",
              "      <td>-23.619611</td>\n",
              "      <td>-46.814097</td>\n",
              "    </tr>\n",
              "    <tr>\n",
              "      <th>235</th>\n",
              "      <td>ESCOLA EM FUNCIONAMENTO E SEM RESTRIÇÃO DE ATE...</td>\n",
              "      <td>JOSE EDSON MARTINS GOMES PROFESSOR</td>\n",
              "      <td>35925421</td>\n",
              "      <td>SP</td>\n",
              "      <td>Osasco</td>\n",
              "      <td>Urbana</td>\n",
              "      <td>A escola não está em área de localização difer...</td>\n",
              "      <td>Pública</td>\n",
              "      <td>THEDA FIGUEIREDO REGA, SN RUA. JARDIM ELVIRA. ...</td>\n",
              "      <td>(11) 35993421</td>\n",
              "      <td>Estadual</td>\n",
              "      <td>Não Informado</td>\n",
              "      <td>Não</td>\n",
              "      <td>Sim</td>\n",
              "      <td>Mais de 1000 matrículas de escolarização</td>\n",
              "      <td>Ensino Fundamental, Ensino Médio, Educação de ...</td>\n",
              "      <td>Atividade Complementar</td>\n",
              "      <td>-23.501615</td>\n",
              "      <td>-46.801228</td>\n",
              "    </tr>\n",
              "    <tr>\n",
              "      <th>236</th>\n",
              "      <td>ESCOLA EM FUNCIONAMENTO E SEM RESTRIÇÃO DE ATE...</td>\n",
              "      <td>DIRETOR RICARDO GENESIO DA SILVA</td>\n",
              "      <td>35925627</td>\n",
              "      <td>SP</td>\n",
              "      <td>Osasco</td>\n",
              "      <td>Urbana</td>\n",
              "      <td>A escola não está em área de localização difer...</td>\n",
              "      <td>Pública</td>\n",
              "      <td>AVENIDA PIEDADE COIADO GARCIA ARCOR, 27 AVENID...</td>\n",
              "      <td>(11) 35916301</td>\n",
              "      <td>Estadual</td>\n",
              "      <td>Não Informado</td>\n",
              "      <td>Não</td>\n",
              "      <td>Sim</td>\n",
              "      <td>Entre 501 e 1000 matrículas de escolarização</td>\n",
              "      <td>Ensino Fundamental, Ensino Médio</td>\n",
              "      <td>Atividade Complementar</td>\n",
              "      <td>-23.561813</td>\n",
              "      <td>-46.813381</td>\n",
              "    </tr>\n",
              "  </tbody>\n",
              "</table>\n",
              "<p>237 rows × 19 columns</p>\n",
              "</div>"
            ],
            "text/plain": [
              "                              Restrição de Atendimento  \\\n",
              "0    ESCOLA EM FUNCIONAMENTO E SEM RESTRIÇÃO DE ATE...   \n",
              "1    ESCOLA EM FUNCIONAMENTO E SEM RESTRIÇÃO DE ATE...   \n",
              "2    ESCOLA EM FUNCIONAMENTO E SEM RESTRIÇÃO DE ATE...   \n",
              "3    ESCOLA EM FUNCIONAMENTO E SEM RESTRIÇÃO DE ATE...   \n",
              "4    ESCOLA EM FUNCIONAMENTO E SEM RESTRIÇÃO DE ATE...   \n",
              "..                                                 ...   \n",
              "232  ESCOLA EM FUNCIONAMENTO E SEM RESTRIÇÃO DE ATE...   \n",
              "233  ESCOLA EM FUNCIONAMENTO E SEM RESTRIÇÃO DE ATE...   \n",
              "234  ESCOLA EM FUNCIONAMENTO E SEM RESTRIÇÃO DE ATE...   \n",
              "235  ESCOLA EM FUNCIONAMENTO E SEM RESTRIÇÃO DE ATE...   \n",
              "236  ESCOLA EM FUNCIONAMENTO E SEM RESTRIÇÃO DE ATE...   \n",
              "\n",
              "                                     Escola  Código INEP  UF  \\\n",
              "0                            COLEGIO ESCOPO     35004874  SP   \n",
              "1    COLEGIO SAO JOSE DA DIVINA PROVIDENCIA     35005014  SP   \n",
              "2               CENTRO EDUCACIONAL SESI 440     35005116  SP   \n",
              "3                      TESLA DIGITAL SCHOOL     35007646  SP   \n",
              "4                  COC VILA YARA UNIDADE II     35007828  SP   \n",
              "..                                      ...          ...  ..   \n",
              "232              ANTONIO CARLOS DA TRINDADE     35924040  SP   \n",
              "233                           LAERCIO SURIM     35924313  SP   \n",
              "234           RODOLFO JOSE DA COSTA E SILVA     35924436  SP   \n",
              "235      JOSE EDSON MARTINS GOMES PROFESSOR     35925421  SP   \n",
              "236        DIRETOR RICARDO GENESIO DA SILVA     35925627  SP   \n",
              "\n",
              "                  Município Localização  \\\n",
              "0                    Osasco      Urbana   \n",
              "1                    Osasco      Urbana   \n",
              "2                   Jandira      Urbana   \n",
              "3                    Osasco      Urbana   \n",
              "4                    Osasco      Urbana   \n",
              "..                      ...         ...   \n",
              "232                  Osasco      Urbana   \n",
              "233  Vargem Grande Paulista      Urbana   \n",
              "234          Embu das Artes      Urbana   \n",
              "235                  Osasco      Urbana   \n",
              "236                  Osasco      Urbana   \n",
              "\n",
              "                               Localidade Diferenciada  \\\n",
              "0    A escola não está em área de localização difer...   \n",
              "1    A escola não está em área de localização difer...   \n",
              "2    A escola não está em área de localização difer...   \n",
              "3    A escola não está em área de localização difer...   \n",
              "4    A escola não está em área de localização difer...   \n",
              "..                                                 ...   \n",
              "232  A escola não está em área de localização difer...   \n",
              "233  A escola não está em área de localização difer...   \n",
              "234  A escola não está em área de localização difer...   \n",
              "235  A escola não está em área de localização difer...   \n",
              "236  A escola não está em área de localização difer...   \n",
              "\n",
              "    Categoria Administrativa  \\\n",
              "0                    Privada   \n",
              "1                    Privada   \n",
              "2                    Privada   \n",
              "3                    Privada   \n",
              "4                    Privada   \n",
              "..                       ...   \n",
              "232                  Pública   \n",
              "233                  Pública   \n",
              "234                  Pública   \n",
              "235                  Pública   \n",
              "236                  Pública   \n",
              "\n",
              "                                              Endereço        Telefone  \\\n",
              "0    DOS AUTONOMISTAS, 1325 VILA YARA. 06020-015 Os...   (11) 36817396   \n",
              "1    ANASTACIA JACHIMOV, 170 AYROSA. 06290-180 Osas...   (11) 43761903   \n",
              "2    EMILIO GUERRA, SN JARDIM MASE. 06604-200 Jandi...   (11) 47892397   \n",
              "3    RUA MINAS BOGASIAN, 342 CENTRO. 06013-010 Osas...  (11) 952703703   \n",
              "4    AVENIDA YARA, 136 VILA YARA. 06028-100 Osasco ...   (11) 36818000   \n",
              "..                                                 ...             ...   \n",
              "232  ONIX, 889 AVENIDA. AYROSA. 06280-030 Osasco - SP.   (11) 35991824   \n",
              "233  AVENIDA IVO MARIO ISAAC PIRES, 5011 RUA. PARQU...   (11) 26588317   \n",
              "234  RUA DOUTOR JORGE BALDUZZI, 182 RUA. JARDIM MIM...   (11) 47043034   \n",
              "235  THEDA FIGUEIREDO REGA, SN RUA. JARDIM ELVIRA. ...   (11) 35993421   \n",
              "236  AVENIDA PIEDADE COIADO GARCIA ARCOR, 27 AVENID...   (11) 35916301   \n",
              "\n",
              "    Dependência Administrativa Categoria Escola Privada  \\\n",
              "0                      Privada               Particular   \n",
              "1                      Privada             Confessional   \n",
              "2                      Privada               Particular   \n",
              "3                      Privada               Particular   \n",
              "4                      Privada               Particular   \n",
              "..                         ...                      ...   \n",
              "232                   Estadual            Não Informado   \n",
              "233                   Estadual            Não Informado   \n",
              "234                   Estadual            Não Informado   \n",
              "235                   Estadual            Não Informado   \n",
              "236                   Estadual            Não Informado   \n",
              "\n",
              "    Conveniada Poder Público Regulamentação pelo Conselho de Educação  \\\n",
              "0                        Não                                      Sim   \n",
              "1                        Não                                      Sim   \n",
              "2                        Não                                      Sim   \n",
              "3                        Não                                      Sim   \n",
              "4                        Não                                      Sim   \n",
              "..                       ...                                      ...   \n",
              "232                      Não                                      Sim   \n",
              "233                      Não                                      Sim   \n",
              "234                      Não                                      Sim   \n",
              "235                      Não                                      Sim   \n",
              "236                      Não                                      Sim   \n",
              "\n",
              "                                  Porte da Escola  \\\n",
              "0     Entre 201 e 500 matrículas de escolarização   \n",
              "1     Entre 201 e 500 matrículas de escolarização   \n",
              "2    Entre 501 e 1000 matrículas de escolarização   \n",
              "3      Entre 51 e 200 matrículas de escolarização   \n",
              "4      Entre 51 e 200 matrículas de escolarização   \n",
              "..                                            ...   \n",
              "232  Entre 501 e 1000 matrículas de escolarização   \n",
              "233  Entre 501 e 1000 matrículas de escolarização   \n",
              "234   Entre 201 e 500 matrículas de escolarização   \n",
              "235      Mais de 1000 matrículas de escolarização   \n",
              "236  Entre 501 e 1000 matrículas de escolarização   \n",
              "\n",
              "              Etapas e Modalidade de Ensino Oferecidas  \\\n",
              "0                     Ensino Fundamental, Ensino Médio   \n",
              "1    Educação Infantil, Ensino Fundamental, Ensino ...   \n",
              "2                     Ensino Fundamental, Ensino Médio   \n",
              "3                     Ensino Fundamental, Ensino Médio   \n",
              "4                                         Ensino Médio   \n",
              "..                                                 ...   \n",
              "232                   Ensino Fundamental, Ensino Médio   \n",
              "233                   Ensino Fundamental, Ensino Médio   \n",
              "234                   Ensino Fundamental, Ensino Médio   \n",
              "235  Ensino Fundamental, Ensino Médio, Educação de ...   \n",
              "236                   Ensino Fundamental, Ensino Médio   \n",
              "\n",
              "               Outras Ofertas Educacionais   Latitude  Longitude  \n",
              "0                                      NaN -23.542805 -46.767185  \n",
              "1                                      NaN -23.518471 -46.771809  \n",
              "2                                      NaN -23.542579 -46.900889  \n",
              "3                                      NaN -23.533469 -46.778823  \n",
              "4                                      NaN -23.546947 -46.763852  \n",
              "..                                     ...        ...        ...  \n",
              "232                 Atividade Complementar -23.508720 -46.765631  \n",
              "233                 Atividade Complementar -23.649686 -46.995591  \n",
              "234  Atendimento Educacional Especializado -23.619611 -46.814097  \n",
              "235                 Atividade Complementar -23.501615 -46.801228  \n",
              "236                 Atividade Complementar -23.561813 -46.813381  \n",
              "\n",
              "[237 rows x 19 columns]"
            ]
          },
          "metadata": {},
          "output_type": "display_data"
        }
      ],
      "source": [
        "def coordenadas(row):  #A função coordenadas organiza os dados para de coordenadas para que sejam compatíveis com o gráfico\n",
        "  tamanho = (len(str(row)) - 3)\n",
        "  divisor = '1'+'0'*tamanho\n",
        "  nova_row = row / int(divisor)\n",
        "  return nova_row\n",
        "\n",
        "\n",
        "\n",
        "df_mapa = pd.read_excel('Tabela da lista das escolas.xlsx')\n",
        "\n",
        "df_mapa['Longitude'] = df_mapa['Longitude'].apply(coordenadas)\n",
        "df_mapa['Latitude'] = df_mapa['Latitude'].apply(coordenadas)\n",
        "\n",
        "display(df_mapa)"
      ]
    },
    {
      "cell_type": "code",
      "execution_count": 4,
      "metadata": {},
      "outputs": [
        {
          "data": {
            "application/vnd.plotly.v1+json": {
              "config": {
                "plotlyServerURL": "https://plot.ly"
              },
              "data": [
                {
                  "hovertemplate": "<b>%{hovertext}</b><br><br>Município=Osasco<br>Latitude=%{lat}<br>Longitude=%{lon}<extra></extra>",
                  "hovertext": [
                    "COLEGIO ESCOPO",
                    "COLEGIO SAO JOSE DA DIVINA PROVIDENCIA",
                    "TESLA DIGITAL SCHOOL",
                    "COC VILA YARA UNIDADE II",
                    "ELOI LACERDA PROF",
                    "ERNESTO THENN DE BARROS PROFESSOR",
                    "JOSE MARIA RODRIGUES LEITE PROFESSOR",
                    "ALCYR OLIVEIRA PORCIUNCULA PROFESSOR",
                    "ROSA BONFIGLIOLI",
                    "JOSE LIBERATTI PROFESSOR",
                    "FRANCISCA LISBOA PERALTA PROFESSORA",
                    "ANTONIO PAIVA DE SAMPAIO CORONEL",
                    "FANNY MONZONI SANTOS PROFESSORA",
                    "MARIA AUGUSTA SIQUEIRA PROFESSORA",
                    "LUIZ LUSTOSA DA SILVA PROFESSOR DOUTOR",
                    "AURELIANO LEITE DOUTOR",
                    "AMERICO MARCO ANTONIO DOUTOR",
                    "BENEDICTO CALDEIRA PROFESSOR",
                    "HELOISA DE ASSUMPCAO PROFESSORA",
                    "ALICE VELHO TEIXEIRA PROFESSORA",
                    "JULIA LOPES DE ALMEIDA",
                    "GLORIA AZEDIA BONETTI PROFESSORA",
                    "GRACILIANO RAMOS",
                    "OGUIOMAR RUGGERI PROFESSOR",
                    "TELMO COELHO FILHO MAJOR",
                    "LEONARDO VILAS BOAS",
                    "JOSUE BENEDICTO MENDES PROFESSOR",
                    "VICENTE PEIXOTO PROFESSOR",
                    "ANTONIO RAPOSO TAVARES",
                    "FRANCISCO CASABONA PROFESSOR",
                    "NEWTON ESPIRITO SANTO AYRES PROFESSOR",
                    "JOSE GERALDO VIEIRA",
                    "GASTAO RAMOS PROFESSOR",
                    "TARSILA DO AMARAL",
                    "FRANCISCO MATARAZZO SOBRINHO",
                    "HORACIO QUAGLIO PROFESSOR",
                    "NEUZA DE OLIVEIRA PREVIDE PROFESSORA",
                    "ARMANDO GABAN PROFESSOR",
                    "ORLANDO GERIBOLA PROFESSOR",
                    "JOSE RIBEIRO DE SOUZA PROFESSOR",
                    "APLICACAO DE OSASCO COLEGIO",
                    "FERNAO DIAS PAIS COLEGIO",
                    "NOSSA SENHORA DOS REMEDIOS COLEGIO",
                    "NOSSA SENHORA DE MISERICORDIA COLEGIO",
                    "ASSIS CHATEAUBRIAND EMB EEFMEPJA",
                    "FITO ESCOLA DE EDUCACAO BASICA UNIDADE I",
                    "SAO PIO X INSTITUTO",
                    "COLEGIO PRESTES MAIA",
                    "PADRE ANCHIETA COLEGIO",
                    "ESCOLA DE EDUCACAO BASICA FUNDACAO BRADESCO",
                    "COC VILA YARA",
                    "SETA COLEGIO",
                    "COLEGIO ANGLO LEONARDO DA VINCI",
                    "COLEGIO RIBEIRO DE FREITAS",
                    "INTEGRADO DE OSASCO COLEGIO ENSINO FUNDAMENTAL E MEDIO",
                    "SESI 417 CENTRO EDUCACIONAL",
                    "PRISMA COLEGIO I",
                    "ADVENTISTA COLEGIO DE VILA YARA",
                    "DESAFIO CENTRO EDUCACIONAL",
                    "UNIVERSAL STAR COLEGIO",
                    "MANOEL MORATTO COLEGIO",
                    "INSTITUTO EDUCACIONAL E CULTURAL FILADELFIA",
                    "MICHELINI PROFA INSTITUTO EDUCACIONAL",
                    "PADRAO UNIVERSAL COLEGIO",
                    "PAPA MIKE COLEGIO UNIDADE I",
                    "JARDIM SANTA MARIA III",
                    "ANDRE BOGASIAN PROFESSOR ETEC",
                    "SANTOS DUMONT COLEGIO",
                    "COLEGIO BELA VISTA PIMPOLHO",
                    "CENTRO DE ATEND SOCIOEDUC AO ADOLESC OSASCO I CI",
                    "CENTRO E ATEND SOCIOEDUC AO ADOLESCENTE II CI",
                    "ETEC DR CELSO GIGLIO",
                    "COLEGIO ANGLO LEONARDO DA VINCI UNIDADE II",
                    "DOM HENRIQUE COLEGIO",
                    "INTERATIVO PESTALOZZI COLEGIO",
                    "POLICIA MILITAR COLEGIO DA",
                    "ESCOPO COLEGIO",
                    "STAR MAX COLEGIO",
                    "COLEGIO GINO NOBILIONI",
                    "CUNHA CARVALHO CURUMIM COLEGIO",
                    "HAYA INSTITUTO EDUCACIONAL",
                    "VIVENDO E APRENDENDO COLEGIO",
                    "ANTONIO BRAZ GAMBARINI DOUTOR",
                    "JOSE JORGE PROFESSOR",
                    "FERNANDO BUONADUCE PROFESSOR",
                    "WALTER NEGRELLI",
                    "SAO PAULO DA CRUZ",
                    "PAULO FREIRE EDUCADOR",
                    "CLAUDINEI GARCIA PROFESSOR",
                    "ANTONIO CARLOS DA TRINDADE",
                    "JOSE EDSON MARTINS GOMES PROFESSOR",
                    "DIRETOR RICARDO GENESIO DA SILVA"
                  ],
                  "lat": [
                    -23.542805,
                    -23.5184713,
                    -23.533468818642,
                    -23.5469474461959,
                    -23.5196324,
                    -23.5712032,
                    -23.5428858,
                    -23.5062917,
                    -23.5689568,
                    -23.5351268,
                    -23.5035274,
                    -23.5339102,
                    -23.5454835,
                    -23.5175762,
                    -23.4940189,
                    -23.4990704,
                    -23.5434701,
                    -23.5587589,
                    -23.5250794,
                    -23.5295737,
                    -23.5178539,
                    -23.5500036,
                    -23.5775889,
                    -23.5661829,
                    -23.5282151,
                    -23.5477492,
                    -23.4955698,
                    -23.5379713,
                    -23.5275779,
                    -23.5181538,
                    -23.5582371,
                    -23.5604393,
                    -23.4789594,
                    -23.5600083,
                    -23.5052824,
                    -23.5013268,
                    -23.5008739,
                    -23.5742465,
                    -23.564381,
                    -23.5675421,
                    -23.5337275,
                    -23.53509493,
                    -23.5198726,
                    -23.5363239,
                    -23.5465265,
                    -23.5374283,
                    -23.5305348,
                    -23.5662814,
                    -23.52766961,
                    -23.5758317,
                    -23.5479837,
                    -23.5285176,
                    -23.5346412,
                    -23.5139427,
                    -23.5330577,
                    -23.5130667,
                    -23.550413,
                    -23.5514905,
                    -23.5338329,
                    -23.5437398,
                    -23.5168098,
                    -23.5640441,
                    -23.4950023,
                    -23.5275446,
                    -23.5337403,
                    -23.5836756,
                    -23.5252743,
                    -23.544011,
                    -23.5395471,
                    -23.5661815,
                    -23.5661829,
                    -23.522349,
                    -23.5534961,
                    -23.5616153,
                    -23.5599904,
                    -23.5263266,
                    -23.54290992,
                    -23.54515731,
                    -23.5335828,
                    -23.53133573,
                    -23.5281095,
                    -23.5147026,
                    -23.5657153,
                    -23.5374769,
                    -23.4932855,
                    -23.5144043,
                    -23.555483,
                    -23.508754,
                    -23.5121842,
                    -23.5087195,
                    -23.5016149,
                    -23.5618128
                  ],
                  "legendgroup": "Osasco",
                  "lon": [
                    -46.767185,
                    -46.7718087,
                    -46.7788226172767,
                    -46.7638515037834,
                    -46.7922834,
                    -46.7966641,
                    -46.7716611,
                    -46.768155,
                    -46.7769583,
                    -46.7784632,
                    -46.7939506,
                    -46.8112517,
                    -46.7926899,
                    -46.7575492,
                    -46.7884509,
                    -46.7704134,
                    -46.8016081,
                    -46.7865964,
                    -46.8051542,
                    -46.7631474,
                    -46.7809809,
                    -46.7835771,
                    -46.7932298,
                    -46.8026709,
                    -46.7946958,
                    -46.8095334,
                    -46.8027399,
                    -46.7830352,
                    -46.7781273,
                    -46.7704913,
                    -46.7990105,
                    -46.7820166,
                    -46.7843176,
                    -46.8167522,
                    -46.8066743,
                    -46.7724029,
                    -46.7875841,
                    -46.8031269,
                    -46.7946407,
                    -46.7881732,
                    -46.7784232,
                    -46.77621916,
                    -46.7540948,
                    -46.7823314,
                    -46.7657055,
                    -46.7905555,
                    -46.8163427,
                    -46.7798829,
                    -46.77986554,
                    -46.8059029,
                    -46.7648262,
                    -46.7813066,
                    -46.779074,
                    -46.7791615,
                    -46.7913839,
                    -46.7873717,
                    -46.7987556,
                    -46.7617004,
                    -46.7767224,
                    -46.7741037,
                    -46.7720251,
                    -46.7877173,
                    -46.793441,
                    -46.7679348,
                    -46.7789529,
                    -46.812675,
                    -46.7778877,
                    -46.8012362,
                    -46.7794866,
                    -46.8026698,
                    -46.8026709,
                    -46.7583688,
                    -46.7596849,
                    -46.7822652,
                    -46.8158154,
                    -46.8106329,
                    -46.76733895,
                    -46.7834954,
                    -46.7903436,
                    -46.79498012,
                    -46.7794767,
                    -46.7687722,
                    -46.8142103,
                    -46.8073661,
                    -46.7991753,
                    -46.7875911,
                    -46.7941771,
                    -46.7832707,
                    -46.7656323,
                    -46.765631,
                    -46.8012281,
                    -46.8133813
                  ],
                  "marker": {
                    "color": "#636efa",
                    "opacity": 1
                  },
                  "mode": "markers",
                  "name": "Osasco",
                  "showlegend": true,
                  "subplot": "mapbox",
                  "type": "scattermapbox"
                },
                {
                  "hovertemplate": "<b>%{hovertext}</b><br><br>Município=Jandira<br>Latitude=%{lat}<br>Longitude=%{lon}<extra></extra>",
                  "hovertext": [
                    "CENTRO EDUCACIONAL SESI 440",
                    "DORVALINO ABILIO TEIXEIRA",
                    "MARIA CRISTINA LOPES",
                    "VICENTE THEMUDO LESSA PROFESSOR",
                    "HENRIQUE SAMMARTINO ALFERES",
                    "OSWALDO SAMMARTINO",
                    "JOAO BATISTA SOLDE",
                    "MOACIR THOMAZ DA SILVA",
                    "LUIS DA CAMARA CASCUDO",
                    "MANOEL AUGUSTO VIEIRA NETO DESEMBARGADOR",
                    "ALVES COLEGIO",
                    "ELYTE INSTITUTO EDUCACIONAL",
                    "RUI BARBOSA COLEGIO",
                    "SAGRADA FAMILIA ESCOLA",
                    "BRAZ PASCHOALIN PREFEITO ETEC",
                    "TEREZINHA PALONE DA SILVA DOMINGUES PROFA",
                    "DOLORES GARCIA PASCHOALIN",
                    "WILMAR SOARES DA SILVA",
                    "GIUSEPPE ANGELO BERTOLLI PADRE",
                    "JOSEPHA PINTO CHIAVELLI PROFESSORA"
                  ],
                  "lat": [
                    -23.5425791,
                    -23.5380234,
                    -23.5218032,
                    -23.5281732,
                    -23.5306526,
                    -23.5350586,
                    -23.5432288,
                    -23.5462795,
                    -23.5336656,
                    -23.5436143,
                    -23.5328063,
                    -23.5336305,
                    -23.5301611,
                    -23.5319309,
                    -23.5280245,
                    -23.5531985,
                    -23.5397119,
                    -23.5451581,
                    -23.549599,
                    -23.5309397
                  ],
                  "legendgroup": "Jandira",
                  "lon": [
                    -46.9008885,
                    -46.9106366,
                    -46.922304,
                    -46.9012576,
                    -46.9186285,
                    -46.9007148,
                    -46.8961866,
                    -46.9123091,
                    -46.9096599,
                    -46.9139639,
                    -46.8985859,
                    -46.9026138,
                    -46.9066141,
                    -46.9015798,
                    -46.8998916,
                    -46.9039744,
                    -46.901151,
                    -46.8923221,
                    -46.9059262,
                    -46.9005832
                  ],
                  "marker": {
                    "color": "#EF553B",
                    "opacity": 1
                  },
                  "mode": "markers",
                  "name": "Jandira",
                  "showlegend": true,
                  "subplot": "mapbox",
                  "type": "scattermapbox"
                },
                {
                  "hovertemplate": "<b>%{hovertext}</b><br><br>Município=Embu das Artes<br>Latitude=%{lat}<br>Longitude=%{lon}<extra></extra>",
                  "hovertext": [
                    "ESCOLA CONFESSIONAL PAULO VI",
                    "ODETTE DE SOUZA CARVALHO MADRE",
                    "MARIA ANTONIETA MARTINS DE ALMEIDA PROFESSORA",
                    "SOLANO TRINDADE",
                    "PAULO CHAGAS NOGUEIRA ENGENHEIRO",
                    "EULALIA MALTA PROFESSORA",
                    "MARIA AUXILIADORA",
                    "IRIA KUNZ IRMA",
                    "IRACEMA BELLO ORICCHIO DOUTORA",
                    "APARECIDA FERREIRA DOURADO DE CARVALHO PROFESSORA",
                    "TADAKIYO SAKAI",
                    "JOAO MARTINS",
                    "CARLOS KOCH DOUTOR",
                    "ALEXANDRINA BASSITH",
                    "JACQUES KLEIN",
                    "ROSANA SUELI FUNARI PROFESSORA",
                    "RUBEM CARLOS LUDWIG GENERAL",
                    "EDUARDO VAZ DOUTOR",
                    "ISABEL LUCCI DE OLIVEIRA PROFESSORA",
                    "HUGO CAROTINI",
                    "JOANNA SPOSITO",
                    "POLIS COLEGIO PG E PRE ESCOLA",
                    "IEDA PICON INSTITUTO",
                    "NELSON ANTONIO DO NASCIMENTO JUNIOR PROFESSOR",
                    "NOVA ARCA NUCLEO EDUCACIONAL",
                    "ADVENTISTA DE EMBU DAS ARTES COLEGIO",
                    "MARLENE APARECIDA MAIA OLBERG PROFESSORA",
                    "EMBU ETEC DE",
                    "PROFESSOR HENRIQUE COSTA",
                    "PRIMEIRA OPCAO ESCOLA",
                    "JOAO LUIZ DE OLIVEIRA PROFESSOR",
                    "ESCOLA ADVENTISTA PIRAJUCARA",
                    "ALFA ESCOLA",
                    "INSTITUTO DE EDUCACAO ROBERTO MOTTA",
                    "HENRIQUE TEIXEIRA LOTT MARECHAL",
                    "PROFESSORA MIRNA ELISA BONAZZI",
                    "ODETE MARIA DE FREITAS",
                    "AMELIA DOS ANJOS OLIVEIRA",
                    "EDE WILSON GONZAGA PROFESSOR",
                    "MARCIA APARECIDA DA SILVA FARIA RIES PROFESSORA",
                    "JARDIM DA LUZ",
                    "RODOLFO JOSE DA COSTA E SILVA"
                  ],
                  "lat": [
                    -23.6536889308311,
                    -23.6503,
                    -23.67907,
                    -23.6522,
                    -23.65569,
                    -23.65262,
                    -23.65394,
                    -23.66021,
                    -23.6427583,
                    -23.636719,
                    -23.64669,
                    -23.64958,
                    -23.6552959,
                    -23.67391,
                    -23.6733774,
                    -23.6635280034855,
                    -23.6798066,
                    -23.64629,
                    -23.6281733,
                    -23.62054,
                    -23.6530258068907,
                    -23.6631536,
                    -23.6433803,
                    -23.66001,
                    -23.6393161,
                    -23.6634935,
                    -23.67056,
                    -23.6412287,
                    -23.64225,
                    -23.6520416,
                    -23.6517994,
                    -23.6475522,
                    -23.66541,
                    -23.6429347,
                    -23.64884,
                    -23.65073,
                    -23.6692,
                    -23.6282389,
                    -23.6424369598144,
                    -23.6594393,
                    -23.67325,
                    -23.6196114
                  ],
                  "legendgroup": "Embu das Artes",
                  "lon": [
                    -46.8491359675131,
                    -46.8589,
                    -46.856,
                    -46.8085,
                    -46.81497,
                    -46.85594,
                    -46.85043,
                    -46.79699,
                    -46.89939,
                    -46.8384267,
                    -46.8029,
                    -46.79255,
                    -46.8485245,
                    -46.80359,
                    -46.8464005,
                    -46.8131786289179,
                    -46.8650804,
                    -46.84925,
                    -46.8155033,
                    -46.84878,
                    -46.7977005253564,
                    -46.8001777,
                    -46.8464834,
                    -46.81622,
                    -46.8516624,
                    -46.8660507,
                    -46.80142,
                    -46.8359775,
                    -46.81111,
                    -46.8646256,
                    -46.8181586,
                    -46.7994959,
                    -46.8049,
                    -46.8753755,
                    -46.81782,
                    -46.8002,
                    -46.80053,
                    -46.8264111,
                    -46.8134875611548,
                    -46.8086981,
                    -46.80772,
                    -46.814097
                  ],
                  "marker": {
                    "color": "#00cc96",
                    "opacity": 1
                  },
                  "mode": "markers",
                  "name": "Embu das Artes",
                  "showlegend": true,
                  "subplot": "mapbox",
                  "type": "scattermapbox"
                },
                {
                  "hovertemplate": "<b>%{hovertext}</b><br><br>Município=Itapevi<br>Latitude=%{lat}<br>Longitude=%{lon}<extra></extra>",
                  "hovertext": [
                    "JOSE CHALUPPE",
                    "CELINA DE BARROS BAIRAO PROFESSORA",
                    "AMERICO VALENTIN CHRISTIANINI",
                    "NACIF AMIN CHALUPE",
                    "RAUL BRIQUET DOUTOR",
                    "CLARO CAMARGO RIBEIRO",
                    "DIMARAES ANTONIO SANDEI PROFESSOR",
                    "CANDIDO RONDON MARECHAL",
                    "JOSE NEYDE CESAR LESSA DOUTOR",
                    "JOSE THEOTONIO DOS SANTOS PROFESSOR",
                    "JOAO NASCIF CHALUPP",
                    "IRACEMA RAUEN MACIEL PROFESSORA",
                    "ELIZA DE OLIVEIRA RIBEIRO",
                    "MARY MALLET CYRINO PROFESSORA",
                    "ROMEO MECCA PADRE",
                    "PORTO MARCHESANO COLEGIO",
                    "BATISTA DE ITAPEVI ESCOLA",
                    "JOSE SERGIO PEREIRA PROFESSOR",
                    "ALCANCE COLEGIO",
                    "AIR FERREIRA DO NASCIMENTO PROFESSOR",
                    "NOVA GERACAO COLEGIO",
                    "IGNES AMELIA OLIVEIRA MACHADO PROFESSORA",
                    "PAULO DE ABREU",
                    "MARIA SOARES SANTOS PROFESSORA",
                    "PAULO DA COSTA PAN CHACON PROFESSOR",
                    "ELIANA ANDRES DE ALMEIDA SOUZA PROFESSORA"
                  ],
                  "lat": [
                    -23.5410813,
                    -23.5352468,
                    -23.548063,
                    -23.5407693,
                    -23.5461847,
                    -23.5324887,
                    -23.5427074,
                    -23.5518735,
                    -23.5375859,
                    -23.5302184,
                    -23.5311058,
                    -23.5537463,
                    -23.5414474,
                    -23.5593616,
                    -23.5561245,
                    -23.5360918,
                    -23.5478021,
                    -23.5631531,
                    -23.5428637,
                    -23.5460153,
                    -23.5383159,
                    -23.56244,
                    -23.5477916,
                    -23.5549887,
                    -23.554883,
                    -23.5435087
                  ],
                  "legendgroup": "Itapevi",
                  "lon": [
                    -46.928564,
                    -46.9211633,
                    -46.9506652,
                    -46.96718,
                    -46.9325826,
                    -46.9826376,
                    -46.9394911,
                    -46.9367404,
                    -46.9386963,
                    -46.9696422,
                    -46.98076,
                    -46.9625801,
                    -46.9794662,
                    -46.9216835,
                    -46.9373572,
                    -46.942036,
                    -46.9345115,
                    -46.930085,
                    -46.9338242,
                    -46.9696702,
                    -46.9397236,
                    -46.9484406,
                    -46.9271803,
                    -46.9100121,
                    -46.9480119,
                    -46.9390789
                  ],
                  "marker": {
                    "color": "#ab63fa",
                    "opacity": 1
                  },
                  "mode": "markers",
                  "name": "Itapevi",
                  "showlegend": true,
                  "subplot": "mapbox",
                  "type": "scattermapbox"
                },
                {
                  "hovertemplate": "<b>%{hovertext}</b><br><br>Município=Vargem Grande Paulista<br>Latitude=%{lat}<br>Longitude=%{lon}<extra></extra>",
                  "hovertext": [
                    "VALENCIO SOARES RODRIGUES",
                    "ORLANDO ELLERO PROFESSOR",
                    "PAULO SOARES DA SILVA",
                    "LEONARDO SOARES RODRIGUES",
                    "ELIAS ALVES DA COSTA BACHAREL",
                    "CRIATIVA ESCOLA DE EIEEF",
                    "AURORA ESCOLA",
                    "VARGEM GRANDE PAULISTA ESCOLA COOPERATIVA DE",
                    "PRESCILA BONIFIGLIO GIANNINI COLEGIO",
                    "PINDORAMA ESCOLA OFICINA",
                    "COGNOS COLEGIO",
                    "INTEGRACAO COLEGIO",
                    "LUCIA HELENA CESAR PROFESSORA",
                    "JARDIM SAO LUCAS",
                    "LAERCIO SURIM"
                  ],
                  "lat": [
                    -23.6026789,
                    -23.6135292,
                    -23.638758,
                    -23.6076133,
                    -23.605324,
                    -23.6094712,
                    -23.6183372,
                    -23.6144259,
                    -23.6217164,
                    -23.6073845,
                    -23.61593972,
                    -23.599565,
                    -23.6133347,
                    -23.5950938,
                    -23.6496864
                  ],
                  "legendgroup": "Vargem Grande Paulista",
                  "lon": [
                    -47.0236687,
                    -47.0069201,
                    -46.9926322,
                    -47.028132,
                    -47.0068527,
                    -47.0259802,
                    -47.0329754,
                    -47.0169178,
                    -47.0089293,
                    -47.0294859,
                    -47.00521569,
                    -47.0115707,
                    -47.0433585,
                    -47.0157963,
                    -46.9955912
                  ],
                  "marker": {
                    "color": "#FFA15A",
                    "opacity": 1
                  },
                  "mode": "markers",
                  "name": "Vargem Grande Paulista",
                  "showlegend": true,
                  "subplot": "mapbox",
                  "type": "scattermapbox"
                },
                {
                  "hovertemplate": "<b>%{hovertext}</b><br><br>Município=Cotia<br>Latitude=%{lat}<br>Longitude=%{lon}<extra></extra>",
                  "hovertext": [
                    "VINICIUS DE MORAES",
                    "CARLOS FERREIRA DE MORAES PROFESSOR",
                    "ANTONIETA DI LASCIO OZEKI PROFESSORA",
                    "JARDIM SANTA ANGELA",
                    "IDOMINEU ANTUNES CALDEIRA",
                    "ZACARIAS ANTONIO DA SILVA",
                    "JOSE BARRETO PROFESSOR",
                    "ODAIR PACHECO PEDROSO PROFESSOR",
                    "BATISTA CEPELOS",
                    "ROQUE CELESTINO PIRES",
                    "ANA MACIEIRA DE OLIVEIRA",
                    "PEDRO CASEMIRO LEITE PROFESSOR",
                    "ARY BOUZAN PROFESSOR",
                    "REPUBLICA DA COSTA RICA",
                    "EROTIDES APARECIDA OLIVEIRA DA SILVA PROFESSORA",
                    "REPUBLICA DO PERU",
                    "KENKITI SIMOMOTO",
                    "GRANJA VIANA ESCOLA",
                    "ADVENTISTA DE COTIA COLEGIO",
                    "ESPACO POTENCIAL COLEGIO",
                    "MADRE IVA COLEGIO",
                    "RIO BRANCO COLEGIO UNIDADE GRANJA VIANA",
                    "INTERESCOLAR OBJETIVO UNIDADE GRANJA VIANA CENTRO",
                    "OR ISRAEL COLLEGE",
                    "COLEGIO PORTUGUES DE SAO PAULO",
                    "ESPACO VERDE ROUSSEAU COLEGIO",
                    "SIDARTA COLEGIO",
                    "VIVER COLEGIO",
                    "MONTE SINAI ESCOLA DE EDUCACAO INFANTIL",
                    "SESI 432 CENTRO EDUCACIONAL",
                    "SAMARAH INSTITUTO EDUCACIONAL",
                    "TALENTO COLEGIO ENSINO MEDIO",
                    "COTIA ESCOLA TECNICA ESTADUAL DE",
                    "VIA SAPIENS EDUCACAO INTEGRADA",
                    "COLEGIO SIGMA",
                    "COLEGIO ADVENTISTA DA GRANJA VIANA",
                    "PLANETA TERRA",
                    "DESAFIO CENTRO EDUCACIONAL",
                    "ERNESTO CAETANO DE SOUZA TENENTE",
                    "SIDRONIA NUNES PIRES",
                    "VILA SAO JOAQUIM II",
                    "ROQUE SAVIOLI"
                  ],
                  "lat": [
                    -23.5947036,
                    -23.6027807,
                    -23.60194037,
                    -23.586641,
                    -23.6048417,
                    -23.6074027,
                    -23.64751796,
                    -23.6072456,
                    -23.6069133,
                    -23.6848276,
                    -23.6204948,
                    -23.6012001,
                    -23.5897283,
                    -23.66135353,
                    -23.6575507,
                    -23.5972335,
                    -23.6195659,
                    -23.58271667,
                    -23.5847763,
                    -23.6041011,
                    -23.5977392,
                    -23.59548373,
                    -23.59338489,
                    -23.5997926,
                    -23.600119,
                    -23.64947,
                    -23.5836122,
                    -23.57720892,
                    -23.6165426375273,
                    -23.6033688,
                    -23.5855,
                    -23.5989632,
                    -23.6052765,
                    -23.59482671,
                    -23.6121641,
                    -23.5931918411853,
                    -23.6024688,
                    -23.60438,
                    -23.6111411,
                    -23.6846862,
                    -23.6088064,
                    -23.7337981
                  ],
                  "legendgroup": "Cotia",
                  "lon": [
                    -46.8382192,
                    -46.8553311,
                    -46.87556935,
                    -46.8197034,
                    -46.9107912,
                    -46.9196175,
                    -46.95871867,
                    -46.9428771,
                    -46.9260599,
                    -47.0220971,
                    -46.9757933,
                    -46.9086326,
                    -46.8463344,
                    -47.04739422,
                    -47.0766871,
                    -46.91473,
                    -46.9375111,
                    -46.83937667,
                    -46.927113,
                    -46.9205394,
                    -46.9250588,
                    -46.83847273,
                    -46.83996511,
                    -46.831867,
                    -46.8211118,
                    -46.96215,
                    -46.882177,
                    -46.90984279,
                    -46.9747686730969,
                    -46.848596,
                    -46.88898,
                    -46.9177831,
                    -46.9130417,
                    -46.86345304,
                    -46.9529173,
                    -46.8519060143781,
                    -46.8963079,
                    -46.91103,
                    -46.9387835,
                    -47.0239549,
                    -46.930879,
                    -47.047364
                  ],
                  "marker": {
                    "color": "#19d3f3",
                    "opacity": 1
                  },
                  "mode": "markers",
                  "name": "Cotia",
                  "showlegend": true,
                  "subplot": "mapbox",
                  "type": "scattermapbox"
                }
              ],
              "layout": {
                "font": {
                  "size": 15
                },
                "legend": {
                  "title": {
                    "text": "Município"
                  },
                  "tracegroupgap": 0
                },
                "mapbox": {
                  "center": {
                    "lat": -23.5972335,
                    "lon": -46.91473
                  },
                  "domain": {
                    "x": [
                      0,
                      1
                    ],
                    "y": [
                      0,
                      1
                    ]
                  },
                  "style": "carto-positron",
                  "zoom": 9.7
                },
                "margin": {
                  "b": 10,
                  "l": 0,
                  "r": 0,
                  "t": 50
                },
                "template": {
                  "data": {
                    "bar": [
                      {
                        "error_x": {
                          "color": "#2a3f5f"
                        },
                        "error_y": {
                          "color": "#2a3f5f"
                        },
                        "marker": {
                          "line": {
                            "color": "#E5ECF6",
                            "width": 0.5
                          },
                          "pattern": {
                            "fillmode": "overlay",
                            "size": 10,
                            "solidity": 0.2
                          }
                        },
                        "type": "bar"
                      }
                    ],
                    "barpolar": [
                      {
                        "marker": {
                          "line": {
                            "color": "#E5ECF6",
                            "width": 0.5
                          },
                          "pattern": {
                            "fillmode": "overlay",
                            "size": 10,
                            "solidity": 0.2
                          }
                        },
                        "type": "barpolar"
                      }
                    ],
                    "carpet": [
                      {
                        "aaxis": {
                          "endlinecolor": "#2a3f5f",
                          "gridcolor": "white",
                          "linecolor": "white",
                          "minorgridcolor": "white",
                          "startlinecolor": "#2a3f5f"
                        },
                        "baxis": {
                          "endlinecolor": "#2a3f5f",
                          "gridcolor": "white",
                          "linecolor": "white",
                          "minorgridcolor": "white",
                          "startlinecolor": "#2a3f5f"
                        },
                        "type": "carpet"
                      }
                    ],
                    "choropleth": [
                      {
                        "colorbar": {
                          "outlinewidth": 0,
                          "ticks": ""
                        },
                        "type": "choropleth"
                      }
                    ],
                    "contour": [
                      {
                        "colorbar": {
                          "outlinewidth": 0,
                          "ticks": ""
                        },
                        "colorscale": [
                          [
                            0,
                            "#0d0887"
                          ],
                          [
                            0.1111111111111111,
                            "#46039f"
                          ],
                          [
                            0.2222222222222222,
                            "#7201a8"
                          ],
                          [
                            0.3333333333333333,
                            "#9c179e"
                          ],
                          [
                            0.4444444444444444,
                            "#bd3786"
                          ],
                          [
                            0.5555555555555556,
                            "#d8576b"
                          ],
                          [
                            0.6666666666666666,
                            "#ed7953"
                          ],
                          [
                            0.7777777777777778,
                            "#fb9f3a"
                          ],
                          [
                            0.8888888888888888,
                            "#fdca26"
                          ],
                          [
                            1,
                            "#f0f921"
                          ]
                        ],
                        "type": "contour"
                      }
                    ],
                    "contourcarpet": [
                      {
                        "colorbar": {
                          "outlinewidth": 0,
                          "ticks": ""
                        },
                        "type": "contourcarpet"
                      }
                    ],
                    "heatmap": [
                      {
                        "colorbar": {
                          "outlinewidth": 0,
                          "ticks": ""
                        },
                        "colorscale": [
                          [
                            0,
                            "#0d0887"
                          ],
                          [
                            0.1111111111111111,
                            "#46039f"
                          ],
                          [
                            0.2222222222222222,
                            "#7201a8"
                          ],
                          [
                            0.3333333333333333,
                            "#9c179e"
                          ],
                          [
                            0.4444444444444444,
                            "#bd3786"
                          ],
                          [
                            0.5555555555555556,
                            "#d8576b"
                          ],
                          [
                            0.6666666666666666,
                            "#ed7953"
                          ],
                          [
                            0.7777777777777778,
                            "#fb9f3a"
                          ],
                          [
                            0.8888888888888888,
                            "#fdca26"
                          ],
                          [
                            1,
                            "#f0f921"
                          ]
                        ],
                        "type": "heatmap"
                      }
                    ],
                    "heatmapgl": [
                      {
                        "colorbar": {
                          "outlinewidth": 0,
                          "ticks": ""
                        },
                        "colorscale": [
                          [
                            0,
                            "#0d0887"
                          ],
                          [
                            0.1111111111111111,
                            "#46039f"
                          ],
                          [
                            0.2222222222222222,
                            "#7201a8"
                          ],
                          [
                            0.3333333333333333,
                            "#9c179e"
                          ],
                          [
                            0.4444444444444444,
                            "#bd3786"
                          ],
                          [
                            0.5555555555555556,
                            "#d8576b"
                          ],
                          [
                            0.6666666666666666,
                            "#ed7953"
                          ],
                          [
                            0.7777777777777778,
                            "#fb9f3a"
                          ],
                          [
                            0.8888888888888888,
                            "#fdca26"
                          ],
                          [
                            1,
                            "#f0f921"
                          ]
                        ],
                        "type": "heatmapgl"
                      }
                    ],
                    "histogram": [
                      {
                        "marker": {
                          "pattern": {
                            "fillmode": "overlay",
                            "size": 10,
                            "solidity": 0.2
                          }
                        },
                        "type": "histogram"
                      }
                    ],
                    "histogram2d": [
                      {
                        "colorbar": {
                          "outlinewidth": 0,
                          "ticks": ""
                        },
                        "colorscale": [
                          [
                            0,
                            "#0d0887"
                          ],
                          [
                            0.1111111111111111,
                            "#46039f"
                          ],
                          [
                            0.2222222222222222,
                            "#7201a8"
                          ],
                          [
                            0.3333333333333333,
                            "#9c179e"
                          ],
                          [
                            0.4444444444444444,
                            "#bd3786"
                          ],
                          [
                            0.5555555555555556,
                            "#d8576b"
                          ],
                          [
                            0.6666666666666666,
                            "#ed7953"
                          ],
                          [
                            0.7777777777777778,
                            "#fb9f3a"
                          ],
                          [
                            0.8888888888888888,
                            "#fdca26"
                          ],
                          [
                            1,
                            "#f0f921"
                          ]
                        ],
                        "type": "histogram2d"
                      }
                    ],
                    "histogram2dcontour": [
                      {
                        "colorbar": {
                          "outlinewidth": 0,
                          "ticks": ""
                        },
                        "colorscale": [
                          [
                            0,
                            "#0d0887"
                          ],
                          [
                            0.1111111111111111,
                            "#46039f"
                          ],
                          [
                            0.2222222222222222,
                            "#7201a8"
                          ],
                          [
                            0.3333333333333333,
                            "#9c179e"
                          ],
                          [
                            0.4444444444444444,
                            "#bd3786"
                          ],
                          [
                            0.5555555555555556,
                            "#d8576b"
                          ],
                          [
                            0.6666666666666666,
                            "#ed7953"
                          ],
                          [
                            0.7777777777777778,
                            "#fb9f3a"
                          ],
                          [
                            0.8888888888888888,
                            "#fdca26"
                          ],
                          [
                            1,
                            "#f0f921"
                          ]
                        ],
                        "type": "histogram2dcontour"
                      }
                    ],
                    "mesh3d": [
                      {
                        "colorbar": {
                          "outlinewidth": 0,
                          "ticks": ""
                        },
                        "type": "mesh3d"
                      }
                    ],
                    "parcoords": [
                      {
                        "line": {
                          "colorbar": {
                            "outlinewidth": 0,
                            "ticks": ""
                          }
                        },
                        "type": "parcoords"
                      }
                    ],
                    "pie": [
                      {
                        "automargin": true,
                        "type": "pie"
                      }
                    ],
                    "scatter": [
                      {
                        "fillpattern": {
                          "fillmode": "overlay",
                          "size": 10,
                          "solidity": 0.2
                        },
                        "type": "scatter"
                      }
                    ],
                    "scatter3d": [
                      {
                        "line": {
                          "colorbar": {
                            "outlinewidth": 0,
                            "ticks": ""
                          }
                        },
                        "marker": {
                          "colorbar": {
                            "outlinewidth": 0,
                            "ticks": ""
                          }
                        },
                        "type": "scatter3d"
                      }
                    ],
                    "scattercarpet": [
                      {
                        "marker": {
                          "colorbar": {
                            "outlinewidth": 0,
                            "ticks": ""
                          }
                        },
                        "type": "scattercarpet"
                      }
                    ],
                    "scattergeo": [
                      {
                        "marker": {
                          "colorbar": {
                            "outlinewidth": 0,
                            "ticks": ""
                          }
                        },
                        "type": "scattergeo"
                      }
                    ],
                    "scattergl": [
                      {
                        "marker": {
                          "colorbar": {
                            "outlinewidth": 0,
                            "ticks": ""
                          }
                        },
                        "type": "scattergl"
                      }
                    ],
                    "scattermapbox": [
                      {
                        "marker": {
                          "colorbar": {
                            "outlinewidth": 0,
                            "ticks": ""
                          }
                        },
                        "type": "scattermapbox"
                      }
                    ],
                    "scatterpolar": [
                      {
                        "marker": {
                          "colorbar": {
                            "outlinewidth": 0,
                            "ticks": ""
                          }
                        },
                        "type": "scatterpolar"
                      }
                    ],
                    "scatterpolargl": [
                      {
                        "marker": {
                          "colorbar": {
                            "outlinewidth": 0,
                            "ticks": ""
                          }
                        },
                        "type": "scatterpolargl"
                      }
                    ],
                    "scatterternary": [
                      {
                        "marker": {
                          "colorbar": {
                            "outlinewidth": 0,
                            "ticks": ""
                          }
                        },
                        "type": "scatterternary"
                      }
                    ],
                    "surface": [
                      {
                        "colorbar": {
                          "outlinewidth": 0,
                          "ticks": ""
                        },
                        "colorscale": [
                          [
                            0,
                            "#0d0887"
                          ],
                          [
                            0.1111111111111111,
                            "#46039f"
                          ],
                          [
                            0.2222222222222222,
                            "#7201a8"
                          ],
                          [
                            0.3333333333333333,
                            "#9c179e"
                          ],
                          [
                            0.4444444444444444,
                            "#bd3786"
                          ],
                          [
                            0.5555555555555556,
                            "#d8576b"
                          ],
                          [
                            0.6666666666666666,
                            "#ed7953"
                          ],
                          [
                            0.7777777777777778,
                            "#fb9f3a"
                          ],
                          [
                            0.8888888888888888,
                            "#fdca26"
                          ],
                          [
                            1,
                            "#f0f921"
                          ]
                        ],
                        "type": "surface"
                      }
                    ],
                    "table": [
                      {
                        "cells": {
                          "fill": {
                            "color": "#EBF0F8"
                          },
                          "line": {
                            "color": "white"
                          }
                        },
                        "header": {
                          "fill": {
                            "color": "#C8D4E3"
                          },
                          "line": {
                            "color": "white"
                          }
                        },
                        "type": "table"
                      }
                    ]
                  },
                  "layout": {
                    "annotationdefaults": {
                      "arrowcolor": "#2a3f5f",
                      "arrowhead": 0,
                      "arrowwidth": 1
                    },
                    "autotypenumbers": "strict",
                    "coloraxis": {
                      "colorbar": {
                        "outlinewidth": 0,
                        "ticks": ""
                      }
                    },
                    "colorscale": {
                      "diverging": [
                        [
                          0,
                          "#8e0152"
                        ],
                        [
                          0.1,
                          "#c51b7d"
                        ],
                        [
                          0.2,
                          "#de77ae"
                        ],
                        [
                          0.3,
                          "#f1b6da"
                        ],
                        [
                          0.4,
                          "#fde0ef"
                        ],
                        [
                          0.5,
                          "#f7f7f7"
                        ],
                        [
                          0.6,
                          "#e6f5d0"
                        ],
                        [
                          0.7,
                          "#b8e186"
                        ],
                        [
                          0.8,
                          "#7fbc41"
                        ],
                        [
                          0.9,
                          "#4d9221"
                        ],
                        [
                          1,
                          "#276419"
                        ]
                      ],
                      "sequential": [
                        [
                          0,
                          "#0d0887"
                        ],
                        [
                          0.1111111111111111,
                          "#46039f"
                        ],
                        [
                          0.2222222222222222,
                          "#7201a8"
                        ],
                        [
                          0.3333333333333333,
                          "#9c179e"
                        ],
                        [
                          0.4444444444444444,
                          "#bd3786"
                        ],
                        [
                          0.5555555555555556,
                          "#d8576b"
                        ],
                        [
                          0.6666666666666666,
                          "#ed7953"
                        ],
                        [
                          0.7777777777777778,
                          "#fb9f3a"
                        ],
                        [
                          0.8888888888888888,
                          "#fdca26"
                        ],
                        [
                          1,
                          "#f0f921"
                        ]
                      ],
                      "sequentialminus": [
                        [
                          0,
                          "#0d0887"
                        ],
                        [
                          0.1111111111111111,
                          "#46039f"
                        ],
                        [
                          0.2222222222222222,
                          "#7201a8"
                        ],
                        [
                          0.3333333333333333,
                          "#9c179e"
                        ],
                        [
                          0.4444444444444444,
                          "#bd3786"
                        ],
                        [
                          0.5555555555555556,
                          "#d8576b"
                        ],
                        [
                          0.6666666666666666,
                          "#ed7953"
                        ],
                        [
                          0.7777777777777778,
                          "#fb9f3a"
                        ],
                        [
                          0.8888888888888888,
                          "#fdca26"
                        ],
                        [
                          1,
                          "#f0f921"
                        ]
                      ]
                    },
                    "colorway": [
                      "#636efa",
                      "#EF553B",
                      "#00cc96",
                      "#ab63fa",
                      "#FFA15A",
                      "#19d3f3",
                      "#FF6692",
                      "#B6E880",
                      "#FF97FF",
                      "#FECB52"
                    ],
                    "font": {
                      "color": "#2a3f5f"
                    },
                    "geo": {
                      "bgcolor": "white",
                      "lakecolor": "white",
                      "landcolor": "#E5ECF6",
                      "showlakes": true,
                      "showland": true,
                      "subunitcolor": "white"
                    },
                    "hoverlabel": {
                      "align": "left"
                    },
                    "hovermode": "closest",
                    "mapbox": {
                      "style": "light"
                    },
                    "paper_bgcolor": "white",
                    "plot_bgcolor": "#E5ECF6",
                    "polar": {
                      "angularaxis": {
                        "gridcolor": "white",
                        "linecolor": "white",
                        "ticks": ""
                      },
                      "bgcolor": "#E5ECF6",
                      "radialaxis": {
                        "gridcolor": "white",
                        "linecolor": "white",
                        "ticks": ""
                      }
                    },
                    "scene": {
                      "xaxis": {
                        "backgroundcolor": "#E5ECF6",
                        "gridcolor": "white",
                        "gridwidth": 2,
                        "linecolor": "white",
                        "showbackground": true,
                        "ticks": "",
                        "zerolinecolor": "white"
                      },
                      "yaxis": {
                        "backgroundcolor": "#E5ECF6",
                        "gridcolor": "white",
                        "gridwidth": 2,
                        "linecolor": "white",
                        "showbackground": true,
                        "ticks": "",
                        "zerolinecolor": "white"
                      },
                      "zaxis": {
                        "backgroundcolor": "#E5ECF6",
                        "gridcolor": "white",
                        "gridwidth": 2,
                        "linecolor": "white",
                        "showbackground": true,
                        "ticks": "",
                        "zerolinecolor": "white"
                      }
                    },
                    "shapedefaults": {
                      "line": {
                        "color": "#2a3f5f"
                      }
                    },
                    "ternary": {
                      "aaxis": {
                        "gridcolor": "white",
                        "linecolor": "white",
                        "ticks": ""
                      },
                      "baxis": {
                        "gridcolor": "white",
                        "linecolor": "white",
                        "ticks": ""
                      },
                      "bgcolor": "#E5ECF6",
                      "caxis": {
                        "gridcolor": "white",
                        "linecolor": "white",
                        "ticks": ""
                      }
                    },
                    "title": {
                      "x": 0.05
                    },
                    "xaxis": {
                      "automargin": true,
                      "gridcolor": "white",
                      "linecolor": "white",
                      "ticks": "",
                      "title": {
                        "standoff": 15
                      },
                      "zerolinecolor": "white",
                      "zerolinewidth": 2
                    },
                    "yaxis": {
                      "automargin": true,
                      "gridcolor": "white",
                      "linecolor": "white",
                      "ticks": "",
                      "title": {
                        "standoff": 15
                      },
                      "zerolinecolor": "white",
                      "zerolinewidth": 2
                    }
                  }
                },
                "title": {
                  "font": {
                    "size": 25
                  },
                  "text": "<b>Escolas da região estudada</b>",
                  "x": 0.5
                }
              }
            }
          },
          "metadata": {},
          "output_type": "display_data"
        }
      ],
      "source": [
        "bubbles_map = px.scatter_mapbox(df_mapa,\n",
        "                           lon= 'Longitude',\n",
        "                           lat= 'Latitude',\n",
        "                           color= \"Município\",\n",
        "                           opacity= 1,\n",
        "                           center = {\"lat\":-23.5972335, \"lon\": -46.91473},\n",
        "                           zoom = 9.7,\n",
        "                           title= \"<b>Escolas da região estudada</b>\",\n",
        "                           size_max = 30,\n",
        "                           hover_name='Escola'\n",
        "\n",
        ")\n",
        "\n",
        "bubbles_map.update_layout(mapbox_style='carto-positron',\n",
        "                    title_x= 0.5,\n",
        "                    title_font_size=25,\n",
        "                    font_size=15,\n",
        "                    \n",
        "\n",
        ")\n",
        "\n",
        "\n",
        "bubbles_map.update_layout(margin={\"r\":0,\"t\":50,\"l\":0,\"b\":10})\n",
        "\n",
        "bubbles_map.show()"
      ]
    }
  ],
  "metadata": {
    "colab": {
      "collapsed_sections": [
        "_H1-SeFJPXOG"
      ],
      "provenance": []
    },
    "kernelspec": {
      "display_name": "Python 3",
      "name": "python3"
    },
    "language_info": {
      "codemirror_mode": {
        "name": "ipython",
        "version": 3
      },
      "file_extension": ".py",
      "mimetype": "text/x-python",
      "name": "python",
      "nbconvert_exporter": "python",
      "pygments_lexer": "ipython3",
      "version": "3.10.6"
    }
  },
  "nbformat": 4,
  "nbformat_minor": 0
}
